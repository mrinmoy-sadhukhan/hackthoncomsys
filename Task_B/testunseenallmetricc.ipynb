{
 "cells": [
  {
   "cell_type": "code",
   "execution_count": 1,
   "id": "d5a7942c",
   "metadata": {},
   "outputs": [
    {
     "name": "stderr",
     "output_type": "stream",
     "text": [
      "c:\\Users\\mrinmoy\\anaconda3\\Lib\\site-packages\\torchvision\\models\\_utils.py:208: UserWarning: The parameter 'pretrained' is deprecated since 0.13 and may be removed in the future, please use 'weights' instead.\n",
      "  warnings.warn(\n",
      "c:\\Users\\mrinmoy\\anaconda3\\Lib\\site-packages\\torchvision\\models\\_utils.py:223: UserWarning: Arguments other than a weight enum or `None` for 'weights' are deprecated since 0.13 and may be removed in the future. The current behavior is equivalent to passing `weights=ResNet18_Weights.IMAGENET1K_V1`. You can also use `weights=ResNet18_Weights.DEFAULT` to get the most up-to-date weights.\n",
      "  warnings.warn(msg)\n",
      "  0%|          | 1/250 [00:02<12:23,  2.99s/it]"
     ]
    },
    {
     "name": "stdout",
     "output_type": "stream",
     "text": [
      "Real: Cabas | Pred: Cabas | Score: 0.962 | Match: 1\n",
      "Real: Michael_Donovan | Pred: Michael_Donovan | Score: 1.000 | Match: 1\n",
      "Real: Christine_Arron | Pred: Christine_Arron | Score: 0.937 | Match: 1\n",
      "Real: Marwan_Barghouthi | Pred: Marwan_Barghouthi | Score: 0.726 | Match: 1\n",
      "Real: Sophia_Loren | Pred: Marwan_Barghouthi | Score: 0.597 | Match: 0\n"
     ]
    },
    {
     "name": "stderr",
     "output_type": "stream",
     "text": [
      "  1%|          | 2/250 [00:05<11:07,  2.69s/it]"
     ]
    },
    {
     "name": "stdout",
     "output_type": "stream",
     "text": [
      "Real: Ali_Khamenei | Pred: Ali_Khamenei | Score: 0.895 | Match: 1\n",
      "Real: Conchita_Martinez | Pred: Conchita_Martinez | Score: 0.843 | Match: 1\n",
      "Real: Max_von_Sydow | Pred: Max_von_Sydow | Score: 0.878 | Match: 1\n",
      "Real: Marcelo_Ebrard | Pred: Marcelo_Ebrard | Score: 0.485 | Match: 1\n",
      "Real: Ruben_Studdard | Pred: Ruben_Studdard | Score: 0.990 | Match: 1\n"
     ]
    },
    {
     "name": "stderr",
     "output_type": "stream",
     "text": [
      "  1%|          | 3/250 [00:07<10:31,  2.56s/it]"
     ]
    },
    {
     "name": "stdout",
     "output_type": "stream",
     "text": [
      "Real: Pascal_Rheaume | Pred: Pascal_Rheaume | Score: 0.973 | Match: 1\n",
      "Real: John_Kerr | Pred: John_Kerr | Score: 0.618 | Match: 1\n",
      "Real: Fazal-ur-Rehman | Pred: Fazal-ur-Rehman | Score: 0.975 | Match: 1\n",
      "Real: Greg_Ostertag | Pred: Fazal-ur-Rehman | Score: 0.869 | Match: 0\n",
      "Real: Gary_Marshall | Pred: John_Kerr | Score: 0.508 | Match: 0\n"
     ]
    },
    {
     "name": "stderr",
     "output_type": "stream",
     "text": [
      "  2%|▏         | 4/250 [00:11<11:58,  2.92s/it]"
     ]
    },
    {
     "name": "stdout",
     "output_type": "stream",
     "text": [
      "Real: Franco_Cangele | Pred: Franco_Cangele | Score: 0.975 | Match: 1\n",
      "Real: Yasushi_Akashi | Pred: Yasushi_Akashi | Score: 0.584 | Match: 1\n",
      "Real: Allen_Rock | Pred: Allen_Rock | Score: 0.707 | Match: 1\n",
      "Real: Charles_Richardson | Pred: Charles_Richardson | Score: 0.933 | Match: 1\n",
      "Real: 066_frontal | Pred: 066_frontal | Score: 1.000 | Match: 1\n"
     ]
    },
    {
     "name": "stderr",
     "output_type": "stream",
     "text": [
      "  2%|▏         | 5/250 [00:15<13:14,  3.24s/it]"
     ]
    },
    {
     "name": "stdout",
     "output_type": "stream",
     "text": [
      "Real: Elinor_Caplan | Pred: Elinor_Caplan | Score: 0.931 | Match: 1\n",
      "Real: John_Bond | Pred: John_Bond | Score: 0.724 | Match: 1\n",
      "Real: 065_frontal | Pred: 065_frontal | Score: 0.846 | Match: 1\n",
      "Real: Ali_Khamenei | Pred: Ali_Khamenei | Score: 0.409 | Match: 1\n",
      "Real: Jim_Ahern | Pred: Jim_Ahern | Score: 0.960 | Match: 1\n"
     ]
    },
    {
     "name": "stderr",
     "output_type": "stream",
     "text": [
      "  2%|▏         | 6/250 [00:17<12:03,  2.97s/it]"
     ]
    },
    {
     "name": "stdout",
     "output_type": "stream",
     "text": [
      "Real: Chuck_Eidson | Pred: Chuck_Eidson | Score: 0.896 | Match: 1\n",
      "Real: Ed_Book | Pred: Ed_Book | Score: 0.972 | Match: 1\n",
      "Real: Asif_Ali_Zardari | Pred: Asif_Ali_Zardari | Score: 0.900 | Match: 1\n",
      "Real: Diana_Renee_Valdivieso_Dubon | Pred: Diana_Renee_Valdivieso_Dubon | Score: 0.518 | Match: 1\n",
      "Real: Jodie_Henry | Pred: Jodie_Henry | Score: 0.623 | Match: 1\n"
     ]
    },
    {
     "name": "stderr",
     "output_type": "stream",
     "text": [
      "  3%|▎         | 7/250 [00:20<11:35,  2.86s/it]"
     ]
    },
    {
     "name": "stdout",
     "output_type": "stream",
     "text": [
      "Real: Garry_McCoy | Pred: Garry_McCoy | Score: 0.895 | Match: 1\n",
      "Real: Christina_Sawaya | Pred: Christina_Sawaya | Score: 0.970 | Match: 1\n",
      "Real: Dean_Barkley | Pred: Dean_Barkley | Score: 0.897 | Match: 1\n",
      "Real: Thomas_Fargo | Pred: Garry_McCoy | Score: 0.797 | Match: 0\n",
      "Real: John_Bolton | Pred: John_Bolton | Score: 0.649 | Match: 1\n"
     ]
    },
    {
     "name": "stderr",
     "output_type": "stream",
     "text": [
      "  3%|▎         | 8/250 [00:22<10:54,  2.70s/it]"
     ]
    },
    {
     "name": "stdout",
     "output_type": "stream",
     "text": [
      "Real: Kristin_Scott | Pred: Kristin_Scott | Score: 0.953 | Match: 1\n",
      "Real: Jennifer_Furminger | Pred: Jennifer_Furminger | Score: 0.749 | Match: 1\n",
      "Real: Douglas_Paal | Pred: Douglas_Paal | Score: 0.796 | Match: 1\n",
      "Real: Billy_Tibbets | Pred: Billy_Tibbets | Score: 0.912 | Match: 1\n",
      "Real: Jose_Manuel_Durao_Barroso | Pred: Jose_Manuel_Durao_Barroso | Score: 0.974 | Match: 1\n"
     ]
    },
    {
     "name": "stderr",
     "output_type": "stream",
     "text": [
      "  4%|▎         | 9/250 [00:26<12:23,  3.09s/it]"
     ]
    },
    {
     "name": "stdout",
     "output_type": "stream",
     "text": [
      "Real: Robert_Beck | Pred: Robert_Beck | Score: 0.915 | Match: 1\n",
      "Real: Samantha_Daniels | Pred: Samantha_Daniels | Score: 0.974 | Match: 1\n",
      "Real: Brittany_Snow | Pred: Brittany_Snow | Score: 0.963 | Match: 1\n",
      "Real: Jennifer_Connelly | Pred: Jennifer_Connelly | Score: 0.901 | Match: 1\n",
      "Real: 064_frontal | Pred: 064_frontal | Score: 1.000 | Match: 1\n"
     ]
    },
    {
     "name": "stderr",
     "output_type": "stream",
     "text": [
      "  4%|▍         | 10/250 [00:31<14:22,  3.59s/it]"
     ]
    },
    {
     "name": "stdout",
     "output_type": "stream",
     "text": [
      "Real: Jason_Gardner | Pred: Jason_Gardner | Score: 0.647 | Match: 1\n",
      "Real: 054_frontal | Pred: 054_frontal | Score: 1.000 | Match: 1\n",
      "Real: Kellie_Coffey | Pred: Kellie_Coffey | Score: 0.762 | Match: 1\n",
      "Real: Jay_Garner | Pred: Jay_Garner | Score: 0.857 | Match: 1\n",
      "Real: Richard_Rodriguez | Pred: Richard_Rodriguez | Score: 0.902 | Match: 1\n"
     ]
    },
    {
     "name": "stderr",
     "output_type": "stream",
     "text": [
      "  4%|▍         | 11/250 [00:33<12:46,  3.21s/it]"
     ]
    },
    {
     "name": "stdout",
     "output_type": "stream",
     "text": [
      "Real: Bill_OReilly | Pred: Bill_OReilly | Score: 0.989 | Match: 1\n",
      "Real: Tom_Coughlin | Pred: Tom_Coughlin | Score: 0.765 | Match: 1\n",
      "Real: Barbara_Brezigar | Pred: Bill_OReilly | Score: 0.412 | Match: 0\n",
      "Real: Ralph_Sampson | Pred: Ralph_Sampson | Score: 0.998 | Match: 1\n",
      "Real: Diane_Lane | Pred: Diane_Lane | Score: 1.000 | Match: 1\n"
     ]
    },
    {
     "name": "stderr",
     "output_type": "stream",
     "text": [
      "  5%|▍         | 12/250 [00:35<11:40,  2.94s/it]"
     ]
    },
    {
     "name": "stdout",
     "output_type": "stream",
     "text": [
      "Real: Chip_Ganassi | Pred: Chip_Ganassi | Score: 0.992 | Match: 1\n",
      "Real: Ty_Votaw | Pred: Ty_Votaw | Score: 0.884 | Match: 1\n",
      "Real: Javier_Saviola | Pred: Javier_Saviola | Score: 0.984 | Match: 1\n",
      "Real: Eric_Ryan_Donnelly | Pred: Eric_Ryan_Donnelly | Score: 1.000 | Match: 1\n",
      "Real: Elizabeth_Shue | Pred: Elizabeth_Shue | Score: 0.966 | Match: 1\n"
     ]
    },
    {
     "name": "stderr",
     "output_type": "stream",
     "text": [
      "  5%|▌         | 13/250 [00:38<11:14,  2.84s/it]"
     ]
    },
    {
     "name": "stdout",
     "output_type": "stream",
     "text": [
      "Real: Penelope_Ann_Miller | Pred: Penelope_Ann_Miller | Score: 0.800 | Match: 1\n",
      "Real: Russell_Crowe | Pred: Russell_Crowe | Score: 0.999 | Match: 1\n",
      "Real: Chris_Cirino | Pred: Chris_Cirino | Score: 0.997 | Match: 1\n",
      "Real: Bob_Bowlsby | Pred: Bob_Bowlsby | Score: 0.966 | Match: 1\n",
      "Real: Justine_Pasek | Pred: Justine_Pasek | Score: 0.597 | Match: 1\n"
     ]
    },
    {
     "name": "stderr",
     "output_type": "stream",
     "text": [
      "  6%|▌         | 14/250 [00:41<10:51,  2.76s/it]"
     ]
    },
    {
     "name": "stdout",
     "output_type": "stream",
     "text": [
      "Real: Abraham_Foxman | Pred: Abraham_Foxman | Score: 0.958 | Match: 1\n",
      "Real: Ray_Liotta | Pred: Ray_Liotta | Score: 0.667 | Match: 1\n",
      "Real: Kurt_Hellstrom | Pred: Kurt_Hellstrom | Score: 0.997 | Match: 1\n",
      "Real: Billy_Beane | Pred: Billy_Beane | Score: 0.986 | Match: 1\n",
      "Real: Tim_Duncan | Pred: Tim_Duncan | Score: 0.985 | Match: 1\n"
     ]
    },
    {
     "name": "stderr",
     "output_type": "stream",
     "text": [
      "  6%|▌         | 15/250 [00:43<10:22,  2.65s/it]"
     ]
    },
    {
     "name": "stdout",
     "output_type": "stream",
     "text": [
      "Real: Sally_Clark | Pred: Ilan_Ramon | Score: 0.607 | Match: 0\n",
      "Real: Ilan_Ramon | Pred: Ilan_Ramon | Score: 0.900 | Match: 1\n",
      "Real: Jean-Pierre_Raffarin | Pred: Ilan_Ramon | Score: 0.649 | Match: 0\n",
      "Real: Colleen_Jones | Pred: Colleen_Jones | Score: 0.980 | Match: 1\n",
      "Real: Selma_Phoenix | Pred: Selma_Phoenix | Score: 0.979 | Match: 1\n"
     ]
    },
    {
     "name": "stderr",
     "output_type": "stream",
     "text": [
      "  6%|▋         | 16/250 [00:46<10:12,  2.62s/it]"
     ]
    },
    {
     "name": "stdout",
     "output_type": "stream",
     "text": [
      "Real: Paul_Li_Calsi | Pred: Paul_Li_Calsi | Score: 0.846 | Match: 1\n",
      "Real: Jose_Cevallos | Pred: Jose_Cevallos | Score: 0.999 | Match: 1\n",
      "Real: William_Burns | Pred: William_Burns | Score: 0.516 | Match: 1\n",
      "Real: Justine_Pasek | Pred: Justine_Pasek | Score: 0.506 | Match: 1\n",
      "Real: Leo_Ramirez | Pred: Leo_Ramirez | Score: 0.962 | Match: 1\n"
     ]
    },
    {
     "name": "stderr",
     "output_type": "stream",
     "text": [
      "  7%|▋         | 17/250 [00:49<11:03,  2.85s/it]"
     ]
    },
    {
     "name": "stdout",
     "output_type": "stream",
     "text": [
      "Real: Keith_Foulke | Pred: Keith_Foulke | Score: 0.899 | Match: 1\n",
      "Real: Bob_Melvin | Pred: Bob_Melvin | Score: 0.996 | Match: 1\n",
      "Real: Jennifer_Furminger | Pred: Jennifer_Furminger | Score: 0.988 | Match: 1\n",
      "Real: 044_frontal | Pred: 044_frontal | Score: 1.000 | Match: 1\n",
      "Real: Elinor_Caplan | Pred: Keith_Foulke | Score: 0.861 | Match: 0\n"
     ]
    },
    {
     "name": "stderr",
     "output_type": "stream",
     "text": [
      "  7%|▋         | 18/250 [00:51<10:36,  2.74s/it]"
     ]
    },
    {
     "name": "stdout",
     "output_type": "stream",
     "text": [
      "Real: Denise_Johnson | Pred: Al_Leiter | Score: 0.873 | Match: 0\n",
      "Real: Al_Leiter | Pred: Al_Leiter | Score: 0.951 | Match: 1\n",
      "Real: Roger_Staubach | Pred: Roger_Staubach | Score: 0.472 | Match: 1\n",
      "Real: Trisha_Meili | Pred: Trisha_Meili | Score: 0.425 | Match: 1\n",
      "Real: Thomas_Fargo | Pred: Denise_Johnson | Score: 0.580 | Match: 0\n"
     ]
    },
    {
     "name": "stderr",
     "output_type": "stream",
     "text": [
      "  8%|▊         | 19/250 [00:55<11:08,  2.89s/it]"
     ]
    },
    {
     "name": "stdout",
     "output_type": "stream",
     "text": [
      "Real: Andrea_Yates | Pred: Andrea_Yates | Score: 0.989 | Match: 1\n",
      "Real: Rick_Bragg | Pred: Rick_Bragg | Score: 0.586 | Match: 1\n",
      "Real: Jerry_Sexton | Pred: Jerry_Sexton | Score: 0.624 | Match: 1\n",
      "Real: Ana_Claudia_Talancon | Pred: Ana_Claudia_Talancon | Score: 0.664 | Match: 1\n",
      "Real: Charles_Schumer | Pred: Charles_Schumer | Score: 0.938 | Match: 1\n"
     ]
    },
    {
     "name": "stderr",
     "output_type": "stream",
     "text": [
      "  8%|▊         | 20/250 [00:58<11:45,  3.07s/it]"
     ]
    },
    {
     "name": "stdout",
     "output_type": "stream",
     "text": [
      "Real: Maha_Habib | Pred: Maha_Habib | Score: 0.993 | Match: 1\n",
      "Real: Lloyd_Mudiwa | Pred: Lloyd_Mudiwa | Score: 0.564 | Match: 1\n",
      "Real: 092_frontal | Pred: 092_frontal | Score: 1.000 | Match: 1\n",
      "Real: Nida_Blanca | Pred: Nida_Blanca | Score: 0.986 | Match: 1\n",
      "Real: Helio_Castroneves | Pred: Helio_Castroneves | Score: 0.628 | Match: 1\n"
     ]
    },
    {
     "name": "stderr",
     "output_type": "stream",
     "text": [
      "  8%|▊         | 21/250 [01:01<10:58,  2.88s/it]"
     ]
    },
    {
     "name": "stdout",
     "output_type": "stream",
     "text": [
      "Real: Aline_Chretien | Pred: Aline_Chretien | Score: 0.617 | Match: 1\n",
      "Real: Colleen_Jones | Pred: Colleen_Jones | Score: 0.918 | Match: 1\n",
      "Real: Brian_Henson | Pred: Brian_Henson | Score: 0.959 | Match: 1\n",
      "Real: Wu_Yi | Pred: Wu_Yi | Score: 0.948 | Match: 1\n",
      "Real: Bryan_Adams | Pred: Bryan_Adams | Score: 0.790 | Match: 1\n"
     ]
    },
    {
     "name": "stderr",
     "output_type": "stream",
     "text": [
      "  9%|▉         | 22/250 [01:04<11:31,  3.03s/it]"
     ]
    },
    {
     "name": "stdout",
     "output_type": "stream",
     "text": [
      "Real: Bryant_Young | Pred: Bryant_Young | Score: 1.000 | Match: 1\n",
      "Real: Dai_Chul_Chyung | Pred: Dai_Chul_Chyung | Score: 0.943 | Match: 1\n",
      "Real: Michael_Moore | Pred: Michael_Moore | Score: 0.821 | Match: 1\n",
      "Real: Tony_Stewart | Pred: Tony_Stewart | Score: 0.826 | Match: 1\n",
      "Real: 110_frontal | Pred: 110_frontal | Score: 1.000 | Match: 1\n"
     ]
    },
    {
     "name": "stderr",
     "output_type": "stream",
     "text": [
      "  9%|▉         | 23/250 [01:06<10:31,  2.78s/it]"
     ]
    },
    {
     "name": "stdout",
     "output_type": "stream",
     "text": [
      "Real: Anne_Cavers | Pred: Anne_Cavers | Score: 0.837 | Match: 1\n",
      "Real: Bob_Riley | Pred: Bob_Riley | Score: 0.965 | Match: 1\n",
      "Real: Patrick_Stewart | Pred: Patrick_Stewart | Score: 0.860 | Match: 1\n",
      "Real: Orlando_Bloom | Pred: Orlando_Bloom | Score: 0.852 | Match: 1\n",
      "Real: Brittany_Snow | Pred: Brittany_Snow | Score: 0.807 | Match: 1\n"
     ]
    },
    {
     "name": "stderr",
     "output_type": "stream",
     "text": [
      " 10%|▉         | 24/250 [01:08<09:56,  2.64s/it]"
     ]
    },
    {
     "name": "stdout",
     "output_type": "stream",
     "text": [
      "Real: Rob_Niedermayer | Pred: Rob_Niedermayer | Score: 0.572 | Match: 1\n",
      "Real: Leonard_Glick | Pred: Leonard_Glick | Score: 0.823 | Match: 1\n",
      "Real: Johnny_Depp | Pred: Rob_Niedermayer | Score: 0.397 | Match: 0\n",
      "Real: Mario_Alfaro-Lopez | Pred: Mario_Alfaro-Lopez | Score: 0.817 | Match: 1\n",
      "Real: Jose_Manuel_Durao_Barroso | Pred: Jose_Manuel_Durao_Barroso | Score: 1.000 | Match: 1\n"
     ]
    },
    {
     "name": "stderr",
     "output_type": "stream",
     "text": [
      " 10%|█         | 25/250 [01:11<09:29,  2.53s/it]"
     ]
    },
    {
     "name": "stdout",
     "output_type": "stream",
     "text": [
      "Real: LK_Advani | Pred: LK_Advani | Score: 0.841 | Match: 1\n",
      "Real: Johnny_Unitas | Pred: Johnny_Unitas | Score: 0.907 | Match: 1\n",
      "Real: Seymour_Cassell | Pred: Seymour_Cassell | Score: 0.703 | Match: 1\n",
      "Real: Bill_Pryor | Pred: Bill_Pryor | Score: 0.966 | Match: 1\n",
      "Real: Norodom_Sihanouk | Pred: Norodom_Sihanouk | Score: 0.701 | Match: 1\n"
     ]
    },
    {
     "name": "stderr",
     "output_type": "stream",
     "text": [
      " 10%|█         | 26/250 [01:13<09:26,  2.53s/it]"
     ]
    },
    {
     "name": "stdout",
     "output_type": "stream",
     "text": [
      "Real: Carlos_Lordkipanitse | Pred: Carlos_Lordkipanitse | Score: 0.975 | Match: 1\n",
      "Real: Eric_Wedge | Pred: Eric_Wedge | Score: 0.407 | Match: 1\n",
      "Real: Isidro_Pastor | Pred: Isidro_Pastor | Score: 0.536 | Match: 1\n",
      "Real: Corinna_Harfouch | Pred: Corinna_Harfouch | Score: 0.993 | Match: 1\n",
      "Real: Mario_Lemieux | Pred: Mario_Lemieux | Score: 0.500 | Match: 1\n"
     ]
    },
    {
     "name": "stderr",
     "output_type": "stream",
     "text": [
      " 11%|█         | 27/250 [01:20<13:34,  3.65s/it]"
     ]
    },
    {
     "name": "stdout",
     "output_type": "stream",
     "text": [
      "Real: 013_frontal | Pred: 013_frontal | Score: 0.997 | Match: 1\n",
      "Real: Afton_Smith | Pred: Afton_Smith | Score: 0.956 | Match: 1\n",
      "Real: Ali_Fallahian | Pred: 012_frontal | Score: 0.655 | Match: 0\n",
      "Real: Samuel_Waksal | Pred: Ali_Fallahian | Score: 0.710 | Match: 0\n",
      "Real: 012_frontal | Pred: 012_frontal | Score: 0.980 | Match: 1\n"
     ]
    },
    {
     "name": "stderr",
     "output_type": "stream",
     "text": [
      " 11%|█         | 28/250 [01:23<13:12,  3.57s/it]"
     ]
    },
    {
     "name": "stdout",
     "output_type": "stream",
     "text": [
      "Real: Daniel_Radcliffe | Pred: Daniel_Radcliffe | Score: 0.959 | Match: 1\n",
      "Real: Klaus_Zwickel | Pred: Yuri_Luzhkov | Score: 0.672 | Match: 0\n",
      "Real: Yuri_Luzhkov | Pred: Yuri_Luzhkov | Score: 0.941 | Match: 1\n",
      "Real: Mitchell_Crooks | Pred: Mitchell_Crooks | Score: 0.921 | Match: 1\n",
      "Real: Nate_Hybl | Pred: Nate_Hybl | Score: 0.979 | Match: 1\n"
     ]
    },
    {
     "name": "stderr",
     "output_type": "stream",
     "text": [
      " 12%|█▏        | 29/250 [01:26<12:08,  3.30s/it]"
     ]
    },
    {
     "name": "stdout",
     "output_type": "stream",
     "text": [
      "Real: Moshe_Katsav | Pred: Moshe_Katsav | Score: 0.753 | Match: 1\n",
      "Real: Rodrigo_de_la_Cerna | Pred: Rodrigo_de_la_Cerna | Score: 0.854 | Match: 1\n",
      "Real: Nancy_Sinatra | Pred: Nancy_Sinatra | Score: 0.975 | Match: 1\n",
      "Real: Monica_Seles | Pred: Monica_Seles | Score: 0.786 | Match: 1\n",
      "Real: Shane_Mosley | Pred: Shane_Mosley | Score: 0.959 | Match: 1\n"
     ]
    },
    {
     "name": "stderr",
     "output_type": "stream",
     "text": [
      " 12%|█▏        | 30/250 [01:30<13:26,  3.67s/it]"
     ]
    },
    {
     "name": "stdout",
     "output_type": "stream",
     "text": [
      "Real: Simona_Hradil | Pred: Simona_Hradil | Score: 0.915 | Match: 1\n",
      "Real: Desmon_Farmer | Pred: Desmon_Farmer | Score: 1.000 | Match: 1\n",
      "Real: Rick_Romley | Pred: Rick_Romley | Score: 0.739 | Match: 1\n",
      "Real: 119_frontal | Pred: 119_frontal | Score: 0.501 | Match: 1\n",
      "Real: 005_frontal | Pred: 005_frontal | Score: 0.762 | Match: 1\n"
     ]
    },
    {
     "name": "stderr",
     "output_type": "stream",
     "text": [
      " 12%|█▏        | 31/250 [01:32<11:54,  3.26s/it]"
     ]
    },
    {
     "name": "stdout",
     "output_type": "stream",
     "text": [
      "Real: Chandrika_Kumaratunga | Pred: Chandrika_Kumaratunga | Score: 0.951 | Match: 1\n",
      "Real: Sally_Clark | Pred: Helio_Castroneves | Score: 0.670 | Match: 0\n",
      "Real: Sarah_Weddington | Pred: Sarah_Weddington | Score: 0.981 | Match: 1\n",
      "Real: Michelle_Hofland | Pred: Michelle_Hofland | Score: 0.960 | Match: 1\n",
      "Real: Helio_Castroneves | Pred: Helio_Castroneves | Score: 0.955 | Match: 1\n"
     ]
    },
    {
     "name": "stderr",
     "output_type": "stream",
     "text": [
      " 13%|█▎        | 32/250 [01:35<10:46,  2.97s/it]"
     ]
    },
    {
     "name": "stdout",
     "output_type": "stream",
     "text": [
      "Real: Christian_Longo | Pred: Chris_Moore | Score: 0.946 | Match: 0\n",
      "Real: Luc_Montagnier | Pred: Luc_Montagnier | Score: 0.976 | Match: 1\n",
      "Real: James_Carville | Pred: James_Carville | Score: 0.743 | Match: 1\n",
      "Real: Chris_Moore | Pred: Chris_Moore | Score: 0.896 | Match: 1\n",
      "Real: Leo_Ramirez | Pred: Leo_Ramirez | Score: 0.773 | Match: 1\n"
     ]
    },
    {
     "name": "stderr",
     "output_type": "stream",
     "text": [
      " 13%|█▎        | 33/250 [01:37<10:11,  2.82s/it]"
     ]
    },
    {
     "name": "stdout",
     "output_type": "stream",
     "text": [
      "Real: Anthony_Hopkins | Pred: Anthony_Hopkins | Score: 0.958 | Match: 1\n",
      "Real: Tommy_Tubberville | Pred: Tommy_Tubberville | Score: 0.759 | Match: 1\n",
      "Real: Martin_Landau | Pred: Martin_Landau | Score: 0.858 | Match: 1\n",
      "Real: Begum_Khaleda_Zia | Pred: Begum_Khaleda_Zia | Score: 0.694 | Match: 1\n",
      "Real: Mike_Helton | Pred: Tommy_Tubberville | Score: 0.803 | Match: 0\n"
     ]
    },
    {
     "name": "stderr",
     "output_type": "stream",
     "text": [
      " 14%|█▎        | 34/250 [01:42<12:25,  3.45s/it]"
     ]
    },
    {
     "name": "stdout",
     "output_type": "stream",
     "text": [
      "Real: Jerry_Pauley | Pred: Jerry_Pauley | Score: 0.938 | Match: 1\n",
      "Real: 015_frontal | Pred: 015_frontal | Score: 0.996 | Match: 1\n",
      "Real: David_Obey | Pred: David_Obey | Score: 0.679 | Match: 1\n",
      "Real: Rogerio_Romero | Pred: Rogerio_Romero | Score: 0.997 | Match: 1\n",
      "Real: Janet_Napolitano | Pred: Janet_Napolitano | Score: 0.998 | Match: 1\n"
     ]
    },
    {
     "name": "stderr",
     "output_type": "stream",
     "text": [
      " 14%|█▍        | 35/250 [01:46<12:21,  3.45s/it]"
     ]
    },
    {
     "name": "stdout",
     "output_type": "stream",
     "text": [
      "Real: Barbara_Becker | Pred: Barbara_Becker | Score: 0.732 | Match: 1\n",
      "Real: Al_Leiter | Pred: Al_Leiter | Score: 0.983 | Match: 1\n",
      "Real: Samantha_Daniels | Pred: Samantha_Daniels | Score: 0.601 | Match: 1\n",
      "Real: Robert_Bullock | Pred: Al_Leiter | Score: 0.588 | Match: 0\n",
      "Real: Kevin_Garnett | Pred: Kevin_Garnett | Score: 0.972 | Match: 1\n"
     ]
    },
    {
     "name": "stderr",
     "output_type": "stream",
     "text": [
      " 14%|█▍        | 36/250 [01:50<13:14,  3.71s/it]"
     ]
    },
    {
     "name": "stdout",
     "output_type": "stream",
     "text": [
      "Real: Rick_Romley | Pred: Red_Auerbach | Score: 0.478 | Match: 0\n",
      "Real: Bak_Chang-Ryun | Pred: Bak_Chang-Ryun | Score: 0.979 | Match: 1\n",
      "Real: Red_Auerbach | Pred: Red_Auerbach | Score: 0.818 | Match: 1\n",
      "Real: Catherine_Ndereba | Pred: Catherine_Ndereba | Score: 0.683 | Match: 1\n",
      "Real: 092_frontal | Pred: 092_frontal | Score: 1.000 | Match: 1\n"
     ]
    },
    {
     "name": "stderr",
     "output_type": "stream",
     "text": [
      " 15%|█▍        | 37/250 [01:52<11:55,  3.36s/it]"
     ]
    },
    {
     "name": "stdout",
     "output_type": "stream",
     "text": [
      "Real: Patricia_Heaton | Pred: Patricia_Heaton | Score: 0.658 | Match: 1\n",
      "Real: Jerry_Pauley | Pred: Jerry_Pauley | Score: 0.712 | Match: 1\n",
      "Real: Troy_Jenkins | Pred: Troy_Jenkins | Score: 0.997 | Match: 1\n",
      "Real: Matt_Damon | Pred: Sue_Wicks | Score: 0.610 | Match: 0\n",
      "Real: Sue_Wicks | Pred: Sue_Wicks | Score: 0.964 | Match: 1\n"
     ]
    },
    {
     "name": "stderr",
     "output_type": "stream",
     "text": [
      " 15%|█▌        | 38/250 [01:56<12:15,  3.47s/it]"
     ]
    },
    {
     "name": "stdout",
     "output_type": "stream",
     "text": [
      "Real: Dave_Robertson | Pred: Dave_Robertson | Score: 0.888 | Match: 1\n",
      "Real: 110_frontal | Pred: 110_frontal | Score: 1.000 | Match: 1\n",
      "Real: Kaio_Almeida | Pred: Kaio_Almeida | Score: 1.000 | Match: 1\n",
      "Real: Chip_Ganassi | Pred: Chip_Ganassi | Score: 0.876 | Match: 1\n",
      "Real: Suzie_McConnell_Serio | Pred: Suzie_McConnell_Serio | Score: 0.928 | Match: 1\n"
     ]
    },
    {
     "name": "stderr",
     "output_type": "stream",
     "text": [
      " 16%|█▌        | 39/250 [02:00<12:12,  3.47s/it]"
     ]
    },
    {
     "name": "stdout",
     "output_type": "stream",
     "text": [
      "Real: Elvis_Costello | Pred: Elvis_Costello | Score: 0.844 | Match: 1\n",
      "Real: James_Meredeth | Pred: James_Meredeth | Score: 0.959 | Match: 1\n",
      "Real: 008_frontal | Pred: 008_frontal | Score: 1.000 | Match: 1\n",
      "Real: Kurt_Warner | Pred: James_Meredeth | Score: 0.958 | Match: 0\n",
      "Real: Norodom_Sihanouk | Pred: 008_frontal | Score: 0.482 | Match: 0\n"
     ]
    },
    {
     "name": "stderr",
     "output_type": "stream",
     "text": [
      " 16%|█▌        | 40/250 [02:04<13:04,  3.74s/it]"
     ]
    },
    {
     "name": "stdout",
     "output_type": "stream",
     "text": [
      "Real: 060_frontal | Pred: 060_frontal | Score: 0.876 | Match: 1\n",
      "Real: Gary_Barnett | Pred: Gary_Barnett | Score: 0.843 | Match: 1\n",
      "Real: Michael_Kahn | Pred: Michael_Kahn | Score: 0.970 | Match: 1\n",
      "Real: 063_frontal | Pred: 063_frontal | Score: 0.996 | Match: 1\n",
      "Real: Zarai_Toledo | Pred: Zarai_Toledo | Score: 0.825 | Match: 1\n"
     ]
    },
    {
     "name": "stderr",
     "output_type": "stream",
     "text": [
      " 16%|█▋        | 41/250 [02:08<13:24,  3.85s/it]"
     ]
    },
    {
     "name": "stdout",
     "output_type": "stream",
     "text": [
      "Real: Bernard_Kerik | Pred: Bernard_Kerik | Score: 0.727 | Match: 1\n",
      "Real: Christine_Arron | Pred: Christine_Arron | Score: 0.788 | Match: 1\n",
      "Real: Bill_OReilly | Pred: Bill_OReilly | Score: 0.995 | Match: 1\n",
      "Real: Darin_Erstad | Pred: Darin_Erstad | Score: 0.634 | Match: 1\n",
      "Real: Mark_Gangloff | Pred: Mark_Gangloff | Score: 0.999 | Match: 1\n"
     ]
    },
    {
     "name": "stderr",
     "output_type": "stream",
     "text": [
      " 17%|█▋        | 42/250 [02:11<12:51,  3.71s/it]"
     ]
    },
    {
     "name": "stdout",
     "output_type": "stream",
     "text": [
      "Real: Tom_Cruise | Pred: Tom_Cruise | Score: 0.543 | Match: 1\n",
      "Real: Connie_Chung | Pred: Connie_Chung | Score: 0.642 | Match: 1\n",
      "Real: Brock_Berlin | Pred: Brock_Berlin | Score: 0.815 | Match: 1\n",
      "Real: E_Clay_Shaw | Pred: E_Clay_Shaw | Score: 0.953 | Match: 1\n",
      "Real: Li_Peng | Pred: Connie_Chung | Score: 0.726 | Match: 0\n"
     ]
    },
    {
     "name": "stderr",
     "output_type": "stream",
     "text": [
      " 17%|█▋        | 43/250 [02:15<12:28,  3.62s/it]"
     ]
    },
    {
     "name": "stdout",
     "output_type": "stream",
     "text": [
      "Real: Patricia_Hearst | Pred: Patricia_Hearst | Score: 0.995 | Match: 1\n",
      "Real: Stipe_Mesic | Pred: Stipe_Mesic | Score: 0.961 | Match: 1\n",
      "Real: Miranda_Gaddis | Pred: Miranda_Gaddis | Score: 0.934 | Match: 1\n",
      "Real: Ryan_Nyquist | Pred: Ryan_Nyquist | Score: 0.942 | Match: 1\n",
      "Real: Russell_Crowe | Pred: Russell_Crowe | Score: 1.000 | Match: 1\n"
     ]
    },
    {
     "name": "stderr",
     "output_type": "stream",
     "text": [
      " 18%|█▊        | 44/250 [02:17<11:14,  3.27s/it]"
     ]
    },
    {
     "name": "stdout",
     "output_type": "stream",
     "text": [
      "Real: Ellen_Pompeo | Pred: Charles_Pickering | Score: 0.370 | Match: 0\n",
      "Real: Charles_Pickering | Pred: Charles_Pickering | Score: 0.846 | Match: 1\n",
      "Real: Samuel_Waksal | Pred: Samuel_Waksal | Score: 0.509 | Match: 1\n",
      "Real: Emyr_Jones_Parry | Pred: Ellen_Pompeo | Score: 0.357 | Match: 0\n",
      "Real: Diana_Ross | Pred: Diana_Ross | Score: 0.835 | Match: 1\n"
     ]
    },
    {
     "name": "stderr",
     "output_type": "stream",
     "text": [
      " 18%|█▊        | 45/250 [02:20<10:33,  3.09s/it]"
     ]
    },
    {
     "name": "stdout",
     "output_type": "stream",
     "text": [
      "Real: Federico_Trillo | Pred: Federico_Trillo | Score: 0.610 | Match: 1\n",
      "Real: Paulina_Rodriguez_Davila | Pred: Paulina_Rodriguez_Davila | Score: 0.874 | Match: 1\n",
      "Real: Eli_Broad | Pred: Eli_Broad | Score: 0.585 | Match: 1\n",
      "Real: Robert_Bullock | Pred: Robert_Bullock | Score: 0.690 | Match: 1\n",
      "Real: Jamie_Villafane | Pred: Jamie_Villafane | Score: 0.385 | Match: 1\n"
     ]
    },
    {
     "name": "stderr",
     "output_type": "stream",
     "text": [
      " 18%|█▊        | 46/250 [02:24<11:04,  3.26s/it]"
     ]
    },
    {
     "name": "stdout",
     "output_type": "stream",
     "text": [
      "Real: Kellie_Coffey | Pred: Kellie_Coffey | Score: 0.881 | Match: 1\n",
      "Real: 071_frontal | Pred: 071_frontal | Score: 1.000 | Match: 1\n",
      "Real: Aaron_Pena | Pred: Kellie_Coffey | Score: 0.608 | Match: 0\n",
      "Real: Margie_Puente | Pred: Margie_Puente | Score: 0.751 | Match: 1\n",
      "Real: Fazal-ur-Rehman | Pred: Fazal-ur-Rehman | Score: 0.958 | Match: 1\n"
     ]
    },
    {
     "name": "stderr",
     "output_type": "stream",
     "text": [
      " 19%|█▉        | 47/250 [02:28<12:09,  3.60s/it]"
     ]
    },
    {
     "name": "stdout",
     "output_type": "stream",
     "text": [
      "Real: Bernard_Kerik | Pred: Bernard_Kerik | Score: 0.895 | Match: 1\n",
      "Real: Greg_Rusedski | Pred: Takenori_Kanzaki | Score: 0.692 | Match: 0\n",
      "Real: Takenori_Kanzaki | Pred: Takenori_Kanzaki | Score: 1.000 | Match: 1\n",
      "Real: 100_frontal | Pred: 100_frontal | Score: 0.990 | Match: 1\n",
      "Real: 053_frontal | Pred: 053_frontal | Score: 0.946 | Match: 1\n"
     ]
    },
    {
     "name": "stderr",
     "output_type": "stream",
     "text": [
      " 19%|█▉        | 48/250 [02:31<11:20,  3.37s/it]"
     ]
    },
    {
     "name": "stdout",
     "output_type": "stream",
     "text": [
      "Real: Mirela_Manjani | Pred: Mirela_Manjani | Score: 1.000 | Match: 1\n",
      "Real: Maritza_Macias_Furano | Pred: Maritza_Macias_Furano | Score: 0.582 | Match: 1\n",
      "Real: Jamie_Villafane | Pred: Dorthy_Moxley | Score: 0.712 | Match: 0\n",
      "Real: Dorthy_Moxley | Pred: Maritza_Macias_Furano | Score: 0.531 | Match: 0\n",
      "Real: Jorge_Moreno | Pred: Jorge_Moreno | Score: 0.938 | Match: 1\n"
     ]
    },
    {
     "name": "stderr",
     "output_type": "stream",
     "text": [
      " 20%|█▉        | 49/250 [02:35<11:45,  3.51s/it]"
     ]
    },
    {
     "name": "stdout",
     "output_type": "stream",
     "text": [
      "Real: John_Bond | Pred: John_Bond | Score: 0.967 | Match: 1\n",
      "Real: Matthew_Ouimet | Pred: Matthew_Ouimet | Score: 0.990 | Match: 1\n",
      "Real: Bryant_Young | Pred: Bryant_Young | Score: 1.000 | Match: 1\n",
      "Real: 044_frontal | Pred: 044_frontal | Score: 1.000 | Match: 1\n",
      "Real: Eric_Wedge | Pred: Eric_Wedge | Score: 0.954 | Match: 1\n"
     ]
    },
    {
     "name": "stderr",
     "output_type": "stream",
     "text": [
      " 20%|██        | 50/250 [02:38<11:34,  3.47s/it]"
     ]
    },
    {
     "name": "stdout",
     "output_type": "stream",
     "text": [
      "Real: Roberto_Laratro | Pred: Roberto_Laratro | Score: 0.984 | Match: 1\n",
      "Real: Rick_Bland | Pred: 005_frontal | Score: 0.514 | Match: 0\n",
      "Real: 005_frontal | Pred: 005_frontal | Score: 1.000 | Match: 1\n",
      "Real: Jen_Schefft | Pred: Jen_Schefft | Score: 1.000 | Match: 1\n",
      "Real: Ralph_Sampson | Pred: 005_frontal | Score: 0.824 | Match: 0\n"
     ]
    },
    {
     "name": "stderr",
     "output_type": "stream",
     "text": [
      " 20%|██        | 51/250 [02:41<10:44,  3.24s/it]"
     ]
    },
    {
     "name": "stdout",
     "output_type": "stream",
     "text": [
      "Real: Red_Auerbach | Pred: Red_Auerbach | Score: 0.754 | Match: 1\n",
      "Real: Roman_Tam | Pred: Roman_Tam | Score: 0.881 | Match: 1\n",
      "Real: Gary_Barnett | Pred: Gary_Barnett | Score: 0.953 | Match: 1\n",
      "Real: Keith_Foulke | Pred: Keith_Foulke | Score: 1.000 | Match: 1\n",
      "Real: Hermando_Harton | Pred: Hermando_Harton | Score: 0.926 | Match: 1\n"
     ]
    },
    {
     "name": "stderr",
     "output_type": "stream",
     "text": [
      " 21%|██        | 52/250 [02:44<10:57,  3.32s/it]"
     ]
    },
    {
     "name": "stdout",
     "output_type": "stream",
     "text": [
      "Real: 066_frontal | Pred: 066_frontal | Score: 0.966 | Match: 1\n",
      "Real: Graeme_Smith | Pred: Graeme_Smith | Score: 0.930 | Match: 1\n",
      "Real: Cemil_Cicek | Pred: Cemil_Cicek | Score: 1.000 | Match: 1\n",
      "Real: Peter_Fisher | Pred: Peter_Fisher | Score: 0.998 | Match: 1\n",
      "Real: Kevin_Satterfield | Pred: Kevin_Satterfield | Score: 0.997 | Match: 1\n"
     ]
    },
    {
     "name": "stderr",
     "output_type": "stream",
     "text": [
      " 21%|██        | 53/250 [02:47<09:55,  3.02s/it]"
     ]
    },
    {
     "name": "stdout",
     "output_type": "stream",
     "text": [
      "Real: Abdullatif_Sener | Pred: Guillermo_Ruiz_Polanco | Score: 0.930 | Match: 0\n",
      "Real: Chandrika_Kumaratunga | Pred: Chandrika_Kumaratunga | Score: 0.922 | Match: 1\n",
      "Real: Gary_Gitnick | Pred: Gary_Gitnick | Score: 0.994 | Match: 1\n",
      "Real: Guillermo_Ruiz_Polanco | Pred: Guillermo_Ruiz_Polanco | Score: 0.989 | Match: 1\n",
      "Real: Teri_Files | Pred: Teri_Files | Score: 1.000 | Match: 1\n"
     ]
    },
    {
     "name": "stderr",
     "output_type": "stream",
     "text": [
      " 22%|██▏       | 54/250 [02:51<11:07,  3.41s/it]"
     ]
    },
    {
     "name": "stdout",
     "output_type": "stream",
     "text": [
      "Real: Raoul_Ruiz | Pred: Raoul_Ruiz | Score: 0.891 | Match: 1\n",
      "Real: 054_frontal | Pred: 054_frontal | Score: 1.000 | Match: 1\n",
      "Real: Jerry_Regier | Pred: Jerry_Regier | Score: 0.972 | Match: 1\n",
      "Real: 106_frontal | Pred: 106_frontal | Score: 1.000 | Match: 1\n",
      "Real: Peter_Fisher | Pred: Peter_Fisher | Score: 0.881 | Match: 1\n"
     ]
    },
    {
     "name": "stderr",
     "output_type": "stream",
     "text": [
      " 22%|██▏       | 55/250 [02:54<10:41,  3.29s/it]"
     ]
    },
    {
     "name": "stdout",
     "output_type": "stream",
     "text": [
      "Real: Stephen_Thompson | Pred: Stephen_Thompson | Score: 0.921 | Match: 1\n",
      "Real: Mark_Andrew | Pred: Mark_Andrew | Score: 0.670 | Match: 1\n",
      "Real: 060_frontal | Pred: 060_frontal | Score: 0.920 | Match: 1\n",
      "Real: Mark_Gangloff | Pred: Mark_Gangloff | Score: 0.998 | Match: 1\n",
      "Real: Tim_Duncan | Pred: Tim_Duncan | Score: 0.738 | Match: 1\n"
     ]
    },
    {
     "name": "stderr",
     "output_type": "stream",
     "text": [
      " 22%|██▏       | 56/250 [02:56<09:38,  2.98s/it]"
     ]
    },
    {
     "name": "stdout",
     "output_type": "stream",
     "text": [
      "Real: Nate_Hybl | Pred: Nate_Hybl | Score: 0.900 | Match: 1\n",
      "Real: Edgar_Savisaar | Pred: Edgar_Savisaar | Score: 0.991 | Match: 1\n",
      "Real: Bernard_Kerik | Pred: Bernard_Kerik | Score: 0.803 | Match: 1\n",
      "Real: Mike_Helton | Pred: Edgar_Savisaar | Score: 0.568 | Match: 0\n",
      "Real: Anna_Chicherova | Pred: Anna_Chicherova | Score: 0.855 | Match: 1\n"
     ]
    },
    {
     "name": "stderr",
     "output_type": "stream",
     "text": [
      " 23%|██▎       | 57/250 [02:58<08:52,  2.76s/it]"
     ]
    },
    {
     "name": "stdout",
     "output_type": "stream",
     "text": [
      "Real: Alex_Gonzalez | Pred: Alex_Gonzalez | Score: 0.771 | Match: 1\n",
      "Real: John_Eder | Pred: Hans_Peter_Briegel | Score: 0.486 | Match: 0\n",
      "Real: Orlando_Bloom | Pred: Orlando_Bloom | Score: 0.516 | Match: 1\n",
      "Real: Hans_Peter_Briegel | Pred: Hans_Peter_Briegel | Score: 0.757 | Match: 1\n",
      "Real: Cassandra_Heise | Pred: Cassandra_Heise | Score: 0.928 | Match: 1\n"
     ]
    },
    {
     "name": "stderr",
     "output_type": "stream",
     "text": [
      " 23%|██▎       | 58/250 [03:03<10:15,  3.21s/it]"
     ]
    },
    {
     "name": "stdout",
     "output_type": "stream",
     "text": [
      "Real: Stipe_Mesic | Pred: Stipe_Mesic | Score: 0.508 | Match: 1\n",
      "Real: Hwang_Doo-yun | Pred: Hwang_Doo-yun | Score: 0.953 | Match: 1\n",
      "Real: Jason_Priestley | Pred: Jason_Priestley | Score: 0.579 | Match: 1\n",
      "Real: 022_frontal | Pred: 022_frontal | Score: 1.000 | Match: 1\n",
      "Real: 007_frontal | Pred: 007_frontal | Score: 0.998 | Match: 1\n"
     ]
    },
    {
     "name": "stderr",
     "output_type": "stream",
     "text": [
      " 24%|██▎       | 59/250 [03:05<09:19,  2.93s/it]"
     ]
    },
    {
     "name": "stdout",
     "output_type": "stream",
     "text": [
      "Real: Roger_Clemens | Pred: Roger_Clemens | Score: 0.939 | Match: 1\n",
      "Real: Keith_Tyson | Pred: Keith_Tyson | Score: 0.899 | Match: 1\n",
      "Real: Gary_Barnett | Pred: Gary_Barnett | Score: 0.795 | Match: 1\n",
      "Real: Hanan_Ashrawi | Pred: Gary_Barnett | Score: 0.427 | Match: 0\n",
      "Real: Brandon_Robinson | Pred: Brandon_Robinson | Score: 0.974 | Match: 1\n"
     ]
    },
    {
     "name": "stderr",
     "output_type": "stream",
     "text": [
      " 24%|██▍       | 60/250 [03:08<09:23,  2.96s/it]"
     ]
    },
    {
     "name": "stdout",
     "output_type": "stream",
     "text": [
      "Real: Steve_Case | Pred: Steve_Case | Score: 0.578 | Match: 1\n",
      "Real: Carlos_Lordkipanitse | Pred: Carlos_Lordkipanitse | Score: 0.989 | Match: 1\n",
      "Real: Pio_Laghi | Pred: Steve_Case | Score: 0.447 | Match: 0\n",
      "Real: Aaron_Pena | Pred: Aaron_Pena | Score: 0.491 | Match: 1\n",
      "Real: Bill_OReilly | Pred: Bill_OReilly | Score: 0.707 | Match: 1\n"
     ]
    },
    {
     "name": "stderr",
     "output_type": "stream",
     "text": [
      " 24%|██▍       | 61/250 [03:11<09:27,  3.00s/it]"
     ]
    },
    {
     "name": "stdout",
     "output_type": "stream",
     "text": [
      "Real: Abdullatif_Sener | Pred: Nadia_Forte | Score: 0.436 | Match: 0\n",
      "Real: Maryn_McKenna | Pred: Maryn_McKenna | Score: 0.862 | Match: 1\n",
      "Real: Nadia_Forte | Pred: Nadia_Forte | Score: 0.896 | Match: 1\n",
      "Real: Irfan_Ahmed | Pred: Irfan_Ahmed | Score: 0.996 | Match: 1\n",
      "Real: Ted_Christopher | Pred: Ted_Christopher | Score: 0.749 | Match: 1\n"
     ]
    },
    {
     "name": "stderr",
     "output_type": "stream",
     "text": [
      " 25%|██▍       | 62/250 [03:14<09:08,  2.92s/it]"
     ]
    },
    {
     "name": "stdout",
     "output_type": "stream",
     "text": [
      "Real: Trisha_Meili | Pred: Trisha_Meili | Score: 0.959 | Match: 1\n",
      "Real: David_Przybyszewski | Pred: David_Przybyszewski | Score: 0.905 | Match: 1\n",
      "Real: Anna_Chicherova | Pred: Anna_Chicherova | Score: 0.915 | Match: 1\n",
      "Real: Charlie_Hunnam | Pred: Charlie_Hunnam | Score: 0.879 | Match: 1\n",
      "Real: Gary_Locke | Pred: Gary_Locke | Score: 0.508 | Match: 1\n"
     ]
    },
    {
     "name": "stderr",
     "output_type": "stream",
     "text": [
      " 25%|██▌       | 63/250 [03:17<09:46,  3.14s/it]"
     ]
    },
    {
     "name": "stdout",
     "output_type": "stream",
     "text": [
      "Real: 007_frontal | Pred: 007_frontal | Score: 0.975 | Match: 1\n",
      "Real: Brandon_Boyd | Pred: Brandon_Boyd | Score: 0.991 | Match: 1\n",
      "Real: Manfred_Stolpe | Pred: Manfred_Stolpe | Score: 0.941 | Match: 1\n",
      "Real: Andrea_Yates | Pred: Andrea_Yates | Score: 1.000 | Match: 1\n",
      "Real: Kathryn_Morris | Pred: Kathryn_Morris | Score: 0.996 | Match: 1\n"
     ]
    },
    {
     "name": "stderr",
     "output_type": "stream",
     "text": [
      " 26%|██▌       | 64/250 [03:20<08:55,  2.88s/it]"
     ]
    },
    {
     "name": "stdout",
     "output_type": "stream",
     "text": [
      "Real: Budd_Schulberg | Pred: Budd_Schulberg | Score: 0.997 | Match: 1\n",
      "Real: Edward_Belvin | Pred: Edward_Belvin | Score: 0.611 | Match: 1\n",
      "Real: Michael_Leavitt | Pred: Budd_Schulberg | Score: 0.707 | Match: 0\n",
      "Real: Nebojsa_Pavkovic | Pred: Nebojsa_Pavkovic | Score: 0.720 | Match: 1\n",
      "Real: Valery_Giscard_dEstaing | Pred: Nebojsa_Pavkovic | Score: 0.558 | Match: 0\n"
     ]
    },
    {
     "name": "stderr",
     "output_type": "stream",
     "text": [
      " 26%|██▌       | 65/250 [03:22<08:13,  2.67s/it]"
     ]
    },
    {
     "name": "stdout",
     "output_type": "stream",
     "text": [
      "Real: Al_Leiter | Pred: Al_Leiter | Score: 0.687 | Match: 1\n",
      "Real: Peter_Mugyeni | Pred: Peter_Mugyeni | Score: 1.000 | Match: 1\n",
      "Real: Emily_Mason | Pred: Emily_Mason | Score: 0.565 | Match: 1\n",
      "Real: Lawrence_Di_Rita | Pred: Lawrence_Di_Rita | Score: 0.998 | Match: 1\n",
      "Real: Larry_Beinfest | Pred: Larry_Beinfest | Score: 0.796 | Match: 1\n"
     ]
    },
    {
     "name": "stderr",
     "output_type": "stream",
     "text": [
      " 26%|██▋       | 66/250 [03:24<07:52,  2.57s/it]"
     ]
    },
    {
     "name": "stdout",
     "output_type": "stream",
     "text": [
      "Real: Lyle_Vanclief | Pred: Clemente_de_la_Vega | Score: 0.551 | Match: 0\n",
      "Real: Phil_McGraw | Pred: Phil_McGraw | Score: 0.994 | Match: 1\n",
      "Real: Clemente_de_la_Vega | Pred: Clemente_de_la_Vega | Score: 0.947 | Match: 1\n",
      "Real: Catherine_Deneuve | Pred: Catherine_Deneuve | Score: 0.608 | Match: 1\n",
      "Real: Jaromir_Jagr | Pred: Jaromir_Jagr | Score: 0.859 | Match: 1\n"
     ]
    },
    {
     "name": "stderr",
     "output_type": "stream",
     "text": [
      " 27%|██▋       | 67/250 [03:27<07:56,  2.60s/it]"
     ]
    },
    {
     "name": "stdout",
     "output_type": "stream",
     "text": [
      "Real: Linda_Amicangioli | Pred: Joe_Mantello | Score: 0.539 | Match: 0\n",
      "Real: Joe_Mantello | Pred: Joe_Mantello | Score: 0.856 | Match: 1\n",
      "Real: Hun_Sen | Pred: Hun_Sen | Score: 0.519 | Match: 1\n",
      "Real: Luc_Montagnier | Pred: Luc_Montagnier | Score: 1.000 | Match: 1\n",
      "Real: Juergen_Peters | Pred: Juergen_Peters | Score: 0.606 | Match: 1\n"
     ]
    },
    {
     "name": "stderr",
     "output_type": "stream",
     "text": [
      " 27%|██▋       | 68/250 [03:30<08:39,  2.85s/it]"
     ]
    },
    {
     "name": "stdout",
     "output_type": "stream",
     "text": [
      "Real: Samuel_Waksal | Pred: Samuel_Waksal | Score: 0.688 | Match: 1\n",
      "Real: 125_frontal | Pred: 125_frontal | Score: 1.000 | Match: 1\n",
      "Real: Gerard_Butler | Pred: Gerard_Butler | Score: 0.608 | Match: 1\n",
      "Real: Cassandra_Heise | Pred: Cassandra_Heise | Score: 0.774 | Match: 1\n",
      "Real: Lucy_Liu | Pred: Lucy_Liu | Score: 0.606 | Match: 1\n"
     ]
    },
    {
     "name": "stderr",
     "output_type": "stream",
     "text": [
      " 28%|██▊       | 69/250 [03:34<09:19,  3.09s/it]"
     ]
    },
    {
     "name": "stdout",
     "output_type": "stream",
     "text": [
      "Real: Ahmad_Masood | Pred: Aleksander_Kwasniewski | Score: 0.798 | Match: 0\n",
      "Real: Elin_Nordegren | Pred: Elin_Nordegren | Score: 0.974 | Match: 1\n",
      "Real: Aleksander_Kwasniewski | Pred: Aleksander_Kwasniewski | Score: 0.978 | Match: 1\n",
      "Real: Kelli_White | Pred: Kelli_White | Score: 0.969 | Match: 1\n",
      "Real: 106_frontal | Pred: 106_frontal | Score: 0.987 | Match: 1\n"
     ]
    },
    {
     "name": "stderr",
     "output_type": "stream",
     "text": [
      " 28%|██▊       | 70/250 [03:38<10:22,  3.46s/it]"
     ]
    },
    {
     "name": "stdout",
     "output_type": "stream",
     "text": [
      "Real: 094_frontal | Pred: 004_frontal | Score: 0.551 | Match: 0\n",
      "Real: 004_frontal | Pred: 004_frontal | Score: 0.991 | Match: 1\n",
      "Real: Pete_Sampras | Pred: Pete_Sampras | Score: 0.542 | Match: 1\n",
      "Real: Brian_Schneider | Pred: Brian_Schneider | Score: 0.437 | Match: 1\n",
      "Real: Bob_Guccione | Pred: Bob_Guccione | Score: 0.850 | Match: 1\n"
     ]
    },
    {
     "name": "stderr",
     "output_type": "stream",
     "text": [
      " 28%|██▊       | 71/250 [03:42<10:14,  3.43s/it]"
     ]
    },
    {
     "name": "stdout",
     "output_type": "stream",
     "text": [
      "Real: Eric_Ryan_Donnelly | Pred: Eric_Ryan_Donnelly | Score: 0.997 | Match: 1\n",
      "Real: Ciro_Gomes | Pred: Ciro_Gomes | Score: 0.999 | Match: 1\n",
      "Real: Lindsay_Benko | Pred: Eric_Ryan_Donnelly | Score: 0.647 | Match: 0\n",
      "Real: Slobodan_Milosevic | Pred: Ciro_Gomes | Score: 0.457 | Match: 0\n",
      "Real: 094_frontal | Pred: Eric_Ryan_Donnelly | Score: 0.433 | Match: 0\n"
     ]
    },
    {
     "name": "stderr",
     "output_type": "stream",
     "text": [
      " 29%|██▉       | 72/250 [03:45<10:19,  3.48s/it]"
     ]
    },
    {
     "name": "stdout",
     "output_type": "stream",
     "text": [
      "Real: Jeanne_Moreau | Pred: Jeanne_Moreau | Score: 0.875 | Match: 1\n",
      "Real: 021_frontal | Pred: 021_frontal | Score: 1.000 | Match: 1\n",
      "Real: Juan_Carlos_Ortega | Pred: Juan_Carlos_Ortega | Score: 0.892 | Match: 1\n",
      "Real: Greg_Rusedski | Pred: Greg_Rusedski | Score: 0.978 | Match: 1\n",
      "Real: Paul_Li_Calsi | Pred: Paul_Li_Calsi | Score: 1.000 | Match: 1\n"
     ]
    },
    {
     "name": "stderr",
     "output_type": "stream",
     "text": [
      " 29%|██▉       | 73/250 [03:49<10:50,  3.67s/it]"
     ]
    },
    {
     "name": "stdout",
     "output_type": "stream",
     "text": [
      "Real: Mark_Martin | Pred: Mark_Martin | Score: 0.986 | Match: 1\n",
      "Real: 030_frontal | Pred: 030_frontal | Score: 1.000 | Match: 1\n",
      "Real: Ilan_Ramon | Pred: Ilan_Ramon | Score: 0.988 | Match: 1\n",
      "Real: Mike_Sweeney | Pred: Mike_Sweeney | Score: 0.977 | Match: 1\n",
      "Real: Melinda_Czink | Pred: Melinda_Czink | Score: 0.991 | Match: 1\n"
     ]
    },
    {
     "name": "stderr",
     "output_type": "stream",
     "text": [
      " 30%|██▉       | 74/250 [03:54<11:39,  3.98s/it]"
     ]
    },
    {
     "name": "stdout",
     "output_type": "stream",
     "text": [
      "Real: 004_frontal | Pred: 004_frontal | Score: 1.000 | Match: 1\n",
      "Real: Alonzo_Mourning | Pred: Alonzo_Mourning | Score: 0.977 | Match: 1\n",
      "Real: Ted_Williams | Pred: Ted_Williams | Score: 0.991 | Match: 1\n",
      "Real: Stuart_Whitman | Pred: Stuart_Whitman | Score: 0.997 | Match: 1\n",
      "Real: Kelli_White | Pred: Kelli_White | Score: 0.990 | Match: 1\n"
     ]
    },
    {
     "name": "stderr",
     "output_type": "stream",
     "text": [
      " 30%|███       | 75/250 [03:58<11:37,  3.98s/it]"
     ]
    },
    {
     "name": "stdout",
     "output_type": "stream",
     "text": [
      "Real: Dave_Williams | Pred: Dave_Williams | Score: 0.698 | Match: 1\n",
      "Real: Karl-Heinz_Rummenigge | Pred: Karl-Heinz_Rummenigge | Score: 0.834 | Match: 1\n",
      "Real: 075_frontal | Pred: 075_frontal | Score: 0.998 | Match: 1\n",
      "Real: Wayne_Ferreira | Pred: Wayne_Ferreira | Score: 0.793 | Match: 1\n",
      "Real: Robby_Ginepri | Pred: Robby_Ginepri | Score: 0.950 | Match: 1\n"
     ]
    },
    {
     "name": "stderr",
     "output_type": "stream",
     "text": [
      " 30%|███       | 76/250 [04:02<11:05,  3.83s/it]"
     ]
    },
    {
     "name": "stdout",
     "output_type": "stream",
     "text": [
      "Real: Lucy_Liu | Pred: Steve_Case | Score: 0.580 | Match: 0\n",
      "Real: 007_frontal | Pred: 007_frontal | Score: 0.998 | Match: 1\n",
      "Real: Alexandra_Pelosi | Pred: Alexandra_Pelosi | Score: 0.697 | Match: 1\n",
      "Real: Steve_Case | Pred: Steve_Case | Score: 0.896 | Match: 1\n",
      "Real: Jacqueline_Obradors | Pred: Jacqueline_Obradors | Score: 0.762 | Match: 1\n"
     ]
    },
    {
     "name": "stderr",
     "output_type": "stream",
     "text": [
      " 31%|███       | 77/250 [04:07<12:02,  4.18s/it]"
     ]
    },
    {
     "name": "stdout",
     "output_type": "stream",
     "text": [
      "Real: Larry_Ralston | Pred: Larry_Ralston | Score: 0.866 | Match: 1\n",
      "Real: Jodie_Henry | Pred: Jodie_Henry | Score: 0.768 | Match: 1\n",
      "Real: Louis_Van_Gaal | Pred: Louis_Van_Gaal | Score: 0.932 | Match: 1\n",
      "Real: 030_frontal | Pred: 030_frontal | Score: 0.984 | Match: 1\n",
      "Real: 072_frontal | Pred: 030_frontal | Score: 0.868 | Match: 0\n"
     ]
    },
    {
     "name": "stderr",
     "output_type": "stream",
     "text": [
      " 31%|███       | 78/250 [04:11<11:52,  4.14s/it]"
     ]
    },
    {
     "name": "stdout",
     "output_type": "stream",
     "text": [
      "Real: 026_frontal | Pred: 026_frontal | Score: 1.000 | Match: 1\n",
      "Real: Ed_Case | Pred: Ed_Case | Score: 0.912 | Match: 1\n",
      "Real: Billy_Beane | Pred: Billy_Beane | Score: 0.960 | Match: 1\n",
      "Real: Tono_Suratman | Pred: Tono_Suratman | Score: 0.978 | Match: 1\n",
      "Real: Moshe_Katsav | Pred: 026_frontal | Score: 0.876 | Match: 0\n"
     ]
    },
    {
     "name": "stderr",
     "output_type": "stream",
     "text": [
      " 32%|███▏      | 79/250 [04:13<10:23,  3.65s/it]"
     ]
    },
    {
     "name": "stdout",
     "output_type": "stream",
     "text": [
      "Real: Manfred_Stolpe | Pred: Donald_Pettit | Score: 0.934 | Match: 0\n",
      "Real: Donald_Pettit | Pred: Donald_Pettit | Score: 0.969 | Match: 1\n",
      "Real: Justin_Wilson | Pred: Donald_Pettit | Score: 0.913 | Match: 0\n",
      "Real: Nadine_Vinzens | Pred: Nadine_Vinzens | Score: 1.000 | Match: 1\n",
      "Real: Joan_Dangerfield | Pred: Joan_Dangerfield | Score: 0.979 | Match: 1\n"
     ]
    },
    {
     "name": "stderr",
     "output_type": "stream",
     "text": [
      " 32%|███▏      | 80/250 [04:17<10:42,  3.78s/it]"
     ]
    },
    {
     "name": "stdout",
     "output_type": "stream",
     "text": [
      "Real: Roger_Mahony | Pred: Douglas_Paal | Score: 0.610 | Match: 0\n",
      "Real: 096_frontal | Pred: 096_frontal | Score: 1.000 | Match: 1\n",
      "Real: Alastair_Johnston | Pred: Alastair_Johnston | Score: 0.999 | Match: 1\n",
      "Real: Douglas_Paal | Pred: Douglas_Paal | Score: 0.821 | Match: 1\n",
      "Real: Al_Gore | Pred: Douglas_Paal | Score: 0.609 | Match: 0\n"
     ]
    },
    {
     "name": "stderr",
     "output_type": "stream",
     "text": [
      " 32%|███▏      | 81/250 [04:20<09:58,  3.54s/it]"
     ]
    },
    {
     "name": "stdout",
     "output_type": "stream",
     "text": [
      "Real: Jason_Gardner | Pred: Jason_Gardner | Score: 0.675 | Match: 1\n",
      "Real: Raoul_Ruiz | Pred: Raoul_Ruiz | Score: 0.656 | Match: 1\n",
      "Real: Laurence_Fishburne | Pred: Laurence_Fishburne | Score: 0.759 | Match: 1\n",
      "Real: Guillaume_Soro | Pred: Laurence_Fishburne | Score: 0.625 | Match: 0\n",
      "Real: Andrea_Kiser | Pred: Andrea_Kiser | Score: 0.961 | Match: 1\n"
     ]
    },
    {
     "name": "stderr",
     "output_type": "stream",
     "text": [
      " 33%|███▎      | 82/250 [04:23<09:18,  3.32s/it]"
     ]
    },
    {
     "name": "stdout",
     "output_type": "stream",
     "text": [
      "Real: Daniel_Radcliffe | Pred: Daniel_Radcliffe | Score: 0.949 | Match: 1\n",
      "Real: Gene_Sauers | Pred: Gene_Sauers | Score: 0.980 | Match: 1\n",
      "Real: Carson_Palmer | Pred: Elias_Attallah | Score: 0.816 | Match: 0\n",
      "Real: Elias_Attallah | Pred: Elias_Attallah | Score: 1.000 | Match: 1\n",
      "Real: Karen_Sharpe_Kramer | Pred: Karen_Sharpe_Kramer | Score: 0.887 | Match: 1\n"
     ]
    },
    {
     "name": "stderr",
     "output_type": "stream",
     "text": [
      " 33%|███▎      | 83/250 [04:27<09:31,  3.42s/it]"
     ]
    },
    {
     "name": "stdout",
     "output_type": "stream",
     "text": [
      "Real: Tom_Welch | Pred: Tom_Welch | Score: 0.964 | Match: 1\n",
      "Real: Flor_Montulo | Pred: Tom_Welch | Score: 0.725 | Match: 0\n",
      "Real: 048_frontal | Pred: 048_frontal | Score: 1.000 | Match: 1\n",
      "Real: Conchita_Martinez | Pred: Conchita_Martinez | Score: 1.000 | Match: 1\n",
      "Real: Tom_Lantos | Pred: Conchita_Martinez | Score: 0.895 | Match: 0\n"
     ]
    },
    {
     "name": "stderr",
     "output_type": "stream",
     "text": [
      " 34%|███▎      | 84/250 [04:30<09:31,  3.44s/it]"
     ]
    },
    {
     "name": "stdout",
     "output_type": "stream",
     "text": [
      "Real: Vinnie_Jones | Pred: Michael_Donovan | Score: 0.634 | Match: 0\n",
      "Real: 007_frontal | Pred: 007_frontal | Score: 1.000 | Match: 1\n",
      "Real: Guy_Ritchie | Pred: Guy_Ritchie | Score: 0.999 | Match: 1\n",
      "Real: Karin_Pilsaeter | Pred: Karin_Pilsaeter | Score: 0.899 | Match: 1\n",
      "Real: Michael_Donovan | Pred: Michael_Donovan | Score: 0.961 | Match: 1\n"
     ]
    },
    {
     "name": "stderr",
     "output_type": "stream",
     "text": [
      " 34%|███▍      | 85/250 [04:33<08:54,  3.24s/it]"
     ]
    },
    {
     "name": "stdout",
     "output_type": "stream",
     "text": [
      "Real: Atsushi_Sato | Pred: Atsushi_Sato | Score: 0.547 | Match: 1\n",
      "Real: Wang_Nan | Pred: Wang_Nan | Score: 1.000 | Match: 1\n",
      "Real: Jose_Theodore | Pred: Atsushi_Sato | Score: 0.558 | Match: 0\n",
      "Real: Mike_Smith | Pred: Mike_Smith | Score: 0.572 | Match: 1\n",
      "Real: Billy_Tibbets | Pred: Billy_Tibbets | Score: 0.433 | Match: 1\n"
     ]
    },
    {
     "name": "stderr",
     "output_type": "stream",
     "text": [
      " 34%|███▍      | 86/250 [04:37<09:14,  3.38s/it]"
     ]
    },
    {
     "name": "stdout",
     "output_type": "stream",
     "text": [
      "Real: Abdullatif_Sener | Pred: Sophia_Loren | Score: 0.489 | Match: 0\n",
      "Real: Sophia_Loren | Pred: Lynne_Thigpen | Score: 0.639 | Match: 0\n",
      "Real: Leon_Silver | Pred: Leon_Silver | Score: 0.984 | Match: 1\n",
      "Real: 028_frontal | Pred: 028_frontal | Score: 1.000 | Match: 1\n",
      "Real: Lynne_Thigpen | Pred: Lynne_Thigpen | Score: 0.591 | Match: 1\n"
     ]
    },
    {
     "name": "stderr",
     "output_type": "stream",
     "text": [
      " 35%|███▍      | 87/250 [04:41<09:41,  3.57s/it]"
     ]
    },
    {
     "name": "stdout",
     "output_type": "stream",
     "text": [
      "Real: John_Edwards | Pred: 030_frontal | Score: 0.991 | Match: 0\n",
      "Real: Paula_Prentiss | Pred: Paula_Prentiss | Score: 0.937 | Match: 1\n",
      "Real: Iran_Brown | Pred: Iran_Brown | Score: 0.932 | Match: 1\n",
      "Real: Mary_Descenza | Pred: Mary_Descenza | Score: 0.888 | Match: 1\n",
      "Real: 030_frontal | Pred: 030_frontal | Score: 1.000 | Match: 1\n"
     ]
    },
    {
     "name": "stderr",
     "output_type": "stream",
     "text": [
      " 35%|███▌      | 88/250 [04:44<09:41,  3.59s/it]"
     ]
    },
    {
     "name": "stdout",
     "output_type": "stream",
     "text": [
      "Real: Debra_Rose | Pred: Debra_Rose | Score: 0.791 | Match: 1\n",
      "Real: Benjamin_Netanyahu | Pred: James_Sensenbrenner | Score: 0.620 | Match: 0\n",
      "Real: James_Sensenbrenner | Pred: James_Sensenbrenner | Score: 0.920 | Match: 1\n",
      "Real: Steve_Blake | Pred: Steve_Blake | Score: 0.784 | Match: 1\n",
      "Real: 025_frontal | Pred: 025_frontal | Score: 1.000 | Match: 1\n"
     ]
    },
    {
     "name": "stderr",
     "output_type": "stream",
     "text": [
      " 36%|███▌      | 89/250 [04:47<08:32,  3.18s/it]"
     ]
    },
    {
     "name": "stdout",
     "output_type": "stream",
     "text": [
      "Real: Andy_North | Pred: Andy_North | Score: 0.735 | Match: 1\n",
      "Real: Jason_Gardner | Pred: Jason_Gardner | Score: 0.859 | Match: 1\n",
      "Real: Nancy_Greenlaw | Pred: Nancy_Greenlaw | Score: 1.000 | Match: 1\n",
      "Real: Guillermo_Ruiz_Polanco | Pred: Guillermo_Ruiz_Polanco | Score: 0.928 | Match: 1\n",
      "Real: Ilan_Ramon | Pred: Ilan_Ramon | Score: 0.795 | Match: 1\n"
     ]
    },
    {
     "name": "stderr",
     "output_type": "stream",
     "text": [
      " 36%|███▌      | 90/250 [04:50<08:23,  3.15s/it]"
     ]
    },
    {
     "name": "stdout",
     "output_type": "stream",
     "text": [
      "Real: Robert_Duvall | Pred: Robert_Duvall | Score: 0.832 | Match: 1\n",
      "Real: Eric_Ryan_Donnelly | Pred: Eric_Ryan_Donnelly | Score: 1.000 | Match: 1\n",
      "Real: Diane_Lane | Pred: Diane_Lane | Score: 0.966 | Match: 1\n",
      "Real: Oscar_De_La_Hoya | Pred: Diane_Lane | Score: 0.866 | Match: 0\n",
      "Real: Jane_Leeves | Pred: Jane_Leeves | Score: 0.979 | Match: 1\n"
     ]
    },
    {
     "name": "stderr",
     "output_type": "stream",
     "text": [
      " 36%|███▋      | 91/250 [04:53<08:41,  3.28s/it]"
     ]
    },
    {
     "name": "stdout",
     "output_type": "stream",
     "text": [
      "Real: Abraham_Foxman | Pred: 085_frontal | Score: 0.760 | Match: 0\n",
      "Real: Eli_Rosenbaum | Pred: Eli_Rosenbaum | Score: 0.857 | Match: 1\n",
      "Real: Mike_Smith | Pred: Mike_Smith | Score: 0.988 | Match: 1\n",
      "Real: Barry_Nakell | Pred: Barry_Nakell | Score: 0.999 | Match: 1\n",
      "Real: 085_frontal | Pred: 085_frontal | Score: 1.000 | Match: 1\n"
     ]
    },
    {
     "name": "stderr",
     "output_type": "stream",
     "text": [
      " 37%|███▋      | 92/250 [04:55<07:50,  2.98s/it]"
     ]
    },
    {
     "name": "stdout",
     "output_type": "stream",
     "text": [
      "Real: Scott_McNealy | Pred: Scott_McNealy | Score: 0.720 | Match: 1\n",
      "Real: Raymond_Arthurs | Pred: Raymond_Arthurs | Score: 0.999 | Match: 1\n",
      "Real: Alberto_Ruiz_Gallardon | Pred: Alberto_Ruiz_Gallardon | Score: 0.954 | Match: 1\n",
      "Real: Corinna_Harfouch | Pred: Corinna_Harfouch | Score: 0.634 | Match: 1\n",
      "Real: Hermando_Harton | Pred: Hermando_Harton | Score: 0.936 | Match: 1\n"
     ]
    },
    {
     "name": "stderr",
     "output_type": "stream",
     "text": [
      " 37%|███▋      | 93/250 [04:58<07:12,  2.76s/it]"
     ]
    },
    {
     "name": "stdout",
     "output_type": "stream",
     "text": [
      "Real: John_Gruden | Pred: John_Gruden | Score: 0.485 | Match: 1\n",
      "Real: Hans_Peter_Briegel | Pred: Hans_Peter_Briegel | Score: 0.598 | Match: 1\n",
      "Real: Kate_Starbird | Pred: Kate_Starbird | Score: 0.994 | Match: 1\n",
      "Real: Noer_Moeis | Pred: John_Gruden | Score: 0.636 | Match: 0\n",
      "Real: John_Franco | Pred: John_Franco | Score: 0.981 | Match: 1\n"
     ]
    },
    {
     "name": "stderr",
     "output_type": "stream",
     "text": [
      " 38%|███▊      | 94/250 [05:02<08:10,  3.14s/it]"
     ]
    },
    {
     "name": "stdout",
     "output_type": "stream",
     "text": [
      "Real: Sandra_Banning | Pred: Sandra_Banning | Score: 0.913 | Match: 1\n",
      "Real: Nadia_Forte | Pred: Nadia_Forte | Score: 0.843 | Match: 1\n",
      "Real: Al_Gore | Pred: Leon_Silver | Score: 0.868 | Match: 0\n",
      "Real: 019_frontal | Pred: 019_frontal | Score: 0.999 | Match: 1\n",
      "Real: Leon_Silver | Pred: Leon_Silver | Score: 0.829 | Match: 1\n"
     ]
    },
    {
     "name": "stderr",
     "output_type": "stream",
     "text": [
      " 38%|███▊      | 95/250 [05:04<07:37,  2.95s/it]"
     ]
    },
    {
     "name": "stdout",
     "output_type": "stream",
     "text": [
      "Real: Juan_Ignacio_Chela | Pred: Juan_Ignacio_Chela | Score: 0.787 | Match: 1\n",
      "Real: Eva_Mendes | Pred: Eva_Mendes | Score: 0.888 | Match: 1\n",
      "Real: Kristin_Davis | Pred: Kristin_Davis | Score: 0.654 | Match: 1\n",
      "Real: Charles_Lebois | Pred: Charles_Lebois | Score: 1.000 | Match: 1\n",
      "Real: Patricia_Hearst | Pred: Patricia_Hearst | Score: 0.953 | Match: 1\n"
     ]
    },
    {
     "name": "stderr",
     "output_type": "stream",
     "text": [
      " 38%|███▊      | 96/250 [05:06<07:02,  2.74s/it]"
     ]
    },
    {
     "name": "stdout",
     "output_type": "stream",
     "text": [
      "Real: Christine_Arron | Pred: Christine_Arron | Score: 0.803 | Match: 1\n",
      "Real: Shoshannah_Stern | Pred: Shoshannah_Stern | Score: 0.691 | Match: 1\n",
      "Real: Matt_Siebrandt | Pred: Matt_Siebrandt | Score: 0.984 | Match: 1\n",
      "Real: Marcos_Daniel_Jimenez | Pred: Marcos_Daniel_Jimenez | Score: 0.577 | Match: 1\n",
      "Real: Mufti_Mohammad_Syed | Pred: Mufti_Mohammad_Syed | Score: 0.876 | Match: 1\n"
     ]
    },
    {
     "name": "stderr",
     "output_type": "stream",
     "text": [
      " 39%|███▉      | 97/250 [05:10<07:44,  3.04s/it]"
     ]
    },
    {
     "name": "stdout",
     "output_type": "stream",
     "text": [
      "Real: Scott_Wallach | Pred: Scott_Wallach | Score: 0.998 | Match: 1\n",
      "Real: Keith_Tyson | Pred: Keith_Tyson | Score: 0.998 | Match: 1\n",
      "Real: Matthew_Ouimet | Pred: Matthew_Ouimet | Score: 0.856 | Match: 1\n",
      "Real: 025_frontal | Pred: 025_frontal | Score: 1.000 | Match: 1\n",
      "Real: Leo_Ramirez | Pred: Leo_Ramirez | Score: 0.989 | Match: 1\n"
     ]
    },
    {
     "name": "stderr",
     "output_type": "stream",
     "text": [
      " 39%|███▉      | 98/250 [05:15<08:57,  3.54s/it]"
     ]
    },
    {
     "name": "stdout",
     "output_type": "stream",
     "text": [
      "Real: Elgin_Baylor | Pred: Elgin_Baylor | Score: 0.913 | Match: 1\n",
      "Real: 115_frontal | Pred: 115_frontal | Score: 1.000 | Match: 1\n",
      "Real: Jim_Paxson | Pred: Jim_Paxson | Score: 0.948 | Match: 1\n",
      "Real: 082_frontal | Pred: 082_frontal | Score: 0.999 | Match: 1\n",
      "Real: Rogerio_Romero | Pred: Rogerio_Romero | Score: 0.992 | Match: 1\n"
     ]
    },
    {
     "name": "stderr",
     "output_type": "stream",
     "text": [
      " 40%|███▉      | 99/250 [05:17<07:52,  3.13s/it]"
     ]
    },
    {
     "name": "stdout",
     "output_type": "stream",
     "text": [
      "Real: Michelle_Hofland | Pred: Michelle_Hofland | Score: 1.000 | Match: 1\n",
      "Real: Kenneth_Evans | Pred: Kenneth_Evans | Score: 0.940 | Match: 1\n",
      "Real: Ray_Bradbury | Pred: Ray_Bradbury | Score: 0.995 | Match: 1\n",
      "Real: Sandra_Milo | Pred: Sandra_Milo | Score: 0.988 | Match: 1\n",
      "Real: Connie_Chung | Pred: Connie_Chung | Score: 0.769 | Match: 1\n"
     ]
    },
    {
     "name": "stderr",
     "output_type": "stream",
     "text": [
      " 40%|████      | 100/250 [05:20<07:24,  2.96s/it]"
     ]
    },
    {
     "name": "stdout",
     "output_type": "stream",
     "text": [
      "Real: Stuart_Whitman | Pred: Stuart_Whitman | Score: 0.995 | Match: 1\n",
      "Real: Carlos_Ortega | Pred: Carlos_Ortega | Score: 0.999 | Match: 1\n",
      "Real: Marian_Dolan | Pred: Marian_Dolan | Score: 0.820 | Match: 1\n",
      "Real: Jorge_Moreno | Pred: Jorge_Moreno | Score: 0.985 | Match: 1\n",
      "Real: Faye_Wong | Pred: Faye_Wong | Score: 0.640 | Match: 1\n"
     ]
    },
    {
     "name": "stderr",
     "output_type": "stream",
     "text": [
      " 40%|████      | 101/250 [05:22<06:50,  2.76s/it]"
     ]
    },
    {
     "name": "stdout",
     "output_type": "stream",
     "text": [
      "Real: Jeong_Se-hyun | Pred: Allen_Rock | Score: 0.760 | Match: 0\n",
      "Real: Stellan_Skarsgard | Pred: Stellan_Skarsgard | Score: 0.981 | Match: 1\n",
      "Real: Suzanne_Mubarak | Pred: Suzanne_Mubarak | Score: 0.983 | Match: 1\n",
      "Real: Ted_Christopher | Pred: Ted_Christopher | Score: 0.883 | Match: 1\n",
      "Real: Allen_Rock | Pred: Allen_Rock | Score: 0.855 | Match: 1\n"
     ]
    },
    {
     "name": "stderr",
     "output_type": "stream",
     "text": [
      " 41%|████      | 102/250 [05:25<07:10,  2.91s/it]"
     ]
    },
    {
     "name": "stdout",
     "output_type": "stream",
     "text": [
      "Real: Roger_Mahony | Pred: Roger_Mahony | Score: 0.860 | Match: 1\n",
      "Real: Lucy_Liu | Pred: Roger_Mahony | Score: 0.843 | Match: 0\n",
      "Real: Brandon_Knight | Pred: Brandon_Knight | Score: 0.950 | Match: 1\n",
      "Real: Chang_Jae_On | Pred: Chang_Jae_On | Score: 0.975 | Match: 1\n",
      "Real: 123_frontal | Pred: 123_frontal | Score: 1.000 | Match: 1\n"
     ]
    },
    {
     "name": "stderr",
     "output_type": "stream",
     "text": [
      " 41%|████      | 103/250 [05:29<07:55,  3.24s/it]"
     ]
    },
    {
     "name": "stdout",
     "output_type": "stream",
     "text": [
      "Real: Tom_Glavine | Pred: Tom_Glavine | Score: 0.955 | Match: 1\n",
      "Real: Billy_Beane | Pred: Billy_Beane | Score: 0.969 | Match: 1\n",
      "Real: Troy_Jenkins | Pred: Troy_Jenkins | Score: 0.905 | Match: 1\n",
      "Real: Narendra_Modi | Pred: Narendra_Modi | Score: 0.999 | Match: 1\n",
      "Real: 068_frontal | Pred: 068_frontal | Score: 1.000 | Match: 1\n"
     ]
    },
    {
     "name": "stderr",
     "output_type": "stream",
     "text": [
      " 42%|████▏     | 104/250 [05:32<07:21,  3.02s/it]"
     ]
    },
    {
     "name": "stdout",
     "output_type": "stream",
     "text": [
      "Real: Michael_Chang | Pred: Maryn_McKenna | Score: 0.690 | Match: 0\n",
      "Real: Maryn_McKenna | Pred: Maryn_McKenna | Score: 0.735 | Match: 1\n",
      "Real: Martin_Cauchon | Pred: Martin_Cauchon | Score: 0.608 | Match: 1\n",
      "Real: Pernilla_Bjorn | Pred: Pernilla_Bjorn | Score: 0.999 | Match: 1\n",
      "Real: Alexandra_Pelosi | Pred: Alexandra_Pelosi | Score: 0.880 | Match: 1\n"
     ]
    },
    {
     "name": "stderr",
     "output_type": "stream",
     "text": [
      " 42%|████▏     | 105/250 [05:34<06:44,  2.79s/it]"
     ]
    },
    {
     "name": "stdout",
     "output_type": "stream",
     "text": [
      "Real: Andy_Warhol | Pred: Andy_Warhol | Score: 0.995 | Match: 1\n",
      "Real: Eva_Mendes | Pred: Eva_Mendes | Score: 0.562 | Match: 1\n",
      "Real: Hwang_Doo-yun | Pred: Hwang_Doo-yun | Score: 0.542 | Match: 1\n",
      "Real: Linda_Amicangioli | Pred: Linda_Amicangioli | Score: 0.761 | Match: 1\n",
      "Real: Isaiah_Washington | Pred: Isaiah_Washington | Score: 0.876 | Match: 1\n"
     ]
    },
    {
     "name": "stderr",
     "output_type": "stream",
     "text": [
      " 42%|████▏     | 106/250 [05:38<07:52,  3.28s/it]"
     ]
    },
    {
     "name": "stdout",
     "output_type": "stream",
     "text": [
      "Real: Shireen_Amir_Begum | Pred: Shireen_Amir_Begum | Score: 0.963 | Match: 1\n",
      "Real: 027_frontal | Pred: 027_frontal | Score: 0.999 | Match: 1\n",
      "Real: Moshe_Katsav | Pred: 027_frontal | Score: 0.990 | Match: 0\n",
      "Real: Li_Peng | Pred: 027_frontal | Score: 0.814 | Match: 0\n",
      "Real: Benicio_Del_Toro | Pred: Benicio_Del_Toro | Score: 0.995 | Match: 1\n"
     ]
    },
    {
     "name": "stderr",
     "output_type": "stream",
     "text": [
      " 43%|████▎     | 107/250 [05:44<09:14,  3.88s/it]"
     ]
    },
    {
     "name": "stdout",
     "output_type": "stream",
     "text": [
      "Real: Juanes | Pred: 059_frontal | Score: 0.770 | Match: 0\n",
      "Real: Jolanta_Kwasniewski | Pred: Lyle_Vanclief | Score: 0.437 | Match: 0\n",
      "Real: 059_frontal | Pred: 059_frontal | Score: 0.994 | Match: 1\n",
      "Real: Tom_Ridge | Pred: Lyle_Vanclief | Score: 0.605 | Match: 0\n",
      "Real: Lyle_Vanclief | Pred: Lyle_Vanclief | Score: 0.978 | Match: 1\n"
     ]
    },
    {
     "name": "stderr",
     "output_type": "stream",
     "text": [
      " 43%|████▎     | 108/250 [05:50<11:06,  4.70s/it]"
     ]
    },
    {
     "name": "stdout",
     "output_type": "stream",
     "text": [
      "Real: 025_frontal | Pred: 025_frontal | Score: 1.000 | Match: 1\n",
      "Real: Maha_Habib | Pred: Maha_Habib | Score: 1.000 | Match: 1\n",
      "Real: Tom_Hanks | Pred: Russell_Crowe | Score: 0.433 | Match: 0\n",
      "Real: Russell_Crowe | Pred: 025_frontal | Score: 0.666 | Match: 0\n",
      "Real: John_Connolly | Pred: John_Connolly | Score: 0.601 | Match: 1\n"
     ]
    },
    {
     "name": "stderr",
     "output_type": "stream",
     "text": [
      " 44%|████▎     | 109/250 [06:05<18:13,  7.75s/it]"
     ]
    },
    {
     "name": "stdout",
     "output_type": "stream",
     "text": [
      "Real: Princess_Anne | Pred: Princess_Anne | Score: 0.974 | Match: 1\n",
      "Real: Rohinton_Mistry | Pred: 087_frontal | Score: 0.676 | Match: 0\n",
      "Real: Brendan_Hansen | Pred: 087_frontal | Score: 0.751 | Match: 0\n",
      "Real: 087_frontal | Pred: 087_frontal | Score: 0.885 | Match: 1\n",
      "Real: Sheila_Taormina | Pred: Sheila_Taormina | Score: 0.991 | Match: 1\n"
     ]
    },
    {
     "name": "stderr",
     "output_type": "stream",
     "text": [
      " 44%|████▍     | 110/250 [06:12<17:15,  7.40s/it]"
     ]
    },
    {
     "name": "stdout",
     "output_type": "stream",
     "text": [
      "Real: Myung_Yang | Pred: Myung_Yang | Score: 0.880 | Match: 1\n",
      "Real: Carol_Burnett | Pred: Carol_Burnett | Score: 0.988 | Match: 1\n",
      "Real: 067_frontal | Pred: 067_frontal | Score: 1.000 | Match: 1\n",
      "Real: Flor_Montulo | Pred: Carol_Burnett | Score: 0.708 | Match: 0\n",
      "Real: Anne_ONeil | Pred: Anne_ONeil | Score: 0.998 | Match: 1\n"
     ]
    },
    {
     "name": "stderr",
     "output_type": "stream",
     "text": [
      " 44%|████▍     | 111/250 [06:15<14:00,  6.04s/it]"
     ]
    },
    {
     "name": "stdout",
     "output_type": "stream",
     "text": [
      "Real: Floyd_Mayweather | Pred: Floyd_Mayweather | Score: 0.800 | Match: 1\n",
      "Real: Allen_Rock | Pred: Allen_Rock | Score: 0.856 | Match: 1\n",
      "Real: Kristin_Davis | Pred: Kristin_Davis | Score: 0.677 | Match: 1\n",
      "Real: Brandon_Knight | Pred: Brandon_Knight | Score: 0.958 | Match: 1\n",
      "Real: Edward_Belvin | Pred: Edward_Belvin | Score: 0.651 | Match: 1\n"
     ]
    },
    {
     "name": "stderr",
     "output_type": "stream",
     "text": [
      " 45%|████▍     | 112/250 [06:21<13:49,  6.01s/it]"
     ]
    },
    {
     "name": "stdout",
     "output_type": "stream",
     "text": [
      "Real: Hun_Sen | Pred: Marwan_Barghouthi | Score: 0.710 | Match: 0\n",
      "Real: 025_frontal | Pred: 025_frontal | Score: 0.511 | Match: 1\n",
      "Real: Ray_Liotta | Pred: Ray_Liotta | Score: 0.935 | Match: 1\n",
      "Real: 010_frontal | Pred: 010_frontal | Score: 0.667 | Match: 1\n",
      "Real: Marwan_Barghouthi | Pred: Hun_Sen | Score: 0.521 | Match: 0\n"
     ]
    },
    {
     "name": "stderr",
     "output_type": "stream",
     "text": [
      " 45%|████▌     | 113/250 [06:23<11:20,  4.97s/it]"
     ]
    },
    {
     "name": "stdout",
     "output_type": "stream",
     "text": [
      "Real: James_Meredeth | Pred: James_Meredeth | Score: 0.548 | Match: 1\n",
      "Real: Seymour_Cassell | Pred: Seymour_Cassell | Score: 0.732 | Match: 1\n",
      "Real: Karin_Stoiber | Pred: Karin_Stoiber | Score: 0.902 | Match: 1\n",
      "Real: Joan_Dangerfield | Pred: Joan_Dangerfield | Score: 0.975 | Match: 1\n",
      "Real: Cassandra_Heise | Pred: Cassandra_Heise | Score: 0.514 | Match: 1\n"
     ]
    },
    {
     "name": "stderr",
     "output_type": "stream",
     "text": [
      " 46%|████▌     | 114/250 [06:27<10:45,  4.74s/it]"
     ]
    },
    {
     "name": "stdout",
     "output_type": "stream",
     "text": [
      "Real: Gregorio_Honasan | Pred: Gregorio_Honasan | Score: 0.999 | Match: 1\n",
      "Real: 057_frontal | Pred: 057_frontal | Score: 0.999 | Match: 1\n",
      "Real: Donald_Pettit | Pred: Donald_Pettit | Score: 0.961 | Match: 1\n",
      "Real: Teri_Files | Pred: Teri_Files | Score: 1.000 | Match: 1\n",
      "Real: Nick_Nolte | Pred: Donald_Pettit | Score: 0.973 | Match: 0\n"
     ]
    },
    {
     "name": "stderr",
     "output_type": "stream",
     "text": [
      " 46%|████▌     | 115/250 [06:32<10:30,  4.67s/it]"
     ]
    },
    {
     "name": "stdout",
     "output_type": "stream",
     "text": [
      "Real: Linus_Roache | Pred: 005_frontal | Score: 0.937 | Match: 0\n",
      "Real: Carson_Palmer | Pred: Linus_Roache | Score: 0.500 | Match: 0\n",
      "Real: Marco_Irizarry | Pred: Marco_Irizarry | Score: 0.981 | Match: 1\n",
      "Real: 005_frontal | Pred: 005_frontal | Score: 1.000 | Match: 1\n",
      "Real: Jason_Priestley | Pred: Jason_Priestley | Score: 0.995 | Match: 1\n"
     ]
    },
    {
     "name": "stderr",
     "output_type": "stream",
     "text": [
      " 46%|████▋     | 116/250 [06:36<10:03,  4.51s/it]"
     ]
    },
    {
     "name": "stdout",
     "output_type": "stream",
     "text": [
      "Real: Ahmad_Masood | Pred: Efrain_Rios_Montt | Score: 0.367 | Match: 0\n",
      "Real: Tyler_Grillo | Pred: Tyler_Grillo | Score: 0.914 | Match: 1\n",
      "Real: Efrain_Rios_Montt | Pred: 072_frontal | Score: 0.504 | Match: 0\n",
      "Real: Dai_Chul_Chyung | Pred: Dai_Chul_Chyung | Score: 0.810 | Match: 1\n",
      "Real: 072_frontal | Pred: 072_frontal | Score: 1.000 | Match: 1\n"
     ]
    },
    {
     "name": "stderr",
     "output_type": "stream",
     "text": [
      " 47%|████▋     | 117/250 [06:39<08:54,  4.02s/it]"
     ]
    },
    {
     "name": "stdout",
     "output_type": "stream",
     "text": [
      "Real: Emily_Mason | Pred: Emily_Mason | Score: 0.623 | Match: 1\n",
      "Real: Steve_Shiver | Pred: Steve_Shiver | Score: 0.827 | Match: 1\n",
      "Real: Natalie_Juniardi | Pred: Natalie_Juniardi | Score: 0.930 | Match: 1\n",
      "Real: Suzie_McConnell_Serio | Pred: Suzie_McConnell_Serio | Score: 0.790 | Match: 1\n",
      "Real: David_Hanson | Pred: David_Hanson | Score: 0.973 | Match: 1\n"
     ]
    },
    {
     "name": "stderr",
     "output_type": "stream",
     "text": [
      " 47%|████▋     | 118/250 [06:41<07:57,  3.62s/it]"
     ]
    },
    {
     "name": "stdout",
     "output_type": "stream",
     "text": [
      "Real: Robert_Douglas | Pred: Robert_Douglas | Score: 1.000 | Match: 1\n",
      "Real: Dion_Glover | Pred: Natalia_Verbeke | Score: 0.400 | Match: 0\n",
      "Real: Anette_Hosoi | Pred: Anette_Hosoi | Score: 0.998 | Match: 1\n",
      "Real: Natalia_Verbeke | Pred: Natalia_Verbeke | Score: 0.654 | Match: 1\n",
      "Real: Lela_Rochon | Pred: Lela_Rochon | Score: 0.556 | Match: 1\n"
     ]
    },
    {
     "name": "stderr",
     "output_type": "stream",
     "text": [
      " 48%|████▊     | 119/250 [06:44<07:25,  3.40s/it]"
     ]
    },
    {
     "name": "stdout",
     "output_type": "stream",
     "text": [
      "Real: Yang_Jianli | Pred: Yang_Jianli | Score: 0.990 | Match: 1\n",
      "Real: Sean_Astin | Pred: Sean_Astin | Score: 0.813 | Match: 1\n",
      "Real: Flor_Montulo | Pred: Sean_Astin | Score: 0.838 | Match: 0\n",
      "Real: Jose_Theodore | Pred: Jose_Theodore | Score: 0.567 | Match: 1\n",
      "Real: Robert_Pollack | Pred: Robert_Pollack | Score: 0.826 | Match: 1\n"
     ]
    },
    {
     "name": "stderr",
     "output_type": "stream",
     "text": [
      " 48%|████▊     | 120/250 [06:48<07:15,  3.35s/it]"
     ]
    },
    {
     "name": "stdout",
     "output_type": "stream",
     "text": [
      "Real: Hans_Leistritz | Pred: Hans_Leistritz | Score: 0.996 | Match: 1\n",
      "Real: Mohammed_Ashraf_Hafiz | Pred: Mohammed_Ashraf_Hafiz | Score: 0.890 | Match: 1\n",
      "Real: Irwan_Fadzi_Idris | Pred: Irwan_Fadzi_Idris | Score: 0.991 | Match: 1\n",
      "Real: Ray_Liotta | Pred: Ray_Liotta | Score: 0.905 | Match: 1\n",
      "Real: Frank_Schmoekel | Pred: Frank_Schmoekel | Score: 1.000 | Match: 1\n"
     ]
    },
    {
     "name": "stderr",
     "output_type": "stream",
     "text": [
      " 48%|████▊     | 121/250 [06:52<07:52,  3.66s/it]"
     ]
    },
    {
     "name": "stdout",
     "output_type": "stream",
     "text": [
      "Real: 026_frontal | Pred: 026_frontal | Score: 1.000 | Match: 1\n",
      "Real: Franco_Cangele | Pred: Franco_Cangele | Score: 0.671 | Match: 1\n",
      "Real: Charlton_Heston | Pred: Carlos_Lordkipanitse | Score: 0.527 | Match: 0\n",
      "Real: Tiger_Woods | Pred: Tiger_Woods | Score: 1.000 | Match: 1\n",
      "Real: Carlos_Lordkipanitse | Pred: Carlos_Lordkipanitse | Score: 0.844 | Match: 1\n"
     ]
    },
    {
     "name": "stderr",
     "output_type": "stream",
     "text": [
      " 49%|████▉     | 122/250 [06:55<07:28,  3.51s/it]"
     ]
    },
    {
     "name": "stdout",
     "output_type": "stream",
     "text": [
      "Real: Cristian_Barros | Pred: Win_Aung | Score: 0.564 | Match: 0\n",
      "Real: Jennifer_Furminger | Pred: Jennifer_Furminger | Score: 0.844 | Match: 1\n",
      "Real: Suzanne_Haik_Terrell | Pred: Suzanne_Haik_Terrell | Score: 1.000 | Match: 1\n",
      "Real: John_Kerry | Pred: Jennifer_Furminger | Score: 0.775 | Match: 0\n",
      "Real: Win_Aung | Pred: John_Kerry | Score: 0.327 | Match: 0\n"
     ]
    },
    {
     "name": "stderr",
     "output_type": "stream",
     "text": [
      " 49%|████▉     | 123/250 [07:02<09:47,  4.62s/it]"
     ]
    },
    {
     "name": "stdout",
     "output_type": "stream",
     "text": [
      "Real: Johnny_Depp | Pred: Jim_Leach | Score: 0.842 | Match: 0\n",
      "Real: Gabriel_Farhi | Pred: Gabriel_Farhi | Score: 0.950 | Match: 1\n",
      "Real: Jules_Asner | Pred: Jules_Asner | Score: 0.776 | Match: 1\n",
      "Real: Ryan_Goodman | Pred: Ryan_Goodman | Score: 0.845 | Match: 1\n",
      "Real: Jim_Leach | Pred: Gabriel_Farhi | Score: 0.628 | Match: 0\n"
     ]
    },
    {
     "name": "stderr",
     "output_type": "stream",
     "text": [
      " 50%|████▉     | 124/250 [07:07<09:29,  4.52s/it]"
     ]
    },
    {
     "name": "stdout",
     "output_type": "stream",
     "text": [
      "Real: Robert_Douglas | Pred: Robert_Douglas | Score: 0.780 | Match: 1\n",
      "Real: Valentino_Rossi | Pred: Valentino_Rossi | Score: 0.999 | Match: 1\n",
      "Real: Katie_Couric | Pred: Katie_Couric | Score: 0.960 | Match: 1\n",
      "Real: 032_frontal | Pred: 032_frontal | Score: 0.999 | Match: 1\n",
      "Real: John_Gruden | Pred: Robert_Douglas | Score: 0.746 | Match: 0\n"
     ]
    },
    {
     "name": "stderr",
     "output_type": "stream",
     "text": [
      " 50%|█████     | 125/250 [07:09<08:18,  3.99s/it]"
     ]
    },
    {
     "name": "stdout",
     "output_type": "stream",
     "text": [
      "Real: Janet_Napolitano | Pred: Janet_Napolitano | Score: 0.993 | Match: 1\n",
      "Real: Takenori_Kanzaki | Pred: Takenori_Kanzaki | Score: 0.987 | Match: 1\n",
      "Real: Nick_Nolte | Pred: Amy_Pascal | Score: 0.592 | Match: 0\n",
      "Real: Malik_Mahmud | Pred: Malik_Mahmud | Score: 0.996 | Match: 1\n",
      "Real: Amy_Pascal | Pred: Amy_Pascal | Score: 0.642 | Match: 1\n"
     ]
    },
    {
     "name": "stderr",
     "output_type": "stream",
     "text": [
      " 50%|█████     | 126/250 [07:12<07:26,  3.60s/it]"
     ]
    },
    {
     "name": "stdout",
     "output_type": "stream",
     "text": [
      "Real: Dan_Wheldon | Pred: Dan_Wheldon | Score: 0.994 | Match: 1\n",
      "Real: Drew_Barrymore | Pred: Andre_Bucher | Score: 0.513 | Match: 0\n",
      "Real: Andre_Bucher | Pred: Andre_Bucher | Score: 0.816 | Match: 1\n",
      "Real: Conchita_Martinez | Pred: Conchita_Martinez | Score: 0.980 | Match: 1\n",
      "Real: Steve_Case | Pred: Steve_Case | Score: 0.680 | Match: 1\n"
     ]
    },
    {
     "name": "stderr",
     "output_type": "stream",
     "text": [
      " 51%|█████     | 127/250 [07:16<07:40,  3.74s/it]"
     ]
    },
    {
     "name": "stdout",
     "output_type": "stream",
     "text": [
      "Real: Simona_Hradil | Pred: Simona_Hradil | Score: 0.961 | Match: 1\n",
      "Real: Oscar_Elias_Biscet | Pred: Oscar_Elias_Biscet | Score: 0.976 | Match: 1\n",
      "Real: Douglas_Faneuil | Pred: Douglas_Faneuil | Score: 0.575 | Match: 1\n",
      "Real: Mitchell_Crooks | Pred: Mitchell_Crooks | Score: 0.949 | Match: 1\n",
      "Real: 059_frontal | Pred: 059_frontal | Score: 0.982 | Match: 1\n"
     ]
    },
    {
     "name": "stderr",
     "output_type": "stream",
     "text": [
      " 51%|█████     | 128/250 [07:19<07:10,  3.53s/it]"
     ]
    },
    {
     "name": "stdout",
     "output_type": "stream",
     "text": [
      "Real: Chip_Ganassi | Pred: Chip_Ganassi | Score: 0.809 | Match: 1\n",
      "Real: Salma_Hayek | Pred: Chip_Ganassi | Score: 0.497 | Match: 0\n",
      "Real: Hidetoshi_Nakata | Pred: Hidetoshi_Nakata | Score: 1.000 | Match: 1\n",
      "Real: Karen_Allen | Pred: Karen_Allen | Score: 0.608 | Match: 1\n",
      "Real: Catherine_Deneuve | Pred: Catherine_Deneuve | Score: 0.936 | Match: 1\n"
     ]
    },
    {
     "name": "stderr",
     "output_type": "stream",
     "text": [
      " 52%|█████▏    | 129/250 [07:26<08:55,  4.42s/it]"
     ]
    },
    {
     "name": "stdout",
     "output_type": "stream",
     "text": [
      "Real: Chung_Mong-hun | Pred: Chung_Mong-hun | Score: 0.973 | Match: 1\n",
      "Real: Dai_Chul_Chyung | Pred: Dai_Chul_Chyung | Score: 0.877 | Match: 1\n",
      "Real: 093_frontal | Pred: 093_frontal | Score: 0.958 | Match: 1\n",
      "Real: 001_frontal | Pred: 001_frontal | Score: 0.990 | Match: 1\n",
      "Real: John_Gruden | Pred: John_Gruden | Score: 0.729 | Match: 1\n"
     ]
    },
    {
     "name": "stderr",
     "output_type": "stream",
     "text": [
      " 52%|█████▏    | 130/250 [07:30<08:42,  4.35s/it]"
     ]
    },
    {
     "name": "stdout",
     "output_type": "stream",
     "text": [
      "Real: David_Collenette | Pred: David_Collenette | Score: 0.890 | Match: 1\n",
      "Real: Tyler_Grillo | Pred: Tyler_Grillo | Score: 0.992 | Match: 1\n",
      "Real: 095_frontal | Pred: 095_frontal | Score: 1.000 | Match: 1\n",
      "Real: Ricardo_Lopez_Murphy | Pred: Ricardo_Lopez_Murphy | Score: 0.995 | Match: 1\n",
      "Real: Al_Gore | Pred: Tyler_Grillo | Score: 0.830 | Match: 0\n"
     ]
    },
    {
     "name": "stderr",
     "output_type": "stream",
     "text": [
      " 52%|█████▏    | 131/250 [07:33<08:11,  4.13s/it]"
     ]
    },
    {
     "name": "stdout",
     "output_type": "stream",
     "text": [
      "Real: Ana_Palacio | Pred: Isidro_Pastor | Score: 0.560 | Match: 0\n",
      "Real: John_Kerry | Pred: John_Kerry | Score: 0.491 | Match: 1\n",
      "Real: Isidro_Pastor | Pred: Isidro_Pastor | Score: 0.643 | Match: 1\n",
      "Real: Chante_Jawan_Mallard | Pred: Chante_Jawan_Mallard | Score: 0.995 | Match: 1\n",
      "Real: Myung_Yang | Pred: Myung_Yang | Score: 0.800 | Match: 1\n"
     ]
    },
    {
     "name": "stderr",
     "output_type": "stream",
     "text": [
      " 53%|█████▎    | 132/250 [07:38<08:12,  4.17s/it]"
     ]
    },
    {
     "name": "stdout",
     "output_type": "stream",
     "text": [
      "Real: Anette_Hosoi | Pred: Anette_Hosoi | Score: 0.998 | Match: 1\n",
      "Real: Robin_McGraw | Pred: Robin_McGraw | Score: 0.995 | Match: 1\n",
      "Real: Martin_Torrijos | Pred: 096_frontal | Score: 0.852 | Match: 0\n",
      "Real: 096_frontal | Pred: 096_frontal | Score: 0.994 | Match: 1\n",
      "Real: James_Lockhart | Pred: James_Lockhart | Score: 1.000 | Match: 1\n"
     ]
    },
    {
     "name": "stderr",
     "output_type": "stream",
     "text": [
      " 53%|█████▎    | 133/250 [07:42<07:59,  4.10s/it]"
     ]
    },
    {
     "name": "stdout",
     "output_type": "stream",
     "text": [
      "Real: 096_frontal | Pred: 096_frontal | Score: 1.000 | Match: 1\n",
      "Real: Annette_Lu | Pred: Hugo_Chavez | Score: 0.443 | Match: 0\n",
      "Real: Ed_Book | Pred: Ed_Book | Score: 0.659 | Match: 1\n",
      "Real: Hugo_Chavez | Pred: 096_frontal | Score: 1.000 | Match: 0\n",
      "Real: David_Modell | Pred: David_Modell | Score: 0.812 | Match: 1\n"
     ]
    },
    {
     "name": "stderr",
     "output_type": "stream",
     "text": [
      " 54%|█████▎    | 134/250 [07:44<07:03,  3.65s/it]"
     ]
    },
    {
     "name": "stdout",
     "output_type": "stream",
     "text": [
      "Real: William_Burns | Pred: William_Burns | Score: 0.835 | Match: 1\n",
      "Real: Brandon_Knight | Pred: Brandon_Knight | Score: 0.978 | Match: 1\n",
      "Real: Lyle_Vanclief | Pred: Lyle_Vanclief | Score: 0.956 | Match: 1\n",
      "Real: Steve_Case | Pred: Steve_Case | Score: 0.943 | Match: 1\n",
      "Real: Tina_Brown | Pred: Tina_Brown | Score: 0.843 | Match: 1\n"
     ]
    },
    {
     "name": "stderr",
     "output_type": "stream",
     "text": [
      " 54%|█████▍    | 135/250 [07:48<07:14,  3.78s/it]"
     ]
    },
    {
     "name": "stdout",
     "output_type": "stream",
     "text": [
      "Real: Michael_Donovan | Pred: Michael_Donovan | Score: 0.636 | Match: 1\n",
      "Real: Tony_Stewart | Pred: Ciro_Gomes | Score: 0.594 | Match: 0\n",
      "Real: Ciro_Gomes | Pred: Michael_Donovan | Score: 0.922 | Match: 0\n",
      "Real: William_Burns | Pred: William_Burns | Score: 0.947 | Match: 1\n",
      "Real: 090_frontal | Pred: 090_frontal | Score: 1.000 | Match: 1\n"
     ]
    },
    {
     "name": "stderr",
     "output_type": "stream",
     "text": [
      " 54%|█████▍    | 136/250 [07:52<06:53,  3.63s/it]"
     ]
    },
    {
     "name": "stdout",
     "output_type": "stream",
     "text": [
      "Real: Jerry_Pauley | Pred: Jerry_Pauley | Score: 0.979 | Match: 1\n",
      "Real: Selma_Phoenix | Pred: Selma_Phoenix | Score: 0.985 | Match: 1\n",
      "Real: Gary_Marshall | Pred: Gary_Marshall | Score: 0.966 | Match: 1\n",
      "Real: Richard_Jewell | Pred: Richard_Jewell | Score: 0.569 | Match: 1\n",
      "Real: Charles_Schumer | Pred: Charles_Schumer | Score: 0.854 | Match: 1\n"
     ]
    },
    {
     "name": "stderr",
     "output_type": "stream",
     "text": [
      " 55%|█████▍    | 137/250 [07:56<06:59,  3.71s/it]"
     ]
    },
    {
     "name": "stdout",
     "output_type": "stream",
     "text": [
      "Real: Stipe_Mesic | Pred: Stipe_Mesic | Score: 0.790 | Match: 1\n",
      "Real: Bill_OReilly | Pred: Bill_OReilly | Score: 0.717 | Match: 1\n",
      "Real: 121_frontal | Pred: 121_frontal | Score: 1.000 | Match: 1\n",
      "Real: Mario_Alfaro-Lopez | Pred: Mario_Alfaro-Lopez | Score: 0.901 | Match: 1\n",
      "Real: Brian_Henson | Pred: Brian_Henson | Score: 0.995 | Match: 1\n"
     ]
    },
    {
     "name": "stderr",
     "output_type": "stream",
     "text": [
      " 55%|█████▌    | 138/250 [07:59<07:00,  3.76s/it]"
     ]
    },
    {
     "name": "stdout",
     "output_type": "stream",
     "text": [
      "Real: Cristina_Torrens_Valero | Pred: Cristina_Torrens_Valero | Score: 1.000 | Match: 1\n",
      "Real: Strom_Thurmond | Pred: Strom_Thurmond | Score: 0.993 | Match: 1\n",
      "Real: 110_frontal | Pred: 110_frontal | Score: 1.000 | Match: 1\n",
      "Real: Ciro_Gomes | Pred: Yogi_Berra | Score: 0.694 | Match: 0\n",
      "Real: Yogi_Berra | Pred: Yogi_Berra | Score: 0.688 | Match: 1\n"
     ]
    },
    {
     "name": "stderr",
     "output_type": "stream",
     "text": [
      " 56%|█████▌    | 139/250 [08:03<06:35,  3.56s/it]"
     ]
    },
    {
     "name": "stdout",
     "output_type": "stream",
     "text": [
      "Real: Roger_Staubach | Pred: Roger_Staubach | Score: 0.660 | Match: 1\n",
      "Real: Mike_Johanns | Pred: Mike_Johanns | Score: 0.796 | Match: 1\n",
      "Real: John_Banko | Pred: John_Banko | Score: 0.733 | Match: 1\n",
      "Real: Matt_Doherty | Pred: Matt_Doherty | Score: 0.828 | Match: 1\n",
      "Real: Wu_Yi | Pred: Wu_Yi | Score: 0.580 | Match: 1\n"
     ]
    },
    {
     "name": "stderr",
     "output_type": "stream",
     "text": [
      " 56%|█████▌    | 140/250 [08:07<06:54,  3.77s/it]"
     ]
    },
    {
     "name": "stdout",
     "output_type": "stream",
     "text": [
      "Real: Atsushi_Sato | Pred: Atsushi_Sato | Score: 0.575 | Match: 1\n",
      "Real: Sasha_Alexander | Pred: Sasha_Alexander | Score: 0.397 | Match: 1\n",
      "Real: 072_frontal | Pred: 072_frontal | Score: 1.000 | Match: 1\n",
      "Real: Roger_Clemens | Pred: Roger_Clemens | Score: 0.779 | Match: 1\n",
      "Real: Shannon_OBrien | Pred: Roger_Clemens | Score: 0.539 | Match: 0\n"
     ]
    },
    {
     "name": "stderr",
     "output_type": "stream",
     "text": [
      " 56%|█████▋    | 141/250 [08:11<06:59,  3.85s/it]"
     ]
    },
    {
     "name": "stdout",
     "output_type": "stream",
     "text": [
      "Real: Gary_Williams | Pred: Gary_Williams | Score: 0.745 | Match: 1\n",
      "Real: 031_frontal | Pred: 031_frontal | Score: 1.000 | Match: 1\n",
      "Real: Alexandra_Jackson | Pred: Alexandra_Jackson | Score: 0.718 | Match: 1\n",
      "Real: Mohammad_Al-Sharief | Pred: Mohammad_Al-Sharief | Score: 0.975 | Match: 1\n",
      "Real: Antonio_Elias_Saca | Pred: Antonio_Elias_Saca | Score: 0.999 | Match: 1\n"
     ]
    },
    {
     "name": "stderr",
     "output_type": "stream",
     "text": [
      " 57%|█████▋    | 142/250 [08:16<07:40,  4.26s/it]"
     ]
    },
    {
     "name": "stdout",
     "output_type": "stream",
     "text": [
      "Real: Mohammed_Ashraf_Hafiz | Pred: Mohammed_Ashraf_Hafiz | Score: 0.989 | Match: 1\n",
      "Real: 044_frontal | Pred: 044_frontal | Score: 0.725 | Match: 1\n",
      "Real: Tom_Cruise | Pred: Tom_Cruise | Score: 0.857 | Match: 1\n",
      "Real: Kevin_Garnett | Pred: Kevin_Garnett | Score: 0.914 | Match: 1\n",
      "Real: 003_frontal | Pred: 044_frontal | Score: 0.574 | Match: 0\n"
     ]
    },
    {
     "name": "stderr",
     "output_type": "stream",
     "text": [
      " 57%|█████▋    | 143/250 [08:19<06:52,  3.85s/it]"
     ]
    },
    {
     "name": "stdout",
     "output_type": "stream",
     "text": [
      "Real: Li_Peng | Pred: Li_Peng | Score: 0.966 | Match: 1\n",
      "Real: Chris_Moore | Pred: Chris_Moore | Score: 1.000 | Match: 1\n",
      "Real: Daniel_Pearl | Pred: Daniel_Pearl | Score: 0.687 | Match: 1\n",
      "Real: Darryl_Stingley | Pred: Darryl_Stingley | Score: 0.562 | Match: 1\n",
      "Real: Benicio_Del_Toro | Pred: Benicio_Del_Toro | Score: 0.934 | Match: 1\n"
     ]
    },
    {
     "name": "stderr",
     "output_type": "stream",
     "text": [
      " 58%|█████▊    | 144/250 [08:24<07:15,  4.11s/it]"
     ]
    },
    {
     "name": "stdout",
     "output_type": "stream",
     "text": [
      "Real: Robert_Pollack | Pred: Robert_Pollack | Score: 0.972 | Match: 1\n",
      "Real: Jack_Welch | Pred: Jack_Welch | Score: 0.908 | Match: 1\n",
      "Real: Maurice_Strong | Pred: Maurice_Strong | Score: 0.760 | Match: 1\n",
      "Real: 047_frontal | Pred: 047_frontal | Score: 0.999 | Match: 1\n",
      "Real: John_Kerr | Pred: John_Kerr | Score: 0.984 | Match: 1\n"
     ]
    },
    {
     "name": "stderr",
     "output_type": "stream",
     "text": [
      " 58%|█████▊    | 145/250 [08:27<06:38,  3.80s/it]"
     ]
    },
    {
     "name": "stdout",
     "output_type": "stream",
     "text": [
      "Real: Al_Leiter | Pred: Al_Leiter | Score: 0.548 | Match: 1\n",
      "Real: Iran_Brown | Pred: Iran_Brown | Score: 0.913 | Match: 1\n",
      "Real: Clive_Lloyd | Pred: Clive_Lloyd | Score: 0.964 | Match: 1\n",
      "Real: Teresa_Heinz_Kerry | Pred: Teresa_Heinz_Kerry | Score: 0.996 | Match: 1\n",
      "Real: Aline_Chretien | Pred: Aline_Chretien | Score: 0.615 | Match: 1\n"
     ]
    },
    {
     "name": "stderr",
     "output_type": "stream",
     "text": [
      " 58%|█████▊    | 146/250 [08:29<06:02,  3.48s/it]"
     ]
    },
    {
     "name": "stdout",
     "output_type": "stream",
     "text": [
      "Real: Barbara_Brezigar | Pred: Barbara_Brezigar | Score: 0.421 | Match: 1\n",
      "Real: Scott_McNealy | Pred: Marc_Bulger | Score: 0.632 | Match: 0\n",
      "Real: Marc_Bulger | Pred: Marc_Bulger | Score: 0.621 | Match: 1\n",
      "Real: Marwan_Barghouthi | Pred: Marc_Bulger | Score: 0.350 | Match: 0\n",
      "Real: Elvis_Costello | Pred: Elvis_Costello | Score: 0.996 | Match: 1\n"
     ]
    },
    {
     "name": "stderr",
     "output_type": "stream",
     "text": [
      " 59%|█████▉    | 147/250 [08:33<06:13,  3.63s/it]"
     ]
    },
    {
     "name": "stdout",
     "output_type": "stream",
     "text": [
      "Real: Hussein_Malik | Pred: Hussein_Malik | Score: 0.668 | Match: 1\n",
      "Real: 129_frontal | Pred: 129_frontal | Score: 1.000 | Match: 1\n",
      "Real: Shannyn_Sossamon | Pred: Shannyn_Sossamon | Score: 0.699 | Match: 1\n",
      "Real: Efrain_Rios_Montt | Pred: Efrain_Rios_Montt | Score: 0.999 | Match: 1\n",
      "Real: Mike_Smith | Pred: Mike_Smith | Score: 0.790 | Match: 1\n"
     ]
    },
    {
     "name": "stderr",
     "output_type": "stream",
     "text": [
      " 59%|█████▉    | 148/250 [08:37<06:14,  3.67s/it]"
     ]
    },
    {
     "name": "stdout",
     "output_type": "stream",
     "text": [
      "Real: 115_frontal | Pred: 115_frontal | Score: 1.000 | Match: 1\n",
      "Real: Alberto_Ruiz_Gallardon | Pred: 115_frontal | Score: 1.000 | Match: 0\n",
      "Real: Georgina_Papin | Pred: Georgina_Papin | Score: 0.867 | Match: 1\n",
      "Real: Eva_Mendes | Pred: Eva_Mendes | Score: 0.779 | Match: 1\n",
      "Real: Magda_Kertasz | Pred: Magda_Kertasz | Score: 0.849 | Match: 1\n"
     ]
    },
    {
     "name": "stderr",
     "output_type": "stream",
     "text": [
      " 60%|█████▉    | 149/250 [08:40<05:45,  3.42s/it]"
     ]
    },
    {
     "name": "stdout",
     "output_type": "stream",
     "text": [
      "Real: Klaus_Schwab | Pred: Klaus_Schwab | Score: 0.939 | Match: 1\n",
      "Real: Eva_Mendes | Pred: Eva_Mendes | Score: 0.977 | Match: 1\n",
      "Real: Brendan_Hansen | Pred: Klaus_Schwab | Score: 0.711 | Match: 0\n",
      "Real: Jody_Richards | Pred: Jody_Richards | Score: 0.702 | Match: 1\n",
      "Real: Mark_Hanson | Pred: Mark_Hanson | Score: 0.985 | Match: 1\n"
     ]
    },
    {
     "name": "stderr",
     "output_type": "stream",
     "text": [
      " 60%|██████    | 150/250 [08:44<05:54,  3.55s/it]"
     ]
    },
    {
     "name": "stdout",
     "output_type": "stream",
     "text": [
      "Real: Betty_Garrison | Pred: Betty_Garrison | Score: 0.999 | Match: 1\n",
      "Real: Martin_Boryczewski | Pred: Martin_Boryczewski | Score: 0.754 | Match: 1\n",
      "Real: Alex_Gonzalez | Pred: Alex_Gonzalez | Score: 0.933 | Match: 1\n",
      "Real: Ralph_Sampson | Pred: Ralph_Sampson | Score: 0.583 | Match: 1\n",
      "Real: 103_frontal | Pred: 103_frontal | Score: 1.000 | Match: 1\n"
     ]
    },
    {
     "name": "stderr",
     "output_type": "stream",
     "text": [
      " 60%|██████    | 151/250 [08:48<05:59,  3.63s/it]"
     ]
    },
    {
     "name": "stdout",
     "output_type": "stream",
     "text": [
      "Real: Kate_Starbird | Pred: Kate_Starbird | Score: 0.751 | Match: 1\n",
      "Real: Gene_Sauers | Pred: Lloyd_Mudiwa | Score: 0.515 | Match: 0\n",
      "Real: Lloyd_Mudiwa | Pred: Lloyd_Mudiwa | Score: 0.665 | Match: 1\n",
      "Real: 051_frontal | Pred: 051_frontal | Score: 1.000 | Match: 1\n",
      "Real: Vincent_Spadea | Pred: Vincent_Spadea | Score: 0.672 | Match: 1\n"
     ]
    },
    {
     "name": "stderr",
     "output_type": "stream",
     "text": [
      " 61%|██████    | 152/250 [08:50<05:27,  3.34s/it]"
     ]
    },
    {
     "name": "stdout",
     "output_type": "stream",
     "text": [
      "Real: Chung_Mong-hun | Pred: Chung_Mong-hun | Score: 0.996 | Match: 1\n",
      "Real: Lela_Rochon | Pred: Lela_Rochon | Score: 0.837 | Match: 1\n",
      "Real: Kate_Starbird | Pred: Kate_Starbird | Score: 0.891 | Match: 1\n",
      "Real: Hermando_Harton | Pred: Hermando_Harton | Score: 0.968 | Match: 1\n",
      "Real: Thomas_OBrien | Pred: Thomas_OBrien | Score: 0.542 | Match: 1\n"
     ]
    },
    {
     "name": "stderr",
     "output_type": "stream",
     "text": [
      " 61%|██████    | 153/250 [08:53<05:06,  3.16s/it]"
     ]
    },
    {
     "name": "stdout",
     "output_type": "stream",
     "text": [
      "Real: Bryan_Chui | Pred: Bryan_Chui | Score: 0.524 | Match: 1\n",
      "Real: Leander_Paes | Pred: Leander_Paes | Score: 0.699 | Match: 1\n",
      "Real: Malik_Mahmud | Pred: Malik_Mahmud | Score: 0.784 | Match: 1\n",
      "Real: Hanan_Ashrawi | Pred: Hanan_Ashrawi | Score: 0.534 | Match: 1\n",
      "Real: Gary_Bald | Pred: Gary_Bald | Score: 0.421 | Match: 1\n"
     ]
    },
    {
     "name": "stderr",
     "output_type": "stream",
     "text": [
      " 62%|██████▏   | 154/250 [08:56<04:54,  3.06s/it]"
     ]
    },
    {
     "name": "stdout",
     "output_type": "stream",
     "text": [
      "Real: Heidi_Fleiss | Pred: Heidi_Fleiss | Score: 0.975 | Match: 1\n",
      "Real: Agnelo_Queiroz | Pred: Agnelo_Queiroz | Score: 0.908 | Match: 1\n",
      "Real: Catherine_Ndereba | Pred: Catherine_Ndereba | Score: 0.923 | Match: 1\n",
      "Real: Serge_Klarsfeld | Pred: Katie_Couric | Score: 0.914 | Match: 0\n",
      "Real: Katie_Couric | Pred: Katie_Couric | Score: 0.960 | Match: 1\n"
     ]
    },
    {
     "name": "stderr",
     "output_type": "stream",
     "text": [
      " 62%|██████▏   | 155/250 [08:59<04:38,  2.93s/it]"
     ]
    },
    {
     "name": "stdout",
     "output_type": "stream",
     "text": [
      "Real: Ruben_Studdard | Pred: Ruben_Studdard | Score: 1.000 | Match: 1\n",
      "Real: John_Banko | Pred: John_Banko | Score: 0.463 | Match: 1\n",
      "Real: Rob_Moore | Pred: Rob_Moore | Score: 0.601 | Match: 1\n",
      "Real: Chin-Feng_Chen | Pred: Chin-Feng_Chen | Score: 0.887 | Match: 1\n",
      "Real: Edward_Belvin | Pred: Edward_Belvin | Score: 0.592 | Match: 1\n"
     ]
    },
    {
     "name": "stderr",
     "output_type": "stream",
     "text": [
      " 62%|██████▏   | 156/250 [09:03<05:04,  3.23s/it]"
     ]
    },
    {
     "name": "stdout",
     "output_type": "stream",
     "text": [
      "Real: Malcolm_Glazer | Pred: Malcolm_Glazer | Score: 0.754 | Match: 1\n",
      "Real: 021_frontal | Pred: 021_frontal | Score: 1.000 | Match: 1\n",
      "Real: Steve_Austin | Pred: Steve_Austin | Score: 0.992 | Match: 1\n",
      "Real: Hun_Sen | Pred: Hun_Sen | Score: 0.987 | Match: 1\n",
      "Real: Rodney_Dangerfield | Pred: Rodney_Dangerfield | Score: 0.993 | Match: 1\n"
     ]
    },
    {
     "name": "stderr",
     "output_type": "stream",
     "text": [
      " 63%|██████▎   | 157/250 [09:05<04:46,  3.08s/it]"
     ]
    },
    {
     "name": "stdout",
     "output_type": "stream",
     "text": [
      "Real: Magda_Kertasz | Pred: Magda_Kertasz | Score: 0.597 | Match: 1\n",
      "Real: Alexandra_Jackson | Pred: Alexandra_Jackson | Score: 0.762 | Match: 1\n",
      "Real: Orlando_Bloom | Pred: Chea_Sophara | Score: 0.480 | Match: 0\n",
      "Real: Bob_Bowlsby | Pred: Bob_Bowlsby | Score: 0.770 | Match: 1\n",
      "Real: Chea_Sophara | Pred: Orlando_Bloom | Score: 0.500 | Match: 0\n"
     ]
    },
    {
     "name": "stderr",
     "output_type": "stream",
     "text": [
      " 63%|██████▎   | 158/250 [09:10<05:39,  3.69s/it]"
     ]
    },
    {
     "name": "stdout",
     "output_type": "stream",
     "text": [
      "Real: Tiger_Woods | Pred: Tiger_Woods | Score: 0.823 | Match: 1\n",
      "Real: 021_frontal | Pred: 021_frontal | Score: 0.570 | Match: 1\n",
      "Real: Keith_Tyson | Pred: Keith_Tyson | Score: 0.997 | Match: 1\n",
      "Real: 125_frontal | Pred: 125_frontal | Score: 0.773 | Match: 1\n",
      "Real: Christian_Longo | Pred: Christian_Longo | Score: 0.997 | Match: 1\n"
     ]
    },
    {
     "name": "stderr",
     "output_type": "stream",
     "text": [
      " 64%|██████▎   | 159/250 [09:14<05:40,  3.74s/it]"
     ]
    },
    {
     "name": "stdout",
     "output_type": "stream",
     "text": [
      "Real: 057_frontal | Pred: 057_frontal | Score: 1.000 | Match: 1\n",
      "Real: Catherine_Ndereba | Pred: Catherine_Ndereba | Score: 0.891 | Match: 1\n",
      "Real: Gary_Williams | Pred: Gary_Williams | Score: 0.978 | Match: 1\n",
      "Real: Chris_Cirino | Pred: Chris_Cirino | Score: 0.996 | Match: 1\n",
      "Real: Tom_Miller | Pred: Tom_Miller | Score: 0.945 | Match: 1\n"
     ]
    },
    {
     "name": "stderr",
     "output_type": "stream",
     "text": [
      " 64%|██████▍   | 160/250 [09:17<05:11,  3.46s/it]"
     ]
    },
    {
     "name": "stdout",
     "output_type": "stream",
     "text": [
      "Real: Nelson_Shanks | Pred: Nelson_Shanks | Score: 0.605 | Match: 1\n",
      "Real: Steve_Avery | Pred: Steve_Avery | Score: 0.988 | Match: 1\n",
      "Real: Martin_Cauchon | Pred: Martin_Cauchon | Score: 0.560 | Match: 1\n",
      "Real: Eli_Rosenbaum | Pred: Eli_Rosenbaum | Score: 0.954 | Match: 1\n",
      "Real: Larry_Anderson | Pred: Larry_Anderson | Score: 0.702 | Match: 1\n"
     ]
    },
    {
     "name": "stderr",
     "output_type": "stream",
     "text": [
      " 64%|██████▍   | 161/250 [09:20<04:46,  3.22s/it]"
     ]
    },
    {
     "name": "stdout",
     "output_type": "stream",
     "text": [
      "Real: E_Clay_Shaw | Pred: E_Clay_Shaw | Score: 0.728 | Match: 1\n",
      "Real: Jim_Sterk | Pred: Jim_Sterk | Score: 0.740 | Match: 1\n",
      "Real: Nathalie_Baye | Pred: Nathalie_Baye | Score: 0.727 | Match: 1\n",
      "Real: Chante_Jawan_Mallard | Pred: Chante_Jawan_Mallard | Score: 0.702 | Match: 1\n",
      "Real: Cathryn_Crawford | Pred: Cathryn_Crawford | Score: 0.999 | Match: 1\n"
     ]
    },
    {
     "name": "stderr",
     "output_type": "stream",
     "text": [
      " 65%|██████▍   | 162/250 [09:22<04:27,  3.04s/it]"
     ]
    },
    {
     "name": "stdout",
     "output_type": "stream",
     "text": [
      "Real: Kate_Starbird | Pred: Kate_Starbird | Score: 0.645 | Match: 1\n",
      "Real: Ali_Khamenei | Pred: Charles_Richardson | Score: 0.634 | Match: 0\n",
      "Real: Ian_Wilmut | Pred: Ian_Wilmut | Score: 0.486 | Match: 1\n",
      "Real: Charles_Richardson | Pred: Charles_Richardson | Score: 0.869 | Match: 1\n",
      "Real: Matthew_Ouimet | Pred: Matthew_Ouimet | Score: 0.640 | Match: 1\n"
     ]
    },
    {
     "name": "stderr",
     "output_type": "stream",
     "text": [
      " 65%|██████▌   | 163/250 [09:27<05:18,  3.67s/it]"
     ]
    },
    {
     "name": "stdout",
     "output_type": "stream",
     "text": [
      "Real: Bill_Byrne | Pred: Bill_Byrne | Score: 0.992 | Match: 1\n",
      "Real: Larry_Anderson | Pred: Larry_Anderson | Score: 0.997 | Match: 1\n",
      "Real: 122_frontal | Pred: 122_frontal | Score: 0.985 | Match: 1\n",
      "Real: Hidetoshi_Nakata | Pred: Hidetoshi_Nakata | Score: 0.548 | Match: 1\n",
      "Real: 065_frontal | Pred: 065_frontal | Score: 0.732 | Match: 1\n"
     ]
    },
    {
     "name": "stderr",
     "output_type": "stream",
     "text": [
      " 66%|██████▌   | 164/250 [09:30<04:50,  3.38s/it]"
     ]
    },
    {
     "name": "stdout",
     "output_type": "stream",
     "text": [
      "Real: Oscar_Elias_Biscet | Pred: Oscar_Elias_Biscet | Score: 0.854 | Match: 1\n",
      "Real: Martha_Burk | Pred: John_Franco | Score: 0.967 | Match: 0\n",
      "Real: Hun_Sen | Pred: Martha_Burk | Score: 0.325 | Match: 0\n",
      "Real: John_Franco | Pred: John_Franco | Score: 0.975 | Match: 1\n",
      "Real: Tom_Hanks | Pred: Tom_Hanks | Score: 0.959 | Match: 1\n"
     ]
    },
    {
     "name": "stderr",
     "output_type": "stream",
     "text": [
      " 66%|██████▌   | 165/250 [09:33<04:26,  3.13s/it]"
     ]
    },
    {
     "name": "stdout",
     "output_type": "stream",
     "text": [
      "Real: Chuck_Eidson | Pred: Chuck_Eidson | Score: 1.000 | Match: 1\n",
      "Real: Jennifer_Furminger | Pred: Jennifer_Furminger | Score: 0.698 | Match: 1\n",
      "Real: Carlos_Lordkipanitse | Pred: Carlos_Lordkipanitse | Score: 1.000 | Match: 1\n",
      "Real: Fred_Funk | Pred: Fred_Funk | Score: 0.649 | Match: 1\n",
      "Real: Tommy_Shane_Steiner | Pred: Tommy_Shane_Steiner | Score: 0.755 | Match: 1\n"
     ]
    },
    {
     "name": "stderr",
     "output_type": "stream",
     "text": [
      " 66%|██████▋   | 166/250 [09:35<04:12,  3.01s/it]"
     ]
    },
    {
     "name": "stdout",
     "output_type": "stream",
     "text": [
      "Real: Roger_Cook | Pred: Roger_Cook | Score: 0.972 | Match: 1\n",
      "Real: Lawrence_Di_Rita | Pred: Lawrence_Di_Rita | Score: 0.713 | Match: 1\n",
      "Real: Tyler_Grillo | Pred: Tyler_Grillo | Score: 0.856 | Match: 1\n",
      "Real: Donna_Walker | Pred: Donna_Walker | Score: 0.959 | Match: 1\n",
      "Real: Jay_Garner | Pred: Jay_Garner | Score: 0.830 | Match: 1\n"
     ]
    },
    {
     "name": "stderr",
     "output_type": "stream",
     "text": [
      " 67%|██████▋   | 167/250 [09:38<03:59,  2.89s/it]"
     ]
    },
    {
     "name": "stdout",
     "output_type": "stream",
     "text": [
      "Real: Robby_Ginepri | Pred: Robby_Ginepri | Score: 1.000 | Match: 1\n",
      "Real: Jean-Luc_Bideau | Pred: Jean-Luc_Bideau | Score: 0.678 | Match: 1\n",
      "Real: Carlos_Lordkipanitse | Pred: Carlos_Lordkipanitse | Score: 0.956 | Match: 1\n",
      "Real: Gianni_Agnelli | Pred: Gianni_Agnelli | Score: 0.767 | Match: 1\n",
      "Real: Jose_Manuel_Durao_Barroso | Pred: Jose_Manuel_Durao_Barroso | Score: 0.731 | Match: 1\n"
     ]
    },
    {
     "name": "stderr",
     "output_type": "stream",
     "text": [
      " 67%|██████▋   | 168/250 [09:41<03:57,  2.89s/it]"
     ]
    },
    {
     "name": "stdout",
     "output_type": "stream",
     "text": [
      "Real: Daniele_Hypolito | Pred: Daniele_Hypolito | Score: 0.817 | Match: 1\n",
      "Real: Isaiah_Washington | Pred: Isaiah_Washington | Score: 0.418 | Match: 1\n",
      "Real: Guillermo_Ruiz_Polanco | Pred: Guillermo_Ruiz_Polanco | Score: 0.903 | Match: 1\n",
      "Real: Marilyn_Monroe | Pred: Marilyn_Monroe | Score: 0.895 | Match: 1\n",
      "Real: Marina_Anissina | Pred: Marina_Anissina | Score: 0.992 | Match: 1\n"
     ]
    },
    {
     "name": "stderr",
     "output_type": "stream",
     "text": [
      " 68%|██████▊   | 169/250 [09:45<04:16,  3.16s/it]"
     ]
    },
    {
     "name": "stdout",
     "output_type": "stream",
     "text": [
      "Real: Bryan_Chui | Pred: Bryan_Chui | Score: 0.607 | Match: 1\n",
      "Real: 055_frontal | Pred: 055_frontal | Score: 1.000 | Match: 1\n",
      "Real: Kofi_Annan | Pred: Kofi_Annan | Score: 0.538 | Match: 1\n",
      "Real: Evan_Marriott | Pred: Evan_Marriott | Score: 0.680 | Match: 1\n",
      "Real: Antonio_Elias_Saca | Pred: Antonio_Elias_Saca | Score: 0.843 | Match: 1\n"
     ]
    },
    {
     "name": "stderr",
     "output_type": "stream",
     "text": [
      " 68%|██████▊   | 170/250 [09:47<04:00,  3.00s/it]"
     ]
    },
    {
     "name": "stdout",
     "output_type": "stream",
     "text": [
      "Real: Sarah_Price | Pred: Sarah_Price | Score: 0.794 | Match: 1\n",
      "Real: Mark_Gangloff | Pred: Mark_Gangloff | Score: 0.909 | Match: 1\n",
      "Real: Jerry_Rice | Pred: Jerry_Rice | Score: 0.999 | Match: 1\n",
      "Real: Ryan_Goodman | Pred: Ryan_Goodman | Score: 0.829 | Match: 1\n",
      "Real: Jack_Welch | Pred: Jack_Welch | Score: 0.962 | Match: 1\n"
     ]
    },
    {
     "name": "stderr",
     "output_type": "stream",
     "text": [
      " 68%|██████▊   | 171/250 [09:51<04:14,  3.23s/it]"
     ]
    },
    {
     "name": "stdout",
     "output_type": "stream",
     "text": [
      "Real: 100_frontal | Pred: 100_frontal | Score: 0.896 | Match: 1\n",
      "Real: Nancy_Sinatra | Pred: Gabriel_Farhi | Score: 0.311 | Match: 0\n",
      "Real: Derrick_Rodgers | Pred: Derrick_Rodgers | Score: 0.961 | Match: 1\n",
      "Real: Katie_Couric | Pred: Katie_Couric | Score: 0.637 | Match: 1\n",
      "Real: Gabriel_Farhi | Pred: Gabriel_Farhi | Score: 0.993 | Match: 1\n"
     ]
    },
    {
     "name": "stderr",
     "output_type": "stream",
     "text": [
      " 69%|██████▉   | 172/250 [09:54<04:02,  3.10s/it]"
     ]
    },
    {
     "name": "stdout",
     "output_type": "stream",
     "text": [
      "Real: Mary_Matalin | Pred: Mary_Matalin | Score: 0.968 | Match: 1\n",
      "Real: Nestor_Gonzalez | Pred: Larry_Beinfest | Score: 0.614 | Match: 0\n",
      "Real: Win_Aung | Pred: Larry_Beinfest | Score: 0.797 | Match: 0\n",
      "Real: Larry_Beinfest | Pred: Larry_Beinfest | Score: 0.715 | Match: 1\n",
      "Real: Keith_Foulke | Pred: Keith_Foulke | Score: 0.959 | Match: 1\n"
     ]
    },
    {
     "name": "stderr",
     "output_type": "stream",
     "text": [
      " 69%|██████▉   | 173/250 [09:57<03:50,  2.99s/it]"
     ]
    },
    {
     "name": "stdout",
     "output_type": "stream",
     "text": [
      "Real: Yogi_Berra | Pred: Yogi_Berra | Score: 0.569 | Match: 1\n",
      "Real: Marco_Irizarry | Pred: Marco_Irizarry | Score: 0.986 | Match: 1\n",
      "Real: Otto_Schily | Pred: Otto_Schily | Score: 0.953 | Match: 1\n",
      "Real: Johnny_Benson | Pred: Johnny_Benson | Score: 0.928 | Match: 1\n",
      "Real: Hwang_Doo-yun | Pred: Hwang_Doo-yun | Score: 0.994 | Match: 1\n"
     ]
    },
    {
     "name": "stderr",
     "output_type": "stream",
     "text": [
      " 70%|██████▉   | 174/250 [10:00<04:05,  3.23s/it]"
     ]
    },
    {
     "name": "stdout",
     "output_type": "stream",
     "text": [
      "Real: Raoul_Ruiz | Pred: Raoul_Ruiz | Score: 0.715 | Match: 1\n",
      "Real: Maritza_Macias_Furano | Pred: Gabriel_Farhi | Score: 0.782 | Match: 0\n",
      "Real: Gabriel_Farhi | Pred: 051_frontal | Score: 0.545 | Match: 0\n",
      "Real: Drew_Barrymore | Pred: Drew_Barrymore | Score: 0.981 | Match: 1\n",
      "Real: 051_frontal | Pred: 051_frontal | Score: 0.989 | Match: 1\n"
     ]
    },
    {
     "name": "stderr",
     "output_type": "stream",
     "text": [
      " 70%|███████   | 175/250 [10:07<05:13,  4.17s/it]"
     ]
    },
    {
     "name": "stdout",
     "output_type": "stream",
     "text": [
      "Real: Li_Peng | Pred: Li_Peng | Score: 0.903 | Match: 1\n",
      "Real: 021_frontal | Pred: 021_frontal | Score: 0.952 | Match: 1\n",
      "Real: 088_frontal | Pred: 021_frontal | Score: 0.507 | Match: 0\n",
      "Real: 038_frontal | Pred: 038_frontal | Score: 0.848 | Match: 1\n",
      "Real: James_Parker | Pred: James_Parker | Score: 0.662 | Match: 1\n"
     ]
    },
    {
     "name": "stderr",
     "output_type": "stream",
     "text": [
      " 70%|███████   | 176/250 [10:10<04:37,  3.76s/it]"
     ]
    },
    {
     "name": "stdout",
     "output_type": "stream",
     "text": [
      "Real: Hussam_Mohammed_Amin | Pred: Hussam_Mohammed_Amin | Score: 1.000 | Match: 1\n",
      "Real: Hans_Peter_Briegel | Pred: Hans_Peter_Briegel | Score: 0.483 | Match: 1\n",
      "Real: Rita_Moreno | Pred: Rita_Moreno | Score: 0.945 | Match: 1\n",
      "Real: Irwan_Fadzi_Idris | Pred: Irwan_Fadzi_Idris | Score: 0.968 | Match: 1\n",
      "Real: Sergio_Vieira_De_Mello | Pred: Sergio_Vieira_De_Mello | Score: 0.583 | Match: 1\n"
     ]
    },
    {
     "name": "stderr",
     "output_type": "stream",
     "text": [
      " 71%|███████   | 177/250 [10:13<04:37,  3.80s/it]"
     ]
    },
    {
     "name": "stdout",
     "output_type": "stream",
     "text": [
      "Real: Adrian_Fernandez | Pred: Adrian_Fernandez | Score: 1.000 | Match: 1\n",
      "Real: Billy_Sollie | Pred: Mufti_Mohammad_Syed | Score: 0.690 | Match: 0\n",
      "Real: 057_frontal | Pred: 057_frontal | Score: 1.000 | Match: 1\n",
      "Real: Mufti_Mohammad_Syed | Pred: Mufti_Mohammad_Syed | Score: 0.869 | Match: 1\n",
      "Real: Pete_Sampras | Pred: 057_frontal | Score: 1.000 | Match: 0\n"
     ]
    },
    {
     "name": "stderr",
     "output_type": "stream",
     "text": [
      " 71%|███████   | 178/250 [10:16<04:09,  3.47s/it]"
     ]
    },
    {
     "name": "stdout",
     "output_type": "stream",
     "text": [
      "Real: Flor_Montulo | Pred: Flor_Montulo | Score: 0.524 | Match: 1\n",
      "Real: Martha_Martinez_Flores | Pred: Martha_Martinez_Flores | Score: 0.921 | Match: 1\n",
      "Real: Chris_Cirino | Pred: Chris_Cirino | Score: 0.999 | Match: 1\n",
      "Real: Jennifer_Furminger | Pred: Jennifer_Furminger | Score: 0.701 | Match: 1\n",
      "Real: Katrin_Susi | Pred: Katrin_Susi | Score: 0.773 | Match: 1\n"
     ]
    },
    {
     "name": "stderr",
     "output_type": "stream",
     "text": [
      " 72%|███████▏  | 179/250 [10:20<04:10,  3.53s/it]"
     ]
    },
    {
     "name": "stdout",
     "output_type": "stream",
     "text": [
      "Real: Phillip_Fulmer | Pred: Phillip_Fulmer | Score: 0.867 | Match: 1\n",
      "Real: Shoshannah_Stern | Pred: Shoshannah_Stern | Score: 0.523 | Match: 1\n",
      "Real: 054_frontal | Pred: 054_frontal | Score: 1.000 | Match: 1\n",
      "Real: Cynthia_Rowley | Pred: Cynthia_Rowley | Score: 0.880 | Match: 1\n",
      "Real: Elin_Nordegren | Pred: Elin_Nordegren | Score: 1.000 | Match: 1\n"
     ]
    },
    {
     "name": "stderr",
     "output_type": "stream",
     "text": [
      " 72%|███████▏  | 180/250 [10:24<04:15,  3.65s/it]"
     ]
    },
    {
     "name": "stdout",
     "output_type": "stream",
     "text": [
      "Real: 039_frontal | Pred: 039_frontal | Score: 0.997 | Match: 1\n",
      "Real: Jim_Paxson | Pred: Jim_Paxson | Score: 0.866 | Match: 1\n",
      "Real: Red_Auerbach | Pred: Red_Auerbach | Score: 0.999 | Match: 1\n",
      "Real: Teresa_Heinz_Kerry | Pred: Teresa_Heinz_Kerry | Score: 0.892 | Match: 1\n",
      "Real: Alan_Ball | Pred: Alan_Ball | Score: 0.892 | Match: 1\n"
     ]
    },
    {
     "name": "stderr",
     "output_type": "stream",
     "text": [
      " 72%|███████▏  | 181/250 [10:28<04:16,  3.71s/it]"
     ]
    },
    {
     "name": "stdout",
     "output_type": "stream",
     "text": [
      "Real: 025_frontal | Pred: 025_frontal | Score: 1.000 | Match: 1\n",
      "Real: Mona_Ayoub | Pred: Mona_Ayoub | Score: 0.949 | Match: 1\n",
      "Real: Steve_Austin | Pred: Steve_Austin | Score: 0.910 | Match: 1\n",
      "Real: Steve_Mariucci | Pred: Steve_Mariucci | Score: 0.702 | Match: 1\n",
      "Real: Lin_Yung_Hsi | Pred: Lin_Yung_Hsi | Score: 0.992 | Match: 1\n"
     ]
    },
    {
     "name": "stderr",
     "output_type": "stream",
     "text": [
      " 73%|███████▎  | 182/250 [10:30<03:52,  3.41s/it]"
     ]
    },
    {
     "name": "stdout",
     "output_type": "stream",
     "text": [
      "Real: Barbara_Becker | Pred: Barbara_Becker | Score: 0.818 | Match: 1\n",
      "Real: Li_Zhaoxing | Pred: Li_Zhaoxing | Score: 0.917 | Match: 1\n",
      "Real: Larry_Anderson | Pred: Larry_Anderson | Score: 0.626 | Match: 1\n",
      "Real: Mark_Andrew | Pred: Mark_Andrew | Score: 0.810 | Match: 1\n",
      "Real: Richard_Naughton | Pred: Richard_Naughton | Score: 0.953 | Match: 1\n"
     ]
    },
    {
     "name": "stderr",
     "output_type": "stream",
     "text": [
      " 73%|███████▎  | 183/250 [10:34<03:58,  3.56s/it]"
     ]
    },
    {
     "name": "stdout",
     "output_type": "stream",
     "text": [
      "Real: Edgar_Savisaar | Pred: Edgar_Savisaar | Score: 0.947 | Match: 1\n",
      "Real: Tom_Cruise | Pred: Brian_Scalabrine | Score: 0.703 | Match: 0\n",
      "Real: Brian_Scalabrine | Pred: Brian_Scalabrine | Score: 0.918 | Match: 1\n",
      "Real: 011_frontal | Pred: 011_frontal | Score: 0.997 | Match: 1\n",
      "Real: Janine_Pietsch | Pred: Janine_Pietsch | Score: 0.943 | Match: 1\n"
     ]
    },
    {
     "name": "stderr",
     "output_type": "stream",
     "text": [
      " 74%|███████▎  | 184/250 [10:38<04:01,  3.66s/it]"
     ]
    },
    {
     "name": "stdout",
     "output_type": "stream",
     "text": [
      "Real: Eric_Christian_Olsen | Pred: Eric_Christian_Olsen | Score: 0.820 | Match: 1\n",
      "Real: Leo_Mullin | Pred: Leo_Mullin | Score: 0.917 | Match: 1\n",
      "Real: Sarah_Price | Pred: Sarah_Price | Score: 1.000 | Match: 1\n",
      "Real: 059_frontal | Pred: 059_frontal | Score: 0.946 | Match: 1\n",
      "Real: Mohammad_Al-Sharief | Pred: Mohammad_Al-Sharief | Score: 0.958 | Match: 1\n"
     ]
    },
    {
     "name": "stderr",
     "output_type": "stream",
     "text": [
      " 74%|███████▍  | 185/250 [10:42<04:01,  3.72s/it]"
     ]
    },
    {
     "name": "stdout",
     "output_type": "stream",
     "text": [
      "Real: John_Kerry | Pred: Andre_Bucher | Score: 0.673 | Match: 0\n",
      "Real: Betty_Garrison | Pred: Betty_Garrison | Score: 0.939 | Match: 1\n",
      "Real: 060_frontal | Pred: 060_frontal | Score: 0.971 | Match: 1\n",
      "Real: Andre_Bucher | Pred: Andre_Bucher | Score: 0.989 | Match: 1\n",
      "Real: Leander_Paes | Pred: Leander_Paes | Score: 0.961 | Match: 1\n"
     ]
    },
    {
     "name": "stderr",
     "output_type": "stream",
     "text": [
      " 74%|███████▍  | 186/250 [10:46<03:59,  3.75s/it]"
     ]
    },
    {
     "name": "stdout",
     "output_type": "stream",
     "text": [
      "Real: Michael_Sullivan | Pred: Michael_Sullivan | Score: 0.698 | Match: 1\n",
      "Real: David_Kelly | Pred: David_Kelly | Score: 0.618 | Match: 1\n",
      "Real: Vinnie_Jones | Pred: Vinnie_Jones | Score: 0.993 | Match: 1\n",
      "Real: Maha_Habib | Pred: Maha_Habib | Score: 0.927 | Match: 1\n",
      "Real: 124_frontal | Pred: Maha_Habib | Score: 0.564 | Match: 0\n"
     ]
    },
    {
     "name": "stderr",
     "output_type": "stream",
     "text": [
      " 75%|███████▍  | 187/250 [10:49<03:35,  3.43s/it]"
     ]
    },
    {
     "name": "stdout",
     "output_type": "stream",
     "text": [
      "Real: Moby | Pred: Moby | Score: 0.867 | Match: 1\n",
      "Real: Jeanne_Moreau | Pred: Jeanne_Moreau | Score: 0.956 | Match: 1\n",
      "Real: Michael_Moore | Pred: Jeanne_Moreau | Score: 0.650 | Match: 0\n",
      "Real: Raymond_Arthurs | Pred: Raymond_Arthurs | Score: 0.990 | Match: 1\n",
      "Real: Begum_Khaleda_Zia | Pred: Moby | Score: 0.637 | Match: 0\n"
     ]
    },
    {
     "name": "stderr",
     "output_type": "stream",
     "text": [
      " 75%|███████▌  | 188/250 [10:51<03:20,  3.24s/it]"
     ]
    },
    {
     "name": "stdout",
     "output_type": "stream",
     "text": [
      "Real: Lela_Rochon | Pred: Lela_Rochon | Score: 0.648 | Match: 1\n",
      "Real: Adrian_Fernandez | Pred: Adrian_Fernandez | Score: 0.714 | Match: 1\n",
      "Real: Ismail_Cem | Pred: Ismail_Cem | Score: 1.000 | Match: 1\n",
      "Real: Brian_Schneider | Pred: Brian_Schneider | Score: 0.978 | Match: 1\n",
      "Real: Roger_Staubach | Pred: Roger_Staubach | Score: 0.947 | Match: 1\n"
     ]
    },
    {
     "name": "stderr",
     "output_type": "stream",
     "text": [
      " 76%|███████▌  | 189/250 [10:54<03:06,  3.05s/it]"
     ]
    },
    {
     "name": "stdout",
     "output_type": "stream",
     "text": [
      "Real: Angie_Martinez | Pred: Angie_Martinez | Score: 0.825 | Match: 1\n",
      "Real: Larry_Ralston | Pred: Larry_Ralston | Score: 0.930 | Match: 1\n",
      "Real: Jeong_Se-hyun | Pred: Jeong_Se-hyun | Score: 0.773 | Match: 1\n",
      "Real: Julian_Battle | Pred: Julian_Battle | Score: 0.838 | Match: 1\n",
      "Real: Tina_Brown | Pred: Tina_Brown | Score: 0.702 | Match: 1\n"
     ]
    },
    {
     "name": "stderr",
     "output_type": "stream",
     "text": [
      " 76%|███████▌  | 190/250 [10:57<02:55,  2.92s/it]"
     ]
    },
    {
     "name": "stdout",
     "output_type": "stream",
     "text": [
      "Real: Joseph_LePore | Pred: Joseph_LePore | Score: 0.593 | Match: 1\n",
      "Real: Al_Leiter | Pred: Al_Leiter | Score: 0.763 | Match: 1\n",
      "Real: David_Modell | Pred: David_Modell | Score: 0.810 | Match: 1\n",
      "Real: Emily_Mason | Pred: Emily_Mason | Score: 0.578 | Match: 1\n",
      "Real: Eva_Mendes | Pred: Eva_Mendes | Score: 0.846 | Match: 1\n"
     ]
    },
    {
     "name": "stderr",
     "output_type": "stream",
     "text": [
      " 76%|███████▋  | 191/250 [10:59<02:47,  2.84s/it]"
     ]
    },
    {
     "name": "stdout",
     "output_type": "stream",
     "text": [
      "Real: Tom_Lantos | Pred: Tom_Lantos | Score: 0.492 | Match: 1\n",
      "Real: Maritza_Macias_Furano | Pred: Maritza_Macias_Furano | Score: 0.384 | Match: 1\n",
      "Real: Michael_Guiler | Pred: Michael_Guiler | Score: 0.584 | Match: 1\n",
      "Real: Tom_Glavine | Pred: Tom_Glavine | Score: 0.529 | Match: 1\n",
      "Real: Iran_Brown | Pred: Iran_Brown | Score: 0.894 | Match: 1\n"
     ]
    },
    {
     "name": "stderr",
     "output_type": "stream",
     "text": [
      " 77%|███████▋  | 192/250 [11:02<02:51,  2.95s/it]"
     ]
    },
    {
     "name": "stdout",
     "output_type": "stream",
     "text": [
      "Real: Milo_Maestrecampo | Pred: Milo_Maestrecampo | Score: 0.615 | Match: 1\n",
      "Real: Francois_Pienaar | Pred: Francois_Pienaar | Score: 0.696 | Match: 1\n",
      "Real: Noer_Moeis | Pred: Noer_Moeis | Score: 0.527 | Match: 1\n",
      "Real: Louis_Van_Gaal | Pred: Louis_Van_Gaal | Score: 0.631 | Match: 1\n",
      "Real: Bob_Geldof | Pred: Milo_Maestrecampo | Score: 0.699 | Match: 0\n"
     ]
    },
    {
     "name": "stderr",
     "output_type": "stream",
     "text": [
      " 77%|███████▋  | 193/250 [11:06<03:05,  3.26s/it]"
     ]
    },
    {
     "name": "stdout",
     "output_type": "stream",
     "text": [
      "Real: Maurice_Papon | Pred: Maurice_Papon | Score: 0.999 | Match: 1\n",
      "Real: Ralf_Schumacher | Pred: Maurice_Papon | Score: 0.998 | Match: 0\n",
      "Real: Eric_Christian_Olsen | Pred: Ralf_Schumacher | Score: 0.556 | Match: 0\n",
      "Real: 099_frontal | Pred: 099_frontal | Score: 0.989 | Match: 1\n",
      "Real: Sean_Townsend | Pred: Sean_Townsend | Score: 0.998 | Match: 1\n"
     ]
    },
    {
     "name": "stderr",
     "output_type": "stream",
     "text": [
      " 78%|███████▊  | 194/250 [11:11<03:16,  3.52s/it]"
     ]
    },
    {
     "name": "stdout",
     "output_type": "stream",
     "text": [
      "Real: Andrew_Bernard | Pred: Andrew_Bernard | Score: 0.722 | Match: 1\n",
      "Real: John_Bolton | Pred: John_Bolton | Score: 0.623 | Match: 1\n",
      "Real: Sean_Patrick_OMalley | Pred: Andrew_Bernard | Score: 0.412 | Match: 0\n",
      "Real: 109_frontal | Pred: 109_frontal | Score: 1.000 | Match: 1\n",
      "Real: Selma_Phoenix | Pred: Selma_Phoenix | Score: 0.848 | Match: 1\n"
     ]
    },
    {
     "name": "stderr",
     "output_type": "stream",
     "text": [
      " 78%|███████▊  | 195/250 [11:13<02:58,  3.24s/it]"
     ]
    },
    {
     "name": "stdout",
     "output_type": "stream",
     "text": [
      "Real: Richard_Jewell | Pred: Richard_Jewell | Score: 0.823 | Match: 1\n",
      "Real: Carlos_Ortega | Pred: Carlos_Ortega | Score: 0.630 | Match: 1\n",
      "Real: Louis_Van_Gaal | Pred: Louis_Van_Gaal | Score: 0.668 | Match: 1\n",
      "Real: Mary_Sue_Coleman | Pred: Mary_Sue_Coleman | Score: 0.811 | Match: 1\n",
      "Real: Hanan_Ashrawi | Pred: Richard_Jewell | Score: 0.470 | Match: 0\n"
     ]
    },
    {
     "name": "stderr",
     "output_type": "stream",
     "text": [
      " 78%|███████▊  | 196/250 [11:16<02:48,  3.11s/it]"
     ]
    },
    {
     "name": "stdout",
     "output_type": "stream",
     "text": [
      "Real: Dai_Chul_Chyung | Pred: Dai_Chul_Chyung | Score: 0.873 | Match: 1\n",
      "Real: Stellan_Skarsgard | Pred: Stellan_Skarsgard | Score: 0.776 | Match: 1\n",
      "Real: Jamie_Villafane | Pred: Jamie_Villafane | Score: 0.782 | Match: 1\n",
      "Real: Jacqueline_Obradors | Pred: Jacqueline_Obradors | Score: 0.897 | Match: 1\n",
      "Real: Donald_Keck | Pred: Donald_Keck | Score: 0.995 | Match: 1\n"
     ]
    },
    {
     "name": "stderr",
     "output_type": "stream",
     "text": [
      " 79%|███████▉  | 197/250 [11:19<02:38,  2.99s/it]"
     ]
    },
    {
     "name": "stdout",
     "output_type": "stream",
     "text": [
      "Real: Kurt_Warner | Pred: Kurt_Warner | Score: 0.866 | Match: 1\n",
      "Real: Tom_Hanks | Pred: David_Obey | Score: 0.506 | Match: 0\n",
      "Real: Daniele_Hypolito | Pred: Daniele_Hypolito | Score: 0.666 | Match: 1\n",
      "Real: David_Obey | Pred: David_Obey | Score: 0.622 | Match: 1\n",
      "Real: John_Paul_DeJoria | Pred: John_Paul_DeJoria | Score: 0.959 | Match: 1\n"
     ]
    },
    {
     "name": "stderr",
     "output_type": "stream",
     "text": [
      " 79%|███████▉  | 198/250 [11:22<02:47,  3.23s/it]"
     ]
    },
    {
     "name": "stdout",
     "output_type": "stream",
     "text": [
      "Real: Monica_Seles | Pred: Monica_Seles | Score: 0.901 | Match: 1\n",
      "Real: Larry_Ralston | Pred: Larry_Ralston | Score: 0.904 | Match: 1\n",
      "Real: Deniz_Baykal | Pred: Deniz_Baykal | Score: 0.929 | Match: 1\n",
      "Real: Ismail_Cem | Pred: Ismail_Cem | Score: 0.915 | Match: 1\n",
      "Real: 125_frontal | Pred: 125_frontal | Score: 1.000 | Match: 1\n"
     ]
    },
    {
     "name": "stderr",
     "output_type": "stream",
     "text": [
      " 80%|███████▉  | 199/250 [11:25<02:37,  3.08s/it]"
     ]
    },
    {
     "name": "stdout",
     "output_type": "stream",
     "text": [
      "Real: Jay_Garner | Pred: Jay_Garner | Score: 0.406 | Match: 1\n",
      "Real: Wu_Yi | Pred: Benjamin_Netanyahu | Score: 0.560 | Match: 0\n",
      "Real: Benjamin_Netanyahu | Pred: Benjamin_Netanyahu | Score: 0.858 | Match: 1\n",
      "Real: James_Sensenbrenner | Pred: James_Sensenbrenner | Score: 0.474 | Match: 1\n",
      "Real: Pio_Laghi | Pred: Pio_Laghi | Score: 0.499 | Match: 1\n"
     ]
    },
    {
     "name": "stderr",
     "output_type": "stream",
     "text": [
      " 80%|████████  | 200/250 [11:28<02:30,  3.02s/it]"
     ]
    },
    {
     "name": "stdout",
     "output_type": "stream",
     "text": [
      "Real: Jeong_Se-hyun | Pred: Jeong_Se-hyun | Score: 0.494 | Match: 1\n",
      "Real: Tony_Stewart | Pred: David_Dorfman | Score: 0.597 | Match: 0\n",
      "Real: Larry_Ralston | Pred: Larry_Ralston | Score: 0.771 | Match: 1\n",
      "Real: David_Dorfman | Pred: David_Dorfman | Score: 0.734 | Match: 1\n",
      "Real: Stipe_Mesic | Pred: Stipe_Mesic | Score: 0.769 | Match: 1\n"
     ]
    },
    {
     "name": "stderr",
     "output_type": "stream",
     "text": [
      " 80%|████████  | 201/250 [11:31<02:22,  2.91s/it]"
     ]
    },
    {
     "name": "stdout",
     "output_type": "stream",
     "text": [
      "Real: Hideki_Sato | Pred: Rohinton_Mistry | Score: 0.889 | Match: 0\n",
      "Real: Zarai_Toledo | Pred: Zarai_Toledo | Score: 0.911 | Match: 1\n",
      "Real: Rohinton_Mistry | Pred: Rohinton_Mistry | Score: 0.992 | Match: 1\n",
      "Real: Nestor_Gonzalez | Pred: Hideki_Sato | Score: 0.471 | Match: 0\n",
      "Real: Alonzo_Mourning | Pred: Alonzo_Mourning | Score: 0.693 | Match: 1\n"
     ]
    },
    {
     "name": "stderr",
     "output_type": "stream",
     "text": [
      " 81%|████████  | 202/250 [11:36<02:48,  3.52s/it]"
     ]
    },
    {
     "name": "stdout",
     "output_type": "stream",
     "text": [
      "Real: Deniz_Baykal | Pred: Deniz_Baykal | Score: 0.870 | Match: 1\n",
      "Real: Russell_Crowe | Pred: Russell_Crowe | Score: 0.936 | Match: 1\n",
      "Real: 109_frontal | Pred: 010_frontal | Score: 0.836 | Match: 0\n",
      "Real: 010_frontal | Pred: 010_frontal | Score: 0.975 | Match: 1\n",
      "Real: Paul_Li_Calsi | Pred: Paul_Li_Calsi | Score: 0.999 | Match: 1\n"
     ]
    },
    {
     "name": "stderr",
     "output_type": "stream",
     "text": [
      " 81%|████████  | 203/250 [11:38<02:32,  3.24s/it]"
     ]
    },
    {
     "name": "stdout",
     "output_type": "stream",
     "text": [
      "Real: Janette_Husarova | Pred: Janette_Husarova | Score: 0.468 | Match: 1\n",
      "Real: Ed_Sullivan | Pred: Ed_Sullivan | Score: 0.995 | Match: 1\n",
      "Real: Elvis_Costello | Pred: Elvis_Costello | Score: 0.589 | Match: 1\n",
      "Real: Keith_Tyson | Pred: Keith_Tyson | Score: 0.978 | Match: 1\n",
      "Real: Jeremy_Fogel | Pred: Ed_Sullivan | Score: 0.836 | Match: 0\n"
     ]
    },
    {
     "name": "stderr",
     "output_type": "stream",
     "text": [
      " 82%|████████▏ | 204/250 [11:41<02:25,  3.16s/it]"
     ]
    },
    {
     "name": "stdout",
     "output_type": "stream",
     "text": [
      "Real: Derek_Jeter | Pred: John_Gruden | Score: 0.853 | Match: 0\n",
      "Real: John_Gruden | Pred: John_Gruden | Score: 0.339 | Match: 1\n",
      "Real: Emily_Mason | Pred: Emily_Mason | Score: 0.773 | Match: 1\n",
      "Real: Roberto_Carlos | Pred: Derek_Jeter | Score: 0.572 | Match: 0\n",
      "Real: Alfredo_Pena | Pred: Alfredo_Pena | Score: 0.908 | Match: 1\n"
     ]
    },
    {
     "name": "stderr",
     "output_type": "stream",
     "text": [
      " 82%|████████▏ | 205/250 [11:44<02:15,  3.00s/it]"
     ]
    },
    {
     "name": "stdout",
     "output_type": "stream",
     "text": [
      "Real: Tim_Curry | Pred: Tim_Curry | Score: 0.755 | Match: 1\n",
      "Real: Justin_Wilson | Pred: Justin_Wilson | Score: 0.734 | Match: 1\n",
      "Real: Kieran_Culkin | Pred: Kieran_Culkin | Score: 0.392 | Match: 1\n",
      "Real: Orlando_Bloom | Pred: Martin_Cauchon | Score: 0.785 | Match: 0\n",
      "Real: Martin_Cauchon | Pred: Martin_Cauchon | Score: 0.971 | Match: 1\n"
     ]
    },
    {
     "name": "stderr",
     "output_type": "stream",
     "text": [
      " 82%|████████▏ | 206/250 [11:47<02:08,  2.91s/it]"
     ]
    },
    {
     "name": "stdout",
     "output_type": "stream",
     "text": [
      "Real: Nelson_Shanks | Pred: Nelson_Shanks | Score: 0.647 | Match: 1\n",
      "Real: Vincent_Sombrotto | Pred: Vincent_Sombrotto | Score: 0.996 | Match: 1\n",
      "Real: Aiysha_Smith | Pred: Aiysha_Smith | Score: 0.777 | Match: 1\n",
      "Real: Tom_Ridge | Pred: Tom_Ridge | Score: 0.533 | Match: 1\n",
      "Real: Mike_Sweeney | Pred: Mike_Sweeney | Score: 0.880 | Match: 1\n"
     ]
    },
    {
     "name": "stderr",
     "output_type": "stream",
     "text": [
      " 83%|████████▎ | 207/250 [11:51<02:25,  3.38s/it]"
     ]
    },
    {
     "name": "stdout",
     "output_type": "stream",
     "text": [
      "Real: Sophie | Pred: Sophie | Score: 0.744 | Match: 1\n",
      "Real: Mufti_Mohammad_Syed | Pred: Mufti_Mohammad_Syed | Score: 0.995 | Match: 1\n",
      "Real: Larry_Anderson | Pred: Larry_Anderson | Score: 0.847 | Match: 1\n",
      "Real: 032_frontal | Pred: 032_frontal | Score: 1.000 | Match: 1\n",
      "Real: Wayne_Ferreira | Pred: Sophie | Score: 0.571 | Match: 0\n"
     ]
    },
    {
     "name": "stderr",
     "output_type": "stream",
     "text": [
      " 83%|████████▎ | 208/250 [11:55<02:30,  3.59s/it]"
     ]
    },
    {
     "name": "stdout",
     "output_type": "stream",
     "text": [
      "Real: Ray_Bradbury | Pred: Ray_Bradbury | Score: 0.617 | Match: 1\n",
      "Real: Jason_Priestley | Pred: Jason_Priestley | Score: 0.695 | Match: 1\n",
      "Real: 085_frontal | Pred: 085_frontal | Score: 1.000 | Match: 1\n",
      "Real: Debra_Brown | Pred: Debra_Brown | Score: 0.984 | Match: 1\n",
      "Real: Oscar_Elias_Biscet | Pred: Oscar_Elias_Biscet | Score: 0.999 | Match: 1\n"
     ]
    },
    {
     "name": "stderr",
     "output_type": "stream",
     "text": [
      " 84%|████████▎ | 209/250 [11:58<02:16,  3.32s/it]"
     ]
    },
    {
     "name": "stdout",
     "output_type": "stream",
     "text": [
      "Real: Diane_Lane | Pred: Diane_Lane | Score: 1.000 | Match: 1\n",
      "Real: Martin_Landau | Pred: Martin_Landau | Score: 0.883 | Match: 1\n",
      "Real: Yasushi_Akashi | Pred: Yasushi_Akashi | Score: 0.715 | Match: 1\n",
      "Real: Luis_Gonzalez_Macchi | Pred: Luis_Gonzalez_Macchi | Score: 0.714 | Match: 1\n",
      "Real: Patricia_Johnson | Pred: Patricia_Johnson | Score: 1.000 | Match: 1\n"
     ]
    },
    {
     "name": "stderr",
     "output_type": "stream",
     "text": [
      " 84%|████████▍ | 210/250 [12:02<02:20,  3.52s/it]"
     ]
    },
    {
     "name": "stdout",
     "output_type": "stream",
     "text": [
      "Real: 010_frontal | Pred: 010_frontal | Score: 1.000 | Match: 1\n",
      "Real: Suzie_McConnell_Serio | Pred: Suzie_McConnell_Serio | Score: 0.843 | Match: 1\n",
      "Real: Stephen_Thompson | Pred: Stephen_Thompson | Score: 0.998 | Match: 1\n",
      "Real: Crispin_Glover | Pred: Crispin_Glover | Score: 0.990 | Match: 1\n",
      "Real: Larry_Ellison | Pred: Larry_Ellison | Score: 0.941 | Match: 1\n"
     ]
    },
    {
     "name": "stderr",
     "output_type": "stream",
     "text": [
      " 84%|████████▍ | 211/250 [12:07<02:34,  3.96s/it]"
     ]
    },
    {
     "name": "stdout",
     "output_type": "stream",
     "text": [
      "Real: Carlos_Lordkipanitse | Pred: Carlos_Lordkipanitse | Score: 0.990 | Match: 1\n",
      "Real: 122_frontal | Pred: 122_frontal | Score: 1.000 | Match: 1\n",
      "Real: Billy_Beane | Pred: Billy_Beane | Score: 0.983 | Match: 1\n",
      "Real: 086_frontal | Pred: 086_frontal | Score: 0.996 | Match: 1\n",
      "Real: Mike_Samp | Pred: Carlos_Lordkipanitse | Score: 0.598 | Match: 0\n"
     ]
    },
    {
     "name": "stderr",
     "output_type": "stream",
     "text": [
      " 85%|████████▍ | 212/250 [12:11<02:30,  3.95s/it]"
     ]
    },
    {
     "name": "stdout",
     "output_type": "stream",
     "text": [
      "Real: Gerard_Butler | Pred: Gerard_Butler | Score: 0.516 | Match: 1\n",
      "Real: 005_frontal | Pred: 005_frontal | Score: 1.000 | Match: 1\n",
      "Real: Martin_Bandier | Pred: Martin_Bandier | Score: 0.611 | Match: 1\n",
      "Real: Atiabet_Ijan_Amabel | Pred: Atiabet_Ijan_Amabel | Score: 0.479 | Match: 1\n",
      "Real: Jim_Sterk | Pred: Jim_Sterk | Score: 0.920 | Match: 1\n"
     ]
    },
    {
     "name": "stderr",
     "output_type": "stream",
     "text": [
      " 85%|████████▌ | 213/250 [12:16<02:40,  4.33s/it]"
     ]
    },
    {
     "name": "stdout",
     "output_type": "stream",
     "text": [
      "Real: Celso_Lafer | Pred: Celso_Lafer | Score: 0.845 | Match: 1\n",
      "Real: 086_frontal | Pred: 086_frontal | Score: 0.973 | Match: 1\n",
      "Real: 110_frontal | Pred: 110_frontal | Score: 1.000 | Match: 1\n",
      "Real: Timbul_Silaen | Pred: Timbul_Silaen | Score: 0.983 | Match: 1\n",
      "Real: Kristin_Davis | Pred: Kristin_Davis | Score: 0.702 | Match: 1\n"
     ]
    },
    {
     "name": "stderr",
     "output_type": "stream",
     "text": [
      " 86%|████████▌ | 214/250 [12:20<02:32,  4.25s/it]"
     ]
    },
    {
     "name": "stdout",
     "output_type": "stream",
     "text": [
      "Real: 117_frontal | Pred: 117_frontal | Score: 0.872 | Match: 1\n",
      "Real: Guillaume_Soro | Pred: Guillaume_Soro | Score: 0.672 | Match: 1\n",
      "Real: Cesar_Maia | Pred: Chea_Sophara | Score: 0.855 | Match: 0\n",
      "Real: Chea_Sophara | Pred: Chea_Sophara | Score: 0.844 | Match: 1\n",
      "Real: Jerry_Rice | Pred: Jerry_Rice | Score: 0.923 | Match: 1\n"
     ]
    },
    {
     "name": "stderr",
     "output_type": "stream",
     "text": [
      " 86%|████████▌ | 215/250 [12:24<02:25,  4.17s/it]"
     ]
    },
    {
     "name": "stdout",
     "output_type": "stream",
     "text": [
      "Real: 064_frontal | Pred: 064_frontal | Score: 1.000 | Match: 1\n",
      "Real: Joe_Cocker | Pred: Joe_Cocker | Score: 0.980 | Match: 1\n",
      "Real: Serge_Klarsfeld | Pred: Serge_Klarsfeld | Score: 0.848 | Match: 1\n",
      "Real: Janette_Husarova | Pred: Janette_Husarova | Score: 0.670 | Match: 1\n",
      "Real: Carlos_Salinas | Pred: Carlos_Salinas | Score: 0.573 | Match: 1\n"
     ]
    },
    {
     "name": "stderr",
     "output_type": "stream",
     "text": [
      " 86%|████████▋ | 216/250 [12:27<02:07,  3.76s/it]"
     ]
    },
    {
     "name": "stdout",
     "output_type": "stream",
     "text": [
      "Real: Christina_Sawaya | Pred: Christina_Sawaya | Score: 0.998 | Match: 1\n",
      "Real: Ana_Palacio | Pred: Janette_Husarova | Score: 0.742 | Match: 0\n",
      "Real: Nadia_Forte | Pred: Nadia_Forte | Score: 0.820 | Match: 1\n",
      "Real: Allen_Rock | Pred: Allen_Rock | Score: 0.514 | Match: 1\n",
      "Real: Janette_Husarova | Pred: Janette_Husarova | Score: 0.882 | Match: 1\n"
     ]
    },
    {
     "name": "stderr",
     "output_type": "stream",
     "text": [
      " 87%|████████▋ | 217/250 [12:31<02:04,  3.78s/it]"
     ]
    },
    {
     "name": "stdout",
     "output_type": "stream",
     "text": [
      "Real: Compay_Segundo | Pred: Compay_Segundo | Score: 0.938 | Match: 1\n",
      "Real: Chung_Mong-hun | Pred: Chung_Mong-hun | Score: 0.972 | Match: 1\n",
      "Real: Bob_Melvin | Pred: Compay_Segundo | Score: 0.556 | Match: 0\n",
      "Real: 056_frontal | Pred: 056_frontal | Score: 1.000 | Match: 1\n",
      "Real: Justin_Wilson | Pred: Compay_Segundo | Score: 0.699 | Match: 0\n"
     ]
    },
    {
     "name": "stderr",
     "output_type": "stream",
     "text": [
      " 87%|████████▋ | 218/250 [12:34<02:01,  3.80s/it]"
     ]
    },
    {
     "name": "stdout",
     "output_type": "stream",
     "text": [
      "Real: Pascal_Rheaume | Pred: Pascal_Rheaume | Score: 0.886 | Match: 1\n",
      "Real: Jacqueline_Gold | Pred: Jacqueline_Gold | Score: 0.796 | Match: 1\n",
      "Real: Peter_Shaw | Pred: Peter_Shaw | Score: 0.987 | Match: 1\n",
      "Real: Chris_Kolanas | Pred: Chris_Kolanas | Score: 0.808 | Match: 1\n",
      "Real: 056_frontal | Pred: 056_frontal | Score: 1.000 | Match: 1\n"
     ]
    },
    {
     "name": "stderr",
     "output_type": "stream",
     "text": [
      " 88%|████████▊ | 219/250 [12:38<01:58,  3.82s/it]"
     ]
    },
    {
     "name": "stdout",
     "output_type": "stream",
     "text": [
      "Real: Tom_Coughlin | Pred: Tom_Coughlin | Score: 0.591 | Match: 1\n",
      "Real: 029_frontal | Pred: 029_frontal | Score: 0.996 | Match: 1\n",
      "Real: Catherine_Deneuve | Pred: Catherine_Deneuve | Score: 0.519 | Match: 1\n",
      "Real: Janine_Pietsch | Pred: Janine_Pietsch | Score: 0.638 | Match: 1\n",
      "Real: Sean_Patrick_OMalley | Pred: Sean_Patrick_OMalley | Score: 0.556 | Match: 1\n"
     ]
    },
    {
     "name": "stderr",
     "output_type": "stream",
     "text": [
      " 88%|████████▊ | 220/250 [12:42<01:54,  3.83s/it]"
     ]
    },
    {
     "name": "stdout",
     "output_type": "stream",
     "text": [
      "Real: Roger_Cook | Pred: Roger_Cook | Score: 0.719 | Match: 1\n",
      "Real: 022_frontal | Pred: 022_frontal | Score: 1.000 | Match: 1\n",
      "Real: Andre_Bucher | Pred: Andre_Bucher | Score: 0.974 | Match: 1\n",
      "Real: Alfredo_Pena | Pred: Alfredo_Pena | Score: 0.539 | Match: 1\n",
      "Real: Darryl_Stingley | Pred: Darryl_Stingley | Score: 0.869 | Match: 1\n"
     ]
    },
    {
     "name": "stderr",
     "output_type": "stream",
     "text": [
      " 88%|████████▊ | 221/250 [12:45<01:40,  3.47s/it]"
     ]
    },
    {
     "name": "stdout",
     "output_type": "stream",
     "text": [
      "Real: Patricia_Heaton | Pred: Patricia_Heaton | Score: 0.992 | Match: 1\n",
      "Real: Anette_Hosoi | Pred: Anette_Hosoi | Score: 0.881 | Match: 1\n",
      "Real: Bill_OReilly | Pred: Bill_OReilly | Score: 0.968 | Match: 1\n",
      "Real: Princess_Anne | Pred: Princess_Anne | Score: 0.729 | Match: 1\n",
      "Real: John_Paul_DeJoria | Pred: John_Paul_DeJoria | Score: 0.998 | Match: 1\n"
     ]
    },
    {
     "name": "stderr",
     "output_type": "stream",
     "text": [
      " 89%|████████▉ | 222/250 [12:49<01:40,  3.58s/it]"
     ]
    },
    {
     "name": "stdout",
     "output_type": "stream",
     "text": [
      "Real: Michael_Leavitt | Pred: 094_frontal | Score: 0.527 | Match: 0\n",
      "Real: Cristian_Barros | Pred: Cristian_Barros | Score: 0.421 | Match: 1\n",
      "Real: Gianni_Agnelli | Pred: Michael_Leavitt | Score: 0.405 | Match: 0\n",
      "Real: 094_frontal | Pred: 094_frontal | Score: 0.600 | Match: 1\n",
      "Real: Serge_Klarsfeld | Pred: Serge_Klarsfeld | Score: 0.662 | Match: 1\n"
     ]
    },
    {
     "name": "stderr",
     "output_type": "stream",
     "text": [
      " 89%|████████▉ | 223/250 [12:55<02:01,  4.50s/it]"
     ]
    },
    {
     "name": "stdout",
     "output_type": "stream",
     "text": [
      "Real: 014_frontal | Pred: 014_frontal | Score: 0.913 | Match: 1\n",
      "Real: 020_frontal | Pred: 020_frontal | Score: 0.981 | Match: 1\n",
      "Real: Roger_Clemens | Pred: Roger_Clemens | Score: 0.947 | Match: 1\n",
      "Real: 109_frontal | Pred: 109_frontal | Score: 1.000 | Match: 1\n",
      "Real: Nadia_Forte | Pred: Nadia_Forte | Score: 0.923 | Match: 1\n"
     ]
    },
    {
     "name": "stderr",
     "output_type": "stream",
     "text": [
      " 90%|████████▉ | 224/250 [12:59<01:53,  4.36s/it]"
     ]
    },
    {
     "name": "stdout",
     "output_type": "stream",
     "text": [
      "Real: 022_frontal | Pred: 022_frontal | Score: 1.000 | Match: 1\n",
      "Real: Pete_Beaudrault | Pred: Pete_Beaudrault | Score: 0.974 | Match: 1\n",
      "Real: Adriana_Perez_Navarro | Pred: Adriana_Perez_Navarro | Score: 0.806 | Match: 1\n",
      "Real: Bryant_Young | Pred: Bryant_Young | Score: 1.000 | Match: 1\n",
      "Real: John_Edwards | Pred: John_Edwards | Score: 0.763 | Match: 1\n"
     ]
    },
    {
     "name": "stderr",
     "output_type": "stream",
     "text": [
      " 90%|█████████ | 225/250 [13:02<01:36,  3.85s/it]"
     ]
    },
    {
     "name": "stdout",
     "output_type": "stream",
     "text": [
      "Real: David_Obey | Pred: David_Obey | Score: 0.620 | Match: 1\n",
      "Real: Penelope_Ann_Miller | Pred: Penelope_Ann_Miller | Score: 0.993 | Match: 1\n",
      "Real: Patrick_Stewart | Pred: Patrick_Stewart | Score: 0.916 | Match: 1\n",
      "Real: Johnny_Benson | Pred: Johnny_Benson | Score: 0.931 | Match: 1\n",
      "Real: Ilan_Ramon | Pred: Ilan_Ramon | Score: 1.000 | Match: 1\n"
     ]
    },
    {
     "name": "stderr",
     "output_type": "stream",
     "text": [
      " 90%|█████████ | 226/250 [13:05<01:23,  3.50s/it]"
     ]
    },
    {
     "name": "stdout",
     "output_type": "stream",
     "text": [
      "Real: Aishwarya_Rai | Pred: Aishwarya_Rai | Score: 0.985 | Match: 1\n",
      "Real: Daniele_Hypolito | Pred: Daniele_Hypolito | Score: 0.985 | Match: 1\n",
      "Real: Tyler_Grillo | Pred: Tyler_Grillo | Score: 0.967 | Match: 1\n",
      "Real: Anthony_Hopkins | Pred: Anthony_Hopkins | Score: 0.998 | Match: 1\n",
      "Real: Bill_Butler | Pred: Bill_Butler | Score: 0.984 | Match: 1\n"
     ]
    },
    {
     "name": "stderr",
     "output_type": "stream",
     "text": [
      " 91%|█████████ | 227/250 [13:07<01:13,  3.22s/it]"
     ]
    },
    {
     "name": "stdout",
     "output_type": "stream",
     "text": [
      "Real: Brandon_Boyd | Pred: Brandon_Boyd | Score: 0.991 | Match: 1\n",
      "Real: Kevin_Garnett | Pred: Kevin_Garnett | Score: 1.000 | Match: 1\n",
      "Real: Win_Aung | Pred: George_Lopez | Score: 0.968 | Match: 0\n",
      "Real: Martin_Boryczewski | Pred: Martin_Boryczewski | Score: 0.629 | Match: 1\n",
      "Real: George_Lopez | Pred: George_Lopez | Score: 1.000 | Match: 1\n"
     ]
    },
    {
     "name": "stderr",
     "output_type": "stream",
     "text": [
      " 91%|█████████ | 228/250 [13:10<01:08,  3.10s/it]"
     ]
    },
    {
     "name": "stdout",
     "output_type": "stream",
     "text": [
      "Real: Jody_Richards | Pred: Jody_Richards | Score: 0.795 | Match: 1\n",
      "Real: Katie_Couric | Pred: Katie_Couric | Score: 0.990 | Match: 1\n",
      "Real: Joseph_LePore | Pred: Joseph_LePore | Score: 0.489 | Match: 1\n",
      "Real: Gary_Marshall | Pred: Gary_Marshall | Score: 0.737 | Match: 1\n",
      "Real: Alex_Gonzalez | Pred: Gary_Marshall | Score: 0.493 | Match: 0\n"
     ]
    },
    {
     "name": "stderr",
     "output_type": "stream",
     "text": [
      " 92%|█████████▏| 229/250 [13:15<01:17,  3.70s/it]"
     ]
    },
    {
     "name": "stdout",
     "output_type": "stream",
     "text": [
      "Real: 124_frontal | Pred: 124_frontal | Score: 1.000 | Match: 1\n",
      "Real: Valery_Giscard_dEstaing | Pred: Leo_Ramirez | Score: 0.726 | Match: 0\n",
      "Real: 029_frontal | Pred: 029_frontal | Score: 0.988 | Match: 1\n",
      "Real: Leo_Ramirez | Pred: Leo_Ramirez | Score: 0.952 | Match: 1\n",
      "Real: Andy_Garcia | Pred: Andy_Garcia | Score: 0.511 | Match: 1\n"
     ]
    },
    {
     "name": "stderr",
     "output_type": "stream",
     "text": [
      " 92%|█████████▏| 230/250 [13:19<01:15,  3.78s/it]"
     ]
    },
    {
     "name": "stdout",
     "output_type": "stream",
     "text": [
      "Real: 059_frontal | Pred: 059_frontal | Score: 0.971 | Match: 1\n",
      "Real: Tom_Hanks | Pred: Larry_Ralston | Score: 0.699 | Match: 0\n",
      "Real: Larry_Ralston | Pred: Larry_Ralston | Score: 0.908 | Match: 1\n",
      "Real: Robert_Ehrlich | Pred: Robert_Ehrlich | Score: 1.000 | Match: 1\n",
      "Real: Salma_Hayek | Pred: Salma_Hayek | Score: 0.752 | Match: 1\n"
     ]
    },
    {
     "name": "stderr",
     "output_type": "stream",
     "text": [
      " 92%|█████████▏| 231/250 [13:22<01:05,  3.42s/it]"
     ]
    },
    {
     "name": "stdout",
     "output_type": "stream",
     "text": [
      "Real: Margie_Puente | Pred: Margie_Puente | Score: 0.898 | Match: 1\n",
      "Real: Martin_Bandier | Pred: Martin_Bandier | Score: 0.805 | Match: 1\n",
      "Real: John_Connolly | Pred: John_Connolly | Score: 0.770 | Match: 1\n",
      "Real: Eric_Wedge | Pred: Eric_Wedge | Score: 0.747 | Match: 1\n",
      "Real: Bill_Byrne | Pred: Bill_Byrne | Score: 0.923 | Match: 1\n"
     ]
    },
    {
     "name": "stderr",
     "output_type": "stream",
     "text": [
      " 93%|█████████▎| 232/250 [13:26<01:04,  3.60s/it]"
     ]
    },
    {
     "name": "stdout",
     "output_type": "stream",
     "text": [
      "Real: 067_frontal | Pred: 067_frontal | Score: 1.000 | Match: 1\n",
      "Real: Milo_Maestrecampo | Pred: Milo_Maestrecampo | Score: 0.909 | Match: 1\n",
      "Real: Tim_Curry | Pred: Tim_Curry | Score: 0.947 | Match: 1\n",
      "Real: Pete_Beaudrault | Pred: Pete_Beaudrault | Score: 0.670 | Match: 1\n",
      "Real: Claudia_Cardinale | Pred: Claudia_Cardinale | Score: 0.986 | Match: 1\n"
     ]
    },
    {
     "name": "stderr",
     "output_type": "stream",
     "text": [
      " 93%|█████████▎| 233/250 [13:28<00:55,  3.29s/it]"
     ]
    },
    {
     "name": "stdout",
     "output_type": "stream",
     "text": [
      "Real: Sarah_Weddington | Pred: Sarah_Weddington | Score: 1.000 | Match: 1\n",
      "Real: Abdullatif_Sener | Pred: Abdullatif_Sener | Score: 0.779 | Match: 1\n",
      "Real: Malcolm_Glazer | Pred: Malcolm_Glazer | Score: 1.000 | Match: 1\n",
      "Real: Kellie_Coffey | Pred: Kellie_Coffey | Score: 0.971 | Match: 1\n",
      "Real: Penelope_Ann_Miller | Pred: Penelope_Ann_Miller | Score: 0.789 | Match: 1\n"
     ]
    },
    {
     "name": "stderr",
     "output_type": "stream",
     "text": [
      " 94%|█████████▎| 234/250 [13:31<00:50,  3.13s/it]"
     ]
    },
    {
     "name": "stdout",
     "output_type": "stream",
     "text": [
      "Real: Juan_Ignacio_Chela | Pred: Juan_Ignacio_Chela | Score: 0.667 | Match: 1\n",
      "Real: Monica_Seles | Pred: Allen_Iverson | Score: 0.459 | Match: 0\n",
      "Real: Allen_Iverson | Pred: Allen_Iverson | Score: 0.953 | Match: 1\n",
      "Real: Alexandra_Jackson | Pred: Alexandra_Jackson | Score: 0.894 | Match: 1\n",
      "Real: Antonio_Elias_Saca | Pred: Antonio_Elias_Saca | Score: 1.000 | Match: 1\n"
     ]
    },
    {
     "name": "stderr",
     "output_type": "stream",
     "text": [
      " 94%|█████████▍| 235/250 [13:35<00:50,  3.35s/it]"
     ]
    },
    {
     "name": "stdout",
     "output_type": "stream",
     "text": [
      "Real: Anthony_Pisciotti | Pred: Anthony_Pisciotti | Score: 0.959 | Match: 1\n",
      "Real: Vincent_Sombrotto | Pred: Vincent_Sombrotto | Score: 0.838 | Match: 1\n",
      "Real: David_Przybyszewski | Pred: David_Przybyszewski | Score: 0.986 | Match: 1\n",
      "Real: Patricia_Hearst | Pred: Patricia_Hearst | Score: 0.891 | Match: 1\n",
      "Real: 025_frontal | Pred: 025_frontal | Score: 1.000 | Match: 1\n"
     ]
    },
    {
     "name": "stderr",
     "output_type": "stream",
     "text": [
      " 94%|█████████▍| 236/250 [13:38<00:44,  3.17s/it]"
     ]
    },
    {
     "name": "stdout",
     "output_type": "stream",
     "text": [
      "Real: Svend_Aage_Jensby | Pred: Svend_Aage_Jensby | Score: 0.964 | Match: 1\n",
      "Real: Marilyn_Monroe | Pred: Marilyn_Monroe | Score: 0.851 | Match: 1\n",
      "Real: Laura_Marlow | Pred: Laura_Marlow | Score: 0.994 | Match: 1\n",
      "Real: Chance_Mock | Pred: Chance_Mock | Score: 0.999 | Match: 1\n",
      "Real: Ed_Sullivan | Pred: Svend_Aage_Jensby | Score: 0.504 | Match: 0\n"
     ]
    },
    {
     "name": "stderr",
     "output_type": "stream",
     "text": [
      " 95%|█████████▍| 237/250 [13:40<00:39,  3.02s/it]"
     ]
    },
    {
     "name": "stdout",
     "output_type": "stream",
     "text": [
      "Real: Kristanna_Loken | Pred: Sureyya_Ayhan | Score: 0.896 | Match: 0\n",
      "Real: Sureyya_Ayhan | Pred: Sureyya_Ayhan | Score: 0.907 | Match: 1\n",
      "Real: Amy_Pascal | Pred: Efrain_Rios_Montt | Score: 0.519 | Match: 0\n",
      "Real: Tim_Curry | Pred: Tim_Curry | Score: 0.955 | Match: 1\n",
      "Real: Efrain_Rios_Montt | Pred: Efrain_Rios_Montt | Score: 0.943 | Match: 1\n"
     ]
    },
    {
     "name": "stderr",
     "output_type": "stream",
     "text": [
      " 95%|█████████▌| 238/250 [13:43<00:34,  2.91s/it]"
     ]
    },
    {
     "name": "stdout",
     "output_type": "stream",
     "text": [
      "Real: Abdul_Majeed_Shobokshi | Pred: Abdul_Majeed_Shobokshi | Score: 0.854 | Match: 1\n",
      "Real: Garry_McCoy | Pred: Garry_McCoy | Score: 0.952 | Match: 1\n",
      "Real: Janine_Pietsch | Pred: Janine_Pietsch | Score: 0.768 | Match: 1\n",
      "Real: Diana_Ross | Pred: Diana_Ross | Score: 0.861 | Match: 1\n",
      "Real: Nathalie_Baye | Pred: Nathalie_Baye | Score: 0.682 | Match: 1\n"
     ]
    },
    {
     "name": "stderr",
     "output_type": "stream",
     "text": [
      " 96%|█████████▌| 239/250 [13:46<00:31,  2.84s/it]"
     ]
    },
    {
     "name": "stdout",
     "output_type": "stream",
     "text": [
      "Real: Brandon_Larson | Pred: Brandon_Larson | Score: 0.972 | Match: 1\n",
      "Real: Emmanuel_Milingo | Pred: Emmanuel_Milingo | Score: 0.794 | Match: 1\n",
      "Real: Steve_Austin | Pred: Steve_Austin | Score: 0.899 | Match: 1\n",
      "Real: Kristin_Davis | Pred: Brandon_Larson | Score: 0.671 | Match: 0\n",
      "Real: Cho_Myung-kyun | Pred: Cho_Myung-kyun | Score: 0.949 | Match: 1\n"
     ]
    },
    {
     "name": "stderr",
     "output_type": "stream",
     "text": [
      " 96%|█████████▌| 240/250 [13:50<00:31,  3.18s/it]"
     ]
    },
    {
     "name": "stdout",
     "output_type": "stream",
     "text": [
      "Real: Pat_Burns | Pred: Pat_Burns | Score: 0.932 | Match: 1\n",
      "Real: Mike_Sweeney | Pred: Mike_Sweeney | Score: 0.827 | Match: 1\n",
      "Real: 038_frontal | Pred: 038_frontal | Score: 0.995 | Match: 1\n",
      "Real: Turner_Gill | Pred: Turner_Gill | Score: 1.000 | Match: 1\n",
      "Real: Jim_Harrick | Pred: Mike_Sweeney | Score: 0.723 | Match: 0\n"
     ]
    },
    {
     "name": "stderr",
     "output_type": "stream",
     "text": [
      " 96%|█████████▋| 241/250 [13:54<00:30,  3.41s/it]"
     ]
    },
    {
     "name": "stdout",
     "output_type": "stream",
     "text": [
      "Real: Tiger_Woods | Pred: Tiger_Woods | Score: 0.478 | Match: 1\n",
      "Real: James_Lockhart | Pred: James_Lockhart | Score: 0.979 | Match: 1\n",
      "Real: 051_frontal | Pred: 051_frontal | Score: 0.999 | Match: 1\n",
      "Real: Greg_Hennigar | Pred: Greg_Hennigar | Score: 0.857 | Match: 1\n",
      "Real: Vincent_Sombrotto | Pred: Greg_Hennigar | Score: 0.710 | Match: 0\n"
     ]
    },
    {
     "name": "stderr",
     "output_type": "stream",
     "text": [
      " 97%|█████████▋| 242/250 [13:57<00:28,  3.56s/it]"
     ]
    },
    {
     "name": "stdout",
     "output_type": "stream",
     "text": [
      "Real: 119_frontal | Pred: 119_frontal | Score: 1.000 | Match: 1\n",
      "Real: Maria_Shriver | Pred: Jacqueline_Obradors | Score: 0.557 | Match: 0\n",
      "Real: Jacqueline_Obradors | Pred: Jacqueline_Obradors | Score: 0.867 | Match: 1\n",
      "Real: Li_Zhaoxing | Pred: 119_frontal | Score: 0.941 | Match: 0\n",
      "Real: Peter_Shaw | Pred: Peter_Shaw | Score: 0.973 | Match: 1\n"
     ]
    },
    {
     "name": "stderr",
     "output_type": "stream",
     "text": [
      " 97%|█████████▋| 243/250 [14:01<00:25,  3.66s/it]"
     ]
    },
    {
     "name": "stdout",
     "output_type": "stream",
     "text": [
      "Real: Douglas_Faneuil | Pred: Douglas_Faneuil | Score: 0.598 | Match: 1\n",
      "Real: 068_frontal | Pred: 068_frontal | Score: 1.000 | Match: 1\n",
      "Real: Donna_Walker | Pred: Donna_Walker | Score: 0.849 | Match: 1\n",
      "Real: Carlos_Savedra | Pred: Carlos_Savedra | Score: 0.990 | Match: 1\n",
      "Real: Sophia_Loren | Pred: Douglas_Faneuil | Score: 0.522 | Match: 0\n"
     ]
    },
    {
     "name": "stderr",
     "output_type": "stream",
     "text": [
      " 98%|█████████▊| 244/250 [14:04<00:20,  3.41s/it]"
     ]
    },
    {
     "name": "stdout",
     "output_type": "stream",
     "text": [
      "Real: Shireen_Amir_Begum | Pred: Shireen_Amir_Begum | Score: 0.968 | Match: 1\n",
      "Real: Brian_Schneider | Pred: Brian_Schneider | Score: 0.719 | Match: 1\n",
      "Real: Patrick_Stewart | Pred: Patrick_Stewart | Score: 0.924 | Match: 1\n",
      "Real: Justine_Pasek | Pred: Justine_Pasek | Score: 0.422 | Match: 1\n",
      "Real: Mirela_Manjani | Pred: Mirela_Manjani | Score: 1.000 | Match: 1\n"
     ]
    },
    {
     "name": "stderr",
     "output_type": "stream",
     "text": [
      " 98%|█████████▊| 245/250 [14:08<00:17,  3.53s/it]"
     ]
    },
    {
     "name": "stdout",
     "output_type": "stream",
     "text": [
      "Real: Amr_Moussa | Pred: Amr_Moussa | Score: 0.791 | Match: 1\n",
      "Real: 089_frontal | Pred: 089_frontal | Score: 0.903 | Match: 1\n",
      "Real: Ed_Case | Pred: Ed_Case | Score: 0.822 | Match: 1\n",
      "Real: Charlton_Heston | Pred: Charlton_Heston | Score: 0.761 | Match: 1\n",
      "Real: Barbara_Brezigar | Pred: Charlton_Heston | Score: 0.585 | Match: 0\n"
     ]
    },
    {
     "name": "stderr",
     "output_type": "stream",
     "text": [
      " 98%|█████████▊| 246/250 [14:12<00:14,  3.67s/it]"
     ]
    },
    {
     "name": "stdout",
     "output_type": "stream",
     "text": [
      "Real: Leslie_Wiser_Jr | Pred: Leslie_Wiser_Jr | Score: 1.000 | Match: 1\n",
      "Real: 029_frontal | Pred: 029_frontal | Score: 0.990 | Match: 1\n",
      "Real: Norodom_Sihanouk | Pred: Jose_Theodore | Score: 0.440 | Match: 0\n",
      "Real: Jose_Theodore | Pred: Jose_Theodore | Score: 0.953 | Match: 1\n",
      "Real: Betty_Garrison | Pred: Betty_Garrison | Score: 0.933 | Match: 1\n"
     ]
    },
    {
     "name": "stderr",
     "output_type": "stream",
     "text": [
      " 99%|█████████▉| 247/250 [14:17<00:12,  4.04s/it]"
     ]
    },
    {
     "name": "stdout",
     "output_type": "stream",
     "text": [
      "Real: Jolanta_Kwasniewski | Pred: Jolanta_Kwasniewski | Score: 0.533 | Match: 1\n",
      "Real: Ignatius_Wang | Pred: Ignatius_Wang | Score: 1.000 | Match: 1\n",
      "Real: 030_frontal | Pred: 122_frontal | Score: 0.716 | Match: 0\n",
      "Real: Roman_Tam | Pred: Roman_Tam | Score: 0.998 | Match: 1\n",
      "Real: 122_frontal | Pred: 122_frontal | Score: 0.833 | Match: 1\n"
     ]
    },
    {
     "name": "stderr",
     "output_type": "stream",
     "text": [
      " 99%|█████████▉| 248/250 [14:20<00:07,  3.64s/it]"
     ]
    },
    {
     "name": "stdout",
     "output_type": "stream",
     "text": [
      "Real: Yasushi_Akashi | Pred: Yasushi_Akashi | Score: 0.614 | Match: 1\n",
      "Real: Mark_Andrew | Pred: Mark_Andrew | Score: 0.955 | Match: 1\n",
      "Real: Marcos_Daniel_Jimenez | Pred: Marcos_Daniel_Jimenez | Score: 0.990 | Match: 1\n",
      "Real: Wang_Nan | Pred: Wang_Nan | Score: 1.000 | Match: 1\n",
      "Real: Kurt_Hellstrom | Pred: Kurt_Hellstrom | Score: 0.879 | Match: 1\n"
     ]
    },
    {
     "name": "stderr",
     "output_type": "stream",
     "text": [
      "100%|█████████▉| 249/250 [14:22<00:03,  3.32s/it]"
     ]
    },
    {
     "name": "stdout",
     "output_type": "stream",
     "text": [
      "Real: Richard_Rodriguez | Pred: Richard_Rodriguez | Score: 0.754 | Match: 1\n",
      "Real: Mikulas_Dzurinda | Pred: Mikulas_Dzurinda | Score: 0.897 | Match: 1\n",
      "Real: Sureyya_Ayhan | Pred: Sureyya_Ayhan | Score: 0.820 | Match: 1\n",
      "Real: Joan_Dangerfield | Pred: Joan_Dangerfield | Score: 0.982 | Match: 1\n",
      "Real: Doug_Moe | Pred: Doug_Moe | Score: 0.719 | Match: 1\n"
     ]
    },
    {
     "name": "stderr",
     "output_type": "stream",
     "text": [
      "100%|██████████| 250/250 [14:26<00:00,  3.47s/it]"
     ]
    },
    {
     "name": "stdout",
     "output_type": "stream",
     "text": [
      "Real: 088_frontal | Pred: 088_frontal | Score: 1.000 | Match: 1\n",
      "Real: Tammy_Helm | Pred: Tammy_Helm | Score: 0.769 | Match: 1\n",
      "Real: Alan_Tang_Kwong-wing | Pred: Alan_Tang_Kwong-wing | Score: 0.959 | Match: 1\n",
      "Real: Chin-Feng_Chen | Pred: Chin-Feng_Chen | Score: 0.936 | Match: 1\n",
      "Real: Shannon_OBrien | Pred: Shannon_OBrien | Score: 0.489 | Match: 1\n",
      "\n",
      "Test Results:\n",
      "Top-1 Accuracy: 0.8616\n",
      "Macro-averaged F1-Score: 0.8616\n"
     ]
    },
    {
     "name": "stderr",
     "output_type": "stream",
     "text": [
      "\n"
     ]
    }
   ],
   "source": [
    "# ========== Imports ========== #\n",
    "import os\n",
    "import random\n",
    "import torch\n",
    "import torch.nn as nn\n",
    "import torch.nn.functional as F\n",
    "import torchvision.models as models\n",
    "from torchvision import transforms\n",
    "from PIL import Image\n",
    "from tqdm import tqdm\n",
    "from sklearn.metrics import accuracy_score, f1_score\n",
    "\n",
    "# ========== Configuration ========== #\n",
    "DEVICE = torch.device('cuda' if torch.cuda.is_available() else 'cpu')\n",
    "TEST_ROOT = 'C:\\\\Users\\\\mrinmoy\\\\Desktop\\\\Comys_Hackathon5\\\\Comys_Hackathon5\\\\Task_B\\\\train'  # ✅ UPDATE to your dataset path\n",
    "IMG_SIZE = 224\n",
    "EMBED_DIM = 256\n",
    "N_WAY = 5\n",
    "N_SHOT = 5\n",
    "N_QUERY = 1\n",
    "TEST_EPISODES = 250\n",
    "MODEL_PATH = 'best_protonet.pth'  # ✅ Path to your saved model\n",
    "\n",
    "# ========== Image Transform ========== #\n",
    "transform = transforms.Compose([\n",
    "    transforms.Resize((IMG_SIZE, IMG_SIZE)),\n",
    "    transforms.ToTensor(),\n",
    "    transforms.Normalize([0.485, 0.456, 0.406], [0.229, 0.224, 0.225])\n",
    "])\n",
    "\n",
    "# ========== Dataset Class ========== #\n",
    "class FewShotDataset:\n",
    "    def __init__(self, root_dir, transform, n_shot=5, n_query=1):\n",
    "        self.root_dir = root_dir\n",
    "        self.transform = transform\n",
    "        self.n_shot = n_shot\n",
    "        self.n_query = n_query\n",
    "\n",
    "        self.classes = []\n",
    "        self.class_to_images = {}\n",
    "\n",
    "        for cls in os.listdir(root_dir):\n",
    "            class_path = os.path.join(root_dir, cls)\n",
    "            if not os.path.isdir(class_path):\n",
    "                continue\n",
    "\n",
    "            clean_images = [os.path.join(class_path, img) for img in os.listdir(class_path)\n",
    "                            if img.endswith('.jpg') and not os.path.isdir(os.path.join(class_path, img))]\n",
    "\n",
    "            distortion_path = os.path.join(class_path, 'distortion')\n",
    "            if os.path.exists(distortion_path):\n",
    "                distorted_images = [os.path.join(distortion_path, img) for img in os.listdir(distortion_path)\n",
    "                                    if img.endswith('.jpg')]\n",
    "            else:\n",
    "                distorted_images = []\n",
    "\n",
    "            if len(clean_images) >= self.n_query and len(distorted_images) >= self.n_shot:\n",
    "                self.classes.append(cls)\n",
    "                self.class_to_images[cls] = {'clean': clean_images, 'distorted': distorted_images}\n",
    "\n",
    "        if len(self.classes) == 0:\n",
    "            raise Exception(\"No valid classes found. Please check your dataset structure or sampling parameters.\")\n",
    "\n",
    "    def sample_episode(self, n_way=5):\n",
    "        if len(self.classes) < n_way:\n",
    "            raise Exception(f\"Not enough classes available. Requested: {n_way}, Available: {len(self.classes)}\")\n",
    "\n",
    "        while True:\n",
    "            selected_classes = random.sample(self.classes, n_way)\n",
    "\n",
    "            support_images = []\n",
    "            support_labels = []\n",
    "            query_images = []\n",
    "            query_labels = []\n",
    "\n",
    "            label_mapping = {cls: idx for idx, cls in enumerate(selected_classes)}\n",
    "            valid_episode = True\n",
    "\n",
    "            for cls in selected_classes:\n",
    "                clean_imgs = self.class_to_images[cls]['clean']\n",
    "                distorted_imgs = self.class_to_images[cls]['distorted']\n",
    "\n",
    "                if len(clean_imgs) < self.n_query or len(distorted_imgs) < self.n_shot:\n",
    "                    valid_episode = False\n",
    "                    break\n",
    "\n",
    "                support_samples = random.sample(distorted_imgs, self.n_shot)\n",
    "                query_samples = random.sample(clean_imgs, self.n_query)\n",
    "\n",
    "                for img_path in support_samples:\n",
    "                    img = Image.open(img_path).convert('RGB')\n",
    "                    support_images.append(self.transform(img))\n",
    "                    support_labels.append(label_mapping[cls])\n",
    "\n",
    "                for img_path in query_samples:\n",
    "                    img = Image.open(img_path).convert('RGB')\n",
    "                    query_images.append(self.transform(img))\n",
    "                    query_labels.append(label_mapping[cls])\n",
    "\n",
    "            if valid_episode and support_images and query_images:\n",
    "                return (torch.stack(support_images), torch.tensor(support_labels),\n",
    "                        torch.stack(query_images), torch.tensor(query_labels), label_mapping)\n",
    "\n",
    "# ========== Model ========== #\n",
    "class ProtoNet(nn.Module):\n",
    "    def __init__(self, embed_dim=EMBED_DIM):\n",
    "        super().__init__()\n",
    "        base = models.resnet18(pretrained=True)\n",
    "        self.features = nn.Sequential(*list(base.children())[:-1])\n",
    "        self.fc = nn.Linear(base.fc.in_features, embed_dim)\n",
    "\n",
    "    def forward(self, x):\n",
    "        x = self.features(x).squeeze()\n",
    "        return self.fc(x)\n",
    "\n",
    "# ========== Euclidean Distance and Prediction ========== #\n",
    "def euclidean_dist(a, b):\n",
    "    n = a.size(0)\n",
    "    m = b.size(0)\n",
    "    a = a.unsqueeze(1).expand(n, m, -1)\n",
    "    b = b.unsqueeze(0).expand(n, m, -1)\n",
    "    return torch.pow(a - b, 2).sum(2)\n",
    "\n",
    "def predict_protonet(support_embeddings, support_labels, query_embeddings, n_way):\n",
    "    prototypes = []\n",
    "    for c in range(n_way):\n",
    "        class_mask = (support_labels == c)\n",
    "        class_embeddings = support_embeddings[class_mask]\n",
    "        class_proto = class_embeddings.mean(0)\n",
    "        prototypes.append(class_proto)\n",
    "    prototypes = torch.stack(prototypes)\n",
    "    dists = euclidean_dist(query_embeddings, prototypes)\n",
    "    scores = -dists\n",
    "    return scores\n",
    "\n",
    "# ========== Test Script ========== #\n",
    "def test_protonet(model, test_dataset, device, n_way=5, n_shot=5, n_query=1, episodes=250):\n",
    "    model.eval()\n",
    "    all_preds = []\n",
    "    all_labels = []\n",
    "\n",
    "    for _ in tqdm(range(episodes)):\n",
    "        support_x, support_y, query_x, query_y, label_mapping = test_dataset.sample_episode(n_way)\n",
    "\n",
    "        idx_to_class = {v: k for k, v in label_mapping.items()}\n",
    "\n",
    "        support_x, support_y = support_x.to(device), support_y.to(device)\n",
    "        query_x, query_y = query_x.to(device), query_y.to(device)\n",
    "\n",
    "        with torch.no_grad():\n",
    "            support_emb = model(support_x)\n",
    "            query_emb = model(query_x)\n",
    "            logits = predict_protonet(support_emb, support_y, query_emb, n_way)\n",
    "            probs = F.softmax(logits, dim=1)\n",
    "            preds = logits.argmax(1).cpu().numpy()\n",
    "            true_labels = query_y.cpu().numpy()\n",
    "\n",
    "        all_preds.extend(preds)\n",
    "        all_labels.extend(true_labels)\n",
    "\n",
    "        probs = probs.cpu().numpy()\n",
    "        for i in range(len(preds)):\n",
    "            true_class = idx_to_class[true_labels[i]]\n",
    "            pred_class = idx_to_class[preds[i]]\n",
    "            confidence_score = probs[i][preds[i]]\n",
    "            match = 1 if preds[i] == true_labels[i] else 0\n",
    "\n",
    "            print(f\"Real: {true_class} | Pred: {pred_class} | Score: {confidence_score:.3f} | Match: {match}\")\n",
    "\n",
    "    # Overall Metrics\n",
    "    top1_acc = accuracy_score(all_labels, all_preds)\n",
    "    macro_f1 = f1_score(all_labels, all_preds, average='macro')\n",
    "\n",
    "    print(f\"\\nTest Results:\")\n",
    "    print(f\"Top-1 Accuracy: {top1_acc:.4f}\")\n",
    "    print(f\"Macro-averaged F1-Score: {macro_f1:.4f}\")\n",
    "\n",
    "# ========== Main Execution ========== #\n",
    "if __name__ == \"__main__\":\n",
    "    # Load model\n",
    "    model = ProtoNet().to(DEVICE)\n",
    "    model.load_state_dict(torch.load(MODEL_PATH, map_location=torch.device('cpu')))\n",
    "\n",
    "    # Load test dataset\n",
    "    test_dataset = FewShotDataset(TEST_ROOT, transform, n_shot=N_SHOT, n_query=N_QUERY)\n",
    "\n",
    "    # Run test\n",
    "    test_protonet(model, test_dataset, DEVICE, n_way=N_WAY, n_shot=N_SHOT, n_query=N_QUERY, episodes=TEST_EPISODES)\n"
   ]
  }
 ],
 "metadata": {
  "kernelspec": {
   "display_name": "base",
   "language": "python",
   "name": "python3"
  },
  "language_info": {
   "codemirror_mode": {
    "name": "ipython",
    "version": 3
   },
   "file_extension": ".py",
   "mimetype": "text/x-python",
   "name": "python",
   "nbconvert_exporter": "python",
   "pygments_lexer": "ipython3",
   "version": "3.12.7"
  }
 },
 "nbformat": 4,
 "nbformat_minor": 5
}
