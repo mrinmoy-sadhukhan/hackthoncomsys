{
 "cells": [
  {
   "cell_type": "code",
   "execution_count": 1,
   "metadata": {},
   "outputs": [
    {
     "name": "stderr",
     "output_type": "stream",
     "text": [
      "c:\\Users\\mrinmoy\\anaconda3\\Lib\\site-packages\\torchvision\\models\\_utils.py:208: UserWarning: The parameter 'pretrained' is deprecated since 0.13 and may be removed in the future, please use 'weights' instead.\n",
      "  warnings.warn(\n",
      "c:\\Users\\mrinmoy\\anaconda3\\Lib\\site-packages\\torchvision\\models\\_utils.py:223: UserWarning: Arguments other than a weight enum or `None` for 'weights' are deprecated since 0.13 and may be removed in the future. The current behavior is equivalent to passing `weights=ResNet18_Weights.IMAGENET1K_V1`. You can also use `weights=ResNet18_Weights.DEFAULT` to get the most up-to-date weights.\n",
      "  warnings.warn(msg)\n",
      "  0%|          | 1/250 [00:07<29:47,  7.18s/it]"
     ]
    },
    {
     "name": "stdout",
     "output_type": "stream",
     "text": [
      "Real: Bill_Lerach | Pred: Bill_Lerach | Score: 0.878 | Match: 1\n",
      "Real: Lionel_Richie | Pred: Lionel_Richie | Score: 0.954 | Match: 1\n",
      "Real: Daryl_Hannah | Pred: Bill_Lerach | Score: 0.601 | Match: 0\n",
      "Real: Hans_Eichel | Pred: Hans_Eichel | Score: 0.935 | Match: 1\n",
      "Real: Hank_Aaron | Pred: Hank_Aaron | Score: 0.839 | Match: 1\n"
     ]
    },
    {
     "name": "stderr",
     "output_type": "stream",
     "text": [
      "  1%|          | 2/250 [00:12<25:27,  6.16s/it]"
     ]
    },
    {
     "name": "stdout",
     "output_type": "stream",
     "text": [
      "Real: Lea_Fastow | Pred: Lennart_Johansson | Score: 0.976 | Match: 0\n",
      "Real: David_McCallum | Pred: David_McCallum | Score: 0.893 | Match: 1\n",
      "Real: Lennart_Johansson | Pred: Lennart_Johansson | Score: 1.000 | Match: 1\n",
      "Real: Marc_Anthony | Pred: Marc_Anthony | Score: 0.892 | Match: 1\n",
      "Real: Carl_Levin | Pred: Carl_Levin | Score: 0.977 | Match: 1\n"
     ]
    },
    {
     "name": "stderr",
     "output_type": "stream",
     "text": [
      "  1%|          | 3/250 [00:18<23:58,  5.82s/it]"
     ]
    },
    {
     "name": "stdout",
     "output_type": "stream",
     "text": [
      "Real: Steve_Zahn | Pred: Steve_Zahn | Score: 0.829 | Match: 1\n",
      "Real: Melana_Scantlin | Pred: Melana_Scantlin | Score: 0.796 | Match: 1\n",
      "Real: Mike_Sherman | Pred: Mike_Sherman | Score: 0.964 | Match: 1\n",
      "Real: Ray_Allen | Pred: Melana_Scantlin | Score: 0.512 | Match: 0\n",
      "Real: Queen_Noor | Pred: Queen_Noor | Score: 0.466 | Match: 1\n"
     ]
    },
    {
     "name": "stderr",
     "output_type": "stream",
     "text": [
      "  2%|▏         | 4/250 [00:27<29:42,  7.25s/it]"
     ]
    },
    {
     "name": "stdout",
     "output_type": "stream",
     "text": [
      "Real: Ai_Sugiyama | Pred: Ai_Sugiyama | Score: 0.581 | Match: 1\n",
      "Real: 098_frontal | Pred: 098_frontal | Score: 0.976 | Match: 1\n",
      "Real: Paul_Bremer | Pred: Gus_Van_Sant | Score: 0.706 | Match: 0\n",
      "Real: Gus_Van_Sant | Pred: Paul_Bremer | Score: 0.848 | Match: 0\n",
      "Real: Malak_Habbak | Pred: Malak_Habbak | Score: 0.965 | Match: 1\n"
     ]
    },
    {
     "name": "stderr",
     "output_type": "stream",
     "text": [
      "  2%|▏         | 5/250 [00:35<31:07,  7.62s/it]"
     ]
    },
    {
     "name": "stdout",
     "output_type": "stream",
     "text": [
      "Real: Steve_Phillips | Pred: Steve_Phillips | Score: 0.447 | Match: 1\n",
      "Real: 052_frontal | Pred: 052_frontal | Score: 0.995 | Match: 1\n",
      "Real: Daryl_Smith | Pred: Daryl_Smith | Score: 0.771 | Match: 1\n",
      "Real: Bruce_Weber | Pred: 083_frontal | Score: 0.997 | Match: 0\n",
      "Real: 083_frontal | Pred: 083_frontal | Score: 1.000 | Match: 1\n"
     ]
    },
    {
     "name": "stderr",
     "output_type": "stream",
     "text": [
      "  2%|▏         | 6/250 [00:39<25:45,  6.34s/it]"
     ]
    },
    {
     "name": "stdout",
     "output_type": "stream",
     "text": [
      "Real: Alexandre_Vinokourov | Pred: Alexandre_Vinokourov | Score: 0.992 | Match: 1\n",
      "Real: Aretha_Franklin | Pred: Aretha_Franklin | Score: 0.628 | Match: 1\n",
      "Real: Ren_Qingjin | Pred: Ren_Qingjin | Score: 0.443 | Match: 1\n",
      "Real: Michael_Kirby | Pred: Michael_Kirby | Score: 0.728 | Match: 1\n",
      "Real: Kai-Uwe_Ricke | Pred: Kai-Uwe_Ricke | Score: 0.928 | Match: 1\n"
     ]
    },
    {
     "name": "stderr",
     "output_type": "stream",
     "text": [
      "  3%|▎         | 7/250 [00:47<27:30,  6.79s/it]"
     ]
    },
    {
     "name": "stdout",
     "output_type": "stream",
     "text": [
      "Real: Paola_Espinoza | Pred: Paola_Espinoza | Score: 1.000 | Match: 1\n",
      "Real: Rina_Lazo | Pred: Rina_Lazo | Score: 0.995 | Match: 1\n",
      "Real: 061_frontal | Pred: 061_frontal | Score: 1.000 | Match: 1\n",
      "Real: Francisco_Flores | Pred: Francisco_Flores | Score: 0.554 | Match: 1\n",
      "Real: David_McCallum | Pred: David_McCallum | Score: 0.898 | Match: 1\n"
     ]
    },
    {
     "name": "stderr",
     "output_type": "stream",
     "text": [
      "  3%|▎         | 8/250 [00:52<25:29,  6.32s/it]"
     ]
    },
    {
     "name": "stdout",
     "output_type": "stream",
     "text": [
      "Real: Viara_Vike-Freiberga | Pred: Viara_Vike-Freiberga | Score: 0.553 | Match: 1\n",
      "Real: Steven_Curtis_Chapman | Pred: Steven_Curtis_Chapman | Score: 0.913 | Match: 1\n",
      "Real: Nora_Bendijo | Pred: Nora_Bendijo | Score: 0.931 | Match: 1\n",
      "Real: Jessica_Brungo | Pred: Jessica_Brungo | Score: 0.673 | Match: 1\n",
      "Real: Paul_William_Hurley | Pred: Paul_William_Hurley | Score: 0.998 | Match: 1\n"
     ]
    },
    {
     "name": "stderr",
     "output_type": "stream",
     "text": [
      "  4%|▎         | 9/250 [01:01<28:16,  7.04s/it]"
     ]
    },
    {
     "name": "stdout",
     "output_type": "stream",
     "text": [
      "Real: Jeri_Ryan | Pred: Jeri_Ryan | Score: 0.589 | Match: 1\n",
      "Real: 033_frontal | Pred: 033_frontal | Score: 1.000 | Match: 1\n",
      "Real: 098_frontal | Pred: 098_frontal | Score: 0.985 | Match: 1\n",
      "Real: George_Blaney | Pred: George_Blaney | Score: 0.994 | Match: 1\n",
      "Real: Mitzi_Gaynor | Pred: Mitzi_Gaynor | Score: 0.621 | Match: 1\n"
     ]
    },
    {
     "name": "stderr",
     "output_type": "stream",
     "text": [
      "  4%|▍         | 10/250 [01:05<24:49,  6.20s/it]"
     ]
    },
    {
     "name": "stdout",
     "output_type": "stream",
     "text": [
      "Real: Jake_Gyllenhaal | Pred: Mukesh_Ambani | Score: 0.990 | Match: 0\n",
      "Real: Mitzi_Gaynor | Pred: Mitzi_Gaynor | Score: 0.775 | Match: 1\n",
      "Real: Mukesh_Ambani | Pred: Jake_Gyllenhaal | Score: 0.644 | Match: 0\n",
      "Real: Edina_Batar | Pred: Edina_Batar | Score: 0.993 | Match: 1\n",
      "Real: Mark_Broxmeyer | Pred: Mark_Broxmeyer | Score: 0.969 | Match: 1\n"
     ]
    },
    {
     "name": "stderr",
     "output_type": "stream",
     "text": [
      "  4%|▍         | 11/250 [01:13<26:40,  6.70s/it]"
     ]
    },
    {
     "name": "stdout",
     "output_type": "stream",
     "text": [
      "Real: James_Brown | Pred: James_Brown | Score: 0.999 | Match: 1\n",
      "Real: Ray_Allen | Pred: Ray_Allen | Score: 0.885 | Match: 1\n",
      "Real: 079_frontal | Pred: 079_frontal | Score: 1.000 | Match: 1\n",
      "Real: Jennifer_Keller | Pred: Jennifer_Keller | Score: 0.582 | Match: 1\n",
      "Real: Mitzi_Gaynor | Pred: Mitzi_Gaynor | Score: 0.537 | Match: 1\n"
     ]
    },
    {
     "name": "stderr",
     "output_type": "stream",
     "text": [
      "  5%|▍         | 12/250 [01:18<24:42,  6.23s/it]"
     ]
    },
    {
     "name": "stdout",
     "output_type": "stream",
     "text": [
      "Real: Jennifer_Keller | Pred: Jennifer_Keller | Score: 0.975 | Match: 1\n",
      "Real: Johan_Bruyneel | Pred: Johan_Bruyneel | Score: 1.000 | Match: 1\n",
      "Real: Roberto_Guaterroma | Pred: Roberto_Guaterroma | Score: 0.774 | Match: 1\n",
      "Real: Khaled_Sawalhi | Pred: Khaled_Sawalhi | Score: 0.825 | Match: 1\n",
      "Real: Adrian_Nastase | Pred: Adrian_Nastase | Score: 0.634 | Match: 1\n"
     ]
    },
    {
     "name": "stderr",
     "output_type": "stream",
     "text": [
      "  5%|▌         | 13/250 [01:24<24:09,  6.12s/it]"
     ]
    },
    {
     "name": "stdout",
     "output_type": "stream",
     "text": [
      "Real: Colleen_Ryan | Pred: Colleen_Ryan | Score: 0.871 | Match: 1\n",
      "Real: William_Cocksedge | Pred: William_Cocksedge | Score: 0.999 | Match: 1\n",
      "Real: Clive_Woodward | Pred: Clive_Woodward | Score: 0.890 | Match: 1\n",
      "Real: Nora_Bendijo | Pred: Nora_Bendijo | Score: 0.622 | Match: 1\n",
      "Real: TA_McLendon | Pred: TA_McLendon | Score: 0.999 | Match: 1\n"
     ]
    },
    {
     "name": "stderr",
     "output_type": "stream",
     "text": [
      "  6%|▌         | 14/250 [01:32<26:35,  6.76s/it]"
     ]
    },
    {
     "name": "stdout",
     "output_type": "stream",
     "text": [
      "Real: Paul_Bremer | Pred: Mario_Lobo_Zagallo | Score: 0.889 | Match: 0\n",
      "Real: James_Butts | Pred: Donald_Trump | Score: 0.528 | Match: 0\n",
      "Real: Mario_Lobo_Zagallo | Pred: Mario_Lobo_Zagallo | Score: 0.935 | Match: 1\n",
      "Real: Dick_Posthumus | Pred: Dick_Posthumus | Score: 0.838 | Match: 1\n",
      "Real: Donald_Trump | Pred: Donald_Trump | Score: 0.973 | Match: 1\n"
     ]
    },
    {
     "name": "stderr",
     "output_type": "stream",
     "text": [
      "  6%|▌         | 15/250 [01:47<35:34,  9.08s/it]"
     ]
    },
    {
     "name": "stdout",
     "output_type": "stream",
     "text": [
      "Real: 080_frontal | Pred: 080_frontal | Score: 0.997 | Match: 1\n",
      "Real: Buddy_Ryan | Pred: Buddy_Ryan | Score: 0.962 | Match: 1\n",
      "Real: James_Hoffa | Pred: James_Hoffa | Score: 0.885 | Match: 1\n",
      "Real: 105_frontal | Pred: 105_frontal | Score: 1.000 | Match: 1\n",
      "Real: Billy_Gilman | Pred: Billy_Gilman | Score: 0.885 | Match: 1\n"
     ]
    },
    {
     "name": "stderr",
     "output_type": "stream",
     "text": [
      "  6%|▋         | 16/250 [02:15<57:48, 14.82s/it]"
     ]
    },
    {
     "name": "stdout",
     "output_type": "stream",
     "text": [
      "Real: 069_frontal | Pred: 069_frontal | Score: 0.996 | Match: 1\n",
      "Real: Nora_Bendijo | Pred: Nora_Bendijo | Score: 0.568 | Match: 1\n",
      "Real: Ghassan_Elashi | Pred: Ghassan_Elashi | Score: 0.824 | Match: 1\n",
      "Real: 112_frontal | Pred: 112_frontal | Score: 0.774 | Match: 1\n",
      "Real: Melana_Scantlin | Pred: Melana_Scantlin | Score: 0.988 | Match: 1\n"
     ]
    },
    {
     "name": "stderr",
     "output_type": "stream",
     "text": [
      "  7%|▋         | 17/250 [02:25<52:35, 13.54s/it]"
     ]
    },
    {
     "name": "stdout",
     "output_type": "stream",
     "text": [
      "Real: 033_frontal | Pred: 033_frontal | Score: 1.000 | Match: 1\n",
      "Real: Mitzi_Gaynor | Pred: Mitzi_Gaynor | Score: 0.945 | Match: 1\n",
      "Real: Mike_Maroth | Pred: Mike_Maroth | Score: 0.993 | Match: 1\n",
      "Real: Colleen_Ryan | Pred: Colleen_Ryan | Score: 0.992 | Match: 1\n",
      "Real: Gregorio_Rosal | Pred: Gregorio_Rosal | Score: 0.998 | Match: 1\n"
     ]
    },
    {
     "name": "stderr",
     "output_type": "stream",
     "text": [
      "  7%|▋         | 18/250 [02:37<49:41, 12.85s/it]"
     ]
    },
    {
     "name": "stdout",
     "output_type": "stream",
     "text": [
      "Real: Chris_Columbus | Pred: Chris_Columbus | Score: 0.639 | Match: 1\n",
      "Real: 120_frontal | Pred: 120_frontal | Score: 0.972 | Match: 1\n",
      "Real: Aparna_Pillai | Pred: Aparna_Pillai | Score: 0.954 | Match: 1\n",
      "Real: Sheila_Fraser | Pred: Sheila_Fraser | Score: 0.863 | Match: 1\n",
      "Real: 084_frontal | Pred: 084_frontal | Score: 0.953 | Match: 1\n"
     ]
    },
    {
     "name": "stderr",
     "output_type": "stream",
     "text": [
      "  8%|▊         | 19/250 [02:46<45:18, 11.77s/it]"
     ]
    },
    {
     "name": "stdout",
     "output_type": "stream",
     "text": [
      "Real: 061_frontal | Pred: 061_frontal | Score: 1.000 | Match: 1\n",
      "Real: Alicia_Molik | Pred: Alicia_Molik | Score: 1.000 | Match: 1\n",
      "Real: Milan_Kucan | Pred: Milan_Kucan | Score: 0.999 | Match: 1\n",
      "Real: George_Blaney | Pred: George_Blaney | Score: 0.965 | Match: 1\n",
      "Real: Wen_Jiabao | Pred: Milan_Kucan | Score: 0.936 | Match: 0\n"
     ]
    },
    {
     "name": "stderr",
     "output_type": "stream",
     "text": [
      "  8%|▊         | 20/250 [02:51<37:23,  9.75s/it]"
     ]
    },
    {
     "name": "stdout",
     "output_type": "stream",
     "text": [
      "Real: Juan_Francisco_Palencia | Pred: Juan_Francisco_Palencia | Score: 1.000 | Match: 1\n",
      "Real: Steve_Cox | Pred: Steve_Cox | Score: 0.886 | Match: 1\n",
      "Real: Hunter_Kemper | Pred: Hunter_Kemper | Score: 0.999 | Match: 1\n",
      "Real: John_Philip_Elkann | Pred: John_Philip_Elkann | Score: 0.929 | Match: 1\n",
      "Real: Chris_Columbus | Pred: Chris_Columbus | Score: 0.811 | Match: 1\n"
     ]
    },
    {
     "name": "stderr",
     "output_type": "stream",
     "text": [
      "  8%|▊         | 21/250 [02:58<33:52,  8.87s/it]"
     ]
    },
    {
     "name": "stdout",
     "output_type": "stream",
     "text": [
      "Real: Martin_Brodeur | Pred: Martin_Brodeur | Score: 0.997 | Match: 1\n",
      "Real: Ren_Qingjin | Pred: Ren_Qingjin | Score: 0.690 | Match: 1\n",
      "Real: Yoon_Young-kwan | Pred: Yoon_Young-kwan | Score: 0.979 | Match: 1\n",
      "Real: Ghassan_Elashi | Pred: 041_frontal | Score: 0.884 | Match: 0\n",
      "Real: 041_frontal | Pred: 041_frontal | Score: 1.000 | Match: 1\n"
     ]
    },
    {
     "name": "stderr",
     "output_type": "stream",
     "text": [
      "  9%|▉         | 22/250 [03:03<29:26,  7.75s/it]"
     ]
    },
    {
     "name": "stdout",
     "output_type": "stream",
     "text": [
      "Real: Roger_King | Pred: Roger_King | Score: 0.905 | Match: 1\n",
      "Real: Mariano_Zabaleta | Pred: Mariano_Zabaleta | Score: 0.965 | Match: 1\n",
      "Real: Dany_Heatley | Pred: Dany_Heatley | Score: 0.616 | Match: 1\n",
      "Real: Troy_Hudson | Pred: Troy_Hudson | Score: 0.946 | Match: 1\n",
      "Real: Billy_Gilman | Pred: Billy_Gilman | Score: 0.906 | Match: 1\n"
     ]
    },
    {
     "name": "stderr",
     "output_type": "stream",
     "text": [
      "  9%|▉         | 23/250 [03:10<28:30,  7.53s/it]"
     ]
    },
    {
     "name": "stdout",
     "output_type": "stream",
     "text": [
      "Real: Bing_Crosby | Pred: Bing_Crosby | Score: 0.959 | Match: 1\n",
      "Real: 112_frontal | Pred: 112_frontal | Score: 0.885 | Match: 1\n",
      "Real: 034_frontal | Pred: 034_frontal | Score: 0.961 | Match: 1\n",
      "Real: Cate_Blanchett | Pred: Cate_Blanchett | Score: 0.927 | Match: 1\n",
      "Real: George_Blaney | Pred: George_Blaney | Score: 0.829 | Match: 1\n"
     ]
    },
    {
     "name": "stderr",
     "output_type": "stream",
     "text": [
      " 10%|▉         | 24/250 [03:16<26:56,  7.15s/it]"
     ]
    },
    {
     "name": "stdout",
     "output_type": "stream",
     "text": [
      "Real: Dick_Posthumus | Pred: Dick_Posthumus | Score: 0.915 | Match: 1\n",
      "Real: Gary_Bettman | Pred: Gary_Bettman | Score: 0.849 | Match: 1\n",
      "Real: Carl_Levin | Pred: Carl_Levin | Score: 1.000 | Match: 1\n",
      "Real: David_Hannay | Pred: David_Hannay | Score: 0.993 | Match: 1\n",
      "Real: Jesper_Parnevik | Pred: Jesper_Parnevik | Score: 1.000 | Match: 1\n"
     ]
    },
    {
     "name": "stderr",
     "output_type": "stream",
     "text": [
      " 10%|█         | 25/250 [03:22<25:22,  6.77s/it]"
     ]
    },
    {
     "name": "stdout",
     "output_type": "stream",
     "text": [
      "Real: Tomoko_Hagiwara | Pred: Tomoko_Hagiwara | Score: 1.000 | Match: 1\n",
      "Real: Michele_Placido | Pred: Michele_Placido | Score: 1.000 | Match: 1\n",
      "Real: Paul_Burrell | Pred: Paul_Burrell | Score: 0.841 | Match: 1\n",
      "Real: Yoon_Young-kwan | Pred: Yoon_Young-kwan | Score: 0.872 | Match: 1\n",
      "Real: Aaron_Peirsol | Pred: Michele_Placido | Score: 0.832 | Match: 0\n"
     ]
    },
    {
     "name": "stderr",
     "output_type": "stream",
     "text": [
      " 10%|█         | 26/250 [03:26<22:34,  6.05s/it]"
     ]
    },
    {
     "name": "stdout",
     "output_type": "stream",
     "text": [
      "Real: Yoon_Young-kwan | Pred: Yoon_Young-kwan | Score: 0.931 | Match: 1\n",
      "Real: Paul_William_Hurley | Pred: Paul_William_Hurley | Score: 0.740 | Match: 1\n",
      "Real: Gene_Autry | Pred: Gene_Autry | Score: 1.000 | Match: 1\n",
      "Real: Garry_Kasparov | Pred: Garry_Kasparov | Score: 0.704 | Match: 1\n",
      "Real: Matt_Braker | Pred: Matt_Braker | Score: 0.377 | Match: 1\n"
     ]
    },
    {
     "name": "stderr",
     "output_type": "stream",
     "text": [
      " 11%|█         | 27/250 [03:32<22:01,  5.92s/it]"
     ]
    },
    {
     "name": "stdout",
     "output_type": "stream",
     "text": [
      "Real: Mariano_Zabaleta | Pred: Mariano_Zabaleta | Score: 0.941 | Match: 1\n",
      "Real: Mike_Maroth | Pred: Mike_Maroth | Score: 0.881 | Match: 1\n",
      "Real: Ray_Allen | Pred: Dennis_Powell | Score: 0.521 | Match: 0\n",
      "Real: Dennis_Powell | Pred: Dennis_Powell | Score: 0.991 | Match: 1\n",
      "Real: Hunter_Kemper | Pred: Hunter_Kemper | Score: 0.999 | Match: 1\n"
     ]
    },
    {
     "name": "stderr",
     "output_type": "stream",
     "text": [
      " 11%|█         | 28/250 [03:42<26:33,  7.18s/it]"
     ]
    },
    {
     "name": "stdout",
     "output_type": "stream",
     "text": [
      "Real: 070_frontal | Pred: 070_frontal | Score: 0.747 | Match: 1\n",
      "Real: Lionel_Richie | Pred: Lionel_Richie | Score: 0.952 | Match: 1\n",
      "Real: Hrithik_Roshan | Pred: Hrithik_Roshan | Score: 0.990 | Match: 1\n",
      "Real: Ren_Qingjin | Pred: Ren_Qingjin | Score: 0.620 | Match: 1\n",
      "Real: 061_frontal | Pred: 070_frontal | Score: 0.776 | Match: 0\n"
     ]
    },
    {
     "name": "stderr",
     "output_type": "stream",
     "text": [
      " 12%|█▏        | 29/250 [03:49<26:07,  7.09s/it]"
     ]
    },
    {
     "name": "stdout",
     "output_type": "stream",
     "text": [
      "Real: 108_frontal | Pred: 108_frontal | Score: 1.000 | Match: 1\n",
      "Real: Christian_Von_Wernich | Pred: 108_frontal | Score: 0.949 | Match: 0\n",
      "Real: Gloria_Gaynor | Pred: Gloria_Gaynor | Score: 0.998 | Match: 1\n",
      "Real: Daryl_Hannah | Pred: Gloria_Gaynor | Score: 0.812 | Match: 0\n",
      "Real: Oliver_Stone | Pred: Oliver_Stone | Score: 0.968 | Match: 1\n"
     ]
    },
    {
     "name": "stderr",
     "output_type": "stream",
     "text": [
      " 12%|█▏        | 30/250 [04:02<32:20,  8.82s/it]"
     ]
    },
    {
     "name": "stdout",
     "output_type": "stream",
     "text": [
      "Real: 018_frontal | Pred: 018_frontal | Score: 0.954 | Match: 1\n",
      "Real: Duane_Lee_Chapman | Pred: Duane_Lee_Chapman | Score: 0.997 | Match: 1\n",
      "Real: Adrian_Nastase | Pred: Harrison_Ford | Score: 0.694 | Match: 0\n",
      "Real: 079_frontal | Pred: 079_frontal | Score: 0.999 | Match: 1\n",
      "Real: Harrison_Ford | Pred: 018_frontal | Score: 0.639 | Match: 0\n"
     ]
    },
    {
     "name": "stderr",
     "output_type": "stream",
     "text": [
      " 12%|█▏        | 31/250 [04:06<27:28,  7.53s/it]"
     ]
    },
    {
     "name": "stdout",
     "output_type": "stream",
     "text": [
      "Real: Lutz_Freitag | Pred: Lutz_Freitag | Score: 0.998 | Match: 1\n",
      "Real: David_Hannay | Pred: David_Hannay | Score: 1.000 | Match: 1\n",
      "Real: Ralph_Firman | Pred: Ralph_Firman | Score: 0.993 | Match: 1\n",
      "Real: George_Blaney | Pred: George_Blaney | Score: 0.988 | Match: 1\n",
      "Real: Martin_Luther_King_III | Pred: Martin_Luther_King_III | Score: 0.960 | Match: 1\n"
     ]
    },
    {
     "name": "stderr",
     "output_type": "stream",
     "text": [
      " 13%|█▎        | 32/250 [04:22<36:11,  9.96s/it]"
     ]
    },
    {
     "name": "stdout",
     "output_type": "stream",
     "text": [
      "Real: Garry_Kasparov | Pred: Deece_Eckstein | Score: 0.619 | Match: 0\n",
      "Real: Mitzi_Gaynor | Pred: Mitzi_Gaynor | Score: 0.919 | Match: 1\n",
      "Real: 049_frontal | Pred: 049_frontal | Score: 0.993 | Match: 1\n",
      "Real: 083_frontal | Pred: 083_frontal | Score: 1.000 | Match: 1\n",
      "Real: Deece_Eckstein | Pred: 083_frontal | Score: 0.499 | Match: 0\n"
     ]
    },
    {
     "name": "stderr",
     "output_type": "stream",
     "text": [
      " 13%|█▎        | 33/250 [04:26<29:46,  8.23s/it]"
     ]
    },
    {
     "name": "stdout",
     "output_type": "stream",
     "text": [
      "Real: Mario_Lobo_Zagallo | Pred: Mario_Lobo_Zagallo | Score: 0.955 | Match: 1\n",
      "Real: Edina_Batar | Pred: Edina_Batar | Score: 0.768 | Match: 1\n",
      "Real: Gus_Van_Sant | Pred: Gus_Van_Sant | Score: 0.885 | Match: 1\n",
      "Real: Thaksin_Shinawatra | Pred: Thaksin_Shinawatra | Score: 0.543 | Match: 1\n",
      "Real: Mike_Sherman | Pred: Mike_Sherman | Score: 0.999 | Match: 1\n"
     ]
    },
    {
     "name": "stderr",
     "output_type": "stream",
     "text": [
      " 14%|█▎        | 34/250 [04:32<26:31,  7.37s/it]"
     ]
    },
    {
     "name": "stdout",
     "output_type": "stream",
     "text": [
      "Real: Aaron_Peirsol | Pred: Kevin_Spacey | Score: 0.558 | Match: 0\n",
      "Real: Kevin_Spacey | Pred: Queen_Noor | Score: 0.473 | Match: 0\n",
      "Real: Paul_William_Hurley | Pred: Aaron_Peirsol | Score: 0.844 | Match: 0\n",
      "Real: Queen_Noor | Pred: Queen_Noor | Score: 0.942 | Match: 1\n",
      "Real: Melissa_Manchester | Pred: Melissa_Manchester | Score: 0.986 | Match: 1\n"
     ]
    },
    {
     "name": "stderr",
     "output_type": "stream",
     "text": [
      " 14%|█▍        | 35/250 [04:38<25:07,  7.01s/it]"
     ]
    },
    {
     "name": "stdout",
     "output_type": "stream",
     "text": [
      "Real: Boutros_Boutros_Ghali | Pred: Boutros_Boutros_Ghali | Score: 0.881 | Match: 1\n",
      "Real: Viara_Vike-Freiberga | Pred: Viara_Vike-Freiberga | Score: 0.989 | Match: 1\n",
      "Real: Daryl_Smith | Pred: Daryl_Smith | Score: 0.965 | Match: 1\n",
      "Real: Millicent_Martin | Pred: Millicent_Martin | Score: 0.961 | Match: 1\n",
      "Real: 120_frontal | Pred: 120_frontal | Score: 0.651 | Match: 1\n"
     ]
    },
    {
     "name": "stderr",
     "output_type": "stream",
     "text": [
      " 14%|█▍        | 36/250 [04:42<22:03,  6.19s/it]"
     ]
    },
    {
     "name": "stdout",
     "output_type": "stream",
     "text": [
      "Real: Steve_Phillips | Pred: Steve_Phillips | Score: 0.747 | Match: 1\n",
      "Real: Jesse_James_Leija | Pred: Hamad_Bin_Jassim | Score: 0.891 | Match: 0\n",
      "Real: Hamad_Bin_Jassim | Pred: Hamad_Bin_Jassim | Score: 0.991 | Match: 1\n",
      "Real: Alain_Cervantes | Pred: Alain_Cervantes | Score: 0.759 | Match: 1\n",
      "Real: Clive_Woodward | Pred: Clive_Woodward | Score: 0.766 | Match: 1\n"
     ]
    },
    {
     "name": "stderr",
     "output_type": "stream",
     "text": [
      " 15%|█▍        | 37/250 [04:47<20:48,  5.86s/it]"
     ]
    },
    {
     "name": "stdout",
     "output_type": "stream",
     "text": [
      "Real: Khaled_Sawalhi | Pred: Khaled_Sawalhi | Score: 0.879 | Match: 1\n",
      "Real: Elizabeth_Taylor | Pred: Elizabeth_Taylor | Score: 0.546 | Match: 1\n",
      "Real: Caroline_Kennedy | Pred: Caroline_Kennedy | Score: 0.839 | Match: 1\n",
      "Real: Charles_Cope | Pred: Charles_Cope | Score: 0.997 | Match: 1\n",
      "Real: Paul_William_Hurley | Pred: Paul_William_Hurley | Score: 0.761 | Match: 1\n"
     ]
    },
    {
     "name": "stderr",
     "output_type": "stream",
     "text": [
      " 15%|█▌        | 38/250 [04:57<24:36,  6.97s/it]"
     ]
    },
    {
     "name": "stdout",
     "output_type": "stream",
     "text": [
      "Real: Kwon_Young-gil | Pred: Kwon_Young-gil | Score: 0.957 | Match: 1\n",
      "Real: Fernando_Valenzuela | Pred: Lea_Fastow | Score: 0.502 | Match: 0\n",
      "Real: Luther_Htu | Pred: Luther_Htu | Score: 0.826 | Match: 1\n",
      "Real: Lea_Fastow | Pred: Lea_Fastow | Score: 0.683 | Match: 1\n",
      "Real: Teresa_Williams | Pred: Teresa_Williams | Score: 0.966 | Match: 1\n"
     ]
    },
    {
     "name": "stderr",
     "output_type": "stream",
     "text": [
      " 16%|█▌        | 39/250 [05:11<32:30,  9.24s/it]"
     ]
    },
    {
     "name": "stdout",
     "output_type": "stream",
     "text": [
      "Real: Fran_Drescher | Pred: Fran_Drescher | Score: 0.869 | Match: 1\n",
      "Real: Alexandre_Vinokourov | Pred: Alexandre_Vinokourov | Score: 0.815 | Match: 1\n",
      "Real: Alain_Cervantes | Pred: Alain_Cervantes | Score: 0.490 | Match: 1\n",
      "Real: Prince_Claus | Pred: Prince_Claus | Score: 0.795 | Match: 1\n",
      "Real: 078_frontal | Pred: Alexandre_Vinokourov | Score: 0.631 | Match: 0\n"
     ]
    },
    {
     "name": "stderr",
     "output_type": "stream",
     "text": [
      " 16%|█▌        | 40/250 [05:17<28:12,  8.06s/it]"
     ]
    },
    {
     "name": "stdout",
     "output_type": "stream",
     "text": [
      "Real: Dean_Jacek | Pred: Dean_Jacek | Score: 0.762 | Match: 1\n",
      "Real: Steven_Hatfill | Pred: Steven_Hatfill | Score: 0.497 | Match: 1\n",
      "Real: Harrison_Ford | Pred: Elizabeth_Taylor | Score: 0.635 | Match: 0\n",
      "Real: Clive_Woodward | Pred: Clive_Woodward | Score: 0.692 | Match: 1\n",
      "Real: Elizabeth_Taylor | Pred: Elizabeth_Taylor | Score: 0.870 | Match: 1\n"
     ]
    },
    {
     "name": "stderr",
     "output_type": "stream",
     "text": [
      " 16%|█▋        | 41/250 [05:28<31:44,  9.11s/it]"
     ]
    },
    {
     "name": "stdout",
     "output_type": "stream",
     "text": [
      "Real: Melissa_Manchester | Pred: Melissa_Manchester | Score: 1.000 | Match: 1\n",
      "Real: Leandrinho_Barbosa | Pred: Leandrinho_Barbosa | Score: 0.865 | Match: 1\n",
      "Real: Gregorio_Rosal | Pred: Gregorio_Rosal | Score: 0.908 | Match: 1\n",
      "Real: Kenneth_Branagh | Pred: Kenneth_Branagh | Score: 0.608 | Match: 1\n",
      "Real: Larry_Coker | Pred: Kenneth_Branagh | Score: 0.906 | Match: 0\n"
     ]
    },
    {
     "name": "stderr",
     "output_type": "stream",
     "text": [
      " 17%|█▋        | 42/250 [05:39<33:13,  9.58s/it]"
     ]
    },
    {
     "name": "stdout",
     "output_type": "stream",
     "text": [
      "Real: Sanjay_Chawla | Pred: Sanjay_Chawla | Score: 0.988 | Match: 1\n",
      "Real: 098_frontal | Pred: 098_frontal | Score: 0.786 | Match: 1\n",
      "Real: 084_frontal | Pred: 084_frontal | Score: 0.660 | Match: 1\n",
      "Real: Jennifer_Keller | Pred: Jennifer_Keller | Score: 0.965 | Match: 1\n",
      "Real: Leandrinho_Barbosa | Pred: Leandrinho_Barbosa | Score: 0.906 | Match: 1\n"
     ]
    },
    {
     "name": "stderr",
     "output_type": "stream",
     "text": [
      " 17%|█▋        | 43/250 [05:45<29:22,  8.51s/it]"
     ]
    },
    {
     "name": "stdout",
     "output_type": "stream",
     "text": [
      "Real: Monique_Gagnon-Tremblay | Pred: Monique_Gagnon-Tremblay | Score: 0.570 | Match: 1\n",
      "Real: Paula_Abdul | Pred: Paula_Abdul | Score: 0.841 | Match: 1\n",
      "Real: Oliver_Stone | Pred: Oliver_Stone | Score: 0.828 | Match: 1\n",
      "Real: Ron_Dittemore | Pred: Oliver_Stone | Score: 0.818 | Match: 0\n",
      "Real: Christian_Von_Wernich | Pred: Christian_Von_Wernich | Score: 1.000 | Match: 1\n"
     ]
    },
    {
     "name": "stderr",
     "output_type": "stream",
     "text": [
      " 18%|█▊        | 44/250 [05:50<26:03,  7.59s/it]"
     ]
    },
    {
     "name": "stdout",
     "output_type": "stream",
     "text": [
      "Real: Troy_Aikman | Pred: Troy_Aikman | Score: 0.787 | Match: 1\n",
      "Real: Elizabeth_Hill | Pred: Elizabeth_Hill | Score: 0.681 | Match: 1\n",
      "Real: Paul_Burrell | Pred: David_Tornberg | Score: 0.684 | Match: 0\n",
      "Real: David_Tornberg | Pred: David_Tornberg | Score: 0.550 | Match: 1\n",
      "Real: Steven_Hatfill | Pred: Steven_Hatfill | Score: 0.642 | Match: 1\n"
     ]
    },
    {
     "name": "stderr",
     "output_type": "stream",
     "text": [
      " 18%|█▊        | 45/250 [05:55<23:34,  6.90s/it]"
     ]
    },
    {
     "name": "stdout",
     "output_type": "stream",
     "text": [
      "Real: Gerard_de_Cortanze | Pred: Gerard_de_Cortanze | Score: 0.731 | Match: 1\n",
      "Real: Alanis_Morissette | Pred: Alanis_Morissette | Score: 0.992 | Match: 1\n",
      "Real: Hunter_Kemper | Pred: Hunter_Kemper | Score: 0.988 | Match: 1\n",
      "Real: Chris_Dodd | Pred: Chris_Dodd | Score: 0.989 | Match: 1\n",
      "Real: Troy_Hudson | Pred: Troy_Hudson | Score: 0.982 | Match: 1\n"
     ]
    },
    {
     "name": "stderr",
     "output_type": "stream",
     "text": [
      " 18%|█▊        | 46/250 [06:00<20:50,  6.13s/it]"
     ]
    },
    {
     "name": "stdout",
     "output_type": "stream",
     "text": [
      "Real: Danny_Ainge | Pred: Danny_Ainge | Score: 0.911 | Match: 1\n",
      "Real: Andy_Griffith | Pred: Andy_Griffith | Score: 0.798 | Match: 1\n",
      "Real: Mitzi_Gaynor | Pred: Mitzi_Gaynor | Score: 0.730 | Match: 1\n",
      "Real: Bill_Readdy | Pred: Bill_Readdy | Score: 0.983 | Match: 1\n",
      "Real: Fernando_Valenzuela | Pred: Fernando_Valenzuela | Score: 0.481 | Match: 1\n"
     ]
    },
    {
     "name": "stderr",
     "output_type": "stream",
     "text": [
      " 19%|█▉        | 47/250 [06:04<18:47,  5.56s/it]"
     ]
    },
    {
     "name": "stdout",
     "output_type": "stream",
     "text": [
      "Real: Enrique_Bolanos | Pred: Bill_Readdy | Score: 0.514 | Match: 0\n",
      "Real: David_Hannay | Pred: David_Hannay | Score: 0.985 | Match: 1\n",
      "Real: Hamad_Bin_Jassim | Pred: Hamad_Bin_Jassim | Score: 0.924 | Match: 1\n",
      "Real: Bill_Readdy | Pred: Bill_Readdy | Score: 0.803 | Match: 1\n",
      "Real: Maria_Wetterstrand | Pred: Maria_Wetterstrand | Score: 0.990 | Match: 1\n"
     ]
    },
    {
     "name": "stderr",
     "output_type": "stream",
     "text": [
      " 19%|█▉        | 48/250 [06:10<19:24,  5.76s/it]"
     ]
    },
    {
     "name": "stdout",
     "output_type": "stream",
     "text": [
      "Real: Adrian_Nastase | Pred: Khaled_Sawalhi | Score: 0.733 | Match: 0\n",
      "Real: Khaled_Sawalhi | Pred: Khaled_Sawalhi | Score: 0.846 | Match: 1\n",
      "Real: Paula_Abdul | Pred: Paula_Abdul | Score: 0.958 | Match: 1\n",
      "Real: 069_frontal | Pred: 069_frontal | Score: 1.000 | Match: 1\n",
      "Real: Jake_Gyllenhaal | Pred: Jake_Gyllenhaal | Score: 0.504 | Match: 1\n"
     ]
    },
    {
     "name": "stderr",
     "output_type": "stream",
     "text": [
      " 20%|█▉        | 49/250 [06:15<18:33,  5.54s/it]"
     ]
    },
    {
     "name": "stdout",
     "output_type": "stream",
     "text": [
      "Real: Ray_Allen | Pred: Ray_Allen | Score: 0.920 | Match: 1\n",
      "Real: Gene_Autry | Pred: Gene_Autry | Score: 0.716 | Match: 1\n",
      "Real: Teresa_Williams | Pred: Teresa_Williams | Score: 0.809 | Match: 1\n",
      "Real: Jesse_James_Leija | Pred: Jesse_James_Leija | Score: 0.819 | Match: 1\n",
      "Real: Tim_Floyd | Pred: Tim_Floyd | Score: 0.985 | Match: 1\n"
     ]
    },
    {
     "name": "stderr",
     "output_type": "stream",
     "text": [
      " 20%|██        | 50/250 [06:21<18:26,  5.53s/it]"
     ]
    },
    {
     "name": "stdout",
     "output_type": "stream",
     "text": [
      "Real: Luther_Htu | Pred: Luther_Htu | Score: 0.655 | Match: 1\n",
      "Real: Donald_Trump | Pred: Ralph_Klein | Score: 0.492 | Match: 0\n",
      "Real: Carl_Levin | Pred: Carl_Levin | Score: 0.613 | Match: 1\n",
      "Real: Ralph_Klein | Pred: Ralph_Klein | Score: 0.837 | Match: 1\n",
      "Real: Pedro_Solbes | Pred: Pedro_Solbes | Score: 0.733 | Match: 1\n"
     ]
    },
    {
     "name": "stderr",
     "output_type": "stream",
     "text": [
      " 20%|██        | 51/250 [06:38<29:43,  8.96s/it]"
     ]
    },
    {
     "name": "stdout",
     "output_type": "stream",
     "text": [
      "Real: Malak_Habbak | Pred: Malak_Habbak | Score: 0.996 | Match: 1\n",
      "Real: Rina_Lazo | Pred: Rina_Lazo | Score: 0.999 | Match: 1\n",
      "Real: Eliza_Manningham-Buller | Pred: Eliza_Manningham-Buller | Score: 0.830 | Match: 1\n",
      "Real: Allison_Searing | Pred: Allison_Searing | Score: 0.972 | Match: 1\n",
      "Real: Eric_Hinske | Pred: Eric_Hinske | Score: 0.634 | Match: 1\n"
     ]
    },
    {
     "name": "stderr",
     "output_type": "stream",
     "text": [
      " 21%|██        | 52/250 [06:58<41:08, 12.47s/it]"
     ]
    },
    {
     "name": "stdout",
     "output_type": "stream",
     "text": [
      "Real: Woodrow_Stanley | Pred: Woodrow_Stanley | Score: 1.000 | Match: 1\n",
      "Real: Pedro_Malan | Pred: Woodrow_Stanley | Score: 1.000 | Match: 0\n",
      "Real: Hrithik_Roshan | Pred: Hrithik_Roshan | Score: 0.983 | Match: 1\n",
      "Real: William_Genego | Pred: William_Genego | Score: 0.950 | Match: 1\n",
      "Real: Laura_Flessel | Pred: Laura_Flessel | Score: 0.904 | Match: 1\n"
     ]
    },
    {
     "name": "stderr",
     "output_type": "stream",
     "text": [
      " 21%|██        | 53/250 [07:04<34:32, 10.52s/it]"
     ]
    },
    {
     "name": "stdout",
     "output_type": "stream",
     "text": [
      "Real: Juergen_Braehmer | Pred: Juergen_Braehmer | Score: 0.993 | Match: 1\n",
      "Real: Ray_Allen | Pred: Ray_Allen | Score: 0.656 | Match: 1\n",
      "Real: Emanuel_Ginobili | Pred: Monica_Serra | Score: 0.923 | Match: 0\n",
      "Real: Elizabeth_Hill | Pred: Elizabeth_Hill | Score: 0.984 | Match: 1\n",
      "Real: Monica_Serra | Pred: Monica_Serra | Score: 0.743 | Match: 1\n"
     ]
    },
    {
     "name": "stderr",
     "output_type": "stream",
     "text": [
      " 22%|██▏       | 54/250 [07:09<28:09,  8.62s/it]"
     ]
    },
    {
     "name": "stdout",
     "output_type": "stream",
     "text": [
      "Real: Roger_King | Pred: Roger_King | Score: 0.968 | Match: 1\n",
      "Real: Melana_Scantlin | Pred: Melana_Scantlin | Score: 0.892 | Match: 1\n",
      "Real: Bruce_Weber | Pred: Bruce_Weber | Score: 1.000 | Match: 1\n",
      "Real: Caroline_Kennedy | Pred: Caroline_Kennedy | Score: 0.801 | Match: 1\n",
      "Real: Maria_Wetterstrand | Pred: Maria_Wetterstrand | Score: 0.970 | Match: 1\n"
     ]
    },
    {
     "name": "stderr",
     "output_type": "stream",
     "text": [
      " 22%|██▏       | 55/250 [07:15<26:01,  8.01s/it]"
     ]
    },
    {
     "name": "stdout",
     "output_type": "stream",
     "text": [
      "Real: Sheila_Fraser | Pred: Sheila_Fraser | Score: 0.998 | Match: 1\n",
      "Real: Alain_Cervantes | Pred: Alain_Cervantes | Score: 0.904 | Match: 1\n",
      "Real: Juan_Francisco_Palencia | Pred: Juan_Francisco_Palencia | Score: 0.961 | Match: 1\n",
      "Real: Jon_Constance | Pred: Jon_Constance | Score: 0.702 | Match: 1\n",
      "Real: David_Hannay | Pred: David_Hannay | Score: 1.000 | Match: 1\n"
     ]
    },
    {
     "name": "stderr",
     "output_type": "stream",
     "text": [
      " 22%|██▏       | 56/250 [07:22<24:59,  7.73s/it]"
     ]
    },
    {
     "name": "stdout",
     "output_type": "stream",
     "text": [
      "Real: Mark_Broxmeyer | Pred: Mark_Broxmeyer | Score: 0.996 | Match: 1\n",
      "Real: Gloria_Gaynor | Pred: Gloria_Gaynor | Score: 0.924 | Match: 1\n",
      "Real: Roy_Blunt | Pred: Roy_Blunt | Score: 0.998 | Match: 1\n",
      "Real: 052_frontal | Pred: 052_frontal | Score: 0.775 | Match: 1\n",
      "Real: Candice_Bergen | Pred: Mark_Broxmeyer | Score: 0.631 | Match: 0\n"
     ]
    },
    {
     "name": "stderr",
     "output_type": "stream",
     "text": [
      " 23%|██▎       | 57/250 [07:29<23:56,  7.44s/it]"
     ]
    },
    {
     "name": "stdout",
     "output_type": "stream",
     "text": [
      "Real: Yoon_Young-kwan | Pred: Yoon_Young-kwan | Score: 0.911 | Match: 1\n",
      "Real: Kai-Uwe_Ricke | Pred: Kai-Uwe_Ricke | Score: 0.973 | Match: 1\n",
      "Real: Gary_Bettman | Pred: Gary_Bettman | Score: 0.872 | Match: 1\n",
      "Real: John_Philip_Elkann | Pred: John_Philip_Elkann | Score: 0.972 | Match: 1\n",
      "Real: Dany_Heatley | Pred: Dany_Heatley | Score: 0.947 | Match: 1\n"
     ]
    },
    {
     "name": "stderr",
     "output_type": "stream",
     "text": [
      " 23%|██▎       | 58/250 [07:35<22:47,  7.12s/it]"
     ]
    },
    {
     "name": "stdout",
     "output_type": "stream",
     "text": [
      "Real: Martin_Brodeur | Pred: Martin_Brodeur | Score: 0.395 | Match: 1\n",
      "Real: Hrithik_Roshan | Pred: Hrithik_Roshan | Score: 0.643 | Match: 1\n",
      "Real: James_Butts | Pred: James_Butts | Score: 0.695 | Match: 1\n",
      "Real: Ralph_Firman | Pred: Ralph_Firman | Score: 0.678 | Match: 1\n",
      "Real: Laura_Flessel | Pred: Laura_Flessel | Score: 0.879 | Match: 1\n"
     ]
    },
    {
     "name": "stderr",
     "output_type": "stream",
     "text": [
      " 24%|██▎       | 59/250 [07:51<30:26,  9.56s/it]"
     ]
    },
    {
     "name": "stdout",
     "output_type": "stream",
     "text": [
      "Real: Donald_Trump | Pred: Donald_Trump | Score: 0.870 | Match: 1\n",
      "Real: Jesse_James_Leija | Pred: Jesse_James_Leija | Score: 0.594 | Match: 1\n",
      "Real: 079_frontal | Pred: 079_frontal | Score: 1.000 | Match: 1\n",
      "Real: Maria_Wetterstrand | Pred: Maria_Wetterstrand | Score: 0.994 | Match: 1\n",
      "Real: 034_frontal | Pred: 034_frontal | Score: 0.983 | Match: 1\n"
     ]
    },
    {
     "name": "stderr",
     "output_type": "stream",
     "text": [
      " 24%|██▍       | 60/250 [07:59<29:34,  9.34s/it]"
     ]
    },
    {
     "name": "stdout",
     "output_type": "stream",
     "text": [
      "Real: Raaf_Schefter | Pred: Raaf_Schefter | Score: 0.881 | Match: 1\n",
      "Real: Clive_Woodward | Pred: Clive_Woodward | Score: 0.635 | Match: 1\n",
      "Real: Viara_Vike-Freiberga | Pred: Viara_Vike-Freiberga | Score: 0.681 | Match: 1\n",
      "Real: 050_frontal | Pred: 050_frontal | Score: 1.000 | Match: 1\n",
      "Real: Mark_Broxmeyer | Pred: Mark_Broxmeyer | Score: 0.893 | Match: 1\n"
     ]
    },
    {
     "name": "stderr",
     "output_type": "stream",
     "text": [
      " 24%|██▍       | 61/250 [08:07<27:28,  8.72s/it]"
     ]
    },
    {
     "name": "stdout",
     "output_type": "stream",
     "text": [
      "Real: Barbara_Boxer | Pred: Barbara_Boxer | Score: 0.979 | Match: 1\n",
      "Real: Malak_Habbak | Pred: Malak_Habbak | Score: 0.990 | Match: 1\n",
      "Real: Chris_Columbus | Pred: Chris_Columbus | Score: 0.921 | Match: 1\n",
      "Real: Paul_Burrell | Pred: Barbara_Boxer | Score: 0.920 | Match: 0\n",
      "Real: Roy_Blunt | Pred: Roy_Blunt | Score: 0.500 | Match: 1\n"
     ]
    },
    {
     "name": "stderr",
     "output_type": "stream",
     "text": [
      " 25%|██▍       | 62/250 [08:15<26:45,  8.54s/it]"
     ]
    },
    {
     "name": "stdout",
     "output_type": "stream",
     "text": [
      "Real: 041_frontal | Pred: 041_frontal | Score: 1.000 | Match: 1\n",
      "Real: 112_frontal | Pred: 112_frontal | Score: 0.993 | Match: 1\n",
      "Real: Ivan_Helguera | Pred: Ivan_Helguera | Score: 0.907 | Match: 1\n",
      "Real: Sheila_Fraser | Pred: Sheila_Fraser | Score: 0.889 | Match: 1\n",
      "Real: Jon_Constance | Pred: Jon_Constance | Score: 0.972 | Match: 1\n"
     ]
    },
    {
     "name": "stderr",
     "output_type": "stream",
     "text": [
      " 25%|██▌       | 63/250 [08:25<27:46,  8.91s/it]"
     ]
    },
    {
     "name": "stdout",
     "output_type": "stream",
     "text": [
      "Real: Malak_Habbak | Pred: Malak_Habbak | Score: 0.996 | Match: 1\n",
      "Real: 061_frontal | Pred: 061_frontal | Score: 0.803 | Match: 1\n",
      "Real: 105_frontal | Pred: 061_frontal | Score: 0.733 | Match: 0\n",
      "Real: William_Delahunt | Pred: William_Delahunt | Score: 0.984 | Match: 1\n",
      "Real: Steve_Cox | Pred: Steve_Cox | Score: 0.997 | Match: 1\n"
     ]
    },
    {
     "name": "stderr",
     "output_type": "stream",
     "text": [
      " 26%|██▌       | 64/250 [08:30<24:08,  7.79s/it]"
     ]
    },
    {
     "name": "stdout",
     "output_type": "stream",
     "text": [
      "Real: Jade_Jagger | Pred: Jade_Jagger | Score: 1.000 | Match: 1\n",
      "Real: Francisco_Flores | Pred: Jade_Jagger | Score: 0.984 | Match: 0\n",
      "Real: Billy_Gilman | Pred: Billy_Gilman | Score: 0.683 | Match: 1\n",
      "Real: Elizabeth_Taylor | Pred: Elizabeth_Taylor | Score: 0.586 | Match: 1\n",
      "Real: Lutz_Freitag | Pred: Lutz_Freitag | Score: 0.796 | Match: 1\n"
     ]
    },
    {
     "name": "stderr",
     "output_type": "stream",
     "text": [
      " 26%|██▌       | 65/250 [08:34<21:03,  6.83s/it]"
     ]
    },
    {
     "name": "stdout",
     "output_type": "stream",
     "text": [
      "Real: Duane_Lee_Chapman | Pred: Duane_Lee_Chapman | Score: 0.730 | Match: 1\n",
      "Real: Pedro_Solbes | Pred: Ari_Bousbib | Score: 0.997 | Match: 0\n",
      "Real: Ari_Bousbib | Pred: Ari_Bousbib | Score: 0.992 | Match: 1\n",
      "Real: Cole_Chapman | Pred: Cole_Chapman | Score: 0.678 | Match: 1\n",
      "Real: Andy_Griffith | Pred: Andy_Griffith | Score: 0.493 | Match: 1\n"
     ]
    },
    {
     "name": "stderr",
     "output_type": "stream",
     "text": [
      " 26%|██▋       | 66/250 [08:39<18:29,  6.03s/it]"
     ]
    },
    {
     "name": "stdout",
     "output_type": "stream",
     "text": [
      "Real: Edina_Batar | Pred: Edina_Batar | Score: 0.974 | Match: 1\n",
      "Real: John_Nash | Pred: John_Nash | Score: 0.612 | Match: 1\n",
      "Real: Aretha_Franklin | Pred: Aretha_Franklin | Score: 0.580 | Match: 1\n",
      "Real: Cate_Blanchett | Pred: Edina_Batar | Score: 0.755 | Match: 0\n",
      "Real: Eliza_Manningham-Buller | Pred: Eliza_Manningham-Buller | Score: 0.984 | Match: 1\n"
     ]
    },
    {
     "name": "stderr",
     "output_type": "stream",
     "text": [
      " 27%|██▋       | 67/250 [08:44<17:45,  5.82s/it]"
     ]
    },
    {
     "name": "stdout",
     "output_type": "stream",
     "text": [
      "Real: 120_frontal | Pred: 120_frontal | Score: 0.996 | Match: 1\n",
      "Real: Pedro_Solbes | Pred: Edina_Batar | Score: 0.886 | Match: 0\n",
      "Real: Jessica_Brungo | Pred: Jessica_Brungo | Score: 0.867 | Match: 1\n",
      "Real: Edina_Batar | Pred: Edina_Batar | Score: 0.907 | Match: 1\n",
      "Real: Laurie_Hobbs | Pred: Laurie_Hobbs | Score: 0.984 | Match: 1\n"
     ]
    },
    {
     "name": "stderr",
     "output_type": "stream",
     "text": [
      " 27%|██▋       | 68/250 [08:48<16:14,  5.35s/it]"
     ]
    },
    {
     "name": "stdout",
     "output_type": "stream",
     "text": [
      "Real: Kalid_Kaid | Pred: Kalid_Kaid | Score: 0.979 | Match: 1\n",
      "Real: Gus_Van_Sant | Pred: Gus_Van_Sant | Score: 0.638 | Match: 1\n",
      "Real: Nora_Bendijo | Pred: Nora_Bendijo | Score: 0.900 | Match: 1\n",
      "Real: Mark_Warner | Pred: Kalid_Kaid | Score: 0.513 | Match: 0\n",
      "Real: Dick_Posthumus | Pred: Dick_Posthumus | Score: 0.625 | Match: 1\n"
     ]
    },
    {
     "name": "stderr",
     "output_type": "stream",
     "text": [
      " 28%|██▊       | 69/250 [08:55<17:38,  5.85s/it]"
     ]
    },
    {
     "name": "stdout",
     "output_type": "stream",
     "text": [
      "Real: Ari_Bousbib | Pred: Ari_Bousbib | Score: 0.895 | Match: 1\n",
      "Real: Dean_Jacek | Pred: Dean_Jacek | Score: 0.911 | Match: 1\n",
      "Real: 061_frontal | Pred: 061_frontal | Score: 1.000 | Match: 1\n",
      "Real: Stephen_Daldry | Pred: Ibrahim_Hilal | Score: 0.621 | Match: 0\n",
      "Real: Ibrahim_Hilal | Pred: Ibrahim_Hilal | Score: 0.981 | Match: 1\n"
     ]
    },
    {
     "name": "stderr",
     "output_type": "stream",
     "text": [
      " 28%|██▊       | 70/250 [09:02<18:37,  6.21s/it]"
     ]
    },
    {
     "name": "stdout",
     "output_type": "stream",
     "text": [
      "Real: Alain_Cervantes | Pred: Alain_Cervantes | Score: 0.969 | Match: 1\n",
      "Real: Martin_Luther_King_III | Pred: Martin_Luther_King_III | Score: 0.997 | Match: 1\n",
      "Real: William_Delahunt | Pred: William_Delahunt | Score: 0.982 | Match: 1\n",
      "Real: Harrison_Ford | Pred: Harrison_Ford | Score: 0.537 | Match: 1\n",
      "Real: Kate_Lee | Pred: Kate_Lee | Score: 0.990 | Match: 1\n"
     ]
    },
    {
     "name": "stderr",
     "output_type": "stream",
     "text": [
      " 28%|██▊       | 71/250 [09:10<19:41,  6.60s/it]"
     ]
    },
    {
     "name": "stdout",
     "output_type": "stream",
     "text": [
      "Real: Thomas_Manger | Pred: Thomas_Manger | Score: 0.666 | Match: 1\n",
      "Real: Wally_Szczerbiak | Pred: Wally_Szczerbiak | Score: 0.931 | Match: 1\n",
      "Real: Aaron_Peirsol | Pred: Wally_Szczerbiak | Score: 0.486 | Match: 0\n",
      "Real: Ralph_Firman | Pred: Wally_Szczerbiak | Score: 0.480 | Match: 0\n",
      "Real: 098_frontal | Pred: 098_frontal | Score: 0.921 | Match: 1\n"
     ]
    },
    {
     "name": "stderr",
     "output_type": "stream",
     "text": [
      " 29%|██▉       | 72/250 [09:14<17:27,  5.88s/it]"
     ]
    },
    {
     "name": "stdout",
     "output_type": "stream",
     "text": [
      "Real: John_Nash | Pred: John_Nash | Score: 0.756 | Match: 1\n",
      "Real: William_Delahunt | Pred: William_Delahunt | Score: 1.000 | Match: 1\n",
      "Real: Marc_Anthony | Pred: Marc_Anthony | Score: 0.943 | Match: 1\n",
      "Real: Jade_Jagger | Pred: Jade_Jagger | Score: 0.972 | Match: 1\n",
      "Real: Claudia_Coslovich | Pred: Claudia_Coslovich | Score: 0.749 | Match: 1\n"
     ]
    },
    {
     "name": "stderr",
     "output_type": "stream",
     "text": [
      " 29%|██▉       | 73/250 [09:22<19:17,  6.54s/it]"
     ]
    },
    {
     "name": "stdout",
     "output_type": "stream",
     "text": [
      "Real: Elizabeth_Hill | Pred: Elizabeth_Hill | Score: 0.677 | Match: 1\n",
      "Real: Ralph_Klein | Pred: Elizabeth_Hill | Score: 0.625 | Match: 0\n",
      "Real: 033_frontal | Pred: 033_frontal | Score: 0.760 | Match: 1\n",
      "Real: 105_frontal | Pred: 033_frontal | Score: 0.731 | Match: 0\n",
      "Real: Marc_Leger | Pred: Marc_Leger | Score: 0.614 | Match: 1\n"
     ]
    },
    {
     "name": "stderr",
     "output_type": "stream",
     "text": [
      " 30%|██▉       | 74/250 [09:26<16:51,  5.75s/it]"
     ]
    },
    {
     "name": "stdout",
     "output_type": "stream",
     "text": [
      "Real: Dennis_Powell | Pred: Dennis_Powell | Score: 1.000 | Match: 1\n",
      "Real: Allison_Searing | Pred: Allison_Searing | Score: 0.999 | Match: 1\n",
      "Real: Juan_Francisco_Palencia | Pred: Juan_Francisco_Palencia | Score: 0.968 | Match: 1\n",
      "Real: Leandrinho_Barbosa | Pred: Leandrinho_Barbosa | Score: 0.923 | Match: 1\n",
      "Real: Ai_Sugiyama | Pred: Juan_Francisco_Palencia | Score: 0.534 | Match: 0\n"
     ]
    },
    {
     "name": "stderr",
     "output_type": "stream",
     "text": [
      " 30%|███       | 75/250 [09:33<17:59,  6.17s/it]"
     ]
    },
    {
     "name": "stdout",
     "output_type": "stream",
     "text": [
      "Real: Hamad_Bin_Jassim | Pred: Hamad_Bin_Jassim | Score: 0.999 | Match: 1\n",
      "Real: Enrique_Bolanos | Pred: Hamad_Bin_Jassim | Score: 0.840 | Match: 0\n",
      "Real: 070_frontal | Pred: 070_frontal | Score: 1.000 | Match: 1\n",
      "Real: Steve_Phillips | Pred: Steve_Phillips | Score: 0.714 | Match: 1\n",
      "Real: Billy_Gilman | Pred: Billy_Gilman | Score: 0.669 | Match: 1\n"
     ]
    },
    {
     "name": "stderr",
     "output_type": "stream",
     "text": [
      " 30%|███       | 76/250 [09:42<20:11,  6.96s/it]"
     ]
    },
    {
     "name": "stdout",
     "output_type": "stream",
     "text": [
      "Real: Steve_Cox | Pred: Steve_Cox | Score: 0.605 | Match: 1\n",
      "Real: Gabi_Zimmer | Pred: Gabi_Zimmer | Score: 0.920 | Match: 1\n",
      "Real: Steve_Phillips | Pred: Steve_Phillips | Score: 0.689 | Match: 1\n",
      "Real: Alicia_Molik | Pred: Alicia_Molik | Score: 0.963 | Match: 1\n",
      "Real: Kai-Uwe_Ricke | Pred: Kai-Uwe_Ricke | Score: 0.978 | Match: 1\n"
     ]
    },
    {
     "name": "stderr",
     "output_type": "stream",
     "text": [
      " 31%|███       | 77/250 [09:49<20:11,  7.00s/it]"
     ]
    },
    {
     "name": "stdout",
     "output_type": "stream",
     "text": [
      "Real: 061_frontal | Pred: 061_frontal | Score: 1.000 | Match: 1\n",
      "Real: Juan_Francisco_Palencia | Pred: Juan_Francisco_Palencia | Score: 0.988 | Match: 1\n",
      "Real: Cole_Chapman | Pred: Cole_Chapman | Score: 0.953 | Match: 1\n",
      "Real: Gregorio_Rosal | Pred: Gregorio_Rosal | Score: 0.979 | Match: 1\n",
      "Real: James_Butts | Pred: James_Butts | Score: 0.791 | Match: 1\n"
     ]
    },
    {
     "name": "stderr",
     "output_type": "stream",
     "text": [
      " 31%|███       | 78/250 [09:56<19:48,  6.91s/it]"
     ]
    },
    {
     "name": "stdout",
     "output_type": "stream",
     "text": [
      "Real: Teresa_Williams | Pred: Teresa_Williams | Score: 0.935 | Match: 1\n",
      "Real: David_Hannay | Pred: David_Hannay | Score: 1.000 | Match: 1\n",
      "Real: Chris_Dodd | Pred: Chris_Dodd | Score: 0.844 | Match: 1\n",
      "Real: Colleen_Ryan | Pred: Colleen_Ryan | Score: 0.664 | Match: 1\n",
      "Real: Padraig_Harrington | Pred: Padraig_Harrington | Score: 0.714 | Match: 1\n"
     ]
    },
    {
     "name": "stderr",
     "output_type": "stream",
     "text": [
      " 32%|███▏      | 79/250 [10:02<19:02,  6.68s/it]"
     ]
    },
    {
     "name": "stdout",
     "output_type": "stream",
     "text": [
      "Real: Padraig_Harrington | Pred: Padraig_Harrington | Score: 0.717 | Match: 1\n",
      "Real: Michele_Placido | Pred: Michele_Placido | Score: 0.986 | Match: 1\n",
      "Real: Ray_Allen | Pred: Ray_Allen | Score: 0.484 | Match: 1\n",
      "Real: Monica_Serra | Pred: Monica_Serra | Score: 0.989 | Match: 1\n",
      "Real: Raaf_Schefter | Pred: Raaf_Schefter | Score: 0.995 | Match: 1\n"
     ]
    },
    {
     "name": "stderr",
     "output_type": "stream",
     "text": [
      " 32%|███▏      | 80/250 [10:07<17:54,  6.32s/it]"
     ]
    },
    {
     "name": "stdout",
     "output_type": "stream",
     "text": [
      "Real: Peter_Mullan | Pred: Peter_Mullan | Score: 0.944 | Match: 1\n",
      "Real: Franz_Gsell | Pred: Franz_Gsell | Score: 0.677 | Match: 1\n",
      "Real: Melana_Scantlin | Pred: Melana_Scantlin | Score: 0.973 | Match: 1\n",
      "Real: Candice_Bergen | Pred: Franz_Gsell | Score: 0.397 | Match: 0\n",
      "Real: Ivan_Helguera | Pred: Ivan_Helguera | Score: 0.587 | Match: 1\n"
     ]
    },
    {
     "name": "stderr",
     "output_type": "stream",
     "text": [
      " 32%|███▏      | 81/250 [10:13<17:16,  6.13s/it]"
     ]
    },
    {
     "name": "stdout",
     "output_type": "stream",
     "text": [
      "Real: Michele_Placido | Pred: Michele_Placido | Score: 0.930 | Match: 1\n",
      "Real: Jesse_James_Leija | Pred: Jesse_James_Leija | Score: 0.411 | Match: 1\n",
      "Real: Tom_Koenigs | Pred: Tom_Koenigs | Score: 0.789 | Match: 1\n",
      "Real: 034_frontal | Pred: 034_frontal | Score: 0.842 | Match: 1\n",
      "Real: Nora_Bendijo | Pred: Nora_Bendijo | Score: 0.636 | Match: 1\n"
     ]
    },
    {
     "name": "stderr",
     "output_type": "stream",
     "text": [
      " 33%|███▎      | 82/250 [10:17<15:17,  5.46s/it]"
     ]
    },
    {
     "name": "stdout",
     "output_type": "stream",
     "text": [
      "Real: Daryl_Hannah | Pred: Daryl_Hannah | Score: 0.837 | Match: 1\n",
      "Real: Hugo_Conte | Pred: Hugo_Conte | Score: 0.955 | Match: 1\n",
      "Real: Ren_Qingjin | Pred: Ren_Qingjin | Score: 0.491 | Match: 1\n",
      "Real: Fran_Drescher | Pred: Fran_Drescher | Score: 0.695 | Match: 1\n",
      "Real: James_Butts | Pred: Ren_Qingjin | Score: 0.469 | Match: 0\n"
     ]
    },
    {
     "name": "stderr",
     "output_type": "stream",
     "text": [
      " 33%|███▎      | 83/250 [10:20<13:33,  4.87s/it]"
     ]
    },
    {
     "name": "stdout",
     "output_type": "stream",
     "text": [
      "Real: Roy_Blunt | Pred: Roy_Blunt | Score: 0.756 | Match: 1\n",
      "Real: Alain_Cervantes | Pred: Alain_Cervantes | Score: 0.644 | Match: 1\n",
      "Real: Cole_Chapman | Pred: Cole_Chapman | Score: 0.666 | Match: 1\n",
      "Real: Dick_Posthumus | Pred: Dick_Posthumus | Score: 0.747 | Match: 1\n",
      "Real: Roberto_Guaterroma | Pred: Roberto_Guaterroma | Score: 0.670 | Match: 1\n"
     ]
    },
    {
     "name": "stderr",
     "output_type": "stream",
     "text": [
      " 34%|███▎      | 84/250 [10:24<12:42,  4.59s/it]"
     ]
    },
    {
     "name": "stdout",
     "output_type": "stream",
     "text": [
      "Real: Paul_Burrell | Pred: Lennart_Johansson | Score: 0.687 | Match: 0\n",
      "Real: TA_McLendon | Pred: TA_McLendon | Score: 0.968 | Match: 1\n",
      "Real: Millicent_Martin | Pred: Millicent_Martin | Score: 0.806 | Match: 1\n",
      "Real: Lennart_Johansson | Pred: Lennart_Johansson | Score: 0.839 | Match: 1\n",
      "Real: Elizabeth_Hill | Pred: Elizabeth_Hill | Score: 0.964 | Match: 1\n"
     ]
    },
    {
     "name": "stderr",
     "output_type": "stream",
     "text": [
      " 34%|███▍      | 85/250 [10:28<11:54,  4.33s/it]"
     ]
    },
    {
     "name": "stdout",
     "output_type": "stream",
     "text": [
      "Real: David_McCallum | Pred: David_McCallum | Score: 0.662 | Match: 1\n",
      "Real: Gerard_de_Cortanze | Pred: Gerard_de_Cortanze | Score: 0.935 | Match: 1\n",
      "Real: Martin_Brodeur | Pred: Martin_Brodeur | Score: 0.931 | Match: 1\n",
      "Real: Colleen_Ryan | Pred: Colleen_Ryan | Score: 0.939 | Match: 1\n",
      "Real: Evie_Lazarou | Pred: Evie_Lazarou | Score: 0.567 | Match: 1\n"
     ]
    },
    {
     "name": "stderr",
     "output_type": "stream",
     "text": [
      " 34%|███▍      | 86/250 [10:35<13:39,  5.00s/it]"
     ]
    },
    {
     "name": "stdout",
     "output_type": "stream",
     "text": [
      "Real: 084_frontal | Pred: 084_frontal | Score: 0.813 | Match: 1\n",
      "Real: Arnold_Scott | Pred: Arnold_Scott | Score: 0.930 | Match: 1\n",
      "Real: Adam_Kennedy | Pred: Adam_Kennedy | Score: 0.888 | Match: 1\n",
      "Real: Monica_Serra | Pred: Monica_Serra | Score: 0.855 | Match: 1\n",
      "Real: Dean_Jacek | Pred: Dean_Jacek | Score: 0.897 | Match: 1\n"
     ]
    },
    {
     "name": "stderr",
     "output_type": "stream",
     "text": [
      " 35%|███▍      | 87/250 [10:40<13:33,  4.99s/it]"
     ]
    },
    {
     "name": "stdout",
     "output_type": "stream",
     "text": [
      "Real: Pedro_Solbes | Pred: Lord_Hutton | Score: 0.820 | Match: 0\n",
      "Real: Mickey_Gilley | Pred: Mickey_Gilley | Score: 0.999 | Match: 1\n",
      "Real: Lord_Hutton | Pred: Lord_Hutton | Score: 0.886 | Match: 1\n",
      "Real: Luther_Htu | Pred: Luther_Htu | Score: 0.900 | Match: 1\n",
      "Real: Jessica_Brungo | Pred: Jessica_Brungo | Score: 0.994 | Match: 1\n"
     ]
    },
    {
     "name": "stderr",
     "output_type": "stream",
     "text": [
      " 35%|███▌      | 88/250 [10:47<15:13,  5.64s/it]"
     ]
    },
    {
     "name": "stdout",
     "output_type": "stream",
     "text": [
      "Real: Lionel_Richie | Pred: Lionel_Richie | Score: 0.913 | Match: 1\n",
      "Real: Mike_Maroth | Pred: Mike_Maroth | Score: 0.801 | Match: 1\n",
      "Real: Ai_Sugiyama | Pred: Gabi_Zimmer | Score: 0.424 | Match: 0\n",
      "Real: Laura_Flessel | Pred: Laura_Flessel | Score: 0.796 | Match: 1\n",
      "Real: Gabi_Zimmer | Pred: Gabi_Zimmer | Score: 0.957 | Match: 1\n"
     ]
    },
    {
     "name": "stderr",
     "output_type": "stream",
     "text": [
      " 36%|███▌      | 89/250 [10:52<14:50,  5.53s/it]"
     ]
    },
    {
     "name": "stdout",
     "output_type": "stream",
     "text": [
      "Real: Thierry_Mariani | Pred: Thierry_Mariani | Score: 0.923 | Match: 1\n",
      "Real: Pedro_Malan | Pred: Pedro_Malan | Score: 0.773 | Match: 1\n",
      "Real: James_Brown | Pred: James_Brown | Score: 0.866 | Match: 1\n",
      "Real: Michele_Placido | Pred: Michele_Placido | Score: 0.976 | Match: 1\n",
      "Real: Mukesh_Ambani | Pred: Pedro_Malan | Score: 0.691 | Match: 0\n"
     ]
    },
    {
     "name": "stderr",
     "output_type": "stream",
     "text": [
      " 36%|███▌      | 90/250 [11:06<21:15,  7.97s/it]"
     ]
    },
    {
     "name": "stdout",
     "output_type": "stream",
     "text": [
      "Real: 108_frontal | Pred: 108_frontal | Score: 0.821 | Match: 1\n",
      "Real: Mariano_Zabaleta | Pred: Mariano_Zabaleta | Score: 0.917 | Match: 1\n",
      "Real: Bing_Crosby | Pred: 041_frontal | Score: 0.481 | Match: 0\n",
      "Real: 041_frontal | Pred: 108_frontal | Score: 0.662 | Match: 0\n",
      "Real: Paul_Burrell | Pred: Bing_Crosby | Score: 0.381 | Match: 0\n"
     ]
    },
    {
     "name": "stderr",
     "output_type": "stream",
     "text": [
      " 36%|███▋      | 91/250 [11:21<27:10, 10.25s/it]"
     ]
    },
    {
     "name": "stdout",
     "output_type": "stream",
     "text": [
      "Real: Buddy_Ryan | Pred: Buddy_Ryan | Score: 0.787 | Match: 1\n",
      "Real: Ghassan_Elashi | Pred: Ghassan_Elashi | Score: 0.639 | Match: 1\n",
      "Real: 046_frontal | Pred: 046_frontal | Score: 1.000 | Match: 1\n",
      "Real: Mike_Sherman | Pred: Mike_Sherman | Score: 0.997 | Match: 1\n",
      "Real: Mary_Jo_Myers | Pred: Mary_Jo_Myers | Score: 0.978 | Match: 1\n"
     ]
    },
    {
     "name": "stderr",
     "output_type": "stream",
     "text": [
      " 37%|███▋      | 92/250 [11:28<24:12,  9.19s/it]"
     ]
    },
    {
     "name": "stdout",
     "output_type": "stream",
     "text": [
      "Real: Chris_Dodd | Pred: Chris_Dodd | Score: 0.906 | Match: 1\n",
      "Real: 070_frontal | Pred: 070_frontal | Score: 1.000 | Match: 1\n",
      "Real: James_Butts | Pred: James_Butts | Score: 0.734 | Match: 1\n",
      "Real: Steve_Zahn | Pred: Steve_Zahn | Score: 0.758 | Match: 1\n",
      "Real: Mariano_Zabaleta | Pred: Mariano_Zabaleta | Score: 0.760 | Match: 1\n"
     ]
    },
    {
     "name": "stderr",
     "output_type": "stream",
     "text": [
      " 37%|███▋      | 93/250 [11:35<22:14,  8.50s/it]"
     ]
    },
    {
     "name": "stdout",
     "output_type": "stream",
     "text": [
      "Real: Mickey_Gilley | Pred: 079_frontal | Score: 0.883 | Match: 0\n",
      "Real: Jake_Gyllenhaal | Pred: 079_frontal | Score: 0.990 | Match: 0\n",
      "Real: 079_frontal | Pred: 079_frontal | Score: 0.998 | Match: 1\n",
      "Real: Alain_Cervantes | Pred: Alain_Cervantes | Score: 0.925 | Match: 1\n",
      "Real: Steve_Phillips | Pred: Steve_Phillips | Score: 0.558 | Match: 1\n"
     ]
    },
    {
     "name": "stderr",
     "output_type": "stream",
     "text": [
      " 38%|███▊      | 94/250 [11:39<18:54,  7.27s/it]"
     ]
    },
    {
     "name": "stdout",
     "output_type": "stream",
     "text": [
      "Real: Jeri_Ryan | Pred: Jeri_Ryan | Score: 0.644 | Match: 1\n",
      "Real: Billy_Gilman | Pred: Billy_Gilman | Score: 0.913 | Match: 1\n",
      "Real: Fernando_Valenzuela | Pred: Fernando_Valenzuela | Score: 0.603 | Match: 1\n",
      "Real: Will_Ferrell | Pred: Will_Ferrell | Score: 0.485 | Match: 1\n",
      "Real: Ron_Dittemore | Pred: Ron_Dittemore | Score: 0.458 | Match: 1\n"
     ]
    },
    {
     "name": "stderr",
     "output_type": "stream",
     "text": [
      " 38%|███▊      | 95/250 [11:44<16:31,  6.40s/it]"
     ]
    },
    {
     "name": "stdout",
     "output_type": "stream",
     "text": [
      "Real: Buddy_Ryan | Pred: Buddy_Ryan | Score: 0.893 | Match: 1\n",
      "Real: Kurt_Budke | Pred: Kurt_Budke | Score: 0.956 | Match: 1\n",
      "Real: Pedro_Malan | Pred: Kalid_Kaid | Score: 0.413 | Match: 0\n",
      "Real: Kalid_Kaid | Pred: Kalid_Kaid | Score: 0.801 | Match: 1\n",
      "Real: Woodrow_Stanley | Pred: Woodrow_Stanley | Score: 0.816 | Match: 1\n"
     ]
    },
    {
     "name": "stderr",
     "output_type": "stream",
     "text": [
      " 38%|███▊      | 96/250 [11:49<15:22,  5.99s/it]"
     ]
    },
    {
     "name": "stdout",
     "output_type": "stream",
     "text": [
      "Real: Elaine_Chao | Pred: Elaine_Chao | Score: 0.578 | Match: 1\n",
      "Real: Colleen_Ryan | Pred: Colleen_Ryan | Score: 0.706 | Match: 1\n",
      "Real: Jade_Jagger | Pred: Jade_Jagger | Score: 0.928 | Match: 1\n",
      "Real: Arnold_Scott | Pred: Arnold_Scott | Score: 0.999 | Match: 1\n",
      "Real: Dean_Jacek | Pred: Dean_Jacek | Score: 0.920 | Match: 1\n"
     ]
    },
    {
     "name": "stderr",
     "output_type": "stream",
     "text": [
      " 39%|███▉      | 97/250 [11:53<14:02,  5.51s/it]"
     ]
    },
    {
     "name": "stdout",
     "output_type": "stream",
     "text": [
      "Real: Elaine_Chao | Pred: Elaine_Chao | Score: 0.988 | Match: 1\n",
      "Real: Wen_Jiabao | Pred: Boutros_Boutros_Ghali | Score: 0.918 | Match: 0\n",
      "Real: Thierry_Mariani | Pred: Thierry_Mariani | Score: 0.914 | Match: 1\n",
      "Real: Boutros_Boutros_Ghali | Pred: Boutros_Boutros_Ghali | Score: 0.999 | Match: 1\n",
      "Real: Ibrahim_Hilal | Pred: Ibrahim_Hilal | Score: 0.991 | Match: 1\n"
     ]
    },
    {
     "name": "stderr",
     "output_type": "stream",
     "text": [
      " 39%|███▉      | 98/250 [12:00<15:00,  5.92s/it]"
     ]
    },
    {
     "name": "stdout",
     "output_type": "stream",
     "text": [
      "Real: Daryl_Hannah | Pred: Roberto_Guaterroma | Score: 0.735 | Match: 0\n",
      "Real: Melana_Scantlin | Pred: Melana_Scantlin | Score: 0.990 | Match: 1\n",
      "Real: Edina_Batar | Pred: Edina_Batar | Score: 0.984 | Match: 1\n",
      "Real: Roberto_Guaterroma | Pred: Roberto_Guaterroma | Score: 0.938 | Match: 1\n",
      "Real: 050_frontal | Pred: 050_frontal | Score: 1.000 | Match: 1\n"
     ]
    },
    {
     "name": "stderr",
     "output_type": "stream",
     "text": [
      " 40%|███▉      | 99/250 [12:07<15:25,  6.13s/it]"
     ]
    },
    {
     "name": "stdout",
     "output_type": "stream",
     "text": [
      "Real: Hamad_Bin_Jassim | Pred: Hamad_Bin_Jassim | Score: 0.830 | Match: 1\n",
      "Real: Roberto_Guaterroma | Pred: Roberto_Guaterroma | Score: 0.679 | Match: 1\n",
      "Real: 078_frontal | Pred: 078_frontal | Score: 0.921 | Match: 1\n",
      "Real: Jon_Constance | Pred: Jon_Constance | Score: 0.625 | Match: 1\n",
      "Real: Roy_Blunt | Pred: Roy_Blunt | Score: 0.861 | Match: 1\n"
     ]
    },
    {
     "name": "stderr",
     "output_type": "stream",
     "text": [
      " 40%|████      | 100/250 [12:13<15:11,  6.08s/it]"
     ]
    },
    {
     "name": "stdout",
     "output_type": "stream",
     "text": [
      "Real: Hugo_Conte | Pred: Hugo_Conte | Score: 0.622 | Match: 1\n",
      "Real: Thaksin_Shinawatra | Pred: Thaksin_Shinawatra | Score: 0.709 | Match: 1\n",
      "Real: Prince_Claus | Pred: Prince_Claus | Score: 0.952 | Match: 1\n",
      "Real: Cole_Chapman | Pred: Cole_Chapman | Score: 0.702 | Match: 1\n",
      "Real: Wally_Szczerbiak | Pred: Wally_Szczerbiak | Score: 0.650 | Match: 1\n"
     ]
    },
    {
     "name": "stderr",
     "output_type": "stream",
     "text": [
      " 40%|████      | 101/250 [12:23<18:07,  7.30s/it]"
     ]
    },
    {
     "name": "stdout",
     "output_type": "stream",
     "text": [
      "Real: Gregorio_Rosal | Pred: Gregorio_Rosal | Score: 0.930 | Match: 1\n",
      "Real: Craig_David | Pred: Craig_David | Score: 0.953 | Match: 1\n",
      "Real: Sanjay_Chawla | Pred: Sanjay_Chawla | Score: 1.000 | Match: 1\n",
      "Real: Monique_Gagnon-Tremblay | Pred: Monique_Gagnon-Tremblay | Score: 0.995 | Match: 1\n",
      "Real: 023_frontal | Pred: 023_frontal | Score: 1.000 | Match: 1\n"
     ]
    },
    {
     "name": "stderr",
     "output_type": "stream",
     "text": [
      " 41%|████      | 102/250 [12:30<18:22,  7.45s/it]"
     ]
    },
    {
     "name": "stdout",
     "output_type": "stream",
     "text": [
      "Real: Steven_Hatfill | Pred: Steven_Hatfill | Score: 0.922 | Match: 1\n",
      "Real: Jesper_Parnevik | Pred: Jesper_Parnevik | Score: 1.000 | Match: 1\n",
      "Real: Prince_Claus | Pred: Steven_Hatfill | Score: 0.744 | Match: 0\n",
      "Real: David_Hannay | Pred: David_Hannay | Score: 0.811 | Match: 1\n",
      "Real: Dennis_Powell | Pred: Dennis_Powell | Score: 1.000 | Match: 1\n"
     ]
    },
    {
     "name": "stderr",
     "output_type": "stream",
     "text": [
      " 41%|████      | 103/250 [12:39<19:07,  7.80s/it]"
     ]
    },
    {
     "name": "stdout",
     "output_type": "stream",
     "text": [
      "Real: Elizabeth_Hill | Pred: Elizabeth_Hill | Score: 0.870 | Match: 1\n",
      "Real: Adrian_Nastase | Pred: Adrian_Nastase | Score: 0.685 | Match: 1\n",
      "Real: Mukesh_Ambani | Pred: Elizabeth_Hill | Score: 0.592 | Match: 0\n",
      "Real: 058_frontal | Pred: 058_frontal | Score: 1.000 | Match: 1\n",
      "Real: Lili_Marinho | Pred: Lili_Marinho | Score: 0.842 | Match: 1\n"
     ]
    },
    {
     "name": "stderr",
     "output_type": "stream",
     "text": [
      " 42%|████▏     | 104/250 [12:46<18:11,  7.48s/it]"
     ]
    },
    {
     "name": "stdout",
     "output_type": "stream",
     "text": [
      "Real: Lili_Marinho | Pred: Lili_Marinho | Score: 1.000 | Match: 1\n",
      "Real: Bill_Lerach | Pred: Bing_Crosby | Score: 0.634 | Match: 0\n",
      "Real: Bing_Crosby | Pred: Bing_Crosby | Score: 0.614 | Match: 1\n",
      "Real: Paul_William_Hurley | Pred: Bing_Crosby | Score: 0.741 | Match: 0\n",
      "Real: Johan_Bruyneel | Pred: Johan_Bruyneel | Score: 0.997 | Match: 1\n"
     ]
    },
    {
     "name": "stderr",
     "output_type": "stream",
     "text": [
      " 42%|████▏     | 105/250 [12:52<17:26,  7.22s/it]"
     ]
    },
    {
     "name": "stdout",
     "output_type": "stream",
     "text": [
      "Real: 017_frontal | Pred: 017_frontal | Score: 1.000 | Match: 1\n",
      "Real: Kalid_Kaid | Pred: Kalid_Kaid | Score: 0.940 | Match: 1\n",
      "Real: Sheila_Fraser | Pred: Steven_Hatfill | Score: 0.357 | Match: 0\n",
      "Real: Steve_Zahn | Pred: Steve_Zahn | Score: 0.732 | Match: 1\n",
      "Real: Steven_Hatfill | Pred: Steven_Hatfill | Score: 0.620 | Match: 1\n"
     ]
    },
    {
     "name": "stderr",
     "output_type": "stream",
     "text": [
      " 42%|████▏     | 106/250 [12:57<15:18,  6.38s/it]"
     ]
    },
    {
     "name": "stdout",
     "output_type": "stream",
     "text": [
      "Real: Enrique_Bolanos | Pred: Enrique_Bolanos | Score: 0.732 | Match: 1\n",
      "Real: Elizabeth_Hill | Pred: Elizabeth_Hill | Score: 0.900 | Match: 1\n",
      "Real: Linda_Dano | Pred: Linda_Dano | Score: 0.786 | Match: 1\n",
      "Real: Ray_Allen | Pred: Franz_Gsell | Score: 0.690 | Match: 0\n",
      "Real: Franz_Gsell | Pred: Franz_Gsell | Score: 0.722 | Match: 1\n"
     ]
    },
    {
     "name": "stderr",
     "output_type": "stream",
     "text": [
      " 43%|████▎     | 107/250 [13:01<13:38,  5.72s/it]"
     ]
    },
    {
     "name": "stdout",
     "output_type": "stream",
     "text": [
      "Real: Hunter_Kemper | Pred: Hunter_Kemper | Score: 0.988 | Match: 1\n",
      "Real: Bill_Fennelly | Pred: Bill_Fennelly | Score: 0.679 | Match: 1\n",
      "Real: Viara_Vike-Freiberga | Pred: Viara_Vike-Freiberga | Score: 0.995 | Match: 1\n",
      "Real: Eliza_Manningham-Buller | Pred: Eliza_Manningham-Buller | Score: 0.835 | Match: 1\n",
      "Real: Hank_Aaron | Pred: Hank_Aaron | Score: 0.976 | Match: 1\n"
     ]
    },
    {
     "name": "stderr",
     "output_type": "stream",
     "text": [
      " 43%|████▎     | 108/250 [13:07<13:38,  5.76s/it]"
     ]
    },
    {
     "name": "stdout",
     "output_type": "stream",
     "text": [
      "Real: Mark_Broxmeyer | Pred: Mark_Broxmeyer | Score: 0.990 | Match: 1\n",
      "Real: Raaf_Schefter | Pred: Raaf_Schefter | Score: 1.000 | Match: 1\n",
      "Real: 070_frontal | Pred: 070_frontal | Score: 1.000 | Match: 1\n",
      "Real: Steve_Phillips | Pred: Steve_Phillips | Score: 0.597 | Match: 1\n",
      "Real: Julie_Infante | Pred: Julie_Infante | Score: 0.780 | Match: 1\n"
     ]
    },
    {
     "name": "stderr",
     "output_type": "stream",
     "text": [
      " 44%|████▎     | 109/250 [13:11<12:41,  5.40s/it]"
     ]
    },
    {
     "name": "stdout",
     "output_type": "stream",
     "text": [
      "Real: David_Hannay | Pred: David_Hannay | Score: 0.992 | Match: 1\n",
      "Real: Ivan_Helguera | Pred: Ivan_Helguera | Score: 0.893 | Match: 1\n",
      "Real: Sheila_Fraser | Pred: Sheila_Fraser | Score: 0.524 | Match: 1\n",
      "Real: Mariano_Zabaleta | Pred: Mariano_Zabaleta | Score: 0.904 | Match: 1\n",
      "Real: Milan_Kucan | Pred: Milan_Kucan | Score: 1.000 | Match: 1\n"
     ]
    },
    {
     "name": "stderr",
     "output_type": "stream",
     "text": [
      " 44%|████▍     | 110/250 [13:18<13:18,  5.71s/it]"
     ]
    },
    {
     "name": "stdout",
     "output_type": "stream",
     "text": [
      "Real: Oprah_Winfrey | Pred: Tom_Koenigs | Score: 0.990 | Match: 0\n",
      "Real: Tom_Koenigs | Pred: Tom_Koenigs | Score: 0.934 | Match: 1\n",
      "Real: 037_frontal | Pred: 037_frontal | Score: 0.987 | Match: 1\n",
      "Real: Reese_Witherspoon | Pred: Reese_Witherspoon | Score: 0.629 | Match: 1\n",
      "Real: Monica_Serra | Pred: Monica_Serra | Score: 0.651 | Match: 1\n"
     ]
    },
    {
     "name": "stderr",
     "output_type": "stream",
     "text": [
      " 44%|████▍     | 111/250 [13:22<12:25,  5.36s/it]"
     ]
    },
    {
     "name": "stdout",
     "output_type": "stream",
     "text": [
      "Real: Alanis_Morissette | Pred: Alanis_Morissette | Score: 0.812 | Match: 1\n",
      "Real: Lea_Fastow | Pred: Lea_Fastow | Score: 0.577 | Match: 1\n",
      "Real: Steve_Cox | Pred: Steve_Cox | Score: 0.414 | Match: 1\n",
      "Real: David_Hannay | Pred: David_Hannay | Score: 0.994 | Match: 1\n",
      "Real: Salman_Rushdie | Pred: David_Hannay | Score: 0.586 | Match: 0\n"
     ]
    },
    {
     "name": "stderr",
     "output_type": "stream",
     "text": [
      " 45%|████▍     | 112/250 [13:32<15:03,  6.55s/it]"
     ]
    },
    {
     "name": "stdout",
     "output_type": "stream",
     "text": [
      "Real: Jade_Jagger | Pred: Jade_Jagger | Score: 0.995 | Match: 1\n",
      "Real: Mukesh_Ambani | Pred: Mukesh_Ambani | Score: 0.547 | Match: 1\n",
      "Real: 018_frontal | Pred: 018_frontal | Score: 1.000 | Match: 1\n",
      "Real: 084_frontal | Pred: 084_frontal | Score: 0.614 | Match: 1\n",
      "Real: Tino_Martinez | Pred: Tino_Martinez | Score: 0.616 | Match: 1\n"
     ]
    },
    {
     "name": "stderr",
     "output_type": "stream",
     "text": [
      " 45%|████▌     | 113/250 [13:38<15:06,  6.61s/it]"
     ]
    },
    {
     "name": "stdout",
     "output_type": "stream",
     "text": [
      "Real: Kalid_Kaid | Pred: 079_frontal | Score: 0.474 | Match: 0\n",
      "Real: Franz_Gsell | Pred: Franz_Gsell | Score: 0.932 | Match: 1\n",
      "Real: Hunter_Kemper | Pred: 079_frontal | Score: 0.611 | Match: 0\n",
      "Real: 079_frontal | Pred: 079_frontal | Score: 0.996 | Match: 1\n",
      "Real: Queen_Noor | Pred: Queen_Noor | Score: 0.823 | Match: 1\n"
     ]
    },
    {
     "name": "stderr",
     "output_type": "stream",
     "text": [
      " 46%|████▌     | 114/250 [13:45<14:52,  6.56s/it]"
     ]
    },
    {
     "name": "stdout",
     "output_type": "stream",
     "text": [
      "Real: Adrian_Nastase | Pred: Adrian_Nastase | Score: 0.910 | Match: 1\n",
      "Real: Jeri_Ryan | Pred: Jeri_Ryan | Score: 0.978 | Match: 1\n",
      "Real: Viara_Vike-Freiberga | Pred: Viara_Vike-Freiberga | Score: 0.982 | Match: 1\n",
      "Real: 058_frontal | Pred: 058_frontal | Score: 1.000 | Match: 1\n",
      "Real: Chris_Columbus | Pred: Chris_Columbus | Score: 0.888 | Match: 1\n"
     ]
    },
    {
     "name": "stderr",
     "output_type": "stream",
     "text": [
      " 46%|████▌     | 115/250 [13:50<13:51,  6.16s/it]"
     ]
    },
    {
     "name": "stdout",
     "output_type": "stream",
     "text": [
      "Real: Martin_Brodeur | Pred: Kurt_Budke | Score: 0.848 | Match: 0\n",
      "Real: Kurt_Budke | Pred: Kurt_Budke | Score: 0.988 | Match: 1\n",
      "Real: Kiki_Vandeweghe | Pred: Kiki_Vandeweghe | Score: 0.749 | Match: 1\n",
      "Real: Charlotte_Church | Pred: Charlotte_Church | Score: 0.987 | Match: 1\n",
      "Real: Reese_Witherspoon | Pred: Reese_Witherspoon | Score: 1.000 | Match: 1\n"
     ]
    },
    {
     "name": "stderr",
     "output_type": "stream",
     "text": [
      " 46%|████▋     | 116/250 [13:56<13:39,  6.11s/it]"
     ]
    },
    {
     "name": "stdout",
     "output_type": "stream",
     "text": [
      "Real: Bruce_Weber | Pred: Bruce_Weber | Score: 0.715 | Match: 1\n",
      "Real: Kalid_Kaid | Pred: Kalid_Kaid | Score: 0.980 | Match: 1\n",
      "Real: Roy_Blunt | Pred: Roy_Blunt | Score: 0.697 | Match: 1\n",
      "Real: Douglas_Gansler | Pred: Douglas_Gansler | Score: 0.504 | Match: 1\n",
      "Real: Daja_Bedanova | Pred: Daja_Bedanova | Score: 1.000 | Match: 1\n"
     ]
    },
    {
     "name": "stderr",
     "output_type": "stream",
     "text": [
      " 47%|████▋     | 117/250 [14:03<13:45,  6.21s/it]"
     ]
    },
    {
     "name": "stdout",
     "output_type": "stream",
     "text": [
      "Real: Daryl_Smith | Pred: Daryl_Smith | Score: 0.528 | Match: 1\n",
      "Real: Donald_Trump | Pred: Donald_Trump | Score: 0.831 | Match: 1\n",
      "Real: Dany_Heatley | Pred: Dany_Heatley | Score: 0.890 | Match: 1\n",
      "Real: Maria_Wetterstrand | Pred: Maria_Wetterstrand | Score: 0.994 | Match: 1\n",
      "Real: Kevin_Spacey | Pred: Donald_Trump | Score: 0.746 | Match: 0\n"
     ]
    },
    {
     "name": "stderr",
     "output_type": "stream",
     "text": [
      " 47%|████▋     | 118/250 [14:10<14:35,  6.63s/it]"
     ]
    },
    {
     "name": "stdout",
     "output_type": "stream",
     "text": [
      "Real: Will_Ferrell | Pred: Will_Ferrell | Score: 0.372 | Match: 1\n",
      "Real: Hank_Aaron | Pred: Hank_Aaron | Score: 0.742 | Match: 1\n",
      "Real: Pedro_Malan | Pred: Will_Ferrell | Score: 0.487 | Match: 0\n",
      "Real: James_Hoffa | Pred: James_Hoffa | Score: 0.553 | Match: 1\n",
      "Real: 083_frontal | Pred: 083_frontal | Score: 1.000 | Match: 1\n"
     ]
    },
    {
     "name": "stderr",
     "output_type": "stream",
     "text": [
      " 48%|████▊     | 119/250 [14:17<14:40,  6.72s/it]"
     ]
    },
    {
     "name": "stdout",
     "output_type": "stream",
     "text": [
      "Real: Oliver_Stone | Pred: Oliver_Stone | Score: 0.855 | Match: 1\n",
      "Real: Malak_Habbak | Pred: Malak_Habbak | Score: 0.948 | Match: 1\n",
      "Real: Charlotte_Church | Pred: Charlotte_Church | Score: 0.886 | Match: 1\n",
      "Real: Dany_Heatley | Pred: Dany_Heatley | Score: 0.834 | Match: 1\n",
      "Real: Ari_Bousbib | Pred: Ari_Bousbib | Score: 0.998 | Match: 1\n"
     ]
    },
    {
     "name": "stderr",
     "output_type": "stream",
     "text": [
      " 48%|████▊     | 120/250 [14:25<15:35,  7.20s/it]"
     ]
    },
    {
     "name": "stdout",
     "output_type": "stream",
     "text": [
      "Real: Paris_Hilton | Pred: TA_McLendon | Score: 0.908 | Match: 0\n",
      "Real: David_Tornberg | Pred: David_Tornberg | Score: 0.929 | Match: 1\n",
      "Real: William_Cocksedge | Pred: William_Cocksedge | Score: 0.985 | Match: 1\n",
      "Real: TA_McLendon | Pred: TA_McLendon | Score: 0.947 | Match: 1\n",
      "Real: 120_frontal | Pred: 120_frontal | Score: 0.988 | Match: 1\n"
     ]
    },
    {
     "name": "stderr",
     "output_type": "stream",
     "text": [
      " 48%|████▊     | 121/250 [14:32<14:46,  6.87s/it]"
     ]
    },
    {
     "name": "stdout",
     "output_type": "stream",
     "text": [
      "Real: Fran_Drescher | Pred: Fran_Drescher | Score: 0.880 | Match: 1\n",
      "Real: TA_McLendon | Pred: TA_McLendon | Score: 0.999 | Match: 1\n",
      "Real: Charlotte_Church | Pred: Charlotte_Church | Score: 0.988 | Match: 1\n",
      "Real: Sheila_Fraser | Pred: Sheila_Fraser | Score: 0.979 | Match: 1\n",
      "Real: Ghassan_Elashi | Pred: Ghassan_Elashi | Score: 0.998 | Match: 1\n"
     ]
    },
    {
     "name": "stderr",
     "output_type": "stream",
     "text": [
      " 49%|████▉     | 122/250 [14:36<12:58,  6.09s/it]"
     ]
    },
    {
     "name": "stdout",
     "output_type": "stream",
     "text": [
      "Real: Milan_Kucan | Pred: Milan_Kucan | Score: 0.963 | Match: 1\n",
      "Real: Elaine_Chao | Pred: Elaine_Chao | Score: 0.978 | Match: 1\n",
      "Real: Yoon_Young-kwan | Pred: Yoon_Young-kwan | Score: 0.834 | Match: 1\n",
      "Real: Ibrahim_Hilal | Pred: Ibrahim_Hilal | Score: 0.578 | Match: 1\n",
      "Real: Pedro_Solbes | Pred: Milan_Kucan | Score: 0.745 | Match: 0\n"
     ]
    },
    {
     "name": "stderr",
     "output_type": "stream",
     "text": [
      " 49%|████▉     | 123/250 [14:42<12:59,  6.14s/it]"
     ]
    },
    {
     "name": "stdout",
     "output_type": "stream",
     "text": [
      "Real: Steven_Curtis_Chapman | Pred: Steven_Curtis_Chapman | Score: 0.977 | Match: 1\n",
      "Real: Gustavo_Kuerten | Pred: Steven_Curtis_Chapman | Score: 0.933 | Match: 0\n",
      "Real: Peter_Rasch | Pred: Peter_Rasch | Score: 0.849 | Match: 1\n",
      "Real: Paris_Hilton | Pred: Paris_Hilton | Score: 0.901 | Match: 1\n",
      "Real: Gene_Autry | Pred: Gene_Autry | Score: 0.560 | Match: 1\n"
     ]
    },
    {
     "name": "stderr",
     "output_type": "stream",
     "text": [
      " 50%|████▉     | 124/250 [14:51<14:48,  7.05s/it]"
     ]
    },
    {
     "name": "stdout",
     "output_type": "stream",
     "text": [
      "Real: 084_frontal | Pred: 084_frontal | Score: 0.914 | Match: 1\n",
      "Real: Gustavo_Kuerten | Pred: 084_frontal | Score: 0.473 | Match: 0\n",
      "Real: Cole_Chapman | Pred: Cole_Chapman | Score: 0.863 | Match: 1\n",
      "Real: Melana_Scantlin | Pred: Melana_Scantlin | Score: 0.794 | Match: 1\n",
      "Real: Carolyn_Dawn_Johnson | Pred: 084_frontal | Score: 0.664 | Match: 0\n"
     ]
    },
    {
     "name": "stderr",
     "output_type": "stream",
     "text": [
      " 50%|█████     | 125/250 [14:59<15:08,  7.27s/it]"
     ]
    },
    {
     "name": "stdout",
     "output_type": "stream",
     "text": [
      "Real: Wen_Jiabao | Pred: Wen_Jiabao | Score: 0.733 | Match: 1\n",
      "Real: Michele_Placido | Pred: Michele_Placido | Score: 0.938 | Match: 1\n",
      "Real: Oprah_Winfrey | Pred: Oprah_Winfrey | Score: 0.649 | Match: 1\n",
      "Real: Teresa_Williams | Pred: Teresa_Williams | Score: 0.993 | Match: 1\n",
      "Real: 058_frontal | Pred: 058_frontal | Score: 1.000 | Match: 1\n"
     ]
    },
    {
     "name": "stderr",
     "output_type": "stream",
     "text": [
      " 50%|█████     | 126/250 [15:06<15:01,  7.27s/it]"
     ]
    },
    {
     "name": "stdout",
     "output_type": "stream",
     "text": [
      "Real: Stephen_Daldry | Pred: Stephen_Daldry | Score: 0.847 | Match: 1\n",
      "Real: Mitzi_Gaynor | Pred: Mitzi_Gaynor | Score: 0.803 | Match: 1\n",
      "Real: Allison_Searing | Pred: Allison_Searing | Score: 1.000 | Match: 1\n",
      "Real: Jesse_James_Leija | Pred: Jesse_James_Leija | Score: 0.813 | Match: 1\n",
      "Real: Adrian_Nastase | Pred: Jesse_James_Leija | Score: 0.603 | Match: 0\n"
     ]
    },
    {
     "name": "stderr",
     "output_type": "stream",
     "text": [
      " 51%|█████     | 127/250 [15:15<15:46,  7.69s/it]"
     ]
    },
    {
     "name": "stdout",
     "output_type": "stream",
     "text": [
      "Real: Jake_Gyllenhaal | Pred: Jake_Gyllenhaal | Score: 0.995 | Match: 1\n",
      "Real: Jesse_James_Leija | Pred: Jesse_James_Leija | Score: 0.686 | Match: 1\n",
      "Real: Juan_Francisco_Palencia | Pred: Juan_Francisco_Palencia | Score: 0.908 | Match: 1\n",
      "Real: Juergen_Braehmer | Pred: Juergen_Braehmer | Score: 0.895 | Match: 1\n",
      "Real: 058_frontal | Pred: 058_frontal | Score: 0.983 | Match: 1\n"
     ]
    },
    {
     "name": "stderr",
     "output_type": "stream",
     "text": [
      " 51%|█████     | 128/250 [15:23<15:33,  7.65s/it]"
     ]
    },
    {
     "name": "stdout",
     "output_type": "stream",
     "text": [
      "Real: Mike_Maroth | Pred: Mike_Maroth | Score: 0.709 | Match: 1\n",
      "Real: Marc_Anthony | Pred: Marc_Anthony | Score: 0.744 | Match: 1\n",
      "Real: William_Cocksedge | Pred: William_Cocksedge | Score: 0.997 | Match: 1\n",
      "Real: Cole_Chapman | Pred: Cole_Chapman | Score: 0.667 | Match: 1\n",
      "Real: Aaron_Peirsol | Pred: William_Cocksedge | Score: 0.808 | Match: 0\n"
     ]
    },
    {
     "name": "stderr",
     "output_type": "stream",
     "text": [
      " 52%|█████▏    | 129/250 [15:33<17:03,  8.46s/it]"
     ]
    },
    {
     "name": "stdout",
     "output_type": "stream",
     "text": [
      "Real: John_Philip_Elkann | Pred: John_Philip_Elkann | Score: 0.887 | Match: 1\n",
      "Real: Gene_Autry | Pred: Gene_Autry | Score: 0.956 | Match: 1\n",
      "Real: Queen_Noor | Pred: Queen_Noor | Score: 0.544 | Match: 1\n",
      "Real: Colleen_Ryan | Pred: Colleen_Ryan | Score: 0.857 | Match: 1\n",
      "Real: 098_frontal | Pred: 098_frontal | Score: 0.917 | Match: 1\n"
     ]
    },
    {
     "name": "stderr",
     "output_type": "stream",
     "text": [
      " 52%|█████▏    | 130/250 [15:44<18:27,  9.23s/it]"
     ]
    },
    {
     "name": "stdout",
     "output_type": "stream",
     "text": [
      "Real: Clive_Woodward | Pred: Clive_Woodward | Score: 0.955 | Match: 1\n",
      "Real: Hamad_Bin_Jassim | Pred: Hamad_Bin_Jassim | Score: 1.000 | Match: 1\n",
      "Real: 069_frontal | Pred: 069_frontal | Score: 1.000 | Match: 1\n",
      "Real: David_McCallum | Pred: David_McCallum | Score: 0.809 | Match: 1\n",
      "Real: Mario_Lobo_Zagallo | Pred: Mario_Lobo_Zagallo | Score: 0.869 | Match: 1\n"
     ]
    },
    {
     "name": "stderr",
     "output_type": "stream",
     "text": [
      " 52%|█████▏    | 131/250 [15:53<18:27,  9.30s/it]"
     ]
    },
    {
     "name": "stdout",
     "output_type": "stream",
     "text": [
      "Real: Larry_Coker | Pred: 069_frontal | Score: 0.867 | Match: 0\n",
      "Real: 069_frontal | Pred: 069_frontal | Score: 0.979 | Match: 1\n",
      "Real: Bill_Lerach | Pred: 069_frontal | Score: 0.464 | Match: 0\n",
      "Real: Chris_Columbus | Pred: Chris_Columbus | Score: 0.648 | Match: 1\n",
      "Real: William_Delahunt | Pred: William_Delahunt | Score: 0.933 | Match: 1\n"
     ]
    },
    {
     "name": "stderr",
     "output_type": "stream",
     "text": [
      " 53%|█████▎    | 132/250 [16:00<16:25,  8.35s/it]"
     ]
    },
    {
     "name": "stdout",
     "output_type": "stream",
     "text": [
      "Real: Thaksin_Shinawatra | Pred: Thaksin_Shinawatra | Score: 0.946 | Match: 1\n",
      "Real: Hrithik_Roshan | Pred: Hrithik_Roshan | Score: 0.933 | Match: 1\n",
      "Real: David_Tornberg | Pred: David_Tornberg | Score: 0.544 | Match: 1\n",
      "Real: Hans_Eichel | Pred: Hans_Eichel | Score: 0.945 | Match: 1\n",
      "Real: Larry_Coker | Pred: Thaksin_Shinawatra | Score: 0.713 | Match: 0\n"
     ]
    },
    {
     "name": "stderr",
     "output_type": "stream",
     "text": [
      " 53%|█████▎    | 133/250 [16:05<14:51,  7.62s/it]"
     ]
    },
    {
     "name": "stdout",
     "output_type": "stream",
     "text": [
      "Real: Steve_Phillips | Pred: Steve_Phillips | Score: 0.409 | Match: 1\n",
      "Real: Bill_Fennelly | Pred: Arnold_Scott | Score: 0.507 | Match: 0\n",
      "Real: Andy_Griffith | Pred: Andy_Griffith | Score: 0.854 | Match: 1\n",
      "Real: Johan_Bruyneel | Pred: Johan_Bruyneel | Score: 0.999 | Match: 1\n",
      "Real: Arnold_Scott | Pred: Arnold_Scott | Score: 0.667 | Match: 1\n"
     ]
    },
    {
     "name": "stderr",
     "output_type": "stream",
     "text": [
      " 54%|█████▎    | 134/250 [16:16<16:13,  8.39s/it]"
     ]
    },
    {
     "name": "stdout",
     "output_type": "stream",
     "text": [
      "Real: 033_frontal | Pred: 033_frontal | Score: 1.000 | Match: 1\n",
      "Real: Cole_Chapman | Pred: Cole_Chapman | Score: 0.807 | Match: 1\n",
      "Real: Gabi_Zimmer | Pred: Gabi_Zimmer | Score: 0.830 | Match: 1\n",
      "Real: Dany_Heatley | Pred: Cole_Chapman | Score: 0.542 | Match: 0\n",
      "Real: John_Nash | Pred: John_Nash | Score: 0.712 | Match: 1\n"
     ]
    },
    {
     "name": "stderr",
     "output_type": "stream",
     "text": [
      " 54%|█████▍    | 135/250 [16:24<16:19,  8.51s/it]"
     ]
    },
    {
     "name": "stdout",
     "output_type": "stream",
     "text": [
      "Real: Gus_Van_Sant | Pred: Gus_Van_Sant | Score: 0.965 | Match: 1\n",
      "Real: Arnold_Scott | Pred: Arnold_Scott | Score: 0.872 | Match: 1\n",
      "Real: Caroline_Kennedy | Pred: Claudia_Coslovich | Score: 0.612 | Match: 0\n",
      "Real: Emanuel_Ginobili | Pred: Claudia_Coslovich | Score: 0.731 | Match: 0\n",
      "Real: Claudia_Coslovich | Pred: Claudia_Coslovich | Score: 0.744 | Match: 1\n"
     ]
    },
    {
     "name": "stderr",
     "output_type": "stream",
     "text": [
      " 54%|█████▍    | 136/250 [16:35<17:07,  9.01s/it]"
     ]
    },
    {
     "name": "stdout",
     "output_type": "stream",
     "text": [
      "Real: Gary_Bettman | Pred: Gary_Bettman | Score: 0.842 | Match: 1\n",
      "Real: 079_frontal | Pred: 079_frontal | Score: 0.993 | Match: 1\n",
      "Real: Mike_Sherman | Pred: Mike_Sherman | Score: 0.999 | Match: 1\n",
      "Real: Enrique_Bolanos | Pred: Enrique_Bolanos | Score: 0.726 | Match: 1\n",
      "Real: Hugo_Conte | Pred: Hugo_Conte | Score: 0.983 | Match: 1\n"
     ]
    },
    {
     "name": "stderr",
     "output_type": "stream",
     "text": [
      " 55%|█████▍    | 137/250 [16:44<17:22,  9.23s/it]"
     ]
    },
    {
     "name": "stdout",
     "output_type": "stream",
     "text": [
      "Real: Wally_Szczerbiak | Pred: Wally_Szczerbiak | Score: 0.813 | Match: 1\n",
      "Real: Matt_Braker | Pred: Matt_Braker | Score: 0.987 | Match: 1\n",
      "Real: 049_frontal | Pred: 049_frontal | Score: 0.984 | Match: 1\n",
      "Real: Viara_Vike-Freiberga | Pred: Viara_Vike-Freiberga | Score: 0.813 | Match: 1\n",
      "Real: Lennart_Johansson | Pred: Lennart_Johansson | Score: 1.000 | Match: 1\n"
     ]
    },
    {
     "name": "stderr",
     "output_type": "stream",
     "text": [
      " 55%|█████▌    | 138/250 [16:55<17:59,  9.64s/it]"
     ]
    },
    {
     "name": "stdout",
     "output_type": "stream",
     "text": [
      "Real: Garry_Kasparov | Pred: Garry_Kasparov | Score: 0.945 | Match: 1\n",
      "Real: Kiki_Vandeweghe | Pred: Garry_Kasparov | Score: 0.672 | Match: 0\n",
      "Real: 046_frontal | Pred: 046_frontal | Score: 1.000 | Match: 1\n",
      "Real: Arnold_Scott | Pred: Arnold_Scott | Score: 0.406 | Match: 1\n",
      "Real: Mario_Lobo_Zagallo | Pred: Mario_Lobo_Zagallo | Score: 0.999 | Match: 1\n"
     ]
    },
    {
     "name": "stderr",
     "output_type": "stream",
     "text": [
      " 56%|█████▌    | 139/250 [17:01<15:48,  8.54s/it]"
     ]
    },
    {
     "name": "stdout",
     "output_type": "stream",
     "text": [
      "Real: Colleen_Ryan | Pred: Colleen_Ryan | Score: 0.925 | Match: 1\n",
      "Real: Paola_Espinoza | Pred: Paola_Espinoza | Score: 0.708 | Match: 1\n",
      "Real: Jose_Carreras | Pred: Jose_Carreras | Score: 0.978 | Match: 1\n",
      "Real: Jose_Lopez_Beltran | Pred: Jose_Lopez_Beltran | Score: 1.000 | Match: 1\n",
      "Real: Alicia_Molik | Pred: Colleen_Ryan | Score: 0.588 | Match: 0\n"
     ]
    },
    {
     "name": "stderr",
     "output_type": "stream",
     "text": [
      " 56%|█████▌    | 140/250 [17:11<16:38,  9.08s/it]"
     ]
    },
    {
     "name": "stdout",
     "output_type": "stream",
     "text": [
      "Real: 070_frontal | Pred: 070_frontal | Score: 1.000 | Match: 1\n",
      "Real: Danny_Ainge | Pred: Danny_Ainge | Score: 0.944 | Match: 1\n",
      "Real: Kate_Lee | Pred: Kate_Lee | Score: 0.653 | Match: 1\n",
      "Real: Roy_Blunt | Pred: Roy_Blunt | Score: 1.000 | Match: 1\n",
      "Real: George_Blaney | Pred: George_Blaney | Score: 0.983 | Match: 1\n"
     ]
    },
    {
     "name": "stderr",
     "output_type": "stream",
     "text": [
      " 56%|█████▋    | 141/250 [17:22<17:10,  9.45s/it]"
     ]
    },
    {
     "name": "stdout",
     "output_type": "stream",
     "text": [
      "Real: Candice_Bergen | Pred: Tino_Martinez | Score: 0.994 | Match: 0\n",
      "Real: 069_frontal | Pred: 069_frontal | Score: 1.000 | Match: 1\n",
      "Real: Cole_Chapman | Pred: Cole_Chapman | Score: 0.766 | Match: 1\n",
      "Real: Dennis_Powell | Pred: Dennis_Powell | Score: 0.751 | Match: 1\n",
      "Real: Tino_Martinez | Pred: Tino_Martinez | Score: 0.944 | Match: 1\n"
     ]
    },
    {
     "name": "stderr",
     "output_type": "stream",
     "text": [
      " 57%|█████▋    | 142/250 [17:27<14:50,  8.24s/it]"
     ]
    },
    {
     "name": "stdout",
     "output_type": "stream",
     "text": [
      "Real: Jessica_Brungo | Pred: Jessica_Brungo | Score: 0.872 | Match: 1\n",
      "Real: Kurt_Budke | Pred: Kurt_Budke | Score: 0.958 | Match: 1\n",
      "Real: Kiki_Vandeweghe | Pred: Kiki_Vandeweghe | Score: 0.999 | Match: 1\n",
      "Real: Cate_Blanchett | Pred: Kurt_Budke | Score: 0.526 | Match: 0\n",
      "Real: Sanjay_Chawla | Pred: Sanjay_Chawla | Score: 0.823 | Match: 1\n"
     ]
    },
    {
     "name": "stderr",
     "output_type": "stream",
     "text": [
      " 57%|█████▋    | 143/250 [17:32<13:07,  7.36s/it]"
     ]
    },
    {
     "name": "stdout",
     "output_type": "stream",
     "text": [
      "Real: Bill_Fennelly | Pred: Bill_Fennelly | Score: 0.388 | Match: 1\n",
      "Real: Ari_Bousbib | Pred: Ari_Bousbib | Score: 0.454 | Match: 1\n",
      "Real: Tim_Floyd | Pred: Ari_Bousbib | Score: 0.480 | Match: 0\n",
      "Real: Carl_Levin | Pred: Carl_Levin | Score: 0.975 | Match: 1\n",
      "Real: Arnold_Scott | Pred: Arnold_Scott | Score: 0.760 | Match: 1\n"
     ]
    },
    {
     "name": "stderr",
     "output_type": "stream",
     "text": [
      " 58%|█████▊    | 144/250 [17:41<13:48,  7.81s/it]"
     ]
    },
    {
     "name": "stdout",
     "output_type": "stream",
     "text": [
      "Real: Ron_Dittemore | Pred: Ron_Dittemore | Score: 0.946 | Match: 1\n",
      "Real: Thomas_Manger | Pred: Thomas_Manger | Score: 0.878 | Match: 1\n",
      "Real: Billy_Gilman | Pred: Billy_Gilman | Score: 0.996 | Match: 1\n",
      "Real: Colleen_Ryan | Pred: Colleen_Ryan | Score: 0.947 | Match: 1\n",
      "Real: Duane_Lee_Chapman | Pred: Duane_Lee_Chapman | Score: 0.671 | Match: 1\n"
     ]
    },
    {
     "name": "stderr",
     "output_type": "stream",
     "text": [
      " 58%|█████▊    | 145/250 [17:50<14:05,  8.05s/it]"
     ]
    },
    {
     "name": "stdout",
     "output_type": "stream",
     "text": [
      "Real: Elizabeth_Hill | Pred: Elizabeth_Hill | Score: 0.656 | Match: 1\n",
      "Real: Dany_Heatley | Pred: Dany_Heatley | Score: 0.738 | Match: 1\n",
      "Real: Hamad_Bin_Jassim | Pred: Hamad_Bin_Jassim | Score: 0.970 | Match: 1\n",
      "Real: 112_frontal | Pred: 112_frontal | Score: 0.858 | Match: 1\n",
      "Real: Pedro_Solbes | Pred: 112_frontal | Score: 0.591 | Match: 0\n"
     ]
    },
    {
     "name": "stderr",
     "output_type": "stream",
     "text": [
      " 58%|█████▊    | 146/250 [17:55<12:28,  7.19s/it]"
     ]
    },
    {
     "name": "stdout",
     "output_type": "stream",
     "text": [
      "Real: Harrison_Ford | Pred: Sheila_Fraser | Score: 0.959 | Match: 0\n",
      "Real: Boutros_Boutros_Ghali | Pred: Boutros_Boutros_Ghali | Score: 0.957 | Match: 1\n",
      "Real: Charlotte_Church | Pred: Charlotte_Church | Score: 0.975 | Match: 1\n",
      "Real: Millicent_Martin | Pred: Millicent_Martin | Score: 0.997 | Match: 1\n",
      "Real: Sheila_Fraser | Pred: Sheila_Fraser | Score: 0.822 | Match: 1\n"
     ]
    },
    {
     "name": "stderr",
     "output_type": "stream",
     "text": [
      " 59%|█████▉    | 147/250 [18:08<15:31,  9.04s/it]"
     ]
    },
    {
     "name": "stdout",
     "output_type": "stream",
     "text": [
      "Real: 083_frontal | Pred: 083_frontal | Score: 1.000 | Match: 1\n",
      "Real: Eric_Hinske | Pred: 083_frontal | Score: 0.686 | Match: 0\n",
      "Real: Isabella_Rossellini | Pred: Danny_Ainge | Score: 0.592 | Match: 0\n",
      "Real: Ron_Dittemore | Pred: Ron_Dittemore | Score: 0.985 | Match: 1\n",
      "Real: Danny_Ainge | Pred: Danny_Ainge | Score: 0.775 | Match: 1\n"
     ]
    },
    {
     "name": "stderr",
     "output_type": "stream",
     "text": [
      " 59%|█████▉    | 148/250 [18:19<16:07,  9.49s/it]"
     ]
    },
    {
     "name": "stdout",
     "output_type": "stream",
     "text": [
      "Real: 024_frontal | Pred: 024_frontal | Score: 1.000 | Match: 1\n",
      "Real: Padraig_Harrington | Pred: Padraig_Harrington | Score: 0.954 | Match: 1\n",
      "Real: Hung_Wan-ting | Pred: Hung_Wan-ting | Score: 1.000 | Match: 1\n",
      "Real: Marc_Anthony | Pred: Marc_Anthony | Score: 0.879 | Match: 1\n",
      "Real: Fernando_Valenzuela | Pred: Fernando_Valenzuela | Score: 0.525 | Match: 1\n"
     ]
    },
    {
     "name": "stderr",
     "output_type": "stream",
     "text": [
      " 60%|█████▉    | 149/250 [18:29<16:12,  9.63s/it]"
     ]
    },
    {
     "name": "stdout",
     "output_type": "stream",
     "text": [
      "Real: Mary_Jo_Myers | Pred: Mary_Jo_Myers | Score: 0.977 | Match: 1\n",
      "Real: Carolyn_Dawn_Johnson | Pred: Carolyn_Dawn_Johnson | Score: 0.993 | Match: 1\n",
      "Real: Lord_Hutton | Pred: Lord_Hutton | Score: 0.992 | Match: 1\n",
      "Real: Juergen_Braehmer | Pred: Juergen_Braehmer | Score: 1.000 | Match: 1\n",
      "Real: 023_frontal | Pred: 023_frontal | Score: 1.000 | Match: 1\n"
     ]
    },
    {
     "name": "stderr",
     "output_type": "stream",
     "text": [
      " 60%|██████    | 150/250 [18:52<23:00, 13.81s/it]"
     ]
    },
    {
     "name": "stdout",
     "output_type": "stream",
     "text": [
      "Real: Malak_Habbak | Pred: Malak_Habbak | Score: 0.990 | Match: 1\n",
      "Real: Troy_Hudson | Pred: Troy_Hudson | Score: 0.997 | Match: 1\n",
      "Real: Thaksin_Shinawatra | Pred: Thaksin_Shinawatra | Score: 0.999 | Match: 1\n",
      "Real: Fran_Drescher | Pred: Fran_Drescher | Score: 0.982 | Match: 1\n",
      "Real: 084_frontal | Pred: 084_frontal | Score: 0.934 | Match: 1\n"
     ]
    },
    {
     "name": "stderr",
     "output_type": "stream",
     "text": [
      " 60%|██████    | 151/250 [18:59<19:23, 11.76s/it]"
     ]
    },
    {
     "name": "stdout",
     "output_type": "stream",
     "text": [
      "Real: Melissa_Manchester | Pred: Melissa_Manchester | Score: 1.000 | Match: 1\n",
      "Real: Jake_Gyllenhaal | Pred: Elizabeth_Hill | Score: 0.616 | Match: 0\n",
      "Real: Elizabeth_Hill | Pred: Elizabeth_Hill | Score: 0.684 | Match: 1\n",
      "Real: Caroline_Kennedy | Pred: Caroline_Kennedy | Score: 0.774 | Match: 1\n",
      "Real: Ron_Dittemore | Pred: Ron_Dittemore | Score: 0.732 | Match: 1\n"
     ]
    },
    {
     "name": "stderr",
     "output_type": "stream",
     "text": [
      " 61%|██████    | 152/250 [19:05<16:02,  9.82s/it]"
     ]
    },
    {
     "name": "stdout",
     "output_type": "stream",
     "text": [
      "Real: Billy_Gilman | Pred: Billy_Gilman | Score: 0.840 | Match: 1\n",
      "Real: Laura_Flessel | Pred: Laura_Flessel | Score: 0.687 | Match: 1\n",
      "Real: Pedro_Solbes | Pred: Andy_Griffith | Score: 0.609 | Match: 0\n",
      "Real: Claudia_Coslovich | Pred: Claudia_Coslovich | Score: 0.656 | Match: 1\n",
      "Real: Andy_Griffith | Pred: Andy_Griffith | Score: 0.754 | Match: 1\n"
     ]
    },
    {
     "name": "stderr",
     "output_type": "stream",
     "text": [
      " 61%|██████    | 153/250 [19:11<14:01,  8.67s/it]"
     ]
    },
    {
     "name": "stdout",
     "output_type": "stream",
     "text": [
      "Real: Troy_Aikman | Pred: Troy_Aikman | Score: 0.939 | Match: 1\n",
      "Real: Donald_Trump | Pred: Donald_Trump | Score: 0.929 | Match: 1\n",
      "Real: Kevin_Spacey | Pred: Donald_Trump | Score: 0.899 | Match: 0\n",
      "Real: Danny_Ainge | Pred: Danny_Ainge | Score: 0.982 | Match: 1\n",
      "Real: Jose_Carreras | Pred: Jose_Carreras | Score: 0.606 | Match: 1\n"
     ]
    },
    {
     "name": "stderr",
     "output_type": "stream",
     "text": [
      " 62%|██████▏   | 154/250 [19:18<13:09,  8.22s/it]"
     ]
    },
    {
     "name": "stdout",
     "output_type": "stream",
     "text": [
      "Real: Franz_Gsell | Pred: Franz_Gsell | Score: 0.934 | Match: 1\n",
      "Real: Tom_Koenigs | Pred: Tom_Koenigs | Score: 0.773 | Match: 1\n",
      "Real: Troy_Aikman | Pred: Troy_Aikman | Score: 0.851 | Match: 1\n",
      "Real: Jesper_Parnevik | Pred: Jesper_Parnevik | Score: 0.961 | Match: 1\n",
      "Real: Paul_Burrell | Pred: Paul_Burrell | Score: 0.836 | Match: 1\n"
     ]
    },
    {
     "name": "stderr",
     "output_type": "stream",
     "text": [
      " 62%|██████▏   | 155/250 [19:30<15:09,  9.57s/it]"
     ]
    },
    {
     "name": "stdout",
     "output_type": "stream",
     "text": [
      "Real: 083_frontal | Pred: 083_frontal | Score: 1.000 | Match: 1\n",
      "Real: Dean_Jacek | Pred: Dean_Jacek | Score: 0.828 | Match: 1\n",
      "Real: George_Blaney | Pred: George_Blaney | Score: 0.977 | Match: 1\n",
      "Real: Paul_Burrell | Pred: Paul_Burrell | Score: 0.995 | Match: 1\n",
      "Real: 052_frontal | Pred: 052_frontal | Score: 0.997 | Match: 1\n"
     ]
    },
    {
     "name": "stderr",
     "output_type": "stream",
     "text": [
      " 62%|██████▏   | 156/250 [19:38<13:48,  8.82s/it]"
     ]
    },
    {
     "name": "stdout",
     "output_type": "stream",
     "text": [
      "Real: Gerard_de_Cortanze | Pred: Gerard_de_Cortanze | Score: 0.844 | Match: 1\n",
      "Real: Steve_Phillips | Pred: Steve_Phillips | Score: 0.449 | Match: 1\n",
      "Real: 078_frontal | Pred: 078_frontal | Score: 0.535 | Match: 1\n",
      "Real: James_Brown | Pred: James_Brown | Score: 0.933 | Match: 1\n",
      "Real: Monica_Serra | Pred: Monica_Serra | Score: 0.707 | Match: 1\n"
     ]
    },
    {
     "name": "stderr",
     "output_type": "stream",
     "text": [
      " 63%|██████▎   | 157/250 [19:42<11:37,  7.50s/it]"
     ]
    },
    {
     "name": "stdout",
     "output_type": "stream",
     "text": [
      "Real: Paul_Bremer | Pred: Paul_Bremer | Score: 0.877 | Match: 1\n",
      "Real: Billy_Gilman | Pred: Billy_Gilman | Score: 0.449 | Match: 1\n",
      "Real: Malak_Habbak | Pred: Malak_Habbak | Score: 0.990 | Match: 1\n",
      "Real: Rina_Lazo | Pred: Rina_Lazo | Score: 0.988 | Match: 1\n",
      "Real: Kiki_Vandeweghe | Pred: Kiki_Vandeweghe | Score: 0.689 | Match: 1\n"
     ]
    },
    {
     "name": "stderr",
     "output_type": "stream",
     "text": [
      " 63%|██████▎   | 158/250 [19:46<09:55,  6.47s/it]"
     ]
    },
    {
     "name": "stdout",
     "output_type": "stream",
     "text": [
      "Real: Johan_Bruyneel | Pred: Johan_Bruyneel | Score: 1.000 | Match: 1\n",
      "Real: Elizabeth_Taylor | Pred: Stephen_Daldry | Score: 0.523 | Match: 0\n",
      "Real: Salman_Rushdie | Pred: Elizabeth_Taylor | Score: 0.399 | Match: 0\n",
      "Real: Stephen_Daldry | Pred: Stephen_Daldry | Score: 0.539 | Match: 1\n",
      "Real: Juan_Francisco_Palencia | Pred: Juan_Francisco_Palencia | Score: 0.991 | Match: 1\n"
     ]
    },
    {
     "name": "stderr",
     "output_type": "stream",
     "text": [
      " 64%|██████▎   | 159/250 [19:53<09:55,  6.54s/it]"
     ]
    },
    {
     "name": "stdout",
     "output_type": "stream",
     "text": [
      "Real: Salman_Rushdie | Pred: Salman_Rushdie | Score: 0.492 | Match: 1\n",
      "Real: Aparna_Pillai | Pred: Aparna_Pillai | Score: 0.824 | Match: 1\n",
      "Real: Lutz_Freitag | Pred: Lutz_Freitag | Score: 0.953 | Match: 1\n",
      "Real: 112_frontal | Pred: 112_frontal | Score: 0.982 | Match: 1\n",
      "Real: Sheila_Fraser | Pred: Lutz_Freitag | Score: 0.364 | Match: 0\n"
     ]
    },
    {
     "name": "stderr",
     "output_type": "stream",
     "text": [
      " 64%|██████▍   | 160/250 [19:59<09:35,  6.40s/it]"
     ]
    },
    {
     "name": "stdout",
     "output_type": "stream",
     "text": [
      "Real: Monique_Gagnon-Tremblay | Pred: Monique_Gagnon-Tremblay | Score: 0.807 | Match: 1\n",
      "Real: Sheila_Fraser | Pred: Sheila_Fraser | Score: 0.747 | Match: 1\n",
      "Real: Jon_Constance | Pred: Jon_Constance | Score: 0.840 | Match: 1\n",
      "Real: Marc_Anthony | Pred: Marc_Anthony | Score: 0.965 | Match: 1\n",
      "Real: 037_frontal | Pred: 037_frontal | Score: 0.998 | Match: 1\n"
     ]
    },
    {
     "name": "stderr",
     "output_type": "stream",
     "text": [
      " 64%|██████▍   | 161/250 [20:04<08:54,  6.01s/it]"
     ]
    },
    {
     "name": "stdout",
     "output_type": "stream",
     "text": [
      "Real: Thierry_Mariani | Pred: Thierry_Mariani | Score: 0.858 | Match: 1\n",
      "Real: Ghassan_Elashi | Pred: Ghassan_Elashi | Score: 1.000 | Match: 1\n",
      "Real: Adam_Kennedy | Pred: Adam_Kennedy | Score: 0.997 | Match: 1\n",
      "Real: Adrian_Nastase | Pred: Adrian_Nastase | Score: 0.580 | Match: 1\n",
      "Real: Miguel_Jimenez | Pred: Miguel_Jimenez | Score: 0.875 | Match: 1\n"
     ]
    },
    {
     "name": "stderr",
     "output_type": "stream",
     "text": [
      " 65%|██████▍   | 162/250 [20:15<11:07,  7.58s/it]"
     ]
    },
    {
     "name": "stdout",
     "output_type": "stream",
     "text": [
      "Real: 083_frontal | Pred: 083_frontal | Score: 0.593 | Match: 1\n",
      "Real: 108_frontal | Pred: 108_frontal | Score: 0.919 | Match: 1\n",
      "Real: Lord_Hutton | Pred: Lord_Hutton | Score: 0.645 | Match: 1\n",
      "Real: 037_frontal | Pred: 037_frontal | Score: 0.986 | Match: 1\n",
      "Real: Gus_Van_Sant | Pred: Lord_Hutton | Score: 0.971 | Match: 0\n"
     ]
    },
    {
     "name": "stderr",
     "output_type": "stream",
     "text": [
      " 65%|██████▌   | 163/250 [20:22<10:39,  7.35s/it]"
     ]
    },
    {
     "name": "stdout",
     "output_type": "stream",
     "text": [
      "Real: Bill_Lerach | Pred: Bill_Lerach | Score: 0.985 | Match: 1\n",
      "Real: Chris_Dodd | Pred: Chris_Dodd | Score: 0.834 | Match: 1\n",
      "Real: Jose_Carreras | Pred: Jose_Carreras | Score: 0.711 | Match: 1\n",
      "Real: Yoon_Young-kwan | Pred: Yoon_Young-kwan | Score: 0.973 | Match: 1\n",
      "Real: Martin_Luther_King_III | Pred: Martin_Luther_King_III | Score: 0.603 | Match: 1\n"
     ]
    },
    {
     "name": "stderr",
     "output_type": "stream",
     "text": [
      " 66%|██████▌   | 164/250 [20:31<11:20,  7.92s/it]"
     ]
    },
    {
     "name": "stdout",
     "output_type": "stream",
     "text": [
      "Real: Duane_Lee_Chapman | Pred: Mike_Sherman | Score: 0.575 | Match: 0\n",
      "Real: Hans_Eichel | Pred: Duane_Lee_Chapman | Score: 0.481 | Match: 0\n",
      "Real: Lionel_Richie | Pred: Lionel_Richie | Score: 0.504 | Match: 1\n",
      "Real: Mike_Sherman | Pred: Mike_Sherman | Score: 0.791 | Match: 1\n",
      "Real: Prince_Claus | Pred: Hans_Eichel | Score: 0.348 | Match: 0\n"
     ]
    },
    {
     "name": "stderr",
     "output_type": "stream",
     "text": [
      " 66%|██████▌   | 165/250 [20:37<10:16,  7.25s/it]"
     ]
    },
    {
     "name": "stdout",
     "output_type": "stream",
     "text": [
      "Real: Roger_King | Pred: Roger_King | Score: 0.882 | Match: 1\n",
      "Real: Kwon_Young-gil | Pred: Kwon_Young-gil | Score: 0.925 | Match: 1\n",
      "Real: Clive_Woodward | Pred: Clive_Woodward | Score: 0.738 | Match: 1\n",
      "Real: Juan_Francisco_Palencia | Pred: Juan_Francisco_Palencia | Score: 0.958 | Match: 1\n",
      "Real: Craig_David | Pred: Craig_David | Score: 0.968 | Match: 1\n"
     ]
    },
    {
     "name": "stderr",
     "output_type": "stream",
     "text": [
      " 66%|██████▋   | 166/250 [20:43<09:31,  6.80s/it]"
     ]
    },
    {
     "name": "stdout",
     "output_type": "stream",
     "text": [
      "Real: Teresa_Williams | Pred: Teresa_Williams | Score: 0.660 | Match: 1\n",
      "Real: Peter_Rasch | Pred: Peter_Rasch | Score: 0.854 | Match: 1\n",
      "Real: Salman_Rushdie | Pred: Daryl_Smith | Score: 0.405 | Match: 0\n",
      "Real: Garry_Kasparov | Pred: Daryl_Smith | Score: 0.950 | Match: 0\n",
      "Real: Daryl_Smith | Pred: Daryl_Smith | Score: 0.904 | Match: 1\n"
     ]
    },
    {
     "name": "stderr",
     "output_type": "stream",
     "text": [
      " 67%|██████▋   | 167/250 [20:49<09:09,  6.62s/it]"
     ]
    },
    {
     "name": "stdout",
     "output_type": "stream",
     "text": [
      "Real: Danny_Ainge | Pred: Danny_Ainge | Score: 0.861 | Match: 1\n",
      "Real: Rina_Lazo | Pred: Rina_Lazo | Score: 0.959 | Match: 1\n",
      "Real: Dany_Heatley | Pred: Dany_Heatley | Score: 0.741 | Match: 1\n",
      "Real: Jose_Carreras | Pred: Jose_Carreras | Score: 0.701 | Match: 1\n",
      "Real: Hans_Eichel | Pred: Hans_Eichel | Score: 0.861 | Match: 1\n"
     ]
    },
    {
     "name": "stderr",
     "output_type": "stream",
     "text": [
      " 67%|██████▋   | 168/250 [20:57<09:50,  7.20s/it]"
     ]
    },
    {
     "name": "stdout",
     "output_type": "stream",
     "text": [
      "Real: Edina_Batar | Pred: Edina_Batar | Score: 0.991 | Match: 1\n",
      "Real: 017_frontal | Pred: 017_frontal | Score: 0.999 | Match: 1\n",
      "Real: Larry_Coker | Pred: Larry_Coker | Score: 0.651 | Match: 1\n",
      "Real: Barbara_Boxer | Pred: Barbara_Boxer | Score: 0.589 | Match: 1\n",
      "Real: Boutros_Boutros_Ghali | Pred: 017_frontal | Score: 0.833 | Match: 0\n"
     ]
    },
    {
     "name": "stderr",
     "output_type": "stream",
     "text": [
      " 68%|██████▊   | 169/250 [21:05<09:58,  7.39s/it]"
     ]
    },
    {
     "name": "stdout",
     "output_type": "stream",
     "text": [
      "Real: Mary_Jo_Myers | Pred: Mary_Jo_Myers | Score: 0.854 | Match: 1\n",
      "Real: Jose_Carreras | Pred: Jose_Carreras | Score: 1.000 | Match: 1\n",
      "Real: 046_frontal | Pred: 046_frontal | Score: 1.000 | Match: 1\n",
      "Real: William_Delahunt | Pred: William_Delahunt | Score: 0.892 | Match: 1\n",
      "Real: Thomas_Manger | Pred: Thomas_Manger | Score: 1.000 | Match: 1\n"
     ]
    },
    {
     "name": "stderr",
     "output_type": "stream",
     "text": [
      " 68%|██████▊   | 170/250 [21:10<08:51,  6.65s/it]"
     ]
    },
    {
     "name": "stdout",
     "output_type": "stream",
     "text": [
      "Real: Dean_Jacek | Pred: Dean_Jacek | Score: 0.825 | Match: 1\n",
      "Real: Pedro_Solbes | Pred: Pedro_Solbes | Score: 0.971 | Match: 1\n",
      "Real: Adam_Kennedy | Pred: Adam_Kennedy | Score: 0.707 | Match: 1\n",
      "Real: Sheila_Fraser | Pred: Sheila_Fraser | Score: 0.944 | Match: 1\n",
      "Real: Charlotte_Church | Pred: Charlotte_Church | Score: 0.616 | Match: 1\n"
     ]
    },
    {
     "name": "stderr",
     "output_type": "stream",
     "text": [
      " 68%|██████▊   | 171/250 [21:16<08:24,  6.39s/it]"
     ]
    },
    {
     "name": "stdout",
     "output_type": "stream",
     "text": [
      "Real: Tino_Martinez | Pred: Tino_Martinez | Score: 0.988 | Match: 1\n",
      "Real: Elizabeth_Taylor | Pred: Padraig_Harrington | Score: 0.439 | Match: 0\n",
      "Real: Troy_Hudson | Pred: Troy_Hudson | Score: 0.909 | Match: 1\n",
      "Real: Jeri_Ryan | Pred: Jeri_Ryan | Score: 0.909 | Match: 1\n",
      "Real: Padraig_Harrington | Pred: Elizabeth_Taylor | Score: 0.715 | Match: 0\n"
     ]
    },
    {
     "name": "stderr",
     "output_type": "stream",
     "text": [
      " 69%|██████▉   | 172/250 [21:24<08:58,  6.90s/it]"
     ]
    },
    {
     "name": "stdout",
     "output_type": "stream",
     "text": [
      "Real: David_McCallum | Pred: David_McCallum | Score: 0.902 | Match: 1\n",
      "Real: Padraig_Harrington | Pred: David_McCallum | Score: 0.368 | Match: 0\n",
      "Real: Kevin_Spacey | Pred: Jose_Lopez_Beltran | Score: 0.475 | Match: 0\n",
      "Real: Jose_Lopez_Beltran | Pred: Jose_Lopez_Beltran | Score: 0.934 | Match: 1\n",
      "Real: Paul_Burrell | Pred: Padraig_Harrington | Score: 0.792 | Match: 0\n"
     ]
    },
    {
     "name": "stderr",
     "output_type": "stream",
     "text": [
      " 69%|██████▉   | 173/250 [21:33<09:38,  7.51s/it]"
     ]
    },
    {
     "name": "stdout",
     "output_type": "stream",
     "text": [
      "Real: David_Hannay | Pred: David_Hannay | Score: 0.998 | Match: 1\n",
      "Real: Aparna_Pillai | Pred: Aparna_Pillai | Score: 0.601 | Match: 1\n",
      "Real: Kenneth_Branagh | Pred: Kenneth_Branagh | Score: 0.665 | Match: 1\n",
      "Real: Billy_Gilman | Pred: Kenneth_Branagh | Score: 0.475 | Match: 0\n",
      "Real: Padraig_Harrington | Pred: Padraig_Harrington | Score: 0.616 | Match: 1\n"
     ]
    },
    {
     "name": "stderr",
     "output_type": "stream",
     "text": [
      " 70%|██████▉   | 174/250 [21:43<10:24,  8.22s/it]"
     ]
    },
    {
     "name": "stdout",
     "output_type": "stream",
     "text": [
      "Real: Buddy_Ryan | Pred: Buddy_Ryan | Score: 0.900 | Match: 1\n",
      "Real: 009_frontal | Pred: 009_frontal | Score: 1.000 | Match: 1\n",
      "Real: Daniel_Darnell | Pred: Daniel_Darnell | Score: 0.797 | Match: 1\n",
      "Real: Mariano_Zabaleta | Pred: Mariano_Zabaleta | Score: 0.509 | Match: 1\n",
      "Real: Steven_Curtis_Chapman | Pred: Steven_Curtis_Chapman | Score: 0.990 | Match: 1\n"
     ]
    },
    {
     "name": "stderr",
     "output_type": "stream",
     "text": [
      " 70%|███████   | 175/250 [21:54<11:23,  9.12s/it]"
     ]
    },
    {
     "name": "stdout",
     "output_type": "stream",
     "text": [
      "Real: Marc_Anthony | Pred: Marc_Anthony | Score: 0.763 | Match: 1\n",
      "Real: 083_frontal | Pred: 083_frontal | Score: 0.662 | Match: 1\n",
      "Real: Buddy_Ryan | Pred: Buddy_Ryan | Score: 0.844 | Match: 1\n",
      "Real: Pedro_Solbes | Pred: Pedro_Solbes | Score: 0.930 | Match: 1\n",
      "Real: 091_frontal | Pred: 091_frontal | Score: 0.556 | Match: 1\n"
     ]
    },
    {
     "name": "stderr",
     "output_type": "stream",
     "text": [
      " 70%|███████   | 176/250 [21:59<09:49,  7.97s/it]"
     ]
    },
    {
     "name": "stdout",
     "output_type": "stream",
     "text": [
      "Real: Michael_Kirby | Pred: Michael_Kirby | Score: 0.604 | Match: 1\n",
      "Real: Laurie_Hobbs | Pred: Laurie_Hobbs | Score: 0.986 | Match: 1\n",
      "Real: Mike_Sherman | Pred: Mike_Sherman | Score: 0.896 | Match: 1\n",
      "Real: Deece_Eckstein | Pred: Deece_Eckstein | Score: 0.980 | Match: 1\n",
      "Real: Kai-Uwe_Ricke | Pred: Kai-Uwe_Ricke | Score: 0.853 | Match: 1\n"
     ]
    },
    {
     "name": "stderr",
     "output_type": "stream",
     "text": [
      " 71%|███████   | 177/250 [22:08<09:47,  8.05s/it]"
     ]
    },
    {
     "name": "stdout",
     "output_type": "stream",
     "text": [
      "Real: Garry_Kasparov | Pred: Garry_Kasparov | Score: 0.563 | Match: 1\n",
      "Real: Jose_Carreras | Pred: Jose_Carreras | Score: 0.916 | Match: 1\n",
      "Real: 112_frontal | Pred: 112_frontal | Score: 0.751 | Match: 1\n",
      "Real: Khaled_Sawalhi | Pred: Khaled_Sawalhi | Score: 0.855 | Match: 1\n",
      "Real: Sanjay_Chawla | Pred: Sanjay_Chawla | Score: 0.997 | Match: 1\n"
     ]
    },
    {
     "name": "stderr",
     "output_type": "stream",
     "text": [
      " 71%|███████   | 178/250 [22:17<10:17,  8.57s/it]"
     ]
    },
    {
     "name": "stdout",
     "output_type": "stream",
     "text": [
      "Real: Yoelbi_Quesada | Pred: Yoelbi_Quesada | Score: 1.000 | Match: 1\n",
      "Real: Francisco_Flores | Pred: Francisco_Flores | Score: 0.354 | Match: 1\n",
      "Real: Tino_Martinez | Pred: Tino_Martinez | Score: 0.877 | Match: 1\n",
      "Real: Adrian_Nastase | Pred: Francisco_Flores | Score: 0.620 | Match: 0\n",
      "Real: 061_frontal | Pred: 061_frontal | Score: 1.000 | Match: 1\n"
     ]
    },
    {
     "name": "stderr",
     "output_type": "stream",
     "text": [
      " 72%|███████▏  | 179/250 [22:25<09:51,  8.33s/it]"
     ]
    },
    {
     "name": "stdout",
     "output_type": "stream",
     "text": [
      "Real: Tom_Koenigs | Pred: Tom_Koenigs | Score: 0.528 | Match: 1\n",
      "Real: David_Hannay | Pred: David_Hannay | Score: 0.996 | Match: 1\n",
      "Real: Kevin_Spacey | Pred: William_Cocksedge | Score: 0.942 | Match: 0\n",
      "Real: William_Cocksedge | Pred: William_Cocksedge | Score: 0.993 | Match: 1\n",
      "Real: Chris_Dodd | Pred: Chris_Dodd | Score: 0.965 | Match: 1\n"
     ]
    },
    {
     "name": "stderr",
     "output_type": "stream",
     "text": [
      " 72%|███████▏  | 180/250 [22:32<09:17,  7.97s/it]"
     ]
    },
    {
     "name": "stdout",
     "output_type": "stream",
     "text": [
      "Real: Martin_Brodeur | Pred: Paul_Bremer | Score: 0.348 | Match: 0\n",
      "Real: Miguel_Jimenez | Pred: Miguel_Jimenez | Score: 0.461 | Match: 1\n",
      "Real: Paul_Bremer | Pred: Edina_Batar | Score: 0.846 | Match: 0\n",
      "Real: Bing_Crosby | Pred: Bing_Crosby | Score: 0.999 | Match: 1\n",
      "Real: Edina_Batar | Pred: Edina_Batar | Score: 0.984 | Match: 1\n"
     ]
    },
    {
     "name": "stderr",
     "output_type": "stream",
     "text": [
      " 72%|███████▏  | 181/250 [22:39<08:41,  7.56s/it]"
     ]
    },
    {
     "name": "stdout",
     "output_type": "stream",
     "text": [
      "Real: Wen_Jiabao | Pred: Wen_Jiabao | Score: 0.537 | Match: 1\n",
      "Real: John_Philip_Elkann | Pred: John_Philip_Elkann | Score: 0.804 | Match: 1\n",
      "Real: Steve_Phillips | Pred: Steve_Phillips | Score: 0.584 | Match: 1\n",
      "Real: Andy_Griffith | Pred: Andy_Griffith | Score: 0.777 | Match: 1\n",
      "Real: Peter_Mullan | Pred: Peter_Mullan | Score: 0.735 | Match: 1\n"
     ]
    },
    {
     "name": "stderr",
     "output_type": "stream",
     "text": [
      " 73%|███████▎  | 182/250 [22:57<12:02, 10.62s/it]"
     ]
    },
    {
     "name": "stdout",
     "output_type": "stream",
     "text": [
      "Real: Paul_Burrell | Pred: Paul_Burrell | Score: 0.421 | Match: 1\n",
      "Real: Ralph_Klein | Pred: Kiki_Vandeweghe | Score: 0.472 | Match: 0\n",
      "Real: 061_frontal | Pred: 061_frontal | Score: 1.000 | Match: 1\n",
      "Real: Wally_Szczerbiak | Pred: Wally_Szczerbiak | Score: 0.946 | Match: 1\n",
      "Real: Kiki_Vandeweghe | Pred: 061_frontal | Score: 0.716 | Match: 0\n"
     ]
    },
    {
     "name": "stderr",
     "output_type": "stream",
     "text": [
      " 73%|███████▎  | 183/250 [23:08<11:59, 10.74s/it]"
     ]
    },
    {
     "name": "stdout",
     "output_type": "stream",
     "text": [
      "Real: Mia_Mottley | Pred: Mia_Mottley | Score: 0.989 | Match: 1\n",
      "Real: Paul_Bremer | Pred: 083_frontal | Score: 0.861 | Match: 0\n",
      "Real: Dennis_Powell | Pred: Dennis_Powell | Score: 0.984 | Match: 1\n",
      "Real: 083_frontal | Pred: 083_frontal | Score: 1.000 | Match: 1\n",
      "Real: John_Philip_Elkann | Pred: John_Philip_Elkann | Score: 0.885 | Match: 1\n"
     ]
    },
    {
     "name": "stderr",
     "output_type": "stream",
     "text": [
      " 74%|███████▎  | 184/250 [23:13<09:53,  8.99s/it]"
     ]
    },
    {
     "name": "stdout",
     "output_type": "stream",
     "text": [
      "Real: Paul_Burrell | Pred: Paul_Burrell | Score: 0.944 | Match: 1\n",
      "Real: Oprah_Winfrey | Pred: Emanuel_Ginobili | Score: 0.691 | Match: 0\n",
      "Real: Emanuel_Ginobili | Pred: Emanuel_Ginobili | Score: 0.939 | Match: 1\n",
      "Real: Milan_Kucan | Pred: Milan_Kucan | Score: 0.996 | Match: 1\n",
      "Real: Peter_Rasch | Pred: Peter_Rasch | Score: 0.989 | Match: 1\n"
     ]
    },
    {
     "name": "stderr",
     "output_type": "stream",
     "text": [
      " 74%|███████▍  | 185/250 [23:20<09:19,  8.61s/it]"
     ]
    },
    {
     "name": "stdout",
     "output_type": "stream",
     "text": [
      "Real: Mark_Broxmeyer | Pred: Mark_Broxmeyer | Score: 0.987 | Match: 1\n",
      "Real: Gerard_de_Cortanze | Pred: Gerard_de_Cortanze | Score: 0.991 | Match: 1\n",
      "Real: Claudia_Coslovich | Pred: Claudia_Coslovich | Score: 0.995 | Match: 1\n",
      "Real: Peter_Mullan | Pred: Peter_Mullan | Score: 0.664 | Match: 1\n",
      "Real: Duane_Lee_Chapman | Pred: Duane_Lee_Chapman | Score: 0.904 | Match: 1\n"
     ]
    },
    {
     "name": "stderr",
     "output_type": "stream",
     "text": [
      " 74%|███████▍  | 186/250 [23:33<10:23,  9.74s/it]"
     ]
    },
    {
     "name": "stdout",
     "output_type": "stream",
     "text": [
      "Real: Peter_Rasch | Pred: Peter_Rasch | Score: 0.930 | Match: 1\n",
      "Real: 079_frontal | Pred: 079_frontal | Score: 1.000 | Match: 1\n",
      "Real: Dany_Heatley | Pred: Dany_Heatley | Score: 0.526 | Match: 1\n",
      "Real: 034_frontal | Pred: 034_frontal | Score: 0.952 | Match: 1\n",
      "Real: Troy_Aikman | Pred: Troy_Aikman | Score: 0.630 | Match: 1\n"
     ]
    },
    {
     "name": "stderr",
     "output_type": "stream",
     "text": [
      " 75%|███████▍  | 187/250 [23:39<09:16,  8.83s/it]"
     ]
    },
    {
     "name": "stdout",
     "output_type": "stream",
     "text": [
      "Real: Stephen_Daldry | Pred: Paul_Bremer | Score: 0.759 | Match: 0\n",
      "Real: Ben_Glisan | Pred: Paul_Bremer | Score: 0.945 | Match: 0\n",
      "Real: Raaf_Schefter | Pred: Raaf_Schefter | Score: 0.985 | Match: 1\n",
      "Real: Emanuel_Ginobili | Pred: Raaf_Schefter | Score: 0.749 | Match: 0\n",
      "Real: Paul_Bremer | Pred: Paul_Bremer | Score: 0.999 | Match: 1\n"
     ]
    },
    {
     "name": "stderr",
     "output_type": "stream",
     "text": [
      " 75%|███████▌  | 188/250 [23:51<09:52,  9.55s/it]"
     ]
    },
    {
     "name": "stdout",
     "output_type": "stream",
     "text": [
      "Real: Jon_Constance | Pred: Jon_Constance | Score: 0.559 | Match: 1\n",
      "Real: Barbara_Boxer | Pred: Barbara_Boxer | Score: 0.994 | Match: 1\n",
      "Real: 084_frontal | Pred: 084_frontal | Score: 0.931 | Match: 1\n",
      "Real: Lili_Marinho | Pred: Lili_Marinho | Score: 0.795 | Match: 1\n",
      "Real: 037_frontal | Pred: 037_frontal | Score: 0.975 | Match: 1\n"
     ]
    },
    {
     "name": "stderr",
     "output_type": "stream",
     "text": [
      " 76%|███████▌  | 189/250 [23:56<08:27,  8.33s/it]"
     ]
    },
    {
     "name": "stdout",
     "output_type": "stream",
     "text": [
      "Real: Eva_Herzigova | Pred: Eva_Herzigova | Score: 0.964 | Match: 1\n",
      "Real: Monique_Gagnon-Tremblay | Pred: Monique_Gagnon-Tremblay | Score: 0.521 | Match: 1\n",
      "Real: Elizabeth_Hill | Pred: Elizabeth_Hill | Score: 0.777 | Match: 1\n",
      "Real: Ari_Bousbib | Pred: Ari_Bousbib | Score: 0.906 | Match: 1\n",
      "Real: James_Butts | Pred: Elizabeth_Hill | Score: 0.696 | Match: 0\n"
     ]
    },
    {
     "name": "stderr",
     "output_type": "stream",
     "text": [
      " 76%|███████▌  | 190/250 [24:01<07:16,  7.27s/it]"
     ]
    },
    {
     "name": "stdout",
     "output_type": "stream",
     "text": [
      "Real: David_Tornberg | Pred: David_Tornberg | Score: 0.502 | Match: 1\n",
      "Real: Daryl_Smith | Pred: Daryl_Smith | Score: 0.846 | Match: 1\n",
      "Real: Maria_Wetterstrand | Pred: Maria_Wetterstrand | Score: 1.000 | Match: 1\n",
      "Real: Hank_Aaron | Pred: Hank_Aaron | Score: 0.524 | Match: 1\n",
      "Real: Tom_Koenigs | Pred: Tom_Koenigs | Score: 0.889 | Match: 1\n"
     ]
    },
    {
     "name": "stderr",
     "output_type": "stream",
     "text": [
      " 76%|███████▋  | 191/250 [24:09<07:25,  7.54s/it]"
     ]
    },
    {
     "name": "stdout",
     "output_type": "stream",
     "text": [
      "Real: Fernando_Valenzuela | Pred: Fernando_Valenzuela | Score: 0.629 | Match: 1\n",
      "Real: Daniel_Darnell | Pred: Daniel_Darnell | Score: 0.650 | Match: 1\n",
      "Real: 050_frontal | Pred: 050_frontal | Score: 1.000 | Match: 1\n",
      "Real: Jennifer_Keller | Pred: Jennifer_Keller | Score: 0.724 | Match: 1\n",
      "Real: Chris_Columbus | Pred: Chris_Columbus | Score: 0.491 | Match: 1\n"
     ]
    },
    {
     "name": "stderr",
     "output_type": "stream",
     "text": [
      " 77%|███████▋  | 192/250 [24:14<06:33,  6.79s/it]"
     ]
    },
    {
     "name": "stdout",
     "output_type": "stream",
     "text": [
      "Real: Nora_Bendijo | Pred: Monica_Serra | Score: 0.824 | Match: 0\n",
      "Real: Monica_Serra | Pred: Monica_Serra | Score: 0.978 | Match: 1\n",
      "Real: William_Cocksedge | Pred: William_Cocksedge | Score: 0.996 | Match: 1\n",
      "Real: Lord_Hutton | Pred: William_Cocksedge | Score: 0.985 | Match: 0\n",
      "Real: Kate_Lee | Pred: Kate_Lee | Score: 0.911 | Match: 1\n"
     ]
    },
    {
     "name": "stderr",
     "output_type": "stream",
     "text": [
      " 77%|███████▋  | 193/250 [24:21<06:31,  6.88s/it]"
     ]
    },
    {
     "name": "stdout",
     "output_type": "stream",
     "text": [
      "Real: Lennart_Johansson | Pred: Lennart_Johansson | Score: 0.722 | Match: 1\n",
      "Real: Lord_Hutton | Pred: Lord_Hutton | Score: 0.818 | Match: 1\n",
      "Real: Carl_Levin | Pred: Carl_Levin | Score: 0.977 | Match: 1\n",
      "Real: 024_frontal | Pred: 024_frontal | Score: 1.000 | Match: 1\n",
      "Real: Larry_Coker | Pred: Larry_Coker | Score: 0.994 | Match: 1\n"
     ]
    },
    {
     "name": "stderr",
     "output_type": "stream",
     "text": [
      " 78%|███████▊  | 194/250 [24:28<06:25,  6.88s/it]"
     ]
    },
    {
     "name": "stdout",
     "output_type": "stream",
     "text": [
      "Real: 017_frontal | Pred: 017_frontal | Score: 1.000 | Match: 1\n",
      "Real: Paris_Hilton | Pred: Paris_Hilton | Score: 0.999 | Match: 1\n",
      "Real: Tim_Floyd | Pred: 017_frontal | Score: 0.805 | Match: 0\n",
      "Real: Elaine_Chao | Pred: Elaine_Chao | Score: 0.992 | Match: 1\n",
      "Real: David_Tornberg | Pred: David_Tornberg | Score: 0.517 | Match: 1\n"
     ]
    },
    {
     "name": "stderr",
     "output_type": "stream",
     "text": [
      " 78%|███████▊  | 195/250 [24:34<05:59,  6.54s/it]"
     ]
    },
    {
     "name": "stdout",
     "output_type": "stream",
     "text": [
      "Real: Malak_Habbak | Pred: Malak_Habbak | Score: 0.998 | Match: 1\n",
      "Real: Chris_Columbus | Pred: Chris_Columbus | Score: 0.750 | Match: 1\n",
      "Real: Tomoko_Hagiwara | Pred: Tomoko_Hagiwara | Score: 1.000 | Match: 1\n",
      "Real: Billy_Gilman | Pred: Billy_Gilman | Score: 0.884 | Match: 1\n",
      "Real: Elaine_Chao | Pred: Elaine_Chao | Score: 0.998 | Match: 1\n"
     ]
    },
    {
     "name": "stderr",
     "output_type": "stream",
     "text": [
      " 78%|███████▊  | 196/250 [24:41<06:01,  6.70s/it]"
     ]
    },
    {
     "name": "stdout",
     "output_type": "stream",
     "text": [
      "Real: Garry_Kasparov | Pred: Garry_Kasparov | Score: 0.876 | Match: 1\n",
      "Real: Kate_Lee | Pred: Kate_Lee | Score: 0.977 | Match: 1\n",
      "Real: Clive_Woodward | Pred: Clive_Woodward | Score: 0.690 | Match: 1\n",
      "Real: Aretha_Franklin | Pred: Aretha_Franklin | Score: 0.667 | Match: 1\n",
      "Real: Michael_Kirby | Pred: Garry_Kasparov | Score: 0.497 | Match: 0\n"
     ]
    },
    {
     "name": "stderr",
     "output_type": "stream",
     "text": [
      " 79%|███████▉  | 197/250 [24:47<05:54,  6.68s/it]"
     ]
    },
    {
     "name": "stdout",
     "output_type": "stream",
     "text": [
      "Real: Garry_Kasparov | Pred: Enrique_Bolanos | Score: 0.784 | Match: 0\n",
      "Real: Enrique_Bolanos | Pred: Enrique_Bolanos | Score: 0.832 | Match: 1\n",
      "Real: Mike_Sherman | Pred: Mike_Sherman | Score: 0.997 | Match: 1\n",
      "Real: Milan_Kucan | Pred: Milan_Kucan | Score: 0.968 | Match: 1\n",
      "Real: Mary_Jo_Myers | Pred: Mary_Jo_Myers | Score: 0.685 | Match: 1\n"
     ]
    },
    {
     "name": "stderr",
     "output_type": "stream",
     "text": [
      " 79%|███████▉  | 198/250 [24:55<06:03,  6.99s/it]"
     ]
    },
    {
     "name": "stdout",
     "output_type": "stream",
     "text": [
      "Real: 034_frontal | Pred: 034_frontal | Score: 0.988 | Match: 1\n",
      "Real: Allison_Searing | Pred: Allison_Searing | Score: 0.978 | Match: 1\n",
      "Real: Douglas_Gansler | Pred: Douglas_Gansler | Score: 0.573 | Match: 1\n",
      "Real: Woodrow_Stanley | Pred: Woodrow_Stanley | Score: 0.963 | Match: 1\n",
      "Real: Steve_Cox | Pred: Steve_Cox | Score: 0.618 | Match: 1\n"
     ]
    },
    {
     "name": "stderr",
     "output_type": "stream",
     "text": [
      " 80%|███████▉  | 199/250 [25:14<08:59, 10.58s/it]"
     ]
    },
    {
     "name": "stdout",
     "output_type": "stream",
     "text": [
      "Real: Steven_Curtis_Chapman | Pred: Steven_Curtis_Chapman | Score: 0.800 | Match: 1\n",
      "Real: Jose_Lopez_Beltran | Pred: Jose_Lopez_Beltran | Score: 0.999 | Match: 1\n",
      "Real: Daja_Bedanova | Pred: Daja_Bedanova | Score: 0.966 | Match: 1\n",
      "Real: Evie_Lazarou | Pred: Evie_Lazarou | Score: 0.594 | Match: 1\n",
      "Real: 052_frontal | Pred: 052_frontal | Score: 0.997 | Match: 1\n"
     ]
    },
    {
     "name": "stderr",
     "output_type": "stream",
     "text": [
      " 80%|████████  | 200/250 [25:21<07:50,  9.42s/it]"
     ]
    },
    {
     "name": "stdout",
     "output_type": "stream",
     "text": [
      "Real: Marc_Anthony | Pred: Marc_Anthony | Score: 0.955 | Match: 1\n",
      "Real: Roberto_Guaterroma | Pred: Roberto_Guaterroma | Score: 0.982 | Match: 1\n",
      "Real: Ray_Allen | Pred: Viara_Vike-Freiberga | Score: 0.896 | Match: 0\n",
      "Real: Viara_Vike-Freiberga | Pred: Viara_Vike-Freiberga | Score: 0.976 | Match: 1\n",
      "Real: 108_frontal | Pred: 108_frontal | Score: 1.000 | Match: 1\n"
     ]
    },
    {
     "name": "stderr",
     "output_type": "stream",
     "text": [
      " 80%|████████  | 201/250 [25:30<07:33,  9.26s/it]"
     ]
    },
    {
     "name": "stdout",
     "output_type": "stream",
     "text": [
      "Real: Daryl_Smith | Pred: Daryl_Smith | Score: 0.797 | Match: 1\n",
      "Real: 108_frontal | Pred: 108_frontal | Score: 1.000 | Match: 1\n",
      "Real: Pedro_Malan | Pred: 108_frontal | Score: 1.000 | Match: 0\n",
      "Real: Isabella_Rossellini | Pred: Isabella_Rossellini | Score: 0.874 | Match: 1\n",
      "Real: 009_frontal | Pred: 009_frontal | Score: 1.000 | Match: 1\n"
     ]
    },
    {
     "name": "stderr",
     "output_type": "stream",
     "text": [
      " 81%|████████  | 202/250 [25:35<06:26,  8.05s/it]"
     ]
    },
    {
     "name": "stdout",
     "output_type": "stream",
     "text": [
      "Real: Hans_Eichel | Pred: Lutz_Freitag | Score: 0.467 | Match: 0\n",
      "Real: Ibrahim_Hilal | Pred: Ibrahim_Hilal | Score: 0.773 | Match: 1\n",
      "Real: Steven_Hatfill | Pred: Lutz_Freitag | Score: 0.289 | Match: 0\n",
      "Real: Oprah_Winfrey | Pred: Oprah_Winfrey | Score: 0.715 | Match: 1\n",
      "Real: Lutz_Freitag | Pred: Lutz_Freitag | Score: 0.401 | Match: 1\n"
     ]
    },
    {
     "name": "stderr",
     "output_type": "stream",
     "text": [
      " 81%|████████  | 203/250 [25:40<05:39,  7.22s/it]"
     ]
    },
    {
     "name": "stdout",
     "output_type": "stream",
     "text": [
      "Real: Mark_Broxmeyer | Pred: Mark_Broxmeyer | Score: 0.927 | Match: 1\n",
      "Real: Hugo_Conte | Pred: Hugo_Conte | Score: 0.918 | Match: 1\n",
      "Real: Ari_Bousbib | Pred: Ari_Bousbib | Score: 0.890 | Match: 1\n",
      "Real: Mariano_Zabaleta | Pred: Mariano_Zabaleta | Score: 0.772 | Match: 1\n",
      "Real: Bill_Fennelly | Pred: Ari_Bousbib | Score: 0.497 | Match: 0\n"
     ]
    },
    {
     "name": "stderr",
     "output_type": "stream",
     "text": [
      " 82%|████████▏ | 204/250 [25:47<05:20,  6.97s/it]"
     ]
    },
    {
     "name": "stdout",
     "output_type": "stream",
     "text": [
      "Real: Oprah_Winfrey | Pred: Oprah_Winfrey | Score: 0.826 | Match: 1\n",
      "Real: Hrithik_Roshan | Pred: Hrithik_Roshan | Score: 0.872 | Match: 1\n",
      "Real: Jose_Lopez_Beltran | Pred: Jose_Lopez_Beltran | Score: 0.998 | Match: 1\n",
      "Real: Sheila_Fraser | Pred: Sheila_Fraser | Score: 0.786 | Match: 1\n",
      "Real: Bill_Lerach | Pred: Bill_Lerach | Score: 0.505 | Match: 1\n"
     ]
    },
    {
     "name": "stderr",
     "output_type": "stream",
     "text": [
      " 82%|████████▏ | 205/250 [25:52<04:52,  6.51s/it]"
     ]
    },
    {
     "name": "stdout",
     "output_type": "stream",
     "text": [
      "Real: Alicia_Molik | Pred: Alicia_Molik | Score: 0.785 | Match: 1\n",
      "Real: Steven_Curtis_Chapman | Pred: Steven_Curtis_Chapman | Score: 0.966 | Match: 1\n",
      "Real: Kiki_Vandeweghe | Pred: Kiki_Vandeweghe | Score: 0.984 | Match: 1\n",
      "Real: Mariano_Zabaleta | Pred: Mariano_Zabaleta | Score: 0.975 | Match: 1\n",
      "Real: Emanuel_Ginobili | Pred: Alicia_Molik | Score: 0.553 | Match: 0\n"
     ]
    },
    {
     "name": "stderr",
     "output_type": "stream",
     "text": [
      " 82%|████████▏ | 206/250 [26:09<07:02,  9.60s/it]"
     ]
    },
    {
     "name": "stdout",
     "output_type": "stream",
     "text": [
      "Real: Mike_Sherman | Pred: Mike_Sherman | Score: 0.737 | Match: 1\n",
      "Real: 098_frontal | Pred: 098_frontal | Score: 0.842 | Match: 1\n",
      "Real: 009_frontal | Pred: 009_frontal | Score: 1.000 | Match: 1\n",
      "Real: Jennifer_Keller | Pred: Jennifer_Keller | Score: 0.997 | Match: 1\n",
      "Real: Julie_Infante | Pred: Julie_Infante | Score: 0.970 | Match: 1\n"
     ]
    },
    {
     "name": "stderr",
     "output_type": "stream",
     "text": [
      " 83%|████████▎ | 207/250 [26:13<05:45,  8.02s/it]"
     ]
    },
    {
     "name": "stdout",
     "output_type": "stream",
     "text": [
      "Real: Nora_Bendijo | Pred: Ren_Qingjin | Score: 0.599 | Match: 0\n",
      "Real: Martin_Brodeur | Pred: Martin_Brodeur | Score: 0.562 | Match: 1\n",
      "Real: John_Philip_Elkann | Pred: John_Philip_Elkann | Score: 0.598 | Match: 1\n",
      "Real: Ren_Qingjin | Pred: Ren_Qingjin | Score: 0.578 | Match: 1\n",
      "Real: Kate_Lee | Pred: Kate_Lee | Score: 0.942 | Match: 1\n"
     ]
    },
    {
     "name": "stderr",
     "output_type": "stream",
     "text": [
      " 83%|████████▎ | 208/250 [26:19<05:02,  7.21s/it]"
     ]
    },
    {
     "name": "stdout",
     "output_type": "stream",
     "text": [
      "Real: Jon_Constance | Pred: Jon_Constance | Score: 0.757 | Match: 1\n",
      "Real: Mark_Broxmeyer | Pred: Mark_Broxmeyer | Score: 0.990 | Match: 1\n",
      "Real: Mukesh_Ambani | Pred: Jennifer_Keller | Score: 0.452 | Match: 0\n",
      "Real: Thomas_Manger | Pred: Thomas_Manger | Score: 0.977 | Match: 1\n",
      "Real: Jennifer_Keller | Pred: Jennifer_Keller | Score: 0.455 | Match: 1\n"
     ]
    },
    {
     "name": "stderr",
     "output_type": "stream",
     "text": [
      " 84%|████████▎ | 209/250 [26:25<04:40,  6.84s/it]"
     ]
    },
    {
     "name": "stdout",
     "output_type": "stream",
     "text": [
      "Real: Larry_Coker | Pred: Reese_Witherspoon | Score: 0.502 | Match: 0\n",
      "Real: Steve_Phillips | Pred: Steve_Phillips | Score: 0.540 | Match: 1\n",
      "Real: Mark_Warner | Pred: Mark_Warner | Score: 0.603 | Match: 1\n",
      "Real: Reese_Witherspoon | Pred: Mark_Warner | Score: 0.552 | Match: 0\n",
      "Real: Dennis_Powell | Pred: Dennis_Powell | Score: 0.994 | Match: 1\n"
     ]
    },
    {
     "name": "stderr",
     "output_type": "stream",
     "text": [
      " 84%|████████▍ | 210/250 [26:30<04:16,  6.41s/it]"
     ]
    },
    {
     "name": "stdout",
     "output_type": "stream",
     "text": [
      "Real: Michael_Kirby | Pred: Michael_Kirby | Score: 0.980 | Match: 1\n",
      "Real: James_Hoffa | Pred: James_Hoffa | Score: 0.685 | Match: 1\n",
      "Real: Cole_Chapman | Pred: Cole_Chapman | Score: 0.420 | Match: 1\n",
      "Real: Khaled_Sawalhi | Pred: Khaled_Sawalhi | Score: 0.946 | Match: 1\n",
      "Real: Christine_Gregoire | Pred: Cole_Chapman | Score: 0.539 | Match: 0\n"
     ]
    },
    {
     "name": "stderr",
     "output_type": "stream",
     "text": [
      " 84%|████████▍ | 211/250 [26:35<03:50,  5.90s/it]"
     ]
    },
    {
     "name": "stdout",
     "output_type": "stream",
     "text": [
      "Real: Dean_Jacek | Pred: Dean_Jacek | Score: 0.977 | Match: 1\n",
      "Real: Adam_Kennedy | Pred: Adam_Kennedy | Score: 0.964 | Match: 1\n",
      "Real: Michele_Placido | Pred: Michele_Placido | Score: 0.983 | Match: 1\n",
      "Real: Gloria_Gaynor | Pred: Gloria_Gaynor | Score: 0.968 | Match: 1\n",
      "Real: Paul_Burrell | Pred: Paul_Burrell | Score: 1.000 | Match: 1\n"
     ]
    },
    {
     "name": "stderr",
     "output_type": "stream",
     "text": [
      " 85%|████████▍ | 212/250 [26:42<04:01,  6.34s/it]"
     ]
    },
    {
     "name": "stdout",
     "output_type": "stream",
     "text": [
      "Real: Juergen_Braehmer | Pred: Juergen_Braehmer | Score: 0.996 | Match: 1\n",
      "Real: Charlotte_Church | Pred: Charlotte_Church | Score: 0.430 | Match: 1\n",
      "Real: Cate_Blanchett | Pred: 112_frontal | Score: 0.995 | Match: 0\n",
      "Real: 112_frontal | Pred: 112_frontal | Score: 0.999 | Match: 1\n",
      "Real: Elaine_Chao | Pred: Elaine_Chao | Score: 0.775 | Match: 1\n"
     ]
    },
    {
     "name": "stderr",
     "output_type": "stream",
     "text": [
      " 85%|████████▌ | 213/250 [26:52<04:36,  7.46s/it]"
     ]
    },
    {
     "name": "stdout",
     "output_type": "stream",
     "text": [
      "Real: Marc_Leger | Pred: Marc_Leger | Score: 0.536 | Match: 1\n",
      "Real: Thomas_Manger | Pred: Thomas_Manger | Score: 0.924 | Match: 1\n",
      "Real: Enrique_Bolanos | Pred: Enrique_Bolanos | Score: 0.826 | Match: 1\n",
      "Real: Jon_Constance | Pred: Jon_Constance | Score: 0.678 | Match: 1\n",
      "Real: Gregorio_Rosal | Pred: Gregorio_Rosal | Score: 0.915 | Match: 1\n"
     ]
    },
    {
     "name": "stderr",
     "output_type": "stream",
     "text": [
      " 86%|████████▌ | 214/250 [26:59<04:24,  7.36s/it]"
     ]
    },
    {
     "name": "stdout",
     "output_type": "stream",
     "text": [
      "Real: Emanuel_Ginobili | Pred: Steven_Hatfill | Score: 0.474 | Match: 0\n",
      "Real: Dany_Heatley | Pred: Dany_Heatley | Score: 0.794 | Match: 1\n",
      "Real: 017_frontal | Pred: 017_frontal | Score: 1.000 | Match: 1\n",
      "Real: Steven_Hatfill | Pred: Steven_Hatfill | Score: 0.529 | Match: 1\n",
      "Real: Melissa_Manchester | Pred: Melissa_Manchester | Score: 1.000 | Match: 1\n"
     ]
    },
    {
     "name": "stderr",
     "output_type": "stream",
     "text": [
      " 86%|████████▌ | 215/250 [27:05<04:04,  6.99s/it]"
     ]
    },
    {
     "name": "stdout",
     "output_type": "stream",
     "text": [
      "Real: Bill_Lerach | Pred: Bill_Lerach | Score: 0.421 | Match: 1\n",
      "Real: Alicia_Molik | Pred: Alicia_Molik | Score: 0.999 | Match: 1\n",
      "Real: Daniel_Darnell | Pred: Daniel_Darnell | Score: 0.477 | Match: 1\n",
      "Real: Bing_Crosby | Pred: Bing_Crosby | Score: 0.996 | Match: 1\n",
      "Real: Paul_Bremer | Pred: Daniel_Darnell | Score: 0.356 | Match: 0\n"
     ]
    },
    {
     "name": "stderr",
     "output_type": "stream",
     "text": [
      " 86%|████████▋ | 216/250 [27:13<04:02,  7.14s/it]"
     ]
    },
    {
     "name": "stdout",
     "output_type": "stream",
     "text": [
      "Real: Mukesh_Ambani | Pred: Carolyn_Dawn_Johnson | Score: 0.902 | Match: 0\n",
      "Real: Prince_Claus | Pred: Lutz_Freitag | Score: 0.676 | Match: 0\n",
      "Real: Monique_Gagnon-Tremblay | Pred: Monique_Gagnon-Tremblay | Score: 0.742 | Match: 1\n",
      "Real: Lutz_Freitag | Pred: Lutz_Freitag | Score: 0.940 | Match: 1\n",
      "Real: Carolyn_Dawn_Johnson | Pred: Carolyn_Dawn_Johnson | Score: 0.915 | Match: 1\n"
     ]
    },
    {
     "name": "stderr",
     "output_type": "stream",
     "text": [
      " 87%|████████▋ | 217/250 [27:19<03:45,  6.82s/it]"
     ]
    },
    {
     "name": "stdout",
     "output_type": "stream",
     "text": [
      "Real: Deece_Eckstein | Pred: Deece_Eckstein | Score: 0.907 | Match: 1\n",
      "Real: Julie_Infante | Pred: Julie_Infante | Score: 0.886 | Match: 1\n",
      "Real: Matt_Braker | Pred: Matt_Braker | Score: 0.747 | Match: 1\n",
      "Real: Danny_Ainge | Pred: Danny_Ainge | Score: 0.999 | Match: 1\n",
      "Real: Kiki_Vandeweghe | Pred: Kiki_Vandeweghe | Score: 0.666 | Match: 1\n"
     ]
    },
    {
     "name": "stderr",
     "output_type": "stream",
     "text": [
      " 87%|████████▋ | 218/250 [27:26<03:41,  6.93s/it]"
     ]
    },
    {
     "name": "stdout",
     "output_type": "stream",
     "text": [
      "Real: Buddy_Ryan | Pred: Buddy_Ryan | Score: 0.766 | Match: 1\n",
      "Real: Reese_Witherspoon | Pred: 078_frontal | Score: 0.626 | Match: 0\n",
      "Real: Maria_Wetterstrand | Pred: Maria_Wetterstrand | Score: 0.960 | Match: 1\n",
      "Real: 078_frontal | Pred: 078_frontal | Score: 0.746 | Match: 1\n",
      "Real: William_Cocksedge | Pred: William_Cocksedge | Score: 0.975 | Match: 1\n"
     ]
    },
    {
     "name": "stderr",
     "output_type": "stream",
     "text": [
      " 88%|████████▊ | 219/250 [27:33<03:37,  7.03s/it]"
     ]
    },
    {
     "name": "stdout",
     "output_type": "stream",
     "text": [
      "Real: Roberto_Guaterroma | Pred: Roberto_Guaterroma | Score: 0.851 | Match: 1\n",
      "Real: Kiki_Vandeweghe | Pred: Kiki_Vandeweghe | Score: 0.775 | Match: 1\n",
      "Real: Bill_Fennelly | Pred: Bill_Fennelly | Score: 0.455 | Match: 1\n",
      "Real: Mark_Broxmeyer | Pred: Mark_Broxmeyer | Score: 0.879 | Match: 1\n",
      "Real: Teresa_Williams | Pred: Teresa_Williams | Score: 0.974 | Match: 1\n"
     ]
    },
    {
     "name": "stderr",
     "output_type": "stream",
     "text": [
      " 88%|████████▊ | 220/250 [27:38<03:09,  6.31s/it]"
     ]
    },
    {
     "name": "stdout",
     "output_type": "stream",
     "text": [
      "Real: Ivan_Helguera | Pred: Ivan_Helguera | Score: 0.612 | Match: 1\n",
      "Real: Dean_Jacek | Pred: Dean_Jacek | Score: 0.664 | Match: 1\n",
      "Real: Kiki_Vandeweghe | Pred: Kiki_Vandeweghe | Score: 1.000 | Match: 1\n",
      "Real: Edina_Batar | Pred: Edina_Batar | Score: 0.731 | Match: 1\n",
      "Real: Luther_Htu | Pred: Luther_Htu | Score: 0.564 | Match: 1\n"
     ]
    },
    {
     "name": "stderr",
     "output_type": "stream",
     "text": [
      " 88%|████████▊ | 221/250 [27:44<02:56,  6.10s/it]"
     ]
    },
    {
     "name": "stdout",
     "output_type": "stream",
     "text": [
      "Real: 058_frontal | Pred: 058_frontal | Score: 1.000 | Match: 1\n",
      "Real: William_Cocksedge | Pred: William_Cocksedge | Score: 0.944 | Match: 1\n",
      "Real: Eva_Herzigova | Pred: Eva_Herzigova | Score: 0.950 | Match: 1\n",
      "Real: Viara_Vike-Freiberga | Pred: Viara_Vike-Freiberga | Score: 0.652 | Match: 1\n",
      "Real: Arnold_Scott | Pred: Arnold_Scott | Score: 0.855 | Match: 1\n"
     ]
    },
    {
     "name": "stderr",
     "output_type": "stream",
     "text": [
      " 89%|████████▉ | 222/250 [27:47<02:29,  5.32s/it]"
     ]
    },
    {
     "name": "stdout",
     "output_type": "stream",
     "text": [
      "Real: Harrison_Ford | Pred: Ibrahim_Hilal | Score: 0.975 | Match: 0\n",
      "Real: Miguel_Jimenez | Pred: Miguel_Jimenez | Score: 0.660 | Match: 1\n",
      "Real: Clive_Woodward | Pred: Clive_Woodward | Score: 0.469 | Match: 1\n",
      "Real: Ibrahim_Hilal | Pred: Ibrahim_Hilal | Score: 0.972 | Match: 1\n",
      "Real: Raaf_Schefter | Pred: Raaf_Schefter | Score: 1.000 | Match: 1\n"
     ]
    },
    {
     "name": "stderr",
     "output_type": "stream",
     "text": [
      " 89%|████████▉ | 223/250 [27:53<02:29,  5.52s/it]"
     ]
    },
    {
     "name": "stdout",
     "output_type": "stream",
     "text": [
      "Real: Fran_Drescher | Pred: Fran_Drescher | Score: 0.897 | Match: 1\n",
      "Real: Jake_Gyllenhaal | Pred: Jake_Gyllenhaal | Score: 0.643 | Match: 1\n",
      "Real: 018_frontal | Pred: 018_frontal | Score: 0.994 | Match: 1\n",
      "Real: Gustavo_Kuerten | Pred: Gustavo_Kuerten | Score: 0.855 | Match: 1\n",
      "Real: John_Nash | Pred: John_Nash | Score: 0.575 | Match: 1\n"
     ]
    },
    {
     "name": "stderr",
     "output_type": "stream",
     "text": [
      " 90%|████████▉ | 224/250 [27:58<02:14,  5.19s/it]"
     ]
    },
    {
     "name": "stdout",
     "output_type": "stream",
     "text": [
      "Real: Ben_Glisan | Pred: Ben_Glisan | Score: 0.710 | Match: 1\n",
      "Real: Clive_Woodward | Pred: Clive_Woodward | Score: 0.877 | Match: 1\n",
      "Real: Linda_Dano | Pred: Linda_Dano | Score: 0.997 | Match: 1\n",
      "Real: David_McCallum | Pred: David_McCallum | Score: 0.688 | Match: 1\n",
      "Real: Mike_Sherman | Pred: Mike_Sherman | Score: 0.983 | Match: 1\n"
     ]
    },
    {
     "name": "stderr",
     "output_type": "stream",
     "text": [
      " 90%|█████████ | 225/250 [28:02<02:03,  4.94s/it]"
     ]
    },
    {
     "name": "stdout",
     "output_type": "stream",
     "text": [
      "Real: Ralph_Firman | Pred: Ralph_Firman | Score: 0.904 | Match: 1\n",
      "Real: Ari_Bousbib | Pred: Ari_Bousbib | Score: 0.984 | Match: 1\n",
      "Real: Gus_Van_Sant | Pred: Gus_Van_Sant | Score: 0.524 | Match: 1\n",
      "Real: Gene_Autry | Pred: Gene_Autry | Score: 0.764 | Match: 1\n",
      "Real: Marc_Anthony | Pred: Marc_Anthony | Score: 0.864 | Match: 1\n"
     ]
    },
    {
     "name": "stderr",
     "output_type": "stream",
     "text": [
      " 90%|█████████ | 226/250 [28:09<02:14,  5.61s/it]"
     ]
    },
    {
     "name": "stdout",
     "output_type": "stream",
     "text": [
      "Real: Yoon_Young-kwan | Pred: Yoon_Young-kwan | Score: 0.915 | Match: 1\n",
      "Real: Lennart_Johansson | Pred: Lennart_Johansson | Score: 0.667 | Match: 1\n",
      "Real: Barbara_Boxer | Pred: Barbara_Boxer | Score: 0.518 | Match: 1\n",
      "Real: 112_frontal | Pred: 112_frontal | Score: 0.745 | Match: 1\n",
      "Real: Kalid_Kaid | Pred: Lennart_Johansson | Score: 0.598 | Match: 0\n"
     ]
    },
    {
     "name": "stderr",
     "output_type": "stream",
     "text": [
      " 91%|█████████ | 227/250 [28:14<02:07,  5.53s/it]"
     ]
    },
    {
     "name": "stdout",
     "output_type": "stream",
     "text": [
      "Real: Kiki_Vandeweghe | Pred: Kiki_Vandeweghe | Score: 0.986 | Match: 1\n",
      "Real: Mario_Lobo_Zagallo | Pred: Mario_Lobo_Zagallo | Score: 0.983 | Match: 1\n",
      "Real: Oprah_Winfrey | Pred: Mario_Lobo_Zagallo | Score: 0.567 | Match: 0\n",
      "Real: Marc_Anthony | Pred: Marc_Anthony | Score: 0.966 | Match: 1\n",
      "Real: Mark_Warner | Pred: Mark_Warner | Score: 0.645 | Match: 1\n"
     ]
    },
    {
     "name": "stderr",
     "output_type": "stream",
     "text": [
      " 91%|█████████ | 228/250 [28:19<01:56,  5.31s/it]"
     ]
    },
    {
     "name": "stdout",
     "output_type": "stream",
     "text": [
      "Real: Thierry_Mariani | Pred: Thierry_Mariani | Score: 0.837 | Match: 1\n",
      "Real: Will_Ferrell | Pred: Will_Ferrell | Score: 0.667 | Match: 1\n",
      "Real: Mary_Jo_Myers | Pred: Mary_Jo_Myers | Score: 0.999 | Match: 1\n",
      "Real: Julie_Infante | Pred: Julie_Infante | Score: 0.951 | Match: 1\n",
      "Real: Gerard_de_Cortanze | Pred: Gerard_de_Cortanze | Score: 0.854 | Match: 1\n"
     ]
    },
    {
     "name": "stderr",
     "output_type": "stream",
     "text": [
      " 92%|█████████▏| 229/250 [28:25<01:57,  5.59s/it]"
     ]
    },
    {
     "name": "stdout",
     "output_type": "stream",
     "text": [
      "Real: William_Delahunt | Pred: William_Delahunt | Score: 0.992 | Match: 1\n",
      "Real: Adrian_Nastase | Pred: William_Delahunt | Score: 0.531 | Match: 0\n",
      "Real: Eliza_Manningham-Buller | Pred: Eliza_Manningham-Buller | Score: 0.851 | Match: 1\n",
      "Real: 061_frontal | Pred: 061_frontal | Score: 1.000 | Match: 1\n",
      "Real: Albert_Brooks | Pred: Albert_Brooks | Score: 0.575 | Match: 1\n"
     ]
    },
    {
     "name": "stderr",
     "output_type": "stream",
     "text": [
      " 92%|█████████▏| 230/250 [28:30<01:46,  5.34s/it]"
     ]
    },
    {
     "name": "stdout",
     "output_type": "stream",
     "text": [
      "Real: Jeri_Ryan | Pred: Jeri_Ryan | Score: 0.718 | Match: 1\n",
      "Real: Larry_Coker | Pred: Ralph_Klein | Score: 0.734 | Match: 0\n",
      "Real: Ralph_Klein | Pred: Hank_Aaron | Score: 0.430 | Match: 0\n",
      "Real: Lutz_Freitag | Pred: Lutz_Freitag | Score: 0.916 | Match: 1\n",
      "Real: Hank_Aaron | Pred: Hank_Aaron | Score: 0.779 | Match: 1\n"
     ]
    },
    {
     "name": "stderr",
     "output_type": "stream",
     "text": [
      " 92%|█████████▏| 231/250 [28:34<01:35,  5.03s/it]"
     ]
    },
    {
     "name": "stdout",
     "output_type": "stream",
     "text": [
      "Real: Edina_Batar | Pred: Edina_Batar | Score: 0.946 | Match: 1\n",
      "Real: Laura_Flessel | Pred: Laura_Flessel | Score: 0.802 | Match: 1\n",
      "Real: Teresa_Williams | Pred: Teresa_Williams | Score: 0.997 | Match: 1\n",
      "Real: Kiki_Vandeweghe | Pred: Kiki_Vandeweghe | Score: 0.964 | Match: 1\n",
      "Real: Gregorio_Rosal | Pred: Gregorio_Rosal | Score: 0.911 | Match: 1\n"
     ]
    },
    {
     "name": "stderr",
     "output_type": "stream",
     "text": [
      " 93%|█████████▎| 232/250 [28:44<01:56,  6.45s/it]"
     ]
    },
    {
     "name": "stdout",
     "output_type": "stream",
     "text": [
      "Real: Peter_Rasch | Pred: Peter_Rasch | Score: 0.843 | Match: 1\n",
      "Real: Mike_Maroth | Pred: Mike_Maroth | Score: 0.959 | Match: 1\n",
      "Real: Michele_Placido | Pred: Michele_Placido | Score: 0.965 | Match: 1\n",
      "Real: 069_frontal | Pred: 069_frontal | Score: 1.000 | Match: 1\n",
      "Real: TA_McLendon | Pred: TA_McLendon | Score: 0.635 | Match: 1\n"
     ]
    },
    {
     "name": "stderr",
     "output_type": "stream",
     "text": [
      " 93%|█████████▎| 233/250 [28:51<01:53,  6.69s/it]"
     ]
    },
    {
     "name": "stdout",
     "output_type": "stream",
     "text": [
      "Real: Ivan_Helguera | Pred: Ivan_Helguera | Score: 0.946 | Match: 1\n",
      "Real: Nora_Bendijo | Pred: Hrithik_Roshan | Score: 0.407 | Match: 0\n",
      "Real: Hrithik_Roshan | Pred: Hrithik_Roshan | Score: 0.808 | Match: 1\n",
      "Real: 052_frontal | Pred: 052_frontal | Score: 0.802 | Match: 1\n",
      "Real: Harrison_Ford | Pred: 052_frontal | Score: 0.413 | Match: 0\n"
     ]
    },
    {
     "name": "stderr",
     "output_type": "stream",
     "text": [
      " 94%|█████████▎| 234/250 [28:57<01:43,  6.47s/it]"
     ]
    },
    {
     "name": "stdout",
     "output_type": "stream",
     "text": [
      "Real: Hans_Eichel | Pred: Lionel_Richie | Score: 0.625 | Match: 0\n",
      "Real: Reese_Witherspoon | Pred: Reese_Witherspoon | Score: 0.998 | Match: 1\n",
      "Real: 084_frontal | Pred: 084_frontal | Score: 0.912 | Match: 1\n",
      "Real: Lionel_Richie | Pred: Lionel_Richie | Score: 0.915 | Match: 1\n",
      "Real: Fran_Drescher | Pred: Fran_Drescher | Score: 0.907 | Match: 1\n"
     ]
    },
    {
     "name": "stderr",
     "output_type": "stream",
     "text": [
      " 94%|█████████▍| 235/250 [29:02<01:29,  5.97s/it]"
     ]
    },
    {
     "name": "stdout",
     "output_type": "stream",
     "text": [
      "Real: Larry_Coker | Pred: Dean_Jacek | Score: 0.331 | Match: 0\n",
      "Real: Paris_Hilton | Pred: Paris_Hilton | Score: 1.000 | Match: 1\n",
      "Real: Dean_Jacek | Pred: Dean_Jacek | Score: 0.739 | Match: 1\n",
      "Real: James_Hoffa | Pred: James_Hoffa | Score: 0.435 | Match: 1\n",
      "Real: Ren_Qingjin | Pred: Ren_Qingjin | Score: 0.518 | Match: 1\n"
     ]
    },
    {
     "name": "stderr",
     "output_type": "stream",
     "text": [
      " 94%|█████████▍| 236/250 [29:06<01:14,  5.34s/it]"
     ]
    },
    {
     "name": "stdout",
     "output_type": "stream",
     "text": [
      "Real: Julie_Infante | Pred: Julie_Infante | Score: 0.612 | Match: 1\n",
      "Real: Monique_Gagnon-Tremblay | Pred: Monique_Gagnon-Tremblay | Score: 0.827 | Match: 1\n",
      "Real: Marc_Leger | Pred: Marc_Leger | Score: 0.633 | Match: 1\n",
      "Real: Hung_Wan-ting | Pred: Hung_Wan-ting | Score: 0.990 | Match: 1\n",
      "Real: Jose_Lopez_Beltran | Pred: Hung_Wan-ting | Score: 0.629 | Match: 0\n"
     ]
    },
    {
     "name": "stderr",
     "output_type": "stream",
     "text": [
      " 95%|█████████▍| 237/250 [29:10<01:05,  5.00s/it]"
     ]
    },
    {
     "name": "stdout",
     "output_type": "stream",
     "text": [
      "Real: Aparna_Pillai | Pred: Steven_Hatfill | Score: 0.544 | Match: 0\n",
      "Real: Steven_Hatfill | Pred: Steven_Hatfill | Score: 0.605 | Match: 1\n",
      "Real: Melana_Scantlin | Pred: Melana_Scantlin | Score: 0.785 | Match: 1\n",
      "Real: Hrithik_Roshan | Pred: Hrithik_Roshan | Score: 0.926 | Match: 1\n",
      "Real: Candice_Bergen | Pred: Candice_Bergen | Score: 0.872 | Match: 1\n"
     ]
    },
    {
     "name": "stderr",
     "output_type": "stream",
     "text": [
      " 95%|█████████▌| 238/250 [29:18<01:10,  5.88s/it]"
     ]
    },
    {
     "name": "stdout",
     "output_type": "stream",
     "text": [
      "Real: Raaf_Schefter | Pred: Raaf_Schefter | Score: 0.994 | Match: 1\n",
      "Real: 037_frontal | Pred: 037_frontal | Score: 0.992 | Match: 1\n",
      "Real: Garry_Kasparov | Pred: Garry_Kasparov | Score: 0.984 | Match: 1\n",
      "Real: 108_frontal | Pred: 108_frontal | Score: 1.000 | Match: 1\n",
      "Real: Candice_Bergen | Pred: Candice_Bergen | Score: 1.000 | Match: 1\n"
     ]
    },
    {
     "name": "stderr",
     "output_type": "stream",
     "text": [
      " 96%|█████████▌| 239/250 [29:23<00:59,  5.40s/it]"
     ]
    },
    {
     "name": "stdout",
     "output_type": "stream",
     "text": [
      "Real: Thierry_Mariani | Pred: Thierry_Mariani | Score: 0.964 | Match: 1\n",
      "Real: Eric_Hinske | Pred: Eric_Hinske | Score: 0.954 | Match: 1\n",
      "Real: John_Philip_Elkann | Pred: John_Philip_Elkann | Score: 0.937 | Match: 1\n",
      "Real: Elaine_Chao | Pred: Elaine_Chao | Score: 0.579 | Match: 1\n",
      "Real: Wally_Szczerbiak | Pred: Wally_Szczerbiak | Score: 0.736 | Match: 1\n"
     ]
    },
    {
     "name": "stderr",
     "output_type": "stream",
     "text": [
      " 96%|█████████▌| 240/250 [29:27<00:50,  5.03s/it]"
     ]
    },
    {
     "name": "stdout",
     "output_type": "stream",
     "text": [
      "Real: Barbara_Boxer | Pred: Barbara_Boxer | Score: 0.996 | Match: 1\n",
      "Real: Elizabeth_Hill | Pred: Elizabeth_Hill | Score: 0.990 | Match: 1\n",
      "Real: Troy_Hudson | Pred: Troy_Hudson | Score: 0.685 | Match: 1\n",
      "Real: Elaine_Chao | Pred: Elaine_Chao | Score: 0.967 | Match: 1\n",
      "Real: Peter_Mullan | Pred: Peter_Mullan | Score: 0.722 | Match: 1\n"
     ]
    },
    {
     "name": "stderr",
     "output_type": "stream",
     "text": [
      " 96%|█████████▋| 241/250 [29:33<00:47,  5.27s/it]"
     ]
    },
    {
     "name": "stdout",
     "output_type": "stream",
     "text": [
      "Real: Thierry_Mariani | Pred: Thierry_Mariani | Score: 0.892 | Match: 1\n",
      "Real: Bill_Readdy | Pred: Bill_Readdy | Score: 0.851 | Match: 1\n",
      "Real: Aaron_Peirsol | Pred: Thaksin_Shinawatra | Score: 0.957 | Match: 0\n",
      "Real: 046_frontal | Pred: 046_frontal | Score: 1.000 | Match: 1\n",
      "Real: Thaksin_Shinawatra | Pred: Thaksin_Shinawatra | Score: 0.978 | Match: 1\n"
     ]
    },
    {
     "name": "stderr",
     "output_type": "stream",
     "text": [
      " 97%|█████████▋| 242/250 [29:39<00:45,  5.65s/it]"
     ]
    },
    {
     "name": "stdout",
     "output_type": "stream",
     "text": [
      "Real: Ben_Glisan | Pred: Ben_Glisan | Score: 0.888 | Match: 1\n",
      "Real: Fernando_Valenzuela | Pred: Fernando_Valenzuela | Score: 0.929 | Match: 1\n",
      "Real: Peter_Rasch | Pred: Peter_Rasch | Score: 0.999 | Match: 1\n",
      "Real: Thierry_Mariani | Pred: Thierry_Mariani | Score: 0.948 | Match: 1\n",
      "Real: 009_frontal | Pred: 009_frontal | Score: 1.000 | Match: 1\n"
     ]
    },
    {
     "name": "stderr",
     "output_type": "stream",
     "text": [
      " 97%|█████████▋| 243/250 [29:44<00:38,  5.54s/it]"
     ]
    },
    {
     "name": "stdout",
     "output_type": "stream",
     "text": [
      "Real: Larry_Coker | Pred: Steven_Hatfill | Score: 0.507 | Match: 0\n",
      "Real: 024_frontal | Pred: 024_frontal | Score: 1.000 | Match: 1\n",
      "Real: Laura_Flessel | Pred: Laura_Flessel | Score: 0.857 | Match: 1\n",
      "Real: Steven_Hatfill | Pred: Larry_Coker | Score: 0.888 | Match: 0\n",
      "Real: Deece_Eckstein | Pred: Deece_Eckstein | Score: 1.000 | Match: 1\n"
     ]
    },
    {
     "name": "stderr",
     "output_type": "stream",
     "text": [
      " 98%|█████████▊| 244/250 [29:48<00:29,  4.92s/it]"
     ]
    },
    {
     "name": "stdout",
     "output_type": "stream",
     "text": [
      "Real: Peter_Rasch | Pred: Peter_Rasch | Score: 0.988 | Match: 1\n",
      "Real: Bill_Readdy | Pred: Bill_Readdy | Score: 0.645 | Match: 1\n",
      "Real: Cole_Chapman | Pred: Cole_Chapman | Score: 0.797 | Match: 1\n",
      "Real: Paul_Burrell | Pred: Paul_Burrell | Score: 0.997 | Match: 1\n",
      "Real: Hugo_Conte | Pred: Hugo_Conte | Score: 0.716 | Match: 1\n"
     ]
    },
    {
     "name": "stderr",
     "output_type": "stream",
     "text": [
      " 98%|█████████▊| 245/250 [29:53<00:24,  4.99s/it]"
     ]
    },
    {
     "name": "stdout",
     "output_type": "stream",
     "text": [
      "Real: Francisco_Flores | Pred: Boutros_Boutros_Ghali | Score: 0.934 | Match: 0\n",
      "Real: Raaf_Schefter | Pred: Raaf_Schefter | Score: 0.910 | Match: 1\n",
      "Real: Viara_Vike-Freiberga | Pred: Viara_Vike-Freiberga | Score: 0.767 | Match: 1\n",
      "Real: 041_frontal | Pred: 041_frontal | Score: 1.000 | Match: 1\n",
      "Real: Boutros_Boutros_Ghali | Pred: 041_frontal | Score: 0.574 | Match: 0\n"
     ]
    },
    {
     "name": "stderr",
     "output_type": "stream",
     "text": [
      " 98%|█████████▊| 246/250 [29:57<00:18,  4.65s/it]"
     ]
    },
    {
     "name": "stdout",
     "output_type": "stream",
     "text": [
      "Real: Hugo_Conte | Pred: Hugo_Conte | Score: 0.687 | Match: 1\n",
      "Real: Gene_Autry | Pred: Gene_Autry | Score: 0.984 | Match: 1\n",
      "Real: Ray_Allen | Pred: Ray_Allen | Score: 0.525 | Match: 1\n",
      "Real: Chris_Dodd | Pred: Chris_Dodd | Score: 0.880 | Match: 1\n",
      "Real: Miyako_Miyazaki | Pred: Miyako_Miyazaki | Score: 0.621 | Match: 1\n"
     ]
    },
    {
     "name": "stderr",
     "output_type": "stream",
     "text": [
      " 99%|█████████▉| 247/250 [30:03<00:14,  4.96s/it]"
     ]
    },
    {
     "name": "stdout",
     "output_type": "stream",
     "text": [
      "Real: Gloria_Gaynor | Pred: Gloria_Gaynor | Score: 0.602 | Match: 1\n",
      "Real: Melissa_Manchester | Pred: Melissa_Manchester | Score: 0.997 | Match: 1\n",
      "Real: Woodrow_Stanley | Pred: Woodrow_Stanley | Score: 0.995 | Match: 1\n",
      "Real: Paola_Espinoza | Pred: Paola_Espinoza | Score: 0.982 | Match: 1\n",
      "Real: 112_frontal | Pred: 112_frontal | Score: 0.939 | Match: 1\n"
     ]
    },
    {
     "name": "stderr",
     "output_type": "stream",
     "text": [
      " 99%|█████████▉| 248/250 [30:07<00:09,  4.67s/it]"
     ]
    },
    {
     "name": "stdout",
     "output_type": "stream",
     "text": [
      "Real: Jeri_Ryan | Pred: Jeri_Ryan | Score: 0.790 | Match: 1\n",
      "Real: Queen_Noor | Pred: Queen_Noor | Score: 0.791 | Match: 1\n",
      "Real: William_Cocksedge | Pred: William_Cocksedge | Score: 0.964 | Match: 1\n",
      "Real: Woodrow_Stanley | Pred: Woodrow_Stanley | Score: 0.999 | Match: 1\n",
      "Real: Warren_Beatty | Pred: Queen_Noor | Score: 0.435 | Match: 0\n"
     ]
    },
    {
     "name": "stderr",
     "output_type": "stream",
     "text": [
      "100%|█████████▉| 249/250 [30:10<00:04,  4.42s/it]"
     ]
    },
    {
     "name": "stdout",
     "output_type": "stream",
     "text": [
      "Real: Ralph_Firman | Pred: Ralph_Firman | Score: 0.467 | Match: 1\n",
      "Real: Alain_Cervantes | Pred: Alain_Cervantes | Score: 0.671 | Match: 1\n",
      "Real: Donald_Trump | Pred: Donald_Trump | Score: 0.893 | Match: 1\n",
      "Real: Hung_Wan-ting | Pred: Hung_Wan-ting | Score: 0.999 | Match: 1\n",
      "Real: Mia_Mottley | Pred: Mia_Mottley | Score: 0.762 | Match: 1\n"
     ]
    },
    {
     "name": "stderr",
     "output_type": "stream",
     "text": [
      "100%|██████████| 250/250 [30:16<00:00,  7.26s/it]"
     ]
    },
    {
     "name": "stdout",
     "output_type": "stream",
     "text": [
      "Real: Ben_Glisan | Pred: Hung_Wan-ting | Score: 0.660 | Match: 0\n",
      "Real: 041_frontal | Pred: 041_frontal | Score: 0.999 | Match: 1\n",
      "Real: Hung_Wan-ting | Pred: Hung_Wan-ting | Score: 0.582 | Match: 1\n",
      "Real: Mariano_Zabaleta | Pred: Mariano_Zabaleta | Score: 0.962 | Match: 1\n",
      "Real: Teresa_Williams | Pred: Teresa_Williams | Score: 0.999 | Match: 1\n",
      "\n",
      "Test Results:\n",
      "Top-1 Accuracy: 0.8616\n",
      "Macro-averaged F1-Score: 0.8615\n",
      "Macro-averaged Precision: 0.8617\n",
      "Macro-averaged Recall: 0.8616\n"
     ]
    },
    {
     "name": "stderr",
     "output_type": "stream",
     "text": [
      "\n"
     ]
    }
   ],
   "source": [
    "# ========== Imports ========== #\n",
    "import os\n",
    "import random\n",
    "import torch\n",
    "import torch.nn as nn\n",
    "import torch.nn.functional as F\n",
    "import torchvision.models as models\n",
    "from torchvision import transforms\n",
    "from PIL import Image\n",
    "from tqdm import tqdm\n",
    "from sklearn.metrics import accuracy_score, f1_score, precision_score, recall_score\n",
    "\n",
    "# ========== Configuration ========== #\n",
    "DEVICE = torch.device('cuda' if torch.cuda.is_available() else 'cpu')\n",
    "TEST_ROOT = 'C:\\\\Users\\\\mrinmoy\\\\Desktop\\\\Comys_Hackathon5\\\\Comys_Hackathon5\\\\Task_B\\\\val'  # ✅ UPDATE to your dataset path\n",
    "IMG_SIZE = 224\n",
    "EMBED_DIM = 256\n",
    "N_WAY = 5\n",
    "N_SHOT = 5\n",
    "N_QUERY = 1\n",
    "TEST_EPISODES = 250\n",
    "MODEL_PATH = 'best_protonet.pth'  # ✅ Path to your saved model\n",
    "\n",
    "# ========== Image Transform ========== #\n",
    "transform = transforms.Compose([\n",
    "    transforms.Resize((IMG_SIZE, IMG_SIZE)),\n",
    "    transforms.ToTensor(),\n",
    "    transforms.Normalize([0.485, 0.456, 0.406], [0.229, 0.224, 0.225])\n",
    "])\n",
    "\n",
    "# ========== Dataset Class ========== #\n",
    "class FewShotDataset:\n",
    "    def __init__(self, root_dir, transform, n_shot=5, n_query=1):\n",
    "        self.root_dir = root_dir\n",
    "        self.transform = transform\n",
    "        self.n_shot = n_shot\n",
    "        self.n_query = n_query\n",
    "\n",
    "        self.classes = []\n",
    "        self.class_to_images = {}\n",
    "\n",
    "        for cls in os.listdir(root_dir):\n",
    "            class_path = os.path.join(root_dir, cls)\n",
    "            if not os.path.isdir(class_path):\n",
    "                continue\n",
    "\n",
    "            clean_images = [os.path.join(class_path, img) for img in os.listdir(class_path)\n",
    "                            if img.endswith('.jpg') and not os.path.isdir(os.path.join(class_path, img))]\n",
    "\n",
    "            distortion_path = os.path.join(class_path, 'distortion')\n",
    "            if os.path.exists(distortion_path):\n",
    "                distorted_images = [os.path.join(distortion_path, img) for img in os.listdir(distortion_path)\n",
    "                                    if img.endswith('.jpg')]\n",
    "            else:\n",
    "                distorted_images = []\n",
    "\n",
    "            if len(clean_images) >= self.n_query and len(distorted_images) >= self.n_shot:\n",
    "                self.classes.append(cls)\n",
    "                self.class_to_images[cls] = {'clean': clean_images, 'distorted': distorted_images}\n",
    "\n",
    "        if len(self.classes) == 0:\n",
    "            raise Exception(\"No valid classes found. Please check your dataset structure or sampling parameters.\")\n",
    "\n",
    "    def sample_episode(self, n_way=5):\n",
    "        if len(self.classes) < n_way:\n",
    "            raise Exception(f\"Not enough classes available. Requested: {n_way}, Available: {len(self.classes)}\")\n",
    "\n",
    "        while True:\n",
    "            selected_classes = random.sample(self.classes, n_way)\n",
    "\n",
    "            support_images = []\n",
    "            support_labels = []\n",
    "            query_images = []\n",
    "            query_labels = []\n",
    "\n",
    "            label_mapping = {cls: idx for idx, cls in enumerate(selected_classes)}\n",
    "            valid_episode = True\n",
    "\n",
    "            for cls in selected_classes:\n",
    "                clean_imgs = self.class_to_images[cls]['clean']\n",
    "                distorted_imgs = self.class_to_images[cls]['distorted']\n",
    "\n",
    "                if len(clean_imgs) < self.n_query or len(distorted_imgs) < self.n_shot:\n",
    "                    valid_episode = False\n",
    "                    break\n",
    "\n",
    "                support_samples = random.sample(distorted_imgs, self.n_shot)\n",
    "                query_samples = random.sample(clean_imgs, self.n_query)\n",
    "\n",
    "                for img_path in support_samples:\n",
    "                    img = Image.open(img_path).convert('RGB')\n",
    "                    support_images.append(self.transform(img))\n",
    "                    support_labels.append(label_mapping[cls])\n",
    "\n",
    "                for img_path in query_samples:\n",
    "                    img = Image.open(img_path).convert('RGB')\n",
    "                    query_images.append(self.transform(img))\n",
    "                    query_labels.append(label_mapping[cls])\n",
    "\n",
    "            if valid_episode and support_images and query_images:\n",
    "                return (torch.stack(support_images), torch.tensor(support_labels),\n",
    "                        torch.stack(query_images), torch.tensor(query_labels), label_mapping)\n",
    "\n",
    "# ========== Model ========== #\n",
    "class ProtoNet(nn.Module):\n",
    "    def __init__(self, embed_dim=EMBED_DIM):\n",
    "        super().__init__()\n",
    "        base = models.resnet18(pretrained=True)\n",
    "        self.features = nn.Sequential(*list(base.children())[:-1])\n",
    "        self.fc = nn.Linear(base.fc.in_features, embed_dim)\n",
    "\n",
    "    def forward(self, x):\n",
    "        x = self.features(x).squeeze()\n",
    "        return self.fc(x)\n",
    "\n",
    "# ========== Euclidean Distance and Prediction ========== #\n",
    "def euclidean_dist(a, b):\n",
    "    n = a.size(0)\n",
    "    m = b.size(0)\n",
    "    a = a.unsqueeze(1).expand(n, m, -1)\n",
    "    b = b.unsqueeze(0).expand(n, m, -1)\n",
    "    return torch.pow(a - b, 2).sum(2)\n",
    "\n",
    "def predict_protonet(support_embeddings, support_labels, query_embeddings, n_way):\n",
    "    prototypes = []\n",
    "    for c in range(n_way):\n",
    "        class_mask = (support_labels == c)\n",
    "        class_embeddings = support_embeddings[class_mask]\n",
    "        class_proto = class_embeddings.mean(0)\n",
    "        prototypes.append(class_proto)\n",
    "    prototypes = torch.stack(prototypes)\n",
    "    dists = euclidean_dist(query_embeddings, prototypes)\n",
    "    scores = -dists\n",
    "    return scores\n",
    "\n",
    "# ========== Test Script ========== #\n",
    "def test_protonet(model, test_dataset, device, n_way=5, n_shot=5, n_query=1, episodes=250):\n",
    "    model.eval()\n",
    "    all_preds = []\n",
    "    all_labels = []\n",
    "\n",
    "    for _ in tqdm(range(episodes)):\n",
    "        support_x, support_y, query_x, query_y, label_mapping = test_dataset.sample_episode(n_way)\n",
    "\n",
    "        idx_to_class = {v: k for k, v in label_mapping.items()}\n",
    "\n",
    "        support_x, support_y = support_x.to(device), support_y.to(device)\n",
    "        query_x, query_y = query_x.to(device), query_y.to(device)\n",
    "\n",
    "        with torch.no_grad():\n",
    "            support_emb = model(support_x)\n",
    "            query_emb = model(query_x)\n",
    "            logits = predict_protonet(support_emb, support_y, query_emb, n_way)\n",
    "            probs = F.softmax(logits, dim=1)\n",
    "            preds = logits.argmax(1).cpu().numpy()\n",
    "            true_labels = query_y.cpu().numpy()\n",
    "\n",
    "        all_preds.extend(preds)\n",
    "        all_labels.extend(true_labels)\n",
    "\n",
    "        probs = probs.cpu().numpy()\n",
    "        for i in range(len(preds)):\n",
    "            true_class = idx_to_class[true_labels[i]]\n",
    "            pred_class = idx_to_class[preds[i]]\n",
    "            confidence_score = probs[i][preds[i]]\n",
    "            match = 1 if preds[i] == true_labels[i] else 0\n",
    "\n",
    "            print(f\"Real: {true_class} | Pred: {pred_class} | Score: {confidence_score:.3f} | Match: {match}\")\n",
    "\n",
    "    # Overall Metrics\n",
    "    top1_acc = accuracy_score(all_labels, all_preds)\n",
    "    macro_f1 = f1_score(all_labels, all_preds, average='macro')\n",
    "    macro_precision = precision_score(all_labels, all_preds, average='macro', zero_division=0)\n",
    "    macro_recall = recall_score(all_labels, all_preds, average='macro', zero_division=0)\n",
    "\n",
    "    print(f\"\\nTest Results:\")\n",
    "    print(f\"Top-1 Accuracy: {top1_acc:.4f}\")\n",
    "    print(f\"Macro-averaged F1-Score: {macro_f1:.4f}\")\n",
    "    print(f\"Macro-averaged Precision: {macro_precision:.4f}\")\n",
    "    print(f\"Macro-averaged Recall: {macro_recall:.4f}\")\n",
    "\n",
    "# ========== Main Execution ========== #\n",
    "if __name__ == \"__main__\":\n",
    "    # Load model\n",
    "    model = ProtoNet().to(DEVICE)\n",
    "    model.load_state_dict(torch.load(MODEL_PATH, map_location=torch.device('cpu')))\n",
    "\n",
    "    # Load test dataset\n",
    "    test_dataset = FewShotDataset(TEST_ROOT, transform, n_shot=N_SHOT, n_query=N_QUERY)\n",
    "\n",
    "    # Run test\n",
    "    test_protonet(model, test_dataset, DEVICE, n_way=N_WAY, n_shot=N_SHOT, n_query=N_QUERY, episodes=TEST_EPISODES)\n"
   ]
  }
 ],
 "metadata": {
  "kernelspec": {
   "display_name": "base",
   "language": "python",
   "name": "python3"
  },
  "language_info": {
   "codemirror_mode": {
    "name": "ipython",
    "version": 3
   },
   "file_extension": ".py",
   "mimetype": "text/x-python",
   "name": "python",
   "nbconvert_exporter": "python",
   "pygments_lexer": "ipython3",
   "version": "3.12.7"
  }
 },
 "nbformat": 4,
 "nbformat_minor": 5
}
